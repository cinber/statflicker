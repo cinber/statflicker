{
 "cells": [
  {
   "cell_type": "code",
   "execution_count": 14,
   "metadata": {},
   "outputs": [
    {
     "data": {
      "application/vnd.plotly.v1+json": {
       "config": {
        "plotlyServerURL": "https://plot.ly"
       },
       "data": [
        {
         "customdata": [
          [
           "Brandon Ingram"
          ],
          [
           "Dario Saric"
          ],
          [
           "Derrick Favors"
          ],
          [
           "Dewayne Dedmon"
          ],
          [
           "Evan Fournier"
          ],
          [
           "Ja Morant"
          ],
          [
           "Jamal Murray"
          ],
          [
           "Jonathan Isaac"
          ],
          [
           "Kevin Knox"
          ],
          [
           "Kyrie Irving"
          ],
          [
           "Luka Doncic"
          ],
          [
           "Thomas Bryant"
          ],
          [
           "Zach LaVine"
          ],
          [
           "Brandon Ingram"
          ],
          [
           "Cody Zeller"
          ],
          [
           "Dario Saric"
          ],
          [
           "Derrick Favors"
          ],
          [
           "Evan Fournier"
          ],
          [
           "Ja Morant"
          ],
          [
           "Jamal Murray"
          ],
          [
           "Jonathan Isaac"
          ],
          [
           "Kevin Knox"
          ],
          [
           "Kyrie Irving"
          ],
          [
           "Luka Doncic"
          ],
          [
           "Thomas Bryant"
          ],
          [
           "Zach LaVine"
          ],
          [
           "Brandon Ingram"
          ],
          [
           "Cody Zeller"
          ],
          [
           "Dario Saric"
          ],
          [
           "Evan Fournier"
          ],
          [
           "Ja Morant"
          ],
          [
           "Jamal Murray"
          ],
          [
           "Jonathan Isaac"
          ],
          [
           "Kyrie Irving"
          ],
          [
           "Luka Doncic"
          ],
          [
           "P.J. Tucker"
          ],
          [
           "Thomas Bryant"
          ],
          [
           "Zach LaVine"
          ],
          [
           "Brandon Ingram"
          ],
          [
           "Cody Zeller"
          ],
          [
           "Dario Saric"
          ],
          [
           "Dillon Brooks"
          ],
          [
           "Evan Fournier"
          ],
          [
           "Ja Morant"
          ],
          [
           "Jamal Murray"
          ],
          [
           "Jonathan Isaac"
          ],
          [
           "Kyrie Irving"
          ],
          [
           "Luka Doncic"
          ],
          [
           "P.J. Tucker"
          ],
          [
           "Thomas Bryant"
          ],
          [
           "Zach LaVine"
          ]
         ],
         "hoverlabel": {
          "namelength": 0
         },
         "hovertemplate": "team=Mein Gott Walter<br>week=%{x}<br>points=%{y}<br>player_name=%{customdata[0]}",
         "legendgroup": "team=Mein Gott Walter",
         "marker": {
          "color": "#636efa",
          "symbol": "circle"
         },
         "mode": "markers",
         "name": "team=Mein Gott Walter",
         "showlegend": true,
         "type": "scatter",
         "x": [
          1,
          1,
          1,
          1,
          1,
          1,
          1,
          1,
          1,
          1,
          1,
          1,
          1,
          2,
          2,
          2,
          2,
          2,
          2,
          2,
          2,
          2,
          2,
          2,
          2,
          2,
          3,
          3,
          3,
          3,
          3,
          3,
          3,
          3,
          3,
          3,
          3,
          3,
          4,
          4,
          4,
          4,
          4,
          4,
          4,
          4,
          4,
          4,
          4,
          4,
          4
         ],
         "xaxis": "x",
         "y": [
          76.3,
          35.5,
          27,
          18.8,
          43.5,
          45.2,
          53.2,
          28,
          31.7,
          92.5,
          88.5,
          52,
          55.3,
          53.2,
          43.5,
          37.5,
          0,
          36.4,
          46.2,
          41.1,
          47.4,
          26.8,
          73,
          87.8,
          47.5,
          46,
          68.2,
          31.1,
          26.5,
          39.1,
          40.5,
          53,
          55.9,
          70.2,
          85.2,
          38.3,
          52.2,
          47.8,
          0,
          47.5,
          52,
          48.2,
          30.5,
          44.2,
          53.5,
          32.5,
          55.5,
          84,
          26.8,
          39.5,
          55.5
         ],
         "yaxis": "y"
        },
        {
         "customdata": [
          [
           "Bojan Bogdanovic"
          ],
          [
           "Caris LeVert"
          ],
          [
           "Damian Lillard"
          ],
          [
           "Enes Kanter"
          ],
          [
           "Goran Dragic"
          ],
          [
           "Jarrett Allen"
          ],
          [
           "Jayson Tatum"
          ],
          [
           "Jimmy Butler"
          ],
          [
           "Kristaps Porzingis"
          ],
          [
           "Marcus Morris"
          ],
          [
           "Reggie Jackson"
          ],
          [
           "Rui Hachimura"
          ],
          [
           "Willie Cauley-Stein"
          ],
          [
           "Bojan Bogdanovic"
          ],
          [
           "Bryn Forbes"
          ],
          [
           "Caris LeVert"
          ],
          [
           "Damian Lillard"
          ],
          [
           "Enes Kanter"
          ],
          [
           "Goran Dragic"
          ],
          [
           "Jarrett Allen"
          ],
          [
           "Jayson Tatum"
          ],
          [
           "Jimmy Butler"
          ],
          [
           "Kristaps Porzingis"
          ],
          [
           "Marcus Morris"
          ],
          [
           "Rui Hachimura"
          ],
          [
           "Willie Cauley-Stein"
          ],
          [
           "Bojan Bogdanovic"
          ],
          [
           "Bryn Forbes"
          ],
          [
           "Caris LeVert"
          ],
          [
           "Damian Lillard"
          ],
          [
           "Davis Bertans"
          ],
          [
           "DeAndre Jordan"
          ],
          [
           "Enes Kanter"
          ],
          [
           "Goran Dragic"
          ],
          [
           "Jayson Tatum"
          ],
          [
           "Jimmy Butler"
          ],
          [
           "Kristaps Porzingis"
          ],
          [
           "Rui Hachimura"
          ],
          [
           "Willie Cauley-Stein"
          ],
          [
           "Bojan Bogdanovic"
          ],
          [
           "Brandon Clarke"
          ],
          [
           "Caris LeVert"
          ],
          [
           "Damian Lillard"
          ],
          [
           "Danuel House"
          ],
          [
           "Enes Kanter"
          ],
          [
           "Eric Paschall"
          ],
          [
           "Goran Dragic"
          ],
          [
           "Jayson Tatum"
          ],
          [
           "Jimmy Butler"
          ],
          [
           "Kristaps Porzingis"
          ],
          [
           "P.J. Washington"
          ],
          [
           "Rui Hachimura"
          ]
         ],
         "hoverlabel": {
          "namelength": 0
         },
         "hovertemplate": "team=SCC<br>week=%{x}<br>points=%{y}<br>player_name=%{customdata[0]}",
         "legendgroup": "team=SCC",
         "marker": {
          "color": "#EF553B",
          "symbol": "circle"
         },
         "mode": "markers",
         "name": "team=SCC",
         "showlegend": true,
         "type": "scatter",
         "x": [
          1,
          1,
          1,
          1,
          1,
          1,
          1,
          1,
          1,
          1,
          1,
          1,
          1,
          2,
          2,
          2,
          2,
          2,
          2,
          2,
          2,
          2,
          2,
          2,
          2,
          2,
          3,
          3,
          3,
          3,
          3,
          3,
          3,
          3,
          3,
          3,
          3,
          3,
          3,
          4,
          4,
          4,
          4,
          4,
          4,
          4,
          4,
          4,
          4,
          4,
          4,
          4
         ],
         "xaxis": "x",
         "y": [
          47.5,
          45.5,
          73.5,
          31,
          48.5,
          39.2,
          62.8,
          0,
          66.3,
          38.5,
          19.2,
          43.3,
          0,
          48,
          30.9,
          38,
          85.8,
          0,
          34,
          28.2,
          58.5,
          60.8,
          50.7,
          51.2,
          27.5,
          29.2,
          59.8,
          35,
          37,
          86.8,
          26.3,
          40.5,
          0,
          50.7,
          56.2,
          56.5,
          52,
          34.3,
          25.5,
          26.8,
          36.5,
          0,
          51.2,
          6.5,
          25,
          25.2,
          48.5,
          35,
          69.5,
          15,
          21,
          48.5
         ],
         "yaxis": "y"
        },
        {
         "customdata": [
          [
           "Bogdan Bogdanovic"
          ],
          [
           "Cedi Osman"
          ],
          [
           "Coby White"
          ],
          [
           "De'Aaron Fox"
          ],
          [
           "Dennis Schroder"
          ],
          [
           "Domantas Sabonis"
          ],
          [
           "James Harden"
          ],
          [
           "Jaren Jackson"
          ],
          [
           "Kyle Kuzma"
          ],
          [
           "Lauri Markkanen"
          ],
          [
           "OG Anunoby"
          ],
          [
           "Rudy Gobert"
          ],
          [
           "Tobias Harris"
          ],
          [
           "Bogdan Bogdanovic"
          ],
          [
           "Cedi Osman"
          ],
          [
           "Coby White"
          ],
          [
           "De'Aaron Fox"
          ],
          [
           "Dennis Schroder"
          ],
          [
           "Domantas Sabonis"
          ],
          [
           "James Harden"
          ],
          [
           "Jaren Jackson"
          ],
          [
           "Kyle Kuzma"
          ],
          [
           "Lauri Markkanen"
          ],
          [
           "OG Anunoby"
          ],
          [
           "Rudy Gobert"
          ],
          [
           "Tobias Harris"
          ],
          [
           "Bogdan Bogdanovic"
          ],
          [
           "Cedi Osman"
          ],
          [
           "Coby White"
          ],
          [
           "De'Aaron Fox"
          ],
          [
           "Dennis Schroder"
          ],
          [
           "Domantas Sabonis"
          ],
          [
           "James Harden"
          ],
          [
           "Jaren Jackson"
          ],
          [
           "Kyle Kuzma"
          ],
          [
           "Lauri Markkanen"
          ],
          [
           "OG Anunoby"
          ],
          [
           "Rudy Gobert"
          ],
          [
           "Tobias Harris"
          ],
          [
           "Bogdan Bogdanovic"
          ],
          [
           "Cedi Osman"
          ],
          [
           "Coby White"
          ],
          [
           "De'Aaron Fox"
          ],
          [
           "Dennis Schroder"
          ],
          [
           "Domantas Sabonis"
          ],
          [
           "James Harden"
          ],
          [
           "Jaren Jackson"
          ],
          [
           "Kyle Kuzma"
          ],
          [
           "Lauri Markkanen"
          ],
          [
           "OG Anunoby"
          ],
          [
           "Rudy Gobert"
          ],
          [
           "Tobias Harris"
          ]
         ],
         "hoverlabel": {
          "namelength": 0
         },
         "hovertemplate": "team=bratkartoffeln beste<br>week=%{x}<br>points=%{y}<br>player_name=%{customdata[0]}",
         "legendgroup": "team=bratkartoffeln beste",
         "marker": {
          "color": "#00cc96",
          "symbol": "circle"
         },
         "mode": "markers",
         "name": "team=bratkartoffeln beste",
         "showlegend": true,
         "type": "scatter",
         "x": [
          1,
          1,
          1,
          1,
          1,
          1,
          1,
          1,
          1,
          1,
          1,
          1,
          1,
          2,
          2,
          2,
          2,
          2,
          2,
          2,
          2,
          2,
          2,
          2,
          2,
          2,
          3,
          3,
          3,
          3,
          3,
          3,
          3,
          3,
          3,
          3,
          3,
          3,
          3,
          4,
          4,
          4,
          4,
          4,
          4,
          4,
          4,
          4,
          4,
          4,
          4,
          4
         ],
         "xaxis": "x",
         "y": [
          24.8,
          19.2,
          42.2,
          33.2,
          37.5,
          51.2,
          57.5,
          46,
          0,
          51.2,
          42,
          27.5,
          66.5,
          29.2,
          33.5,
          14.8,
          55.1,
          47.3,
          68.5,
          83.6,
          21,
          15.2,
          41.4,
          45,
          51.1,
          49,
          60.8,
          32.5,
          27.7,
          53,
          40.6,
          70.3,
          114.5,
          26.7,
          26.8,
          36,
          50,
          52.2,
          51,
          80,
          10.5,
          67,
          0,
          21,
          63,
          99,
          60.5,
          49,
          34.5,
          0.5,
          74.5,
          32.2
         ],
         "yaxis": "y"
        },
        {
         "customdata": [
          [
           "Bam Adebayo"
          ],
          [
           "Darius Garland"
          ],
          [
           "Dwight Howard"
          ],
          [
           "Gary Harris"
          ],
          [
           "Jeff Teague"
          ],
          [
           "John Collins"
          ],
          [
           "Jonas Valanciunas"
          ],
          [
           "Karl-Anthony Towns"
          ],
          [
           "Ricky Rubio"
          ],
          [
           "Shai Gilgeous-Alexander"
          ],
          [
           "Terry Rozier"
          ],
          [
           "Trae Young"
          ],
          [
           "Trevor Ariza"
          ],
          [
           "Bam Adebayo"
          ],
          [
           "Darius Garland"
          ],
          [
           "Dwight Howard"
          ],
          [
           "Gary Harris"
          ],
          [
           "Jeff Teague"
          ],
          [
           "John Collins"
          ],
          [
           "Jonas Valanciunas"
          ],
          [
           "Josh Hart"
          ],
          [
           "Karl-Anthony Towns"
          ],
          [
           "Ricky Rubio"
          ],
          [
           "Shai Gilgeous-Alexander"
          ],
          [
           "Terry Rozier"
          ],
          [
           "Trae Young"
          ],
          [
           "Bam Adebayo"
          ],
          [
           "Gary Harris"
          ],
          [
           "Isaiah Thomas"
          ],
          [
           "Jeff Teague"
          ],
          [
           "John Collins"
          ],
          [
           "Jonas Valanciunas"
          ],
          [
           "Josh Hart"
          ],
          [
           "Karl-Anthony Towns"
          ],
          [
           "Otto Porter"
          ],
          [
           "Ricky Rubio"
          ],
          [
           "Shai Gilgeous-Alexander"
          ],
          [
           "Terry Rozier"
          ],
          [
           "Trae Young"
          ],
          [
           "Bam Adebayo"
          ],
          [
           "Gary Harris"
          ],
          [
           "Isaiah Thomas"
          ],
          [
           "Jarrett Allen"
          ],
          [
           "Jeff Teague"
          ],
          [
           "John Collins"
          ],
          [
           "Jonas Valanciunas"
          ],
          [
           "Karl-Anthony Towns"
          ],
          [
           "Otto Porter"
          ],
          [
           "Ricky Rubio"
          ],
          [
           "Shai Gilgeous-Alexander"
          ],
          [
           "Terry Rozier"
          ],
          [
           "Trae Young"
          ]
         ],
         "hoverlabel": {
          "namelength": 0
         },
         "hovertemplate": "team=Knights of sweet love<br>week=%{x}<br>points=%{y}<br>player_name=%{customdata[0]}",
         "legendgroup": "team=Knights of sweet love",
         "marker": {
          "color": "#ab63fa",
          "symbol": "circle"
         },
         "mode": "markers",
         "name": "team=Knights of sweet love",
         "showlegend": true,
         "type": "scatter",
         "x": [
          1,
          1,
          1,
          1,
          1,
          1,
          1,
          1,
          1,
          1,
          1,
          1,
          1,
          2,
          2,
          2,
          2,
          2,
          2,
          2,
          2,
          2,
          2,
          2,
          2,
          2,
          3,
          3,
          3,
          3,
          3,
          3,
          3,
          3,
          3,
          3,
          3,
          3,
          3,
          4,
          4,
          4,
          4,
          4,
          4,
          4,
          4,
          4,
          4,
          4,
          4,
          4
         ],
         "xaxis": "x",
         "y": [
          55.2,
          28.2,
          35.7,
          22.5,
          36.2,
          52.2,
          40.7,
          106,
          49.8,
          60.7,
          40.7,
          97.2,
          10.3,
          50,
          16.8,
          38,
          38.6,
          50.5,
          57,
          40,
          37,
          44.5,
          45.2,
          51.3,
          51,
          35,
          49.7,
          24.2,
          28.2,
          26.5,
          0,
          37,
          30.3,
          76.3,
          44.5,
          67.5,
          46.8,
          34.5,
          71.8,
          56.5,
          36.5,
          47,
          22.5,
          50,
          0,
          58.5,
          80.2,
          0,
          68,
          25,
          88,
          111
         ],
         "yaxis": "y"
        },
        {
         "customdata": [
          [
           "Andre Drummond"
          ],
          [
           "Collin Sexton"
          ],
          [
           "DeAndre Jordan"
          ],
          [
           "Dennis Smith"
          ],
          [
           "Ivica Zubac"
          ],
          [
           "Joe Ingles"
          ],
          [
           "Markelle Fultz"
          ],
          [
           "Michael Porter"
          ],
          [
           "Mike Conley"
          ],
          [
           "Miles Bridges"
          ],
          [
           "Nikola Jokic"
          ],
          [
           "Pascal Siakam"
          ],
          [
           "RJ Barrett"
          ],
          [
           "Andre Drummond"
          ],
          [
           "Aron Baynes"
          ],
          [
           "Collin Sexton"
          ],
          [
           "DeAndre Jordan"
          ],
          [
           "Joe Ingles"
          ],
          [
           "Kendrick Nunn"
          ],
          [
           "Luke Kennard"
          ],
          [
           "Michael Porter"
          ],
          [
           "Mike Conley"
          ],
          [
           "Miles Bridges"
          ],
          [
           "Nikola Jokic"
          ],
          [
           "Pascal Siakam"
          ],
          [
           "RJ Barrett"
          ],
          [
           "Andre Drummond"
          ],
          [
           "Aron Baynes"
          ],
          [
           "Collin Sexton"
          ],
          [
           "DeAndre' Bembry"
          ],
          [
           "Kendrick Nunn"
          ],
          [
           "Luke Kennard"
          ],
          [
           "Michael Porter"
          ],
          [
           "Mike Conley"
          ],
          [
           "Miles Bridges"
          ],
          [
           "Nikola Jokic"
          ],
          [
           "P.J. Washington"
          ],
          [
           "Pascal Siakam"
          ],
          [
           "RJ Barrett"
          ],
          [
           "Richaun Holmes"
          ],
          [
           "Alec Burks"
          ],
          [
           "Andre Drummond"
          ],
          [
           "Aron Baynes"
          ],
          [
           "Collin Sexton"
          ],
          [
           "Deandre Ayton"
          ],
          [
           "George Hill"
          ],
          [
           "Josh Hart"
          ],
          [
           "Luke Kennard"
          ],
          [
           "Malcolm Brogdon"
          ],
          [
           "Miles Bridges"
          ],
          [
           "Pascal Siakam"
          ],
          [
           "RJ Barrett"
          ]
         ],
         "hoverlabel": {
          "namelength": 0
         },
         "hovertemplate": "team=skinny bitches<br>week=%{x}<br>points=%{y}<br>player_name=%{customdata[0]}",
         "legendgroup": "team=skinny bitches",
         "marker": {
          "color": "#FFA15A",
          "symbol": "circle"
         },
         "mode": "markers",
         "name": "team=skinny bitches",
         "showlegend": true,
         "type": "scatter",
         "x": [
          1,
          1,
          1,
          1,
          1,
          1,
          1,
          1,
          1,
          1,
          1,
          1,
          1,
          2,
          2,
          2,
          2,
          2,
          2,
          2,
          2,
          2,
          2,
          2,
          2,
          2,
          3,
          3,
          3,
          3,
          3,
          3,
          3,
          3,
          3,
          3,
          3,
          3,
          3,
          3,
          4,
          4,
          4,
          4,
          4,
          4,
          4,
          4,
          4,
          4,
          4,
          4
         ],
         "xaxis": "x",
         "y": [
          76.7,
          36.5,
          23.7,
          3.3,
          29,
          22.3,
          32.2,
          0,
          25.3,
          38.7,
          79,
          70.7,
          51.3,
          84,
          58.5,
          35.8,
          40.3,
          31.2,
          37.7,
          38.1,
          20.5,
          33.1,
          29.2,
          51.6,
          56.2,
          43.8,
          72.2,
          51.3,
          49.2,
          21.9,
          27.2,
          54.8,
          9.2,
          44.8,
          39.6,
          58.8,
          37.1,
          82.8,
          26.5,
          28,
          29.2,
          52.2,
          55.5,
          42,
          0,
          0,
          53.5,
          60.5,
          50,
          52.5,
          68.2,
          66.5
         ],
         "yaxis": "y"
        },
        {
         "customdata": [
          [
           "Dejounte Murray"
          ],
          [
           "Devin Booker"
          ],
          [
           "Fred VanVleet"
          ],
          [
           "Giannis Antetokounmpo"
          ],
          [
           "Hassan Whiteside"
          ],
          [
           "Justise Winslow"
          ],
          [
           "Kevin Love"
          ],
          [
           "Lonzo Ball"
          ],
          [
           "Patrick Beverley"
          ],
          [
           "Steven Adams"
          ],
          [
           "Tim Hardaway"
          ],
          [
           "Tristan Thompson"
          ],
          [
           "Victor Oladipo"
          ],
          [
           "Dejounte Murray"
          ],
          [
           "Devin Booker"
          ],
          [
           "Frank Kaminsky"
          ],
          [
           "Fred VanVleet"
          ],
          [
           "Giannis Antetokounmpo"
          ],
          [
           "Hassan Whiteside"
          ],
          [
           "Justise Winslow"
          ],
          [
           "Kevin Love"
          ],
          [
           "Lonzo Ball"
          ],
          [
           "Patrick Beverley"
          ],
          [
           "Steven Adams"
          ],
          [
           "Tristan Thompson"
          ],
          [
           "Victor Oladipo"
          ],
          [
           "Dejounte Murray"
          ],
          [
           "Devin Booker"
          ],
          [
           "Frank Kaminsky"
          ],
          [
           "Fred VanVleet"
          ],
          [
           "Giannis Antetokounmpo"
          ],
          [
           "Hassan Whiteside"
          ],
          [
           "Jabari Parker"
          ],
          [
           "Justise Winslow"
          ],
          [
           "Kevin Love"
          ],
          [
           "Lonzo Ball"
          ],
          [
           "Patrick Beverley"
          ],
          [
           "Steven Adams"
          ],
          [
           "Tristan Thompson"
          ],
          [
           "Victor Oladipo"
          ],
          [
           "Dejounte Murray"
          ],
          [
           "Devin Booker"
          ],
          [
           "Fred VanVleet"
          ],
          [
           "Giannis Antetokounmpo"
          ],
          [
           "Hassan Whiteside"
          ],
          [
           "Jabari Parker"
          ],
          [
           "Justise Winslow"
          ],
          [
           "Kevin Love"
          ],
          [
           "Lonzo Ball"
          ],
          [
           "Patrick Beverley"
          ],
          [
           "Steven Adams"
          ],
          [
           "Tristan Thompson"
          ],
          [
           "Victor Oladipo"
          ]
         ],
         "hoverlabel": {
          "namelength": 0
         },
         "hovertemplate": "team=CaptainStrikersMob<br>week=%{x}<br>points=%{y}<br>player_name=%{customdata[0]}",
         "legendgroup": "team=CaptainStrikersMob",
         "marker": {
          "color": "#19d3f3",
          "symbol": "circle"
         },
         "mode": "markers",
         "name": "team=CaptainStrikersMob",
         "showlegend": true,
         "type": "scatter",
         "x": [
          1,
          1,
          1,
          1,
          1,
          1,
          1,
          1,
          1,
          1,
          1,
          1,
          1,
          2,
          2,
          2,
          2,
          2,
          2,
          2,
          2,
          2,
          2,
          2,
          2,
          2,
          3,
          3,
          3,
          3,
          3,
          3,
          3,
          3,
          3,
          3,
          3,
          3,
          3,
          3,
          4,
          4,
          4,
          4,
          4,
          4,
          4,
          4,
          4,
          4,
          4,
          4,
          4
         ],
         "xaxis": "x",
         "y": [
          62.2,
          60.5,
          56.7,
          102,
          50.5,
          59.3,
          68,
          52.5,
          32.3,
          30,
          14.5,
          65.8,
          0,
          44.2,
          51.8,
          23.8,
          44.8,
          80.6,
          36.2,
          16,
          70.9,
          44.7,
          25.4,
          32,
          56.6,
          0,
          32.7,
          67,
          13.2,
          58.5,
          97,
          63.8,
          60,
          23,
          47.5,
          28,
          46.5,
          40,
          59.3,
          0,
          23.2,
          50,
          62.8,
          0,
          40.8,
          52,
          0,
          43,
          0,
          20.8,
          27.5,
          54,
          0
         ],
         "yaxis": "y"
        },
        {
         "customdata": [
          [
           "Blake Griffin"
          ],
          [
           "Chris Paul"
          ],
          [
           "De'Andre Hunter"
          ],
          [
           "DeMar DeRozan"
          ],
          [
           "Harrison Barnes"
          ],
          [
           "Jerami Grant"
          ],
          [
           "Jeremy Lamb"
          ],
          [
           "Joel Embiid"
          ],
          [
           "Josh Richardson"
          ],
          [
           "Jrue Holiday"
          ],
          [
           "Julius Randle"
          ],
          [
           "Montrezl Harrell"
          ],
          [
           "Otto Porter"
          ],
          [
           "Blake Griffin"
          ],
          [
           "Chris Paul"
          ],
          [
           "De'Andre Hunter"
          ],
          [
           "DeMar DeRozan"
          ],
          [
           "Harrison Barnes"
          ],
          [
           "Jerami Grant"
          ],
          [
           "Jeremy Lamb"
          ],
          [
           "Joel Embiid"
          ],
          [
           "Josh Richardson"
          ],
          [
           "Jrue Holiday"
          ],
          [
           "Julius Randle"
          ],
          [
           "Montrezl Harrell"
          ],
          [
           "Otto Porter"
          ],
          [
           "Blake Griffin"
          ],
          [
           "Chris Paul"
          ],
          [
           "De'Andre Hunter"
          ],
          [
           "DeMar DeRozan"
          ],
          [
           "Harrison Barnes"
          ],
          [
           "Jeremy Lamb"
          ],
          [
           "Joel Embiid"
          ],
          [
           "Josh Richardson"
          ],
          [
           "Jrue Holiday"
          ],
          [
           "Julius Randle"
          ],
          [
           "Marcus Morris"
          ],
          [
           "Montrezl Harrell"
          ],
          [
           "Taurean Prince"
          ],
          [
           "Blake Griffin"
          ],
          [
           "Chris Paul"
          ],
          [
           "De'Andre Hunter"
          ],
          [
           "DeMar DeRozan"
          ],
          [
           "Harrison Barnes"
          ],
          [
           "Jeremy Lamb"
          ],
          [
           "Joel Embiid"
          ],
          [
           "Josh Richardson"
          ],
          [
           "Jrue Holiday"
          ],
          [
           "Julius Randle"
          ],
          [
           "Marcus Morris"
          ],
          [
           "Montrezl Harrell"
          ],
          [
           "Taurean Prince"
          ]
         ],
         "hoverlabel": {
          "namelength": 0
         },
         "hovertemplate": "team=Dunkin Dullies<br>week=%{x}<br>points=%{y}<br>player_name=%{customdata[0]}",
         "legendgroup": "team=Dunkin Dullies",
         "marker": {
          "color": "#FF6692",
          "symbol": "circle"
         },
         "mode": "markers",
         "name": "team=Dunkin Dullies",
         "showlegend": true,
         "type": "scatter",
         "x": [
          1,
          1,
          1,
          1,
          1,
          1,
          1,
          1,
          1,
          1,
          1,
          1,
          1,
          2,
          2,
          2,
          2,
          2,
          2,
          2,
          2,
          2,
          2,
          2,
          2,
          2,
          3,
          3,
          3,
          3,
          3,
          3,
          3,
          3,
          3,
          3,
          3,
          3,
          3,
          4,
          4,
          4,
          4,
          4,
          4,
          4,
          4,
          4,
          4,
          4,
          4,
          4
         ],
         "xaxis": "x",
         "y": [
          0,
          33.8,
          23,
          42,
          28.7,
          24.5,
          25.5,
          62.5,
          35.8,
          37,
          52.8,
          48.8,
          21.7,
          0,
          48.3,
          21.3,
          46.1,
          45.2,
          17.1,
          55.3,
          73.2,
          41.7,
          54,
          39.1,
          41.1,
          33,
          0,
          52,
          26.8,
          49.5,
          56.2,
          48,
          63.2,
          39.1,
          54,
          51.7,
          45.8,
          70.2,
          31,
          46.5,
          35,
          37.5,
          51.2,
          34,
          0,
          91.5,
          44,
          59,
          43,
          47.5,
          40,
          41
         ],
         "yaxis": "y"
        },
        {
         "customdata": [
          [
           "Andrew Wiggins"
          ],
          [
           "Clint Capela"
          ],
          [
           "Donovan Mitchell"
          ],
          [
           "Eric Gordon"
          ],
          [
           "JJ Redick"
          ],
          [
           "Jarrett Culver"
          ],
          [
           "Joe Harris"
          ],
          [
           "Jordan Clarkson"
          ],
          [
           "LaMarcus Aldridge"
          ],
          [
           "Larry Nance"
          ],
          [
           "LeBron James"
          ],
          [
           "Lou Williams"
          ],
          [
           "Serge Ibaka"
          ],
          [
           "Andrew Wiggins"
          ],
          [
           "Clint Capela"
          ],
          [
           "Donovan Mitchell"
          ],
          [
           "Eric Gordon"
          ],
          [
           "JJ Redick"
          ],
          [
           "Jarrett Culver"
          ],
          [
           "Joe Harris"
          ],
          [
           "Jordan Clarkson"
          ],
          [
           "LaMarcus Aldridge"
          ],
          [
           "Larry Nance"
          ],
          [
           "LeBron James"
          ],
          [
           "Lou Williams"
          ],
          [
           "Serge Ibaka"
          ],
          [
           "Andrew Wiggins"
          ],
          [
           "Clint Capela"
          ],
          [
           "Donovan Mitchell"
          ],
          [
           "Eric Gordon"
          ],
          [
           "JJ Redick"
          ],
          [
           "Jarrett Culver"
          ],
          [
           "Joe Harris"
          ],
          [
           "Jordan Clarkson"
          ],
          [
           "LaMarcus Aldridge"
          ],
          [
           "Larry Nance"
          ],
          [
           "LeBron James"
          ],
          [
           "Lou Williams"
          ],
          [
           "Serge Ibaka"
          ],
          [
           "Andrew Wiggins"
          ],
          [
           "Clint Capela"
          ],
          [
           "Donovan Mitchell"
          ],
          [
           "Eric Gordon"
          ],
          [
           "Glenn Robinson"
          ],
          [
           "JJ Redick"
          ],
          [
           "Joe Harris"
          ],
          [
           "Jordan Clarkson"
          ],
          [
           "LaMarcus Aldridge"
          ],
          [
           "Larry Nance"
          ],
          [
           "LeBron James"
          ],
          [
           "Lou Williams"
          ],
          [
           "Serge Ibaka"
          ]
         ],
         "hoverlabel": {
          "namelength": 0
         },
         "hovertemplate": "team=Gebimst<br>week=%{x}<br>points=%{y}<br>player_name=%{customdata[0]}",
         "legendgroup": "team=Gebimst",
         "marker": {
          "color": "#B6E880",
          "symbol": "circle"
         },
         "mode": "markers",
         "name": "team=Gebimst",
         "showlegend": true,
         "type": "scatter",
         "x": [
          1,
          1,
          1,
          1,
          1,
          1,
          1,
          1,
          1,
          1,
          1,
          1,
          1,
          2,
          2,
          2,
          2,
          2,
          2,
          2,
          2,
          2,
          2,
          2,
          2,
          2,
          3,
          3,
          3,
          3,
          3,
          3,
          3,
          3,
          3,
          3,
          3,
          3,
          3,
          4,
          4,
          4,
          4,
          4,
          4,
          4,
          4,
          4,
          4,
          4,
          4,
          4
         ],
         "xaxis": "x",
         "y": [
          43.7,
          49,
          62.7,
          24.5,
          22.8,
          6.2,
          37,
          25.2,
          60.2,
          32.8,
          72.8,
          51.3,
          39.2,
          53.2,
          39.6,
          60.8,
          18.9,
          27.3,
          27,
          42.3,
          42,
          37,
          29.6,
          93.3,
          38.8,
          34.5,
          70,
          69.5,
          49.8,
          26.5,
          32,
          28.5,
          34.2,
          31.5,
          48.3,
          34.3,
          83.7,
          74.5,
          36.2,
          84.2,
          62,
          63,
          42.5,
          31.5,
          57,
          24.5,
          40.5,
          47.5,
          31.5,
          69.8,
          48,
          0
         ],
         "yaxis": "y"
        },
        {
         "customdata": [
          [
           "Aaron Gordon"
          ],
          [
           "Al Horford"
          ],
          [
           "Anthony Davis"
          ],
          [
           "Ben Simmons"
          ],
          [
           "Danilo Gallinari"
          ],
          [
           "Gordon Hayward"
          ],
          [
           "Marcus Smart"
          ],
          [
           "Mitchell Robinson"
          ],
          [
           "Paul Millsap"
          ],
          [
           "Rudy Gay"
          ],
          [
           "Russell Westbrook"
          ],
          [
           "Terrence Ross"
          ],
          [
           "Tyler Herro"
          ],
          [
           "Aaron Gordon"
          ],
          [
           "Al Horford"
          ],
          [
           "Anthony Davis"
          ],
          [
           "Ben Simmons"
          ],
          [
           "Danilo Gallinari"
          ],
          [
           "Gordon Hayward"
          ],
          [
           "Marcus Smart"
          ],
          [
           "Mitchell Robinson"
          ],
          [
           "Paul Millsap"
          ],
          [
           "Rudy Gay"
          ],
          [
           "Russell Westbrook"
          ],
          [
           "Terrence Ross"
          ],
          [
           "Tyler Herro"
          ],
          [
           "Aaron Gordon"
          ],
          [
           "Al Horford"
          ],
          [
           "Anthony Davis"
          ],
          [
           "Ben Simmons"
          ],
          [
           "Danilo Gallinari"
          ],
          [
           "Gordon Hayward"
          ],
          [
           "Marcus Smart"
          ],
          [
           "Mitchell Robinson"
          ],
          [
           "Paul Millsap"
          ],
          [
           "Rudy Gay"
          ],
          [
           "Russell Westbrook"
          ],
          [
           "Terrence Ross"
          ],
          [
           "Tyler Herro"
          ],
          [
           "Aaron Gordon"
          ],
          [
           "Al Horford"
          ],
          [
           "Anthony Davis"
          ],
          [
           "Ben Simmons"
          ],
          [
           "Danilo Gallinari"
          ],
          [
           "Gordon Hayward"
          ],
          [
           "Marcus Smart"
          ],
          [
           "Mitchell Robinson"
          ],
          [
           "Paul Millsap"
          ],
          [
           "Rudy Gay"
          ],
          [
           "Russell Westbrook"
          ],
          [
           "Terrence Ross"
          ],
          [
           "Tyler Herro"
          ]
         ],
         "hoverlabel": {
          "namelength": 0
         },
         "hovertemplate": "team=BVB_Baller<br>week=%{x}<br>points=%{y}<br>player_name=%{customdata[0]}",
         "legendgroup": "team=BVB_Baller",
         "marker": {
          "color": "#FF97FF",
          "symbol": "circle"
         },
         "mode": "markers",
         "name": "team=BVB_Baller",
         "showlegend": true,
         "type": "scatter",
         "x": [
          1,
          1,
          1,
          1,
          1,
          1,
          1,
          1,
          1,
          1,
          1,
          1,
          1,
          2,
          2,
          2,
          2,
          2,
          2,
          2,
          2,
          2,
          2,
          2,
          2,
          2,
          3,
          3,
          3,
          3,
          3,
          3,
          3,
          3,
          3,
          3,
          3,
          3,
          3,
          4,
          4,
          4,
          4,
          4,
          4,
          4,
          4,
          4,
          4,
          4,
          4,
          4
         ],
         "xaxis": "x",
         "y": [
          33.2,
          50.2,
          70.7,
          61.5,
          46.7,
          38.8,
          34.7,
          40.8,
          35.8,
          36.8,
          93.5,
          23,
          30.7,
          41.2,
          56.5,
          83.7,
          51.7,
          41,
          63.5,
          45.2,
          33.6,
          30.9,
          39.6,
          65.8,
          22.9,
          52.2,
          39.2,
          50.9,
          68.2,
          26.5,
          51.2,
          62,
          36.7,
          19,
          43.7,
          20.7,
          48,
          23.5,
          21.3,
          73.5,
          33,
          78.5,
          50,
          29.5,
          0,
          54,
          0,
          52,
          45.2,
          45,
          35,
          0
         ],
         "yaxis": "y"
        },
        {
         "customdata": [
          [
           "Bradley Beal"
          ],
          [
           "Brook Lopez"
          ],
          [
           "D'Angelo Russell"
          ],
          [
           "Derrick Rose"
          ],
          [
           "Draymond Green"
          ],
          [
           "Eric Bledsoe"
          ],
          [
           "JaVale McGee"
          ],
          [
           "Paul George"
          ],
          [
           "Rajon Rondo"
          ],
          [
           "Spencer Dinwiddie"
          ],
          [
           "T.J. Warren"
          ],
          [
           "Thaddeus Young"
          ],
          [
           "Zion Williamson"
          ],
          [
           "Bradley Beal"
          ],
          [
           "Brook Lopez"
          ],
          [
           "D'Angelo Russell"
          ],
          [
           "Derrick Rose"
          ],
          [
           "Devonte' Graham"
          ],
          [
           "Draymond Green"
          ],
          [
           "Eric Bledsoe"
          ],
          [
           "JaVale McGee"
          ],
          [
           "Paul George"
          ],
          [
           "Rajon Rondo"
          ],
          [
           "Spencer Dinwiddie"
          ],
          [
           "Thaddeus Young"
          ],
          [
           "Zion Williamson"
          ],
          [
           "Bradley Beal"
          ],
          [
           "Brook Lopez"
          ],
          [
           "D'Angelo Russell"
          ],
          [
           "Derrick Rose"
          ],
          [
           "Devonte' Graham"
          ],
          [
           "Draymond Green"
          ],
          [
           "Dwight Howard"
          ],
          [
           "Eric Bledsoe"
          ],
          [
           "Paul George"
          ],
          [
           "Rajon Rondo"
          ],
          [
           "Spencer Dinwiddie"
          ],
          [
           "Thaddeus Young"
          ],
          [
           "Zion Williamson"
          ],
          [
           "Bradley Beal"
          ],
          [
           "Brook Lopez"
          ],
          [
           "D'Angelo Russell"
          ],
          [
           "Derrick Rose"
          ],
          [
           "Devonte' Graham"
          ],
          [
           "Draymond Green"
          ],
          [
           "Dwight Howard"
          ],
          [
           "Eric Bledsoe"
          ],
          [
           "Paul George"
          ],
          [
           "Rajon Rondo"
          ],
          [
           "Spencer Dinwiddie"
          ],
          [
           "Thaddeus Young"
          ],
          [
           "Zion Williamson"
          ]
         ],
         "hoverlabel": {
          "namelength": 0
         },
         "hovertemplate": "team=Hardwood Classics<br>week=%{x}<br>points=%{y}<br>player_name=%{customdata[0]}",
         "legendgroup": "team=Hardwood Classics",
         "marker": {
          "color": "#FECB52",
          "symbol": "circle"
         },
         "mode": "markers",
         "name": "team=Hardwood Classics",
         "showlegend": true,
         "type": "scatter",
         "x": [
          1,
          1,
          1,
          1,
          1,
          1,
          1,
          1,
          1,
          1,
          1,
          1,
          1,
          2,
          2,
          2,
          2,
          2,
          2,
          2,
          2,
          2,
          2,
          2,
          2,
          2,
          3,
          3,
          3,
          3,
          3,
          3,
          3,
          3,
          3,
          3,
          3,
          3,
          3,
          4,
          4,
          4,
          4,
          4,
          4,
          4,
          4,
          4,
          4,
          4,
          4,
          4
         ],
         "xaxis": "x",
         "y": [
          58.7,
          37.8,
          31,
          53.2,
          33.5,
          24.8,
          15,
          0,
          0,
          40,
          16.5,
          24.8,
          0,
          81.8,
          29.8,
          58.2,
          40.8,
          38.8,
          49,
          42.8,
          18.7,
          0,
          0,
          31.7,
          37,
          0,
          54.7,
          39.8,
          101.8,
          0,
          68.4,
          0,
          19.7,
          60.4,
          0,
          0,
          49.5,
          24.7,
          0,
          100,
          0,
          63.2,
          29.5,
          41.5,
          26.8,
          37.8,
          0,
          0,
          32,
          39.5,
          26.5,
          0
         ],
         "yaxis": "y"
        },
        {
         "customdata": [
          [
           "Alex Len"
          ],
          [
           "Danny Green"
          ],
          [
           "Deandre Ayton"
          ],
          [
           "Delon Wright"
          ],
          [
           "Derrick White"
          ],
          [
           "Kawhi Leonard"
          ],
          [
           "Kemba Walker"
          ],
          [
           "Khris Middleton"
          ],
          [
           "Malcolm Brogdon"
          ],
          [
           "Marc Gasol"
          ],
          [
           "Robert Covington"
          ],
          [
           "Wesley Matthews"
          ],
          [
           "Zach Collins"
          ],
          [
           "Alex Len"
          ],
          [
           "Danny Green"
          ],
          [
           "Deandre Ayton"
          ],
          [
           "Delon Wright"
          ],
          [
           "Derrick White"
          ],
          [
           "Kawhi Leonard"
          ],
          [
           "Kemba Walker"
          ],
          [
           "Khris Middleton"
          ],
          [
           "Malcolm Brogdon"
          ],
          [
           "Marc Gasol"
          ],
          [
           "Robert Covington"
          ],
          [
           "Wesley Matthews"
          ],
          [
           "Zach Collins"
          ],
          [
           "Alex Len"
          ],
          [
           "Danny Green"
          ],
          [
           "Deandre Ayton"
          ],
          [
           "Delon Wright"
          ],
          [
           "Derrick White"
          ],
          [
           "Dwight Powell"
          ],
          [
           "Kawhi Leonard"
          ],
          [
           "Kemba Walker"
          ],
          [
           "Khris Middleton"
          ],
          [
           "Malcolm Brogdon"
          ],
          [
           "Marc Gasol"
          ],
          [
           "Robert Covington"
          ],
          [
           "Will Barton"
          ],
          [
           "Danny Green"
          ],
          [
           "Derrick White"
          ],
          [
           "Dwight Powell"
          ],
          [
           "Jae Crowder"
          ],
          [
           "Kawhi Leonard"
          ],
          [
           "Kemba Walker"
          ],
          [
           "Khris Middleton"
          ],
          [
           "Marc Gasol"
          ],
          [
           "Mike Conley"
          ],
          [
           "Nikola Jokic"
          ],
          [
           "Robert Covington"
          ],
          [
           "Tomas Satoransky"
          ],
          [
           "Will Barton"
          ]
         ],
         "hoverlabel": {
          "namelength": 0
         },
         "hovertemplate": "team=Your Team Name<br>week=%{x}<br>points=%{y}<br>player_name=%{customdata[0]}",
         "legendgroup": "team=Your Team Name",
         "marker": {
          "color": "#636efa",
          "symbol": "circle"
         },
         "mode": "markers",
         "name": "team=Your Team Name",
         "showlegend": true,
         "type": "scatter",
         "x": [
          1,
          1,
          1,
          1,
          1,
          1,
          1,
          1,
          1,
          1,
          1,
          1,
          1,
          2,
          2,
          2,
          2,
          2,
          2,
          2,
          2,
          2,
          2,
          2,
          2,
          2,
          3,
          3,
          3,
          3,
          3,
          3,
          3,
          3,
          3,
          3,
          3,
          3,
          3,
          4,
          4,
          4,
          4,
          4,
          4,
          4,
          4,
          4,
          4,
          4,
          4,
          4
         ],
         "xaxis": "x",
         "y": [
          19,
          45.3,
          67,
          39.2,
          22.2,
          72.2,
          56.3,
          49.5,
          79,
          20.3,
          37.5,
          39.8,
          25.5,
          20,
          20.5,
          0,
          35.2,
          39.6,
          83.3,
          72.5,
          46.4,
          64.9,
          35.3,
          38,
          15.1,
          0,
          18.1,
          20,
          0,
          15.3,
          23.3,
          31.2,
          70.5,
          64,
          47.8,
          51.1,
          22.3,
          43.9,
          57.3,
          25.8,
          29.8,
          37,
          24.2,
          65.2,
          77.5,
          0,
          41.8,
          49.5,
          59,
          28.5,
          14.5,
          68
         ],
         "yaxis": "y"
        },
        {
         "customdata": [
          [
           "Bobby Portis"
          ],
          [
           "Buddy Hield"
          ],
          [
           "CJ McCollum"
          ],
          [
           "Cameron Reddish"
          ],
          [
           "Jaylen Brown"
          ],
          [
           "Kelly Oubre"
          ],
          [
           "Kevin Huerter"
          ],
          [
           "Kyle Lowry"
          ],
          [
           "Marvin Bagley"
          ],
          [
           "Myles Turner"
          ],
          [
           "Nikola Vucevic"
          ],
          [
           "Stephen Curry"
          ],
          [
           "Wendell Carter"
          ],
          [
           "Bobby Portis"
          ],
          [
           "Buddy Hield"
          ],
          [
           "CJ McCollum"
          ],
          [
           "Cameron Reddish"
          ],
          [
           "Jaylen Brown"
          ],
          [
           "Kelly Oubre"
          ],
          [
           "Kevin Huerter"
          ],
          [
           "Kyle Lowry"
          ],
          [
           "Marvin Bagley"
          ],
          [
           "Myles Turner"
          ],
          [
           "Nikola Vucevic"
          ],
          [
           "Stephen Curry"
          ],
          [
           "Wendell Carter"
          ],
          [
           "Bobby Portis"
          ],
          [
           "Buddy Hield"
          ],
          [
           "CJ McCollum"
          ],
          [
           "Cameron Reddish"
          ],
          [
           "Jaylen Brown"
          ],
          [
           "Kelly Oubre"
          ],
          [
           "Kyle Lowry"
          ],
          [
           "Marvin Bagley"
          ],
          [
           "Myles Turner"
          ],
          [
           "Nikola Vucevic"
          ],
          [
           "Stephen Curry"
          ],
          [
           "T.J. Warren"
          ],
          [
           "Wendell Carter"
          ],
          [
           "Bobby Portis"
          ],
          [
           "Buddy Hield"
          ],
          [
           "CJ McCollum"
          ],
          [
           "Jaylen Brown"
          ],
          [
           "Kelly Oubre"
          ],
          [
           "Kevin Huerter"
          ],
          [
           "Kyle Lowry"
          ],
          [
           "Marvin Bagley"
          ],
          [
           "Myles Turner"
          ],
          [
           "Nikola Vucevic"
          ],
          [
           "Stephen Curry"
          ],
          [
           "T.J. Warren"
          ],
          [
           "Wendell Carter"
          ]
         ],
         "hoverlabel": {
          "namelength": 0
         },
         "hovertemplate": "team=ManuGino's Team<br>week=%{x}<br>points=%{y}<br>player_name=%{customdata[0]}",
         "legendgroup": "team=ManuGino's Team",
         "marker": {
          "color": "#EF553B",
          "symbol": "circle"
         },
         "mode": "markers",
         "name": "team=ManuGino's Team",
         "showlegend": true,
         "type": "scatter",
         "x": [
          1,
          1,
          1,
          1,
          1,
          1,
          1,
          1,
          1,
          1,
          1,
          1,
          1,
          2,
          2,
          2,
          2,
          2,
          2,
          2,
          2,
          2,
          2,
          2,
          2,
          2,
          3,
          3,
          3,
          3,
          3,
          3,
          3,
          3,
          3,
          3,
          3,
          3,
          3,
          4,
          4,
          4,
          4,
          4,
          4,
          4,
          4,
          4,
          4,
          4,
          4,
          4
         ],
         "xaxis": "x",
         "y": [
          24,
          37.8,
          46.7,
          14,
          45.8,
          57.5,
          21,
          62.8,
          44.5,
          57.2,
          55,
          50.2,
          34.2,
          44.4,
          43.8,
          44.7,
          23.5,
          0,
          38.3,
          22.3,
          67.7,
          0,
          29.8,
          50.1,
          62.5,
          53.4,
          33.5,
          54.8,
          42.8,
          17,
          48,
          36.8,
          44.2,
          0,
          0,
          69.1,
          0,
          50.2,
          35.8,
          20,
          35.5,
          52.8,
          59.2,
          4,
          36.5,
          0,
          0,
          0,
          70.5,
          0,
          58,
          49
         ],
         "yaxis": "y"
        }
       ],
       "layout": {
        "height": 600,
        "legend": {
         "tracegroupgap": 0
        },
        "margin": {
         "t": 60
        },
        "template": {
         "data": {
          "bar": [
           {
            "error_x": {
             "color": "#2a3f5f"
            },
            "error_y": {
             "color": "#2a3f5f"
            },
            "marker": {
             "line": {
              "color": "#E5ECF6",
              "width": 0.5
             }
            },
            "type": "bar"
           }
          ],
          "barpolar": [
           {
            "marker": {
             "line": {
              "color": "#E5ECF6",
              "width": 0.5
             }
            },
            "type": "barpolar"
           }
          ],
          "carpet": [
           {
            "aaxis": {
             "endlinecolor": "#2a3f5f",
             "gridcolor": "white",
             "linecolor": "white",
             "minorgridcolor": "white",
             "startlinecolor": "#2a3f5f"
            },
            "baxis": {
             "endlinecolor": "#2a3f5f",
             "gridcolor": "white",
             "linecolor": "white",
             "minorgridcolor": "white",
             "startlinecolor": "#2a3f5f"
            },
            "type": "carpet"
           }
          ],
          "choropleth": [
           {
            "colorbar": {
             "outlinewidth": 0,
             "ticks": ""
            },
            "type": "choropleth"
           }
          ],
          "contour": [
           {
            "colorbar": {
             "outlinewidth": 0,
             "ticks": ""
            },
            "colorscale": [
             [
              0,
              "#0d0887"
             ],
             [
              0.1111111111111111,
              "#46039f"
             ],
             [
              0.2222222222222222,
              "#7201a8"
             ],
             [
              0.3333333333333333,
              "#9c179e"
             ],
             [
              0.4444444444444444,
              "#bd3786"
             ],
             [
              0.5555555555555556,
              "#d8576b"
             ],
             [
              0.6666666666666666,
              "#ed7953"
             ],
             [
              0.7777777777777778,
              "#fb9f3a"
             ],
             [
              0.8888888888888888,
              "#fdca26"
             ],
             [
              1,
              "#f0f921"
             ]
            ],
            "type": "contour"
           }
          ],
          "contourcarpet": [
           {
            "colorbar": {
             "outlinewidth": 0,
             "ticks": ""
            },
            "type": "contourcarpet"
           }
          ],
          "heatmap": [
           {
            "colorbar": {
             "outlinewidth": 0,
             "ticks": ""
            },
            "colorscale": [
             [
              0,
              "#0d0887"
             ],
             [
              0.1111111111111111,
              "#46039f"
             ],
             [
              0.2222222222222222,
              "#7201a8"
             ],
             [
              0.3333333333333333,
              "#9c179e"
             ],
             [
              0.4444444444444444,
              "#bd3786"
             ],
             [
              0.5555555555555556,
              "#d8576b"
             ],
             [
              0.6666666666666666,
              "#ed7953"
             ],
             [
              0.7777777777777778,
              "#fb9f3a"
             ],
             [
              0.8888888888888888,
              "#fdca26"
             ],
             [
              1,
              "#f0f921"
             ]
            ],
            "type": "heatmap"
           }
          ],
          "heatmapgl": [
           {
            "colorbar": {
             "outlinewidth": 0,
             "ticks": ""
            },
            "colorscale": [
             [
              0,
              "#0d0887"
             ],
             [
              0.1111111111111111,
              "#46039f"
             ],
             [
              0.2222222222222222,
              "#7201a8"
             ],
             [
              0.3333333333333333,
              "#9c179e"
             ],
             [
              0.4444444444444444,
              "#bd3786"
             ],
             [
              0.5555555555555556,
              "#d8576b"
             ],
             [
              0.6666666666666666,
              "#ed7953"
             ],
             [
              0.7777777777777778,
              "#fb9f3a"
             ],
             [
              0.8888888888888888,
              "#fdca26"
             ],
             [
              1,
              "#f0f921"
             ]
            ],
            "type": "heatmapgl"
           }
          ],
          "histogram": [
           {
            "marker": {
             "colorbar": {
              "outlinewidth": 0,
              "ticks": ""
             }
            },
            "type": "histogram"
           }
          ],
          "histogram2d": [
           {
            "colorbar": {
             "outlinewidth": 0,
             "ticks": ""
            },
            "colorscale": [
             [
              0,
              "#0d0887"
             ],
             [
              0.1111111111111111,
              "#46039f"
             ],
             [
              0.2222222222222222,
              "#7201a8"
             ],
             [
              0.3333333333333333,
              "#9c179e"
             ],
             [
              0.4444444444444444,
              "#bd3786"
             ],
             [
              0.5555555555555556,
              "#d8576b"
             ],
             [
              0.6666666666666666,
              "#ed7953"
             ],
             [
              0.7777777777777778,
              "#fb9f3a"
             ],
             [
              0.8888888888888888,
              "#fdca26"
             ],
             [
              1,
              "#f0f921"
             ]
            ],
            "type": "histogram2d"
           }
          ],
          "histogram2dcontour": [
           {
            "colorbar": {
             "outlinewidth": 0,
             "ticks": ""
            },
            "colorscale": [
             [
              0,
              "#0d0887"
             ],
             [
              0.1111111111111111,
              "#46039f"
             ],
             [
              0.2222222222222222,
              "#7201a8"
             ],
             [
              0.3333333333333333,
              "#9c179e"
             ],
             [
              0.4444444444444444,
              "#bd3786"
             ],
             [
              0.5555555555555556,
              "#d8576b"
             ],
             [
              0.6666666666666666,
              "#ed7953"
             ],
             [
              0.7777777777777778,
              "#fb9f3a"
             ],
             [
              0.8888888888888888,
              "#fdca26"
             ],
             [
              1,
              "#f0f921"
             ]
            ],
            "type": "histogram2dcontour"
           }
          ],
          "mesh3d": [
           {
            "colorbar": {
             "outlinewidth": 0,
             "ticks": ""
            },
            "type": "mesh3d"
           }
          ],
          "parcoords": [
           {
            "line": {
             "colorbar": {
              "outlinewidth": 0,
              "ticks": ""
             }
            },
            "type": "parcoords"
           }
          ],
          "pie": [
           {
            "automargin": true,
            "type": "pie"
           }
          ],
          "scatter": [
           {
            "marker": {
             "colorbar": {
              "outlinewidth": 0,
              "ticks": ""
             }
            },
            "type": "scatter"
           }
          ],
          "scatter3d": [
           {
            "line": {
             "colorbar": {
              "outlinewidth": 0,
              "ticks": ""
             }
            },
            "marker": {
             "colorbar": {
              "outlinewidth": 0,
              "ticks": ""
             }
            },
            "type": "scatter3d"
           }
          ],
          "scattercarpet": [
           {
            "marker": {
             "colorbar": {
              "outlinewidth": 0,
              "ticks": ""
             }
            },
            "type": "scattercarpet"
           }
          ],
          "scattergeo": [
           {
            "marker": {
             "colorbar": {
              "outlinewidth": 0,
              "ticks": ""
             }
            },
            "type": "scattergeo"
           }
          ],
          "scattergl": [
           {
            "marker": {
             "colorbar": {
              "outlinewidth": 0,
              "ticks": ""
             }
            },
            "type": "scattergl"
           }
          ],
          "scattermapbox": [
           {
            "marker": {
             "colorbar": {
              "outlinewidth": 0,
              "ticks": ""
             }
            },
            "type": "scattermapbox"
           }
          ],
          "scatterpolar": [
           {
            "marker": {
             "colorbar": {
              "outlinewidth": 0,
              "ticks": ""
             }
            },
            "type": "scatterpolar"
           }
          ],
          "scatterpolargl": [
           {
            "marker": {
             "colorbar": {
              "outlinewidth": 0,
              "ticks": ""
             }
            },
            "type": "scatterpolargl"
           }
          ],
          "scatterternary": [
           {
            "marker": {
             "colorbar": {
              "outlinewidth": 0,
              "ticks": ""
             }
            },
            "type": "scatterternary"
           }
          ],
          "surface": [
           {
            "colorbar": {
             "outlinewidth": 0,
             "ticks": ""
            },
            "colorscale": [
             [
              0,
              "#0d0887"
             ],
             [
              0.1111111111111111,
              "#46039f"
             ],
             [
              0.2222222222222222,
              "#7201a8"
             ],
             [
              0.3333333333333333,
              "#9c179e"
             ],
             [
              0.4444444444444444,
              "#bd3786"
             ],
             [
              0.5555555555555556,
              "#d8576b"
             ],
             [
              0.6666666666666666,
              "#ed7953"
             ],
             [
              0.7777777777777778,
              "#fb9f3a"
             ],
             [
              0.8888888888888888,
              "#fdca26"
             ],
             [
              1,
              "#f0f921"
             ]
            ],
            "type": "surface"
           }
          ],
          "table": [
           {
            "cells": {
             "fill": {
              "color": "#EBF0F8"
             },
             "line": {
              "color": "white"
             }
            },
            "header": {
             "fill": {
              "color": "#C8D4E3"
             },
             "line": {
              "color": "white"
             }
            },
            "type": "table"
           }
          ]
         },
         "layout": {
          "annotationdefaults": {
           "arrowcolor": "#2a3f5f",
           "arrowhead": 0,
           "arrowwidth": 1
          },
          "coloraxis": {
           "colorbar": {
            "outlinewidth": 0,
            "ticks": ""
           }
          },
          "colorscale": {
           "diverging": [
            [
             0,
             "#8e0152"
            ],
            [
             0.1,
             "#c51b7d"
            ],
            [
             0.2,
             "#de77ae"
            ],
            [
             0.3,
             "#f1b6da"
            ],
            [
             0.4,
             "#fde0ef"
            ],
            [
             0.5,
             "#f7f7f7"
            ],
            [
             0.6,
             "#e6f5d0"
            ],
            [
             0.7,
             "#b8e186"
            ],
            [
             0.8,
             "#7fbc41"
            ],
            [
             0.9,
             "#4d9221"
            ],
            [
             1,
             "#276419"
            ]
           ],
           "sequential": [
            [
             0,
             "#0d0887"
            ],
            [
             0.1111111111111111,
             "#46039f"
            ],
            [
             0.2222222222222222,
             "#7201a8"
            ],
            [
             0.3333333333333333,
             "#9c179e"
            ],
            [
             0.4444444444444444,
             "#bd3786"
            ],
            [
             0.5555555555555556,
             "#d8576b"
            ],
            [
             0.6666666666666666,
             "#ed7953"
            ],
            [
             0.7777777777777778,
             "#fb9f3a"
            ],
            [
             0.8888888888888888,
             "#fdca26"
            ],
            [
             1,
             "#f0f921"
            ]
           ],
           "sequentialminus": [
            [
             0,
             "#0d0887"
            ],
            [
             0.1111111111111111,
             "#46039f"
            ],
            [
             0.2222222222222222,
             "#7201a8"
            ],
            [
             0.3333333333333333,
             "#9c179e"
            ],
            [
             0.4444444444444444,
             "#bd3786"
            ],
            [
             0.5555555555555556,
             "#d8576b"
            ],
            [
             0.6666666666666666,
             "#ed7953"
            ],
            [
             0.7777777777777778,
             "#fb9f3a"
            ],
            [
             0.8888888888888888,
             "#fdca26"
            ],
            [
             1,
             "#f0f921"
            ]
           ]
          },
          "colorway": [
           "#636efa",
           "#EF553B",
           "#00cc96",
           "#ab63fa",
           "#FFA15A",
           "#19d3f3",
           "#FF6692",
           "#B6E880",
           "#FF97FF",
           "#FECB52"
          ],
          "font": {
           "color": "#2a3f5f"
          },
          "geo": {
           "bgcolor": "white",
           "lakecolor": "white",
           "landcolor": "#E5ECF6",
           "showlakes": true,
           "showland": true,
           "subunitcolor": "white"
          },
          "hoverlabel": {
           "align": "left"
          },
          "hovermode": "closest",
          "mapbox": {
           "style": "light"
          },
          "paper_bgcolor": "white",
          "plot_bgcolor": "#E5ECF6",
          "polar": {
           "angularaxis": {
            "gridcolor": "white",
            "linecolor": "white",
            "ticks": ""
           },
           "bgcolor": "#E5ECF6",
           "radialaxis": {
            "gridcolor": "white",
            "linecolor": "white",
            "ticks": ""
           }
          },
          "scene": {
           "xaxis": {
            "backgroundcolor": "#E5ECF6",
            "gridcolor": "white",
            "gridwidth": 2,
            "linecolor": "white",
            "showbackground": true,
            "ticks": "",
            "zerolinecolor": "white"
           },
           "yaxis": {
            "backgroundcolor": "#E5ECF6",
            "gridcolor": "white",
            "gridwidth": 2,
            "linecolor": "white",
            "showbackground": true,
            "ticks": "",
            "zerolinecolor": "white"
           },
           "zaxis": {
            "backgroundcolor": "#E5ECF6",
            "gridcolor": "white",
            "gridwidth": 2,
            "linecolor": "white",
            "showbackground": true,
            "ticks": "",
            "zerolinecolor": "white"
           }
          },
          "shapedefaults": {
           "line": {
            "color": "#2a3f5f"
           }
          },
          "ternary": {
           "aaxis": {
            "gridcolor": "white",
            "linecolor": "white",
            "ticks": ""
           },
           "baxis": {
            "gridcolor": "white",
            "linecolor": "white",
            "ticks": ""
           },
           "bgcolor": "#E5ECF6",
           "caxis": {
            "gridcolor": "white",
            "linecolor": "white",
            "ticks": ""
           }
          },
          "title": {
           "x": 0.05
          },
          "xaxis": {
           "automargin": true,
           "gridcolor": "white",
           "linecolor": "white",
           "ticks": "",
           "title": {
            "standoff": 15
           },
           "zerolinecolor": "white",
           "zerolinewidth": 2
          },
          "yaxis": {
           "automargin": true,
           "gridcolor": "white",
           "linecolor": "white",
           "ticks": "",
           "title": {
            "standoff": 15
           },
           "zerolinecolor": "white",
           "zerolinewidth": 2
          }
         }
        },
        "xaxis": {
         "anchor": "y",
         "domain": [
          0,
          1
         ],
         "title": {
          "text": "week"
         }
        },
        "yaxis": {
         "anchor": "x",
         "domain": [
          0,
          1
         ],
         "title": {
          "text": "points"
         }
        }
       }
      },
      "text/html": [
       "<div>\n",
       "        \n",
       "        \n",
       "            <div id=\"0d996d0a-354a-429c-9255-a93ae720b64d\" class=\"plotly-graph-div\" style=\"height:600px; width:100%;\"></div>\n",
       "            <script type=\"text/javascript\">\n",
       "                require([\"plotly\"], function(Plotly) {\n",
       "                    window.PLOTLYENV=window.PLOTLYENV || {};\n",
       "                    \n",
       "                if (document.getElementById(\"0d996d0a-354a-429c-9255-a93ae720b64d\")) {\n",
       "                    Plotly.newPlot(\n",
       "                        '0d996d0a-354a-429c-9255-a93ae720b64d',\n",
       "                        [{\"customdata\": [[\"Brandon Ingram\"], [\"Dario Saric\"], [\"Derrick Favors\"], [\"Dewayne Dedmon\"], [\"Evan Fournier\"], [\"Ja Morant\"], [\"Jamal Murray\"], [\"Jonathan Isaac\"], [\"Kevin Knox\"], [\"Kyrie Irving\"], [\"Luka Doncic\"], [\"Thomas Bryant\"], [\"Zach LaVine\"], [\"Brandon Ingram\"], [\"Cody Zeller\"], [\"Dario Saric\"], [\"Derrick Favors\"], [\"Evan Fournier\"], [\"Ja Morant\"], [\"Jamal Murray\"], [\"Jonathan Isaac\"], [\"Kevin Knox\"], [\"Kyrie Irving\"], [\"Luka Doncic\"], [\"Thomas Bryant\"], [\"Zach LaVine\"], [\"Brandon Ingram\"], [\"Cody Zeller\"], [\"Dario Saric\"], [\"Evan Fournier\"], [\"Ja Morant\"], [\"Jamal Murray\"], [\"Jonathan Isaac\"], [\"Kyrie Irving\"], [\"Luka Doncic\"], [\"P.J. Tucker\"], [\"Thomas Bryant\"], [\"Zach LaVine\"], [\"Brandon Ingram\"], [\"Cody Zeller\"], [\"Dario Saric\"], [\"Dillon Brooks\"], [\"Evan Fournier\"], [\"Ja Morant\"], [\"Jamal Murray\"], [\"Jonathan Isaac\"], [\"Kyrie Irving\"], [\"Luka Doncic\"], [\"P.J. Tucker\"], [\"Thomas Bryant\"], [\"Zach LaVine\"]], \"hoverlabel\": {\"namelength\": 0}, \"hovertemplate\": \"team=Mein Gott Walter<br>week=%{x}<br>points=%{y}<br>player_name=%{customdata[0]}\", \"legendgroup\": \"team=Mein Gott Walter\", \"marker\": {\"color\": \"#636efa\", \"symbol\": \"circle\"}, \"mode\": \"markers\", \"name\": \"team=Mein Gott Walter\", \"showlegend\": true, \"type\": \"scatter\", \"x\": [1, 1, 1, 1, 1, 1, 1, 1, 1, 1, 1, 1, 1, 2, 2, 2, 2, 2, 2, 2, 2, 2, 2, 2, 2, 2, 3, 3, 3, 3, 3, 3, 3, 3, 3, 3, 3, 3, 4, 4, 4, 4, 4, 4, 4, 4, 4, 4, 4, 4, 4], \"xaxis\": \"x\", \"y\": [76.3, 35.5, 27.0, 18.8, 43.5, 45.2, 53.2, 28.0, 31.7, 92.5, 88.5, 52.0, 55.3, 53.2, 43.5, 37.5, 0.0, 36.4, 46.2, 41.1, 47.4, 26.8, 73.0, 87.8, 47.5, 46.0, 68.2, 31.1, 26.5, 39.1, 40.5, 53.0, 55.9, 70.2, 85.2, 38.3, 52.2, 47.8, 0.0, 47.5, 52.0, 48.2, 30.5, 44.2, 53.5, 32.5, 55.5, 84.0, 26.8, 39.5, 55.5], \"yaxis\": \"y\"}, {\"customdata\": [[\"Bojan Bogdanovic\"], [\"Caris LeVert\"], [\"Damian Lillard\"], [\"Enes Kanter\"], [\"Goran Dragic\"], [\"Jarrett Allen\"], [\"Jayson Tatum\"], [\"Jimmy Butler\"], [\"Kristaps Porzingis\"], [\"Marcus Morris\"], [\"Reggie Jackson\"], [\"Rui Hachimura\"], [\"Willie Cauley-Stein\"], [\"Bojan Bogdanovic\"], [\"Bryn Forbes\"], [\"Caris LeVert\"], [\"Damian Lillard\"], [\"Enes Kanter\"], [\"Goran Dragic\"], [\"Jarrett Allen\"], [\"Jayson Tatum\"], [\"Jimmy Butler\"], [\"Kristaps Porzingis\"], [\"Marcus Morris\"], [\"Rui Hachimura\"], [\"Willie Cauley-Stein\"], [\"Bojan Bogdanovic\"], [\"Bryn Forbes\"], [\"Caris LeVert\"], [\"Damian Lillard\"], [\"Davis Bertans\"], [\"DeAndre Jordan\"], [\"Enes Kanter\"], [\"Goran Dragic\"], [\"Jayson Tatum\"], [\"Jimmy Butler\"], [\"Kristaps Porzingis\"], [\"Rui Hachimura\"], [\"Willie Cauley-Stein\"], [\"Bojan Bogdanovic\"], [\"Brandon Clarke\"], [\"Caris LeVert\"], [\"Damian Lillard\"], [\"Danuel House\"], [\"Enes Kanter\"], [\"Eric Paschall\"], [\"Goran Dragic\"], [\"Jayson Tatum\"], [\"Jimmy Butler\"], [\"Kristaps Porzingis\"], [\"P.J. Washington\"], [\"Rui Hachimura\"]], \"hoverlabel\": {\"namelength\": 0}, \"hovertemplate\": \"team=SCC<br>week=%{x}<br>points=%{y}<br>player_name=%{customdata[0]}\", \"legendgroup\": \"team=SCC\", \"marker\": {\"color\": \"#EF553B\", \"symbol\": \"circle\"}, \"mode\": \"markers\", \"name\": \"team=SCC\", \"showlegend\": true, \"type\": \"scatter\", \"x\": [1, 1, 1, 1, 1, 1, 1, 1, 1, 1, 1, 1, 1, 2, 2, 2, 2, 2, 2, 2, 2, 2, 2, 2, 2, 2, 3, 3, 3, 3, 3, 3, 3, 3, 3, 3, 3, 3, 3, 4, 4, 4, 4, 4, 4, 4, 4, 4, 4, 4, 4, 4], \"xaxis\": \"x\", \"y\": [47.5, 45.5, 73.5, 31.0, 48.5, 39.2, 62.8, 0.0, 66.3, 38.5, 19.2, 43.3, 0.0, 48.0, 30.9, 38.0, 85.8, 0.0, 34.0, 28.2, 58.5, 60.8, 50.7, 51.2, 27.5, 29.2, 59.8, 35.0, 37.0, 86.8, 26.3, 40.5, 0.0, 50.7, 56.2, 56.5, 52.0, 34.3, 25.5, 26.8, 36.5, 0.0, 51.2, 6.5, 25.0, 25.2, 48.5, 35.0, 69.5, 15.0, 21.0, 48.5], \"yaxis\": \"y\"}, {\"customdata\": [[\"Bogdan Bogdanovic\"], [\"Cedi Osman\"], [\"Coby White\"], [\"De'Aaron Fox\"], [\"Dennis Schroder\"], [\"Domantas Sabonis\"], [\"James Harden\"], [\"Jaren Jackson\"], [\"Kyle Kuzma\"], [\"Lauri Markkanen\"], [\"OG Anunoby\"], [\"Rudy Gobert\"], [\"Tobias Harris\"], [\"Bogdan Bogdanovic\"], [\"Cedi Osman\"], [\"Coby White\"], [\"De'Aaron Fox\"], [\"Dennis Schroder\"], [\"Domantas Sabonis\"], [\"James Harden\"], [\"Jaren Jackson\"], [\"Kyle Kuzma\"], [\"Lauri Markkanen\"], [\"OG Anunoby\"], [\"Rudy Gobert\"], [\"Tobias Harris\"], [\"Bogdan Bogdanovic\"], [\"Cedi Osman\"], [\"Coby White\"], [\"De'Aaron Fox\"], [\"Dennis Schroder\"], [\"Domantas Sabonis\"], [\"James Harden\"], [\"Jaren Jackson\"], [\"Kyle Kuzma\"], [\"Lauri Markkanen\"], [\"OG Anunoby\"], [\"Rudy Gobert\"], [\"Tobias Harris\"], [\"Bogdan Bogdanovic\"], [\"Cedi Osman\"], [\"Coby White\"], [\"De'Aaron Fox\"], [\"Dennis Schroder\"], [\"Domantas Sabonis\"], [\"James Harden\"], [\"Jaren Jackson\"], [\"Kyle Kuzma\"], [\"Lauri Markkanen\"], [\"OG Anunoby\"], [\"Rudy Gobert\"], [\"Tobias Harris\"]], \"hoverlabel\": {\"namelength\": 0}, \"hovertemplate\": \"team=bratkartoffeln beste<br>week=%{x}<br>points=%{y}<br>player_name=%{customdata[0]}\", \"legendgroup\": \"team=bratkartoffeln beste\", \"marker\": {\"color\": \"#00cc96\", \"symbol\": \"circle\"}, \"mode\": \"markers\", \"name\": \"team=bratkartoffeln beste\", \"showlegend\": true, \"type\": \"scatter\", \"x\": [1, 1, 1, 1, 1, 1, 1, 1, 1, 1, 1, 1, 1, 2, 2, 2, 2, 2, 2, 2, 2, 2, 2, 2, 2, 2, 3, 3, 3, 3, 3, 3, 3, 3, 3, 3, 3, 3, 3, 4, 4, 4, 4, 4, 4, 4, 4, 4, 4, 4, 4, 4], \"xaxis\": \"x\", \"y\": [24.8, 19.2, 42.2, 33.2, 37.5, 51.2, 57.5, 46.0, 0.0, 51.2, 42.0, 27.5, 66.5, 29.2, 33.5, 14.8, 55.1, 47.3, 68.5, 83.6, 21.0, 15.2, 41.4, 45.0, 51.1, 49.0, 60.8, 32.5, 27.7, 53.0, 40.6, 70.3, 114.5, 26.7, 26.8, 36.0, 50.0, 52.2, 51.0, 80.0, 10.5, 67.0, 0.0, 21.0, 63.0, 99.0, 60.5, 49.0, 34.5, 0.5, 74.5, 32.2], \"yaxis\": \"y\"}, {\"customdata\": [[\"Bam Adebayo\"], [\"Darius Garland\"], [\"Dwight Howard\"], [\"Gary Harris\"], [\"Jeff Teague\"], [\"John Collins\"], [\"Jonas Valanciunas\"], [\"Karl-Anthony Towns\"], [\"Ricky Rubio\"], [\"Shai Gilgeous-Alexander\"], [\"Terry Rozier\"], [\"Trae Young\"], [\"Trevor Ariza\"], [\"Bam Adebayo\"], [\"Darius Garland\"], [\"Dwight Howard\"], [\"Gary Harris\"], [\"Jeff Teague\"], [\"John Collins\"], [\"Jonas Valanciunas\"], [\"Josh Hart\"], [\"Karl-Anthony Towns\"], [\"Ricky Rubio\"], [\"Shai Gilgeous-Alexander\"], [\"Terry Rozier\"], [\"Trae Young\"], [\"Bam Adebayo\"], [\"Gary Harris\"], [\"Isaiah Thomas\"], [\"Jeff Teague\"], [\"John Collins\"], [\"Jonas Valanciunas\"], [\"Josh Hart\"], [\"Karl-Anthony Towns\"], [\"Otto Porter\"], [\"Ricky Rubio\"], [\"Shai Gilgeous-Alexander\"], [\"Terry Rozier\"], [\"Trae Young\"], [\"Bam Adebayo\"], [\"Gary Harris\"], [\"Isaiah Thomas\"], [\"Jarrett Allen\"], [\"Jeff Teague\"], [\"John Collins\"], [\"Jonas Valanciunas\"], [\"Karl-Anthony Towns\"], [\"Otto Porter\"], [\"Ricky Rubio\"], [\"Shai Gilgeous-Alexander\"], [\"Terry Rozier\"], [\"Trae Young\"]], \"hoverlabel\": {\"namelength\": 0}, \"hovertemplate\": \"team=Knights of sweet love<br>week=%{x}<br>points=%{y}<br>player_name=%{customdata[0]}\", \"legendgroup\": \"team=Knights of sweet love\", \"marker\": {\"color\": \"#ab63fa\", \"symbol\": \"circle\"}, \"mode\": \"markers\", \"name\": \"team=Knights of sweet love\", \"showlegend\": true, \"type\": \"scatter\", \"x\": [1, 1, 1, 1, 1, 1, 1, 1, 1, 1, 1, 1, 1, 2, 2, 2, 2, 2, 2, 2, 2, 2, 2, 2, 2, 2, 3, 3, 3, 3, 3, 3, 3, 3, 3, 3, 3, 3, 3, 4, 4, 4, 4, 4, 4, 4, 4, 4, 4, 4, 4, 4], \"xaxis\": \"x\", \"y\": [55.2, 28.2, 35.7, 22.5, 36.2, 52.2, 40.7, 106.0, 49.8, 60.7, 40.7, 97.2, 10.3, 50.0, 16.8, 38.0, 38.6, 50.5, 57.0, 40.0, 37.0, 44.5, 45.2, 51.3, 51.0, 35.0, 49.7, 24.2, 28.2, 26.5, 0.0, 37.0, 30.3, 76.3, 44.5, 67.5, 46.8, 34.5, 71.8, 56.5, 36.5, 47.0, 22.5, 50.0, 0.0, 58.5, 80.2, 0.0, 68.0, 25.0, 88.0, 111.0], \"yaxis\": \"y\"}, {\"customdata\": [[\"Andre Drummond\"], [\"Collin Sexton\"], [\"DeAndre Jordan\"], [\"Dennis Smith\"], [\"Ivica Zubac\"], [\"Joe Ingles\"], [\"Markelle Fultz\"], [\"Michael Porter\"], [\"Mike Conley\"], [\"Miles Bridges\"], [\"Nikola Jokic\"], [\"Pascal Siakam\"], [\"RJ Barrett\"], [\"Andre Drummond\"], [\"Aron Baynes\"], [\"Collin Sexton\"], [\"DeAndre Jordan\"], [\"Joe Ingles\"], [\"Kendrick Nunn\"], [\"Luke Kennard\"], [\"Michael Porter\"], [\"Mike Conley\"], [\"Miles Bridges\"], [\"Nikola Jokic\"], [\"Pascal Siakam\"], [\"RJ Barrett\"], [\"Andre Drummond\"], [\"Aron Baynes\"], [\"Collin Sexton\"], [\"DeAndre' Bembry\"], [\"Kendrick Nunn\"], [\"Luke Kennard\"], [\"Michael Porter\"], [\"Mike Conley\"], [\"Miles Bridges\"], [\"Nikola Jokic\"], [\"P.J. Washington\"], [\"Pascal Siakam\"], [\"RJ Barrett\"], [\"Richaun Holmes\"], [\"Alec Burks\"], [\"Andre Drummond\"], [\"Aron Baynes\"], [\"Collin Sexton\"], [\"Deandre Ayton\"], [\"George Hill\"], [\"Josh Hart\"], [\"Luke Kennard\"], [\"Malcolm Brogdon\"], [\"Miles Bridges\"], [\"Pascal Siakam\"], [\"RJ Barrett\"]], \"hoverlabel\": {\"namelength\": 0}, \"hovertemplate\": \"team=skinny bitches<br>week=%{x}<br>points=%{y}<br>player_name=%{customdata[0]}\", \"legendgroup\": \"team=skinny bitches\", \"marker\": {\"color\": \"#FFA15A\", \"symbol\": \"circle\"}, \"mode\": \"markers\", \"name\": \"team=skinny bitches\", \"showlegend\": true, \"type\": \"scatter\", \"x\": [1, 1, 1, 1, 1, 1, 1, 1, 1, 1, 1, 1, 1, 2, 2, 2, 2, 2, 2, 2, 2, 2, 2, 2, 2, 2, 3, 3, 3, 3, 3, 3, 3, 3, 3, 3, 3, 3, 3, 3, 4, 4, 4, 4, 4, 4, 4, 4, 4, 4, 4, 4], \"xaxis\": \"x\", \"y\": [76.7, 36.5, 23.7, 3.3, 29.0, 22.3, 32.2, 0.0, 25.3, 38.7, 79.0, 70.7, 51.3, 84.0, 58.5, 35.8, 40.3, 31.2, 37.7, 38.1, 20.5, 33.1, 29.2, 51.6, 56.2, 43.8, 72.2, 51.3, 49.2, 21.9, 27.2, 54.8, 9.2, 44.8, 39.6, 58.8, 37.1, 82.8, 26.5, 28.0, 29.2, 52.2, 55.5, 42.0, 0.0, 0.0, 53.5, 60.5, 50.0, 52.5, 68.2, 66.5], \"yaxis\": \"y\"}, {\"customdata\": [[\"Dejounte Murray\"], [\"Devin Booker\"], [\"Fred VanVleet\"], [\"Giannis Antetokounmpo\"], [\"Hassan Whiteside\"], [\"Justise Winslow\"], [\"Kevin Love\"], [\"Lonzo Ball\"], [\"Patrick Beverley\"], [\"Steven Adams\"], [\"Tim Hardaway\"], [\"Tristan Thompson\"], [\"Victor Oladipo\"], [\"Dejounte Murray\"], [\"Devin Booker\"], [\"Frank Kaminsky\"], [\"Fred VanVleet\"], [\"Giannis Antetokounmpo\"], [\"Hassan Whiteside\"], [\"Justise Winslow\"], [\"Kevin Love\"], [\"Lonzo Ball\"], [\"Patrick Beverley\"], [\"Steven Adams\"], [\"Tristan Thompson\"], [\"Victor Oladipo\"], [\"Dejounte Murray\"], [\"Devin Booker\"], [\"Frank Kaminsky\"], [\"Fred VanVleet\"], [\"Giannis Antetokounmpo\"], [\"Hassan Whiteside\"], [\"Jabari Parker\"], [\"Justise Winslow\"], [\"Kevin Love\"], [\"Lonzo Ball\"], [\"Patrick Beverley\"], [\"Steven Adams\"], [\"Tristan Thompson\"], [\"Victor Oladipo\"], [\"Dejounte Murray\"], [\"Devin Booker\"], [\"Fred VanVleet\"], [\"Giannis Antetokounmpo\"], [\"Hassan Whiteside\"], [\"Jabari Parker\"], [\"Justise Winslow\"], [\"Kevin Love\"], [\"Lonzo Ball\"], [\"Patrick Beverley\"], [\"Steven Adams\"], [\"Tristan Thompson\"], [\"Victor Oladipo\"]], \"hoverlabel\": {\"namelength\": 0}, \"hovertemplate\": \"team=CaptainStrikersMob<br>week=%{x}<br>points=%{y}<br>player_name=%{customdata[0]}\", \"legendgroup\": \"team=CaptainStrikersMob\", \"marker\": {\"color\": \"#19d3f3\", \"symbol\": \"circle\"}, \"mode\": \"markers\", \"name\": \"team=CaptainStrikersMob\", \"showlegend\": true, \"type\": \"scatter\", \"x\": [1, 1, 1, 1, 1, 1, 1, 1, 1, 1, 1, 1, 1, 2, 2, 2, 2, 2, 2, 2, 2, 2, 2, 2, 2, 2, 3, 3, 3, 3, 3, 3, 3, 3, 3, 3, 3, 3, 3, 3, 4, 4, 4, 4, 4, 4, 4, 4, 4, 4, 4, 4, 4], \"xaxis\": \"x\", \"y\": [62.2, 60.5, 56.7, 102.0, 50.5, 59.3, 68.0, 52.5, 32.3, 30.0, 14.5, 65.8, 0.0, 44.2, 51.8, 23.8, 44.8, 80.6, 36.2, 16.0, 70.9, 44.7, 25.4, 32.0, 56.6, 0.0, 32.7, 67.0, 13.2, 58.5, 97.0, 63.8, 60.0, 23.0, 47.5, 28.0, 46.5, 40.0, 59.3, 0.0, 23.2, 50.0, 62.8, 0.0, 40.8, 52.0, 0.0, 43.0, 0.0, 20.8, 27.5, 54.0, 0.0], \"yaxis\": \"y\"}, {\"customdata\": [[\"Blake Griffin\"], [\"Chris Paul\"], [\"De'Andre Hunter\"], [\"DeMar DeRozan\"], [\"Harrison Barnes\"], [\"Jerami Grant\"], [\"Jeremy Lamb\"], [\"Joel Embiid\"], [\"Josh Richardson\"], [\"Jrue Holiday\"], [\"Julius Randle\"], [\"Montrezl Harrell\"], [\"Otto Porter\"], [\"Blake Griffin\"], [\"Chris Paul\"], [\"De'Andre Hunter\"], [\"DeMar DeRozan\"], [\"Harrison Barnes\"], [\"Jerami Grant\"], [\"Jeremy Lamb\"], [\"Joel Embiid\"], [\"Josh Richardson\"], [\"Jrue Holiday\"], [\"Julius Randle\"], [\"Montrezl Harrell\"], [\"Otto Porter\"], [\"Blake Griffin\"], [\"Chris Paul\"], [\"De'Andre Hunter\"], [\"DeMar DeRozan\"], [\"Harrison Barnes\"], [\"Jeremy Lamb\"], [\"Joel Embiid\"], [\"Josh Richardson\"], [\"Jrue Holiday\"], [\"Julius Randle\"], [\"Marcus Morris\"], [\"Montrezl Harrell\"], [\"Taurean Prince\"], [\"Blake Griffin\"], [\"Chris Paul\"], [\"De'Andre Hunter\"], [\"DeMar DeRozan\"], [\"Harrison Barnes\"], [\"Jeremy Lamb\"], [\"Joel Embiid\"], [\"Josh Richardson\"], [\"Jrue Holiday\"], [\"Julius Randle\"], [\"Marcus Morris\"], [\"Montrezl Harrell\"], [\"Taurean Prince\"]], \"hoverlabel\": {\"namelength\": 0}, \"hovertemplate\": \"team=Dunkin Dullies<br>week=%{x}<br>points=%{y}<br>player_name=%{customdata[0]}\", \"legendgroup\": \"team=Dunkin Dullies\", \"marker\": {\"color\": \"#FF6692\", \"symbol\": \"circle\"}, \"mode\": \"markers\", \"name\": \"team=Dunkin Dullies\", \"showlegend\": true, \"type\": \"scatter\", \"x\": [1, 1, 1, 1, 1, 1, 1, 1, 1, 1, 1, 1, 1, 2, 2, 2, 2, 2, 2, 2, 2, 2, 2, 2, 2, 2, 3, 3, 3, 3, 3, 3, 3, 3, 3, 3, 3, 3, 3, 4, 4, 4, 4, 4, 4, 4, 4, 4, 4, 4, 4, 4], \"xaxis\": \"x\", \"y\": [0.0, 33.8, 23.0, 42.0, 28.7, 24.5, 25.5, 62.5, 35.8, 37.0, 52.8, 48.8, 21.7, 0.0, 48.3, 21.3, 46.1, 45.2, 17.1, 55.3, 73.2, 41.7, 54.0, 39.1, 41.1, 33.0, 0.0, 52.0, 26.8, 49.5, 56.2, 48.0, 63.2, 39.1, 54.0, 51.7, 45.8, 70.2, 31.0, 46.5, 35.0, 37.5, 51.2, 34.0, 0.0, 91.5, 44.0, 59.0, 43.0, 47.5, 40.0, 41.0], \"yaxis\": \"y\"}, {\"customdata\": [[\"Andrew Wiggins\"], [\"Clint Capela\"], [\"Donovan Mitchell\"], [\"Eric Gordon\"], [\"JJ Redick\"], [\"Jarrett Culver\"], [\"Joe Harris\"], [\"Jordan Clarkson\"], [\"LaMarcus Aldridge\"], [\"Larry Nance\"], [\"LeBron James\"], [\"Lou Williams\"], [\"Serge Ibaka\"], [\"Andrew Wiggins\"], [\"Clint Capela\"], [\"Donovan Mitchell\"], [\"Eric Gordon\"], [\"JJ Redick\"], [\"Jarrett Culver\"], [\"Joe Harris\"], [\"Jordan Clarkson\"], [\"LaMarcus Aldridge\"], [\"Larry Nance\"], [\"LeBron James\"], [\"Lou Williams\"], [\"Serge Ibaka\"], [\"Andrew Wiggins\"], [\"Clint Capela\"], [\"Donovan Mitchell\"], [\"Eric Gordon\"], [\"JJ Redick\"], [\"Jarrett Culver\"], [\"Joe Harris\"], [\"Jordan Clarkson\"], [\"LaMarcus Aldridge\"], [\"Larry Nance\"], [\"LeBron James\"], [\"Lou Williams\"], [\"Serge Ibaka\"], [\"Andrew Wiggins\"], [\"Clint Capela\"], [\"Donovan Mitchell\"], [\"Eric Gordon\"], [\"Glenn Robinson\"], [\"JJ Redick\"], [\"Joe Harris\"], [\"Jordan Clarkson\"], [\"LaMarcus Aldridge\"], [\"Larry Nance\"], [\"LeBron James\"], [\"Lou Williams\"], [\"Serge Ibaka\"]], \"hoverlabel\": {\"namelength\": 0}, \"hovertemplate\": \"team=Gebimst<br>week=%{x}<br>points=%{y}<br>player_name=%{customdata[0]}\", \"legendgroup\": \"team=Gebimst\", \"marker\": {\"color\": \"#B6E880\", \"symbol\": \"circle\"}, \"mode\": \"markers\", \"name\": \"team=Gebimst\", \"showlegend\": true, \"type\": \"scatter\", \"x\": [1, 1, 1, 1, 1, 1, 1, 1, 1, 1, 1, 1, 1, 2, 2, 2, 2, 2, 2, 2, 2, 2, 2, 2, 2, 2, 3, 3, 3, 3, 3, 3, 3, 3, 3, 3, 3, 3, 3, 4, 4, 4, 4, 4, 4, 4, 4, 4, 4, 4, 4, 4], \"xaxis\": \"x\", \"y\": [43.7, 49.0, 62.7, 24.5, 22.8, 6.2, 37.0, 25.2, 60.2, 32.8, 72.8, 51.3, 39.2, 53.2, 39.6, 60.8, 18.9, 27.3, 27.0, 42.3, 42.0, 37.0, 29.6, 93.3, 38.8, 34.5, 70.0, 69.5, 49.8, 26.5, 32.0, 28.5, 34.2, 31.5, 48.3, 34.3, 83.7, 74.5, 36.2, 84.2, 62.0, 63.0, 42.5, 31.5, 57.0, 24.5, 40.5, 47.5, 31.5, 69.8, 48.0, 0.0], \"yaxis\": \"y\"}, {\"customdata\": [[\"Aaron Gordon\"], [\"Al Horford\"], [\"Anthony Davis\"], [\"Ben Simmons\"], [\"Danilo Gallinari\"], [\"Gordon Hayward\"], [\"Marcus Smart\"], [\"Mitchell Robinson\"], [\"Paul Millsap\"], [\"Rudy Gay\"], [\"Russell Westbrook\"], [\"Terrence Ross\"], [\"Tyler Herro\"], [\"Aaron Gordon\"], [\"Al Horford\"], [\"Anthony Davis\"], [\"Ben Simmons\"], [\"Danilo Gallinari\"], [\"Gordon Hayward\"], [\"Marcus Smart\"], [\"Mitchell Robinson\"], [\"Paul Millsap\"], [\"Rudy Gay\"], [\"Russell Westbrook\"], [\"Terrence Ross\"], [\"Tyler Herro\"], [\"Aaron Gordon\"], [\"Al Horford\"], [\"Anthony Davis\"], [\"Ben Simmons\"], [\"Danilo Gallinari\"], [\"Gordon Hayward\"], [\"Marcus Smart\"], [\"Mitchell Robinson\"], [\"Paul Millsap\"], [\"Rudy Gay\"], [\"Russell Westbrook\"], [\"Terrence Ross\"], [\"Tyler Herro\"], [\"Aaron Gordon\"], [\"Al Horford\"], [\"Anthony Davis\"], [\"Ben Simmons\"], [\"Danilo Gallinari\"], [\"Gordon Hayward\"], [\"Marcus Smart\"], [\"Mitchell Robinson\"], [\"Paul Millsap\"], [\"Rudy Gay\"], [\"Russell Westbrook\"], [\"Terrence Ross\"], [\"Tyler Herro\"]], \"hoverlabel\": {\"namelength\": 0}, \"hovertemplate\": \"team=BVB_Baller<br>week=%{x}<br>points=%{y}<br>player_name=%{customdata[0]}\", \"legendgroup\": \"team=BVB_Baller\", \"marker\": {\"color\": \"#FF97FF\", \"symbol\": \"circle\"}, \"mode\": \"markers\", \"name\": \"team=BVB_Baller\", \"showlegend\": true, \"type\": \"scatter\", \"x\": [1, 1, 1, 1, 1, 1, 1, 1, 1, 1, 1, 1, 1, 2, 2, 2, 2, 2, 2, 2, 2, 2, 2, 2, 2, 2, 3, 3, 3, 3, 3, 3, 3, 3, 3, 3, 3, 3, 3, 4, 4, 4, 4, 4, 4, 4, 4, 4, 4, 4, 4, 4], \"xaxis\": \"x\", \"y\": [33.2, 50.2, 70.7, 61.5, 46.7, 38.8, 34.7, 40.8, 35.8, 36.8, 93.5, 23.0, 30.7, 41.2, 56.5, 83.7, 51.7, 41.0, 63.5, 45.2, 33.6, 30.9, 39.6, 65.8, 22.9, 52.2, 39.2, 50.9, 68.2, 26.5, 51.2, 62.0, 36.7, 19.0, 43.7, 20.7, 48.0, 23.5, 21.3, 73.5, 33.0, 78.5, 50.0, 29.5, 0.0, 54.0, 0.0, 52.0, 45.2, 45.0, 35.0, 0.0], \"yaxis\": \"y\"}, {\"customdata\": [[\"Bradley Beal\"], [\"Brook Lopez\"], [\"D'Angelo Russell\"], [\"Derrick Rose\"], [\"Draymond Green\"], [\"Eric Bledsoe\"], [\"JaVale McGee\"], [\"Paul George\"], [\"Rajon Rondo\"], [\"Spencer Dinwiddie\"], [\"T.J. Warren\"], [\"Thaddeus Young\"], [\"Zion Williamson\"], [\"Bradley Beal\"], [\"Brook Lopez\"], [\"D'Angelo Russell\"], [\"Derrick Rose\"], [\"Devonte' Graham\"], [\"Draymond Green\"], [\"Eric Bledsoe\"], [\"JaVale McGee\"], [\"Paul George\"], [\"Rajon Rondo\"], [\"Spencer Dinwiddie\"], [\"Thaddeus Young\"], [\"Zion Williamson\"], [\"Bradley Beal\"], [\"Brook Lopez\"], [\"D'Angelo Russell\"], [\"Derrick Rose\"], [\"Devonte' Graham\"], [\"Draymond Green\"], [\"Dwight Howard\"], [\"Eric Bledsoe\"], [\"Paul George\"], [\"Rajon Rondo\"], [\"Spencer Dinwiddie\"], [\"Thaddeus Young\"], [\"Zion Williamson\"], [\"Bradley Beal\"], [\"Brook Lopez\"], [\"D'Angelo Russell\"], [\"Derrick Rose\"], [\"Devonte' Graham\"], [\"Draymond Green\"], [\"Dwight Howard\"], [\"Eric Bledsoe\"], [\"Paul George\"], [\"Rajon Rondo\"], [\"Spencer Dinwiddie\"], [\"Thaddeus Young\"], [\"Zion Williamson\"]], \"hoverlabel\": {\"namelength\": 0}, \"hovertemplate\": \"team=Hardwood Classics<br>week=%{x}<br>points=%{y}<br>player_name=%{customdata[0]}\", \"legendgroup\": \"team=Hardwood Classics\", \"marker\": {\"color\": \"#FECB52\", \"symbol\": \"circle\"}, \"mode\": \"markers\", \"name\": \"team=Hardwood Classics\", \"showlegend\": true, \"type\": \"scatter\", \"x\": [1, 1, 1, 1, 1, 1, 1, 1, 1, 1, 1, 1, 1, 2, 2, 2, 2, 2, 2, 2, 2, 2, 2, 2, 2, 2, 3, 3, 3, 3, 3, 3, 3, 3, 3, 3, 3, 3, 3, 4, 4, 4, 4, 4, 4, 4, 4, 4, 4, 4, 4, 4], \"xaxis\": \"x\", \"y\": [58.7, 37.8, 31.0, 53.2, 33.5, 24.8, 15.0, 0.0, 0.0, 40.0, 16.5, 24.8, 0.0, 81.8, 29.8, 58.2, 40.8, 38.8, 49.0, 42.8, 18.7, 0.0, 0.0, 31.7, 37.0, 0.0, 54.7, 39.8, 101.8, 0.0, 68.4, 0.0, 19.7, 60.4, 0.0, 0.0, 49.5, 24.7, 0.0, 100.0, 0.0, 63.2, 29.5, 41.5, 26.8, 37.8, 0.0, 0.0, 32.0, 39.5, 26.5, 0.0], \"yaxis\": \"y\"}, {\"customdata\": [[\"Alex Len\"], [\"Danny Green\"], [\"Deandre Ayton\"], [\"Delon Wright\"], [\"Derrick White\"], [\"Kawhi Leonard\"], [\"Kemba Walker\"], [\"Khris Middleton\"], [\"Malcolm Brogdon\"], [\"Marc Gasol\"], [\"Robert Covington\"], [\"Wesley Matthews\"], [\"Zach Collins\"], [\"Alex Len\"], [\"Danny Green\"], [\"Deandre Ayton\"], [\"Delon Wright\"], [\"Derrick White\"], [\"Kawhi Leonard\"], [\"Kemba Walker\"], [\"Khris Middleton\"], [\"Malcolm Brogdon\"], [\"Marc Gasol\"], [\"Robert Covington\"], [\"Wesley Matthews\"], [\"Zach Collins\"], [\"Alex Len\"], [\"Danny Green\"], [\"Deandre Ayton\"], [\"Delon Wright\"], [\"Derrick White\"], [\"Dwight Powell\"], [\"Kawhi Leonard\"], [\"Kemba Walker\"], [\"Khris Middleton\"], [\"Malcolm Brogdon\"], [\"Marc Gasol\"], [\"Robert Covington\"], [\"Will Barton\"], [\"Danny Green\"], [\"Derrick White\"], [\"Dwight Powell\"], [\"Jae Crowder\"], [\"Kawhi Leonard\"], [\"Kemba Walker\"], [\"Khris Middleton\"], [\"Marc Gasol\"], [\"Mike Conley\"], [\"Nikola Jokic\"], [\"Robert Covington\"], [\"Tomas Satoransky\"], [\"Will Barton\"]], \"hoverlabel\": {\"namelength\": 0}, \"hovertemplate\": \"team=Your Team Name<br>week=%{x}<br>points=%{y}<br>player_name=%{customdata[0]}\", \"legendgroup\": \"team=Your Team Name\", \"marker\": {\"color\": \"#636efa\", \"symbol\": \"circle\"}, \"mode\": \"markers\", \"name\": \"team=Your Team Name\", \"showlegend\": true, \"type\": \"scatter\", \"x\": [1, 1, 1, 1, 1, 1, 1, 1, 1, 1, 1, 1, 1, 2, 2, 2, 2, 2, 2, 2, 2, 2, 2, 2, 2, 2, 3, 3, 3, 3, 3, 3, 3, 3, 3, 3, 3, 3, 3, 4, 4, 4, 4, 4, 4, 4, 4, 4, 4, 4, 4, 4], \"xaxis\": \"x\", \"y\": [19.0, 45.3, 67.0, 39.2, 22.2, 72.2, 56.3, 49.5, 79.0, 20.3, 37.5, 39.8, 25.5, 20.0, 20.5, 0.0, 35.2, 39.6, 83.3, 72.5, 46.4, 64.9, 35.3, 38.0, 15.1, 0.0, 18.1, 20.0, 0.0, 15.3, 23.3, 31.2, 70.5, 64.0, 47.8, 51.1, 22.3, 43.9, 57.3, 25.8, 29.8, 37.0, 24.2, 65.2, 77.5, 0.0, 41.8, 49.5, 59.0, 28.5, 14.5, 68.0], \"yaxis\": \"y\"}, {\"customdata\": [[\"Bobby Portis\"], [\"Buddy Hield\"], [\"CJ McCollum\"], [\"Cameron Reddish\"], [\"Jaylen Brown\"], [\"Kelly Oubre\"], [\"Kevin Huerter\"], [\"Kyle Lowry\"], [\"Marvin Bagley\"], [\"Myles Turner\"], [\"Nikola Vucevic\"], [\"Stephen Curry\"], [\"Wendell Carter\"], [\"Bobby Portis\"], [\"Buddy Hield\"], [\"CJ McCollum\"], [\"Cameron Reddish\"], [\"Jaylen Brown\"], [\"Kelly Oubre\"], [\"Kevin Huerter\"], [\"Kyle Lowry\"], [\"Marvin Bagley\"], [\"Myles Turner\"], [\"Nikola Vucevic\"], [\"Stephen Curry\"], [\"Wendell Carter\"], [\"Bobby Portis\"], [\"Buddy Hield\"], [\"CJ McCollum\"], [\"Cameron Reddish\"], [\"Jaylen Brown\"], [\"Kelly Oubre\"], [\"Kyle Lowry\"], [\"Marvin Bagley\"], [\"Myles Turner\"], [\"Nikola Vucevic\"], [\"Stephen Curry\"], [\"T.J. Warren\"], [\"Wendell Carter\"], [\"Bobby Portis\"], [\"Buddy Hield\"], [\"CJ McCollum\"], [\"Jaylen Brown\"], [\"Kelly Oubre\"], [\"Kevin Huerter\"], [\"Kyle Lowry\"], [\"Marvin Bagley\"], [\"Myles Turner\"], [\"Nikola Vucevic\"], [\"Stephen Curry\"], [\"T.J. Warren\"], [\"Wendell Carter\"]], \"hoverlabel\": {\"namelength\": 0}, \"hovertemplate\": \"team=ManuGino's Team<br>week=%{x}<br>points=%{y}<br>player_name=%{customdata[0]}\", \"legendgroup\": \"team=ManuGino's Team\", \"marker\": {\"color\": \"#EF553B\", \"symbol\": \"circle\"}, \"mode\": \"markers\", \"name\": \"team=ManuGino's Team\", \"showlegend\": true, \"type\": \"scatter\", \"x\": [1, 1, 1, 1, 1, 1, 1, 1, 1, 1, 1, 1, 1, 2, 2, 2, 2, 2, 2, 2, 2, 2, 2, 2, 2, 2, 3, 3, 3, 3, 3, 3, 3, 3, 3, 3, 3, 3, 3, 4, 4, 4, 4, 4, 4, 4, 4, 4, 4, 4, 4, 4], \"xaxis\": \"x\", \"y\": [24.0, 37.8, 46.7, 14.0, 45.8, 57.5, 21.0, 62.8, 44.5, 57.2, 55.0, 50.2, 34.2, 44.4, 43.8, 44.7, 23.5, 0.0, 38.3, 22.3, 67.7, 0.0, 29.8, 50.1, 62.5, 53.4, 33.5, 54.8, 42.8, 17.0, 48.0, 36.8, 44.2, 0.0, 0.0, 69.1, 0.0, 50.2, 35.8, 20.0, 35.5, 52.8, 59.2, 4.0, 36.5, 0.0, 0.0, 0.0, 70.5, 0.0, 58.0, 49.0], \"yaxis\": \"y\"}],\n",
       "                        {\"height\": 600, \"legend\": {\"tracegroupgap\": 0}, \"margin\": {\"t\": 60}, \"template\": {\"data\": {\"bar\": [{\"error_x\": {\"color\": \"#2a3f5f\"}, \"error_y\": {\"color\": \"#2a3f5f\"}, \"marker\": {\"line\": {\"color\": \"#E5ECF6\", \"width\": 0.5}}, \"type\": \"bar\"}], \"barpolar\": [{\"marker\": {\"line\": {\"color\": \"#E5ECF6\", \"width\": 0.5}}, \"type\": \"barpolar\"}], \"carpet\": [{\"aaxis\": {\"endlinecolor\": \"#2a3f5f\", \"gridcolor\": \"white\", \"linecolor\": \"white\", \"minorgridcolor\": \"white\", \"startlinecolor\": \"#2a3f5f\"}, \"baxis\": {\"endlinecolor\": \"#2a3f5f\", \"gridcolor\": \"white\", \"linecolor\": \"white\", \"minorgridcolor\": \"white\", \"startlinecolor\": \"#2a3f5f\"}, \"type\": \"carpet\"}], \"choropleth\": [{\"colorbar\": {\"outlinewidth\": 0, \"ticks\": \"\"}, \"type\": \"choropleth\"}], \"contour\": [{\"colorbar\": {\"outlinewidth\": 0, \"ticks\": \"\"}, \"colorscale\": [[0.0, \"#0d0887\"], [0.1111111111111111, \"#46039f\"], [0.2222222222222222, \"#7201a8\"], [0.3333333333333333, \"#9c179e\"], [0.4444444444444444, \"#bd3786\"], [0.5555555555555556, \"#d8576b\"], [0.6666666666666666, \"#ed7953\"], [0.7777777777777778, \"#fb9f3a\"], [0.8888888888888888, \"#fdca26\"], [1.0, \"#f0f921\"]], \"type\": \"contour\"}], \"contourcarpet\": [{\"colorbar\": {\"outlinewidth\": 0, \"ticks\": \"\"}, \"type\": \"contourcarpet\"}], \"heatmap\": [{\"colorbar\": {\"outlinewidth\": 0, \"ticks\": \"\"}, \"colorscale\": [[0.0, \"#0d0887\"], [0.1111111111111111, \"#46039f\"], [0.2222222222222222, \"#7201a8\"], [0.3333333333333333, \"#9c179e\"], [0.4444444444444444, \"#bd3786\"], [0.5555555555555556, \"#d8576b\"], [0.6666666666666666, \"#ed7953\"], [0.7777777777777778, \"#fb9f3a\"], [0.8888888888888888, \"#fdca26\"], [1.0, \"#f0f921\"]], \"type\": \"heatmap\"}], \"heatmapgl\": [{\"colorbar\": {\"outlinewidth\": 0, \"ticks\": \"\"}, \"colorscale\": [[0.0, \"#0d0887\"], [0.1111111111111111, \"#46039f\"], [0.2222222222222222, \"#7201a8\"], [0.3333333333333333, \"#9c179e\"], [0.4444444444444444, \"#bd3786\"], [0.5555555555555556, \"#d8576b\"], [0.6666666666666666, \"#ed7953\"], [0.7777777777777778, \"#fb9f3a\"], [0.8888888888888888, \"#fdca26\"], [1.0, \"#f0f921\"]], \"type\": \"heatmapgl\"}], \"histogram\": [{\"marker\": {\"colorbar\": {\"outlinewidth\": 0, \"ticks\": \"\"}}, \"type\": \"histogram\"}], \"histogram2d\": [{\"colorbar\": {\"outlinewidth\": 0, \"ticks\": \"\"}, \"colorscale\": [[0.0, \"#0d0887\"], [0.1111111111111111, \"#46039f\"], [0.2222222222222222, \"#7201a8\"], [0.3333333333333333, \"#9c179e\"], [0.4444444444444444, \"#bd3786\"], [0.5555555555555556, \"#d8576b\"], [0.6666666666666666, \"#ed7953\"], [0.7777777777777778, \"#fb9f3a\"], [0.8888888888888888, \"#fdca26\"], [1.0, \"#f0f921\"]], \"type\": \"histogram2d\"}], \"histogram2dcontour\": [{\"colorbar\": {\"outlinewidth\": 0, \"ticks\": \"\"}, \"colorscale\": [[0.0, \"#0d0887\"], [0.1111111111111111, \"#46039f\"], [0.2222222222222222, \"#7201a8\"], [0.3333333333333333, \"#9c179e\"], [0.4444444444444444, \"#bd3786\"], [0.5555555555555556, \"#d8576b\"], [0.6666666666666666, \"#ed7953\"], [0.7777777777777778, \"#fb9f3a\"], [0.8888888888888888, \"#fdca26\"], [1.0, \"#f0f921\"]], \"type\": \"histogram2dcontour\"}], \"mesh3d\": [{\"colorbar\": {\"outlinewidth\": 0, \"ticks\": \"\"}, \"type\": \"mesh3d\"}], \"parcoords\": [{\"line\": {\"colorbar\": {\"outlinewidth\": 0, \"ticks\": \"\"}}, \"type\": \"parcoords\"}], \"pie\": [{\"automargin\": true, \"type\": \"pie\"}], \"scatter\": [{\"marker\": {\"colorbar\": {\"outlinewidth\": 0, \"ticks\": \"\"}}, \"type\": \"scatter\"}], \"scatter3d\": [{\"line\": {\"colorbar\": {\"outlinewidth\": 0, \"ticks\": \"\"}}, \"marker\": {\"colorbar\": {\"outlinewidth\": 0, \"ticks\": \"\"}}, \"type\": \"scatter3d\"}], \"scattercarpet\": [{\"marker\": {\"colorbar\": {\"outlinewidth\": 0, \"ticks\": \"\"}}, \"type\": \"scattercarpet\"}], \"scattergeo\": [{\"marker\": {\"colorbar\": {\"outlinewidth\": 0, \"ticks\": \"\"}}, \"type\": \"scattergeo\"}], \"scattergl\": [{\"marker\": {\"colorbar\": {\"outlinewidth\": 0, \"ticks\": \"\"}}, \"type\": \"scattergl\"}], \"scattermapbox\": [{\"marker\": {\"colorbar\": {\"outlinewidth\": 0, \"ticks\": \"\"}}, \"type\": \"scattermapbox\"}], \"scatterpolar\": [{\"marker\": {\"colorbar\": {\"outlinewidth\": 0, \"ticks\": \"\"}}, \"type\": \"scatterpolar\"}], \"scatterpolargl\": [{\"marker\": {\"colorbar\": {\"outlinewidth\": 0, \"ticks\": \"\"}}, \"type\": \"scatterpolargl\"}], \"scatterternary\": [{\"marker\": {\"colorbar\": {\"outlinewidth\": 0, \"ticks\": \"\"}}, \"type\": \"scatterternary\"}], \"surface\": [{\"colorbar\": {\"outlinewidth\": 0, \"ticks\": \"\"}, \"colorscale\": [[0.0, \"#0d0887\"], [0.1111111111111111, \"#46039f\"], [0.2222222222222222, \"#7201a8\"], [0.3333333333333333, \"#9c179e\"], [0.4444444444444444, \"#bd3786\"], [0.5555555555555556, \"#d8576b\"], [0.6666666666666666, \"#ed7953\"], [0.7777777777777778, \"#fb9f3a\"], [0.8888888888888888, \"#fdca26\"], [1.0, \"#f0f921\"]], \"type\": \"surface\"}], \"table\": [{\"cells\": {\"fill\": {\"color\": \"#EBF0F8\"}, \"line\": {\"color\": \"white\"}}, \"header\": {\"fill\": {\"color\": \"#C8D4E3\"}, \"line\": {\"color\": \"white\"}}, \"type\": \"table\"}]}, \"layout\": {\"annotationdefaults\": {\"arrowcolor\": \"#2a3f5f\", \"arrowhead\": 0, \"arrowwidth\": 1}, \"coloraxis\": {\"colorbar\": {\"outlinewidth\": 0, \"ticks\": \"\"}}, \"colorscale\": {\"diverging\": [[0, \"#8e0152\"], [0.1, \"#c51b7d\"], [0.2, \"#de77ae\"], [0.3, \"#f1b6da\"], [0.4, \"#fde0ef\"], [0.5, \"#f7f7f7\"], [0.6, \"#e6f5d0\"], [0.7, \"#b8e186\"], [0.8, \"#7fbc41\"], [0.9, \"#4d9221\"], [1, \"#276419\"]], \"sequential\": [[0.0, \"#0d0887\"], [0.1111111111111111, \"#46039f\"], [0.2222222222222222, \"#7201a8\"], [0.3333333333333333, \"#9c179e\"], [0.4444444444444444, \"#bd3786\"], [0.5555555555555556, \"#d8576b\"], [0.6666666666666666, \"#ed7953\"], [0.7777777777777778, \"#fb9f3a\"], [0.8888888888888888, \"#fdca26\"], [1.0, \"#f0f921\"]], \"sequentialminus\": [[0.0, \"#0d0887\"], [0.1111111111111111, \"#46039f\"], [0.2222222222222222, \"#7201a8\"], [0.3333333333333333, \"#9c179e\"], [0.4444444444444444, \"#bd3786\"], [0.5555555555555556, \"#d8576b\"], [0.6666666666666666, \"#ed7953\"], [0.7777777777777778, \"#fb9f3a\"], [0.8888888888888888, \"#fdca26\"], [1.0, \"#f0f921\"]]}, \"colorway\": [\"#636efa\", \"#EF553B\", \"#00cc96\", \"#ab63fa\", \"#FFA15A\", \"#19d3f3\", \"#FF6692\", \"#B6E880\", \"#FF97FF\", \"#FECB52\"], \"font\": {\"color\": \"#2a3f5f\"}, \"geo\": {\"bgcolor\": \"white\", \"lakecolor\": \"white\", \"landcolor\": \"#E5ECF6\", \"showlakes\": true, \"showland\": true, \"subunitcolor\": \"white\"}, \"hoverlabel\": {\"align\": \"left\"}, \"hovermode\": \"closest\", \"mapbox\": {\"style\": \"light\"}, \"paper_bgcolor\": \"white\", \"plot_bgcolor\": \"#E5ECF6\", \"polar\": {\"angularaxis\": {\"gridcolor\": \"white\", \"linecolor\": \"white\", \"ticks\": \"\"}, \"bgcolor\": \"#E5ECF6\", \"radialaxis\": {\"gridcolor\": \"white\", \"linecolor\": \"white\", \"ticks\": \"\"}}, \"scene\": {\"xaxis\": {\"backgroundcolor\": \"#E5ECF6\", \"gridcolor\": \"white\", \"gridwidth\": 2, \"linecolor\": \"white\", \"showbackground\": true, \"ticks\": \"\", \"zerolinecolor\": \"white\"}, \"yaxis\": {\"backgroundcolor\": \"#E5ECF6\", \"gridcolor\": \"white\", \"gridwidth\": 2, \"linecolor\": \"white\", \"showbackground\": true, \"ticks\": \"\", \"zerolinecolor\": \"white\"}, \"zaxis\": {\"backgroundcolor\": \"#E5ECF6\", \"gridcolor\": \"white\", \"gridwidth\": 2, \"linecolor\": \"white\", \"showbackground\": true, \"ticks\": \"\", \"zerolinecolor\": \"white\"}}, \"shapedefaults\": {\"line\": {\"color\": \"#2a3f5f\"}}, \"ternary\": {\"aaxis\": {\"gridcolor\": \"white\", \"linecolor\": \"white\", \"ticks\": \"\"}, \"baxis\": {\"gridcolor\": \"white\", \"linecolor\": \"white\", \"ticks\": \"\"}, \"bgcolor\": \"#E5ECF6\", \"caxis\": {\"gridcolor\": \"white\", \"linecolor\": \"white\", \"ticks\": \"\"}}, \"title\": {\"x\": 0.05}, \"xaxis\": {\"automargin\": true, \"gridcolor\": \"white\", \"linecolor\": \"white\", \"ticks\": \"\", \"title\": {\"standoff\": 15}, \"zerolinecolor\": \"white\", \"zerolinewidth\": 2}, \"yaxis\": {\"automargin\": true, \"gridcolor\": \"white\", \"linecolor\": \"white\", \"ticks\": \"\", \"title\": {\"standoff\": 15}, \"zerolinecolor\": \"white\", \"zerolinewidth\": 2}}}, \"xaxis\": {\"anchor\": \"y\", \"domain\": [0.0, 1.0], \"title\": {\"text\": \"week\"}}, \"yaxis\": {\"anchor\": \"x\", \"domain\": [0.0, 1.0], \"title\": {\"text\": \"points\"}}},\n",
       "                        {\"responsive\": true}\n",
       "                    ).then(function(){\n",
       "                            \n",
       "var gd = document.getElementById('0d996d0a-354a-429c-9255-a93ae720b64d');\n",
       "var x = new MutationObserver(function (mutations, observer) {{\n",
       "        var display = window.getComputedStyle(gd).display;\n",
       "        if (!display || display === 'none') {{\n",
       "            console.log([gd, 'removed!']);\n",
       "            Plotly.purge(gd);\n",
       "            observer.disconnect();\n",
       "        }}\n",
       "}});\n",
       "\n",
       "// Listen for the removal of the full notebook cells\n",
       "var notebookContainer = gd.closest('#notebook-container');\n",
       "if (notebookContainer) {{\n",
       "    x.observe(notebookContainer, {childList: true});\n",
       "}}\n",
       "\n",
       "// Listen for the clearing of the current output cell\n",
       "var outputEl = gd.closest('.output');\n",
       "if (outputEl) {{\n",
       "    x.observe(outputEl, {childList: true});\n",
       "}}\n",
       "\n",
       "                        })\n",
       "                };\n",
       "                });\n",
       "            </script>\n",
       "        </div>"
      ]
     },
     "metadata": {},
     "output_type": "display_data"
    }
   ],
   "source": [
    "import plotly as py\n",
    "import plotly.express as px\n",
    "import plotly as py\n",
    "import pandas as pd\n",
    "\n",
    "df = pd.read_csv('points.csv')\n",
    "div1 = pd.read_csv('div1.csv')\n",
    "div2 = pd.read_csv('div2.csv')\n",
    "\n",
    "league = px.scatter(df, x='week', y='points',color='team', hover_data=['player_name'])\n",
    "league.show()"
   ]
  },
  {
   "cell_type": "code",
   "execution_count": 15,
   "metadata": {},
   "outputs": [
    {
     "data": {
      "application/vnd.plotly.v1+json": {
       "config": {
        "plotlyServerURL": "https://plot.ly"
       },
       "data": [
        {
         "hoverlabel": {
          "namelength": 0
         },
         "hovertemplate": "<b>%{hovertext}</b><br><br>team=Mein Gott Walter<br>player_name=Brandon Ingram<br>week=%{x}<br>points=%{y}",
         "hovertext": [
          "Brandon Ingram",
          "Brandon Ingram",
          "Brandon Ingram",
          "Brandon Ingram"
         ],
         "legendgroup": "team=Mein Gott Walter",
         "line": {
          "color": "#636efa",
          "dash": "solid"
         },
         "mode": "lines",
         "name": "team=Mein Gott Walter",
         "showlegend": true,
         "type": "scatter",
         "x": [
          1,
          2,
          3,
          4
         ],
         "xaxis": "x",
         "y": [
          76.3,
          53.2,
          68.2,
          0
         ],
         "yaxis": "y"
        },
        {
         "hoverlabel": {
          "namelength": 0
         },
         "hovertemplate": "<b>%{hovertext}</b><br><br>team=Mein Gott Walter<br>player_name=Dario Saric<br>week=%{x}<br>points=%{y}",
         "hovertext": [
          "Dario Saric",
          "Dario Saric",
          "Dario Saric",
          "Dario Saric"
         ],
         "legendgroup": "team=Mein Gott Walter",
         "line": {
          "color": "#636efa",
          "dash": "solid"
         },
         "mode": "lines",
         "name": "team=Mein Gott Walter",
         "showlegend": false,
         "type": "scatter",
         "x": [
          1,
          2,
          3,
          4
         ],
         "xaxis": "x",
         "y": [
          35.5,
          37.5,
          26.5,
          52
         ],
         "yaxis": "y"
        },
        {
         "hoverlabel": {
          "namelength": 0
         },
         "hovertemplate": "<b>%{hovertext}</b><br><br>team=Mein Gott Walter<br>player_name=Derrick Favors<br>week=%{x}<br>points=%{y}",
         "hovertext": [
          "Derrick Favors",
          "Derrick Favors"
         ],
         "legendgroup": "team=Mein Gott Walter",
         "line": {
          "color": "#636efa",
          "dash": "solid"
         },
         "mode": "lines",
         "name": "team=Mein Gott Walter",
         "showlegend": false,
         "type": "scatter",
         "x": [
          1,
          2
         ],
         "xaxis": "x",
         "y": [
          27,
          0
         ],
         "yaxis": "y"
        },
        {
         "hoverlabel": {
          "namelength": 0
         },
         "hovertemplate": "<b>%{hovertext}</b><br><br>team=Mein Gott Walter<br>player_name=Dewayne Dedmon<br>week=%{x}<br>points=%{y}",
         "hovertext": [
          "Dewayne Dedmon"
         ],
         "legendgroup": "team=Mein Gott Walter",
         "line": {
          "color": "#636efa",
          "dash": "solid"
         },
         "mode": "lines",
         "name": "team=Mein Gott Walter",
         "showlegend": false,
         "type": "scatter",
         "x": [
          1
         ],
         "xaxis": "x",
         "y": [
          18.8
         ],
         "yaxis": "y"
        },
        {
         "hoverlabel": {
          "namelength": 0
         },
         "hovertemplate": "<b>%{hovertext}</b><br><br>team=Mein Gott Walter<br>player_name=Evan Fournier<br>week=%{x}<br>points=%{y}",
         "hovertext": [
          "Evan Fournier",
          "Evan Fournier",
          "Evan Fournier",
          "Evan Fournier"
         ],
         "legendgroup": "team=Mein Gott Walter",
         "line": {
          "color": "#636efa",
          "dash": "solid"
         },
         "mode": "lines",
         "name": "team=Mein Gott Walter",
         "showlegend": false,
         "type": "scatter",
         "x": [
          1,
          2,
          3,
          4
         ],
         "xaxis": "x",
         "y": [
          43.5,
          36.4,
          39.1,
          30.5
         ],
         "yaxis": "y"
        },
        {
         "hoverlabel": {
          "namelength": 0
         },
         "hovertemplate": "<b>%{hovertext}</b><br><br>team=Mein Gott Walter<br>player_name=Ja Morant<br>week=%{x}<br>points=%{y}",
         "hovertext": [
          "Ja Morant",
          "Ja Morant",
          "Ja Morant",
          "Ja Morant"
         ],
         "legendgroup": "team=Mein Gott Walter",
         "line": {
          "color": "#636efa",
          "dash": "solid"
         },
         "mode": "lines",
         "name": "team=Mein Gott Walter",
         "showlegend": false,
         "type": "scatter",
         "x": [
          1,
          2,
          3,
          4
         ],
         "xaxis": "x",
         "y": [
          45.2,
          46.2,
          40.5,
          44.2
         ],
         "yaxis": "y"
        },
        {
         "hoverlabel": {
          "namelength": 0
         },
         "hovertemplate": "<b>%{hovertext}</b><br><br>team=Mein Gott Walter<br>player_name=Jamal Murray<br>week=%{x}<br>points=%{y}",
         "hovertext": [
          "Jamal Murray",
          "Jamal Murray",
          "Jamal Murray",
          "Jamal Murray"
         ],
         "legendgroup": "team=Mein Gott Walter",
         "line": {
          "color": "#636efa",
          "dash": "solid"
         },
         "mode": "lines",
         "name": "team=Mein Gott Walter",
         "showlegend": false,
         "type": "scatter",
         "x": [
          1,
          2,
          3,
          4
         ],
         "xaxis": "x",
         "y": [
          53.2,
          41.1,
          53,
          53.5
         ],
         "yaxis": "y"
        },
        {
         "hoverlabel": {
          "namelength": 0
         },
         "hovertemplate": "<b>%{hovertext}</b><br><br>team=Mein Gott Walter<br>player_name=Jonathan Isaac<br>week=%{x}<br>points=%{y}",
         "hovertext": [
          "Jonathan Isaac",
          "Jonathan Isaac",
          "Jonathan Isaac",
          "Jonathan Isaac"
         ],
         "legendgroup": "team=Mein Gott Walter",
         "line": {
          "color": "#636efa",
          "dash": "solid"
         },
         "mode": "lines",
         "name": "team=Mein Gott Walter",
         "showlegend": false,
         "type": "scatter",
         "x": [
          1,
          2,
          3,
          4
         ],
         "xaxis": "x",
         "y": [
          28,
          47.4,
          55.9,
          32.5
         ],
         "yaxis": "y"
        },
        {
         "hoverlabel": {
          "namelength": 0
         },
         "hovertemplate": "<b>%{hovertext}</b><br><br>team=Mein Gott Walter<br>player_name=Kevin Knox<br>week=%{x}<br>points=%{y}",
         "hovertext": [
          "Kevin Knox",
          "Kevin Knox"
         ],
         "legendgroup": "team=Mein Gott Walter",
         "line": {
          "color": "#636efa",
          "dash": "solid"
         },
         "mode": "lines",
         "name": "team=Mein Gott Walter",
         "showlegend": false,
         "type": "scatter",
         "x": [
          1,
          2
         ],
         "xaxis": "x",
         "y": [
          31.7,
          26.8
         ],
         "yaxis": "y"
        },
        {
         "hoverlabel": {
          "namelength": 0
         },
         "hovertemplate": "<b>%{hovertext}</b><br><br>team=Mein Gott Walter<br>player_name=Kyrie Irving<br>week=%{x}<br>points=%{y}",
         "hovertext": [
          "Kyrie Irving",
          "Kyrie Irving",
          "Kyrie Irving",
          "Kyrie Irving"
         ],
         "legendgroup": "team=Mein Gott Walter",
         "line": {
          "color": "#636efa",
          "dash": "solid"
         },
         "mode": "lines",
         "name": "team=Mein Gott Walter",
         "showlegend": false,
         "type": "scatter",
         "x": [
          1,
          2,
          3,
          4
         ],
         "xaxis": "x",
         "y": [
          92.5,
          73,
          70.2,
          55.5
         ],
         "yaxis": "y"
        },
        {
         "hoverlabel": {
          "namelength": 0
         },
         "hovertemplate": "<b>%{hovertext}</b><br><br>team=Mein Gott Walter<br>player_name=Luka Doncic<br>week=%{x}<br>points=%{y}",
         "hovertext": [
          "Luka Doncic",
          "Luka Doncic",
          "Luka Doncic",
          "Luka Doncic"
         ],
         "legendgroup": "team=Mein Gott Walter",
         "line": {
          "color": "#636efa",
          "dash": "solid"
         },
         "mode": "lines",
         "name": "team=Mein Gott Walter",
         "showlegend": false,
         "type": "scatter",
         "x": [
          1,
          2,
          3,
          4
         ],
         "xaxis": "x",
         "y": [
          88.5,
          87.8,
          85.2,
          84
         ],
         "yaxis": "y"
        },
        {
         "hoverlabel": {
          "namelength": 0
         },
         "hovertemplate": "<b>%{hovertext}</b><br><br>team=Mein Gott Walter<br>player_name=Thomas Bryant<br>week=%{x}<br>points=%{y}",
         "hovertext": [
          "Thomas Bryant",
          "Thomas Bryant",
          "Thomas Bryant",
          "Thomas Bryant"
         ],
         "legendgroup": "team=Mein Gott Walter",
         "line": {
          "color": "#636efa",
          "dash": "solid"
         },
         "mode": "lines",
         "name": "team=Mein Gott Walter",
         "showlegend": false,
         "type": "scatter",
         "x": [
          1,
          2,
          3,
          4
         ],
         "xaxis": "x",
         "y": [
          52,
          47.5,
          52.2,
          39.5
         ],
         "yaxis": "y"
        },
        {
         "hoverlabel": {
          "namelength": 0
         },
         "hovertemplate": "<b>%{hovertext}</b><br><br>team=Mein Gott Walter<br>player_name=Zach LaVine<br>week=%{x}<br>points=%{y}",
         "hovertext": [
          "Zach LaVine",
          "Zach LaVine",
          "Zach LaVine",
          "Zach LaVine"
         ],
         "legendgroup": "team=Mein Gott Walter",
         "line": {
          "color": "#636efa",
          "dash": "solid"
         },
         "mode": "lines",
         "name": "team=Mein Gott Walter",
         "showlegend": false,
         "type": "scatter",
         "x": [
          1,
          2,
          3,
          4
         ],
         "xaxis": "x",
         "y": [
          55.3,
          46,
          47.8,
          55.5
         ],
         "yaxis": "y"
        },
        {
         "hoverlabel": {
          "namelength": 0
         },
         "hovertemplate": "<b>%{hovertext}</b><br><br>team=Mein Gott Walter<br>player_name=Cody Zeller<br>week=%{x}<br>points=%{y}",
         "hovertext": [
          "Cody Zeller",
          "Cody Zeller",
          "Cody Zeller"
         ],
         "legendgroup": "team=Mein Gott Walter",
         "line": {
          "color": "#636efa",
          "dash": "solid"
         },
         "mode": "lines",
         "name": "team=Mein Gott Walter",
         "showlegend": false,
         "type": "scatter",
         "x": [
          2,
          3,
          4
         ],
         "xaxis": "x",
         "y": [
          43.5,
          31.1,
          47.5
         ],
         "yaxis": "y"
        },
        {
         "hoverlabel": {
          "namelength": 0
         },
         "hovertemplate": "<b>%{hovertext}</b><br><br>team=Mein Gott Walter<br>player_name=P.J. Tucker<br>week=%{x}<br>points=%{y}",
         "hovertext": [
          "P.J. Tucker",
          "P.J. Tucker"
         ],
         "legendgroup": "team=Mein Gott Walter",
         "line": {
          "color": "#636efa",
          "dash": "solid"
         },
         "mode": "lines",
         "name": "team=Mein Gott Walter",
         "showlegend": false,
         "type": "scatter",
         "x": [
          3,
          4
         ],
         "xaxis": "x",
         "y": [
          38.3,
          26.8
         ],
         "yaxis": "y"
        },
        {
         "hoverlabel": {
          "namelength": 0
         },
         "hovertemplate": "<b>%{hovertext}</b><br><br>team=Mein Gott Walter<br>player_name=Dillon Brooks<br>week=%{x}<br>points=%{y}",
         "hovertext": [
          "Dillon Brooks"
         ],
         "legendgroup": "team=Mein Gott Walter",
         "line": {
          "color": "#636efa",
          "dash": "solid"
         },
         "mode": "lines",
         "name": "team=Mein Gott Walter",
         "showlegend": false,
         "type": "scatter",
         "x": [
          4
         ],
         "xaxis": "x",
         "y": [
          48.2
         ],
         "yaxis": "y"
        },
        {
         "hoverlabel": {
          "namelength": 0
         },
         "hovertemplate": "<b>%{hovertext}</b><br><br>team=SCC<br>player_name=Bojan Bogdanovic<br>week=%{x}<br>points=%{y}",
         "hovertext": [
          "Bojan Bogdanovic",
          "Bojan Bogdanovic",
          "Bojan Bogdanovic",
          "Bojan Bogdanovic"
         ],
         "legendgroup": "team=SCC",
         "line": {
          "color": "#EF553B",
          "dash": "solid"
         },
         "mode": "lines",
         "name": "team=SCC",
         "showlegend": true,
         "type": "scatter",
         "x": [
          1,
          2,
          3,
          4
         ],
         "xaxis": "x",
         "y": [
          47.5,
          48,
          59.8,
          26.8
         ],
         "yaxis": "y"
        },
        {
         "hoverlabel": {
          "namelength": 0
         },
         "hovertemplate": "<b>%{hovertext}</b><br><br>team=SCC<br>player_name=Caris LeVert<br>week=%{x}<br>points=%{y}",
         "hovertext": [
          "Caris LeVert",
          "Caris LeVert",
          "Caris LeVert",
          "Caris LeVert"
         ],
         "legendgroup": "team=SCC",
         "line": {
          "color": "#EF553B",
          "dash": "solid"
         },
         "mode": "lines",
         "name": "team=SCC",
         "showlegend": false,
         "type": "scatter",
         "x": [
          1,
          2,
          3,
          4
         ],
         "xaxis": "x",
         "y": [
          45.5,
          38,
          37,
          0
         ],
         "yaxis": "y"
        },
        {
         "hoverlabel": {
          "namelength": 0
         },
         "hovertemplate": "<b>%{hovertext}</b><br><br>team=SCC<br>player_name=Damian Lillard<br>week=%{x}<br>points=%{y}",
         "hovertext": [
          "Damian Lillard",
          "Damian Lillard",
          "Damian Lillard",
          "Damian Lillard"
         ],
         "legendgroup": "team=SCC",
         "line": {
          "color": "#EF553B",
          "dash": "solid"
         },
         "mode": "lines",
         "name": "team=SCC",
         "showlegend": false,
         "type": "scatter",
         "x": [
          1,
          2,
          3,
          4
         ],
         "xaxis": "x",
         "y": [
          73.5,
          85.8,
          86.8,
          51.2
         ],
         "yaxis": "y"
        },
        {
         "hoverlabel": {
          "namelength": 0
         },
         "hovertemplate": "<b>%{hovertext}</b><br><br>team=SCC<br>player_name=Enes Kanter<br>week=%{x}<br>points=%{y}",
         "hovertext": [
          "Enes Kanter",
          "Enes Kanter",
          "Enes Kanter",
          "Enes Kanter"
         ],
         "legendgroup": "team=SCC",
         "line": {
          "color": "#EF553B",
          "dash": "solid"
         },
         "mode": "lines",
         "name": "team=SCC",
         "showlegend": false,
         "type": "scatter",
         "x": [
          1,
          2,
          3,
          4
         ],
         "xaxis": "x",
         "y": [
          31,
          0,
          0,
          25
         ],
         "yaxis": "y"
        },
        {
         "hoverlabel": {
          "namelength": 0
         },
         "hovertemplate": "<b>%{hovertext}</b><br><br>team=SCC<br>player_name=Goran Dragic<br>week=%{x}<br>points=%{y}",
         "hovertext": [
          "Goran Dragic",
          "Goran Dragic",
          "Goran Dragic",
          "Goran Dragic"
         ],
         "legendgroup": "team=SCC",
         "line": {
          "color": "#EF553B",
          "dash": "solid"
         },
         "mode": "lines",
         "name": "team=SCC",
         "showlegend": false,
         "type": "scatter",
         "x": [
          1,
          2,
          3,
          4
         ],
         "xaxis": "x",
         "y": [
          48.5,
          34,
          50.7,
          48.5
         ],
         "yaxis": "y"
        },
        {
         "hoverlabel": {
          "namelength": 0
         },
         "hovertemplate": "<b>%{hovertext}</b><br><br>team=SCC<br>player_name=Jarrett Allen<br>week=%{x}<br>points=%{y}",
         "hovertext": [
          "Jarrett Allen",
          "Jarrett Allen"
         ],
         "legendgroup": "team=SCC",
         "line": {
          "color": "#EF553B",
          "dash": "solid"
         },
         "mode": "lines",
         "name": "team=SCC",
         "showlegend": false,
         "type": "scatter",
         "x": [
          1,
          2
         ],
         "xaxis": "x",
         "y": [
          39.2,
          28.2
         ],
         "yaxis": "y"
        },
        {
         "hoverlabel": {
          "namelength": 0
         },
         "hovertemplate": "<b>%{hovertext}</b><br><br>team=SCC<br>player_name=Jayson Tatum<br>week=%{x}<br>points=%{y}",
         "hovertext": [
          "Jayson Tatum",
          "Jayson Tatum",
          "Jayson Tatum",
          "Jayson Tatum"
         ],
         "legendgroup": "team=SCC",
         "line": {
          "color": "#EF553B",
          "dash": "solid"
         },
         "mode": "lines",
         "name": "team=SCC",
         "showlegend": false,
         "type": "scatter",
         "x": [
          1,
          2,
          3,
          4
         ],
         "xaxis": "x",
         "y": [
          62.8,
          58.5,
          56.2,
          35
         ],
         "yaxis": "y"
        },
        {
         "hoverlabel": {
          "namelength": 0
         },
         "hovertemplate": "<b>%{hovertext}</b><br><br>team=SCC<br>player_name=Jimmy Butler<br>week=%{x}<br>points=%{y}",
         "hovertext": [
          "Jimmy Butler",
          "Jimmy Butler",
          "Jimmy Butler",
          "Jimmy Butler"
         ],
         "legendgroup": "team=SCC",
         "line": {
          "color": "#EF553B",
          "dash": "solid"
         },
         "mode": "lines",
         "name": "team=SCC",
         "showlegend": false,
         "type": "scatter",
         "x": [
          1,
          2,
          3,
          4
         ],
         "xaxis": "x",
         "y": [
          0,
          60.8,
          56.5,
          69.5
         ],
         "yaxis": "y"
        },
        {
         "hoverlabel": {
          "namelength": 0
         },
         "hovertemplate": "<b>%{hovertext}</b><br><br>team=SCC<br>player_name=Kristaps Porzingis<br>week=%{x}<br>points=%{y}",
         "hovertext": [
          "Kristaps Porzingis",
          "Kristaps Porzingis",
          "Kristaps Porzingis",
          "Kristaps Porzingis"
         ],
         "legendgroup": "team=SCC",
         "line": {
          "color": "#EF553B",
          "dash": "solid"
         },
         "mode": "lines",
         "name": "team=SCC",
         "showlegend": false,
         "type": "scatter",
         "x": [
          1,
          2,
          3,
          4
         ],
         "xaxis": "x",
         "y": [
          66.3,
          50.7,
          52,
          15
         ],
         "yaxis": "y"
        },
        {
         "hoverlabel": {
          "namelength": 0
         },
         "hovertemplate": "<b>%{hovertext}</b><br><br>team=SCC<br>player_name=Marcus Morris<br>week=%{x}<br>points=%{y}",
         "hovertext": [
          "Marcus Morris",
          "Marcus Morris"
         ],
         "legendgroup": "team=SCC",
         "line": {
          "color": "#EF553B",
          "dash": "solid"
         },
         "mode": "lines",
         "name": "team=SCC",
         "showlegend": false,
         "type": "scatter",
         "x": [
          1,
          2
         ],
         "xaxis": "x",
         "y": [
          38.5,
          51.2
         ],
         "yaxis": "y"
        },
        {
         "hoverlabel": {
          "namelength": 0
         },
         "hovertemplate": "<b>%{hovertext}</b><br><br>team=SCC<br>player_name=Reggie Jackson<br>week=%{x}<br>points=%{y}",
         "hovertext": [
          "Reggie Jackson"
         ],
         "legendgroup": "team=SCC",
         "line": {
          "color": "#EF553B",
          "dash": "solid"
         },
         "mode": "lines",
         "name": "team=SCC",
         "showlegend": false,
         "type": "scatter",
         "x": [
          1
         ],
         "xaxis": "x",
         "y": [
          19.2
         ],
         "yaxis": "y"
        },
        {
         "hoverlabel": {
          "namelength": 0
         },
         "hovertemplate": "<b>%{hovertext}</b><br><br>team=SCC<br>player_name=Rui Hachimura<br>week=%{x}<br>points=%{y}",
         "hovertext": [
          "Rui Hachimura",
          "Rui Hachimura",
          "Rui Hachimura",
          "Rui Hachimura"
         ],
         "legendgroup": "team=SCC",
         "line": {
          "color": "#EF553B",
          "dash": "solid"
         },
         "mode": "lines",
         "name": "team=SCC",
         "showlegend": false,
         "type": "scatter",
         "x": [
          1,
          2,
          3,
          4
         ],
         "xaxis": "x",
         "y": [
          43.3,
          27.5,
          34.3,
          48.5
         ],
         "yaxis": "y"
        },
        {
         "hoverlabel": {
          "namelength": 0
         },
         "hovertemplate": "<b>%{hovertext}</b><br><br>team=SCC<br>player_name=Willie Cauley-Stein<br>week=%{x}<br>points=%{y}",
         "hovertext": [
          "Willie Cauley-Stein",
          "Willie Cauley-Stein",
          "Willie Cauley-Stein"
         ],
         "legendgroup": "team=SCC",
         "line": {
          "color": "#EF553B",
          "dash": "solid"
         },
         "mode": "lines",
         "name": "team=SCC",
         "showlegend": false,
         "type": "scatter",
         "x": [
          1,
          2,
          3
         ],
         "xaxis": "x",
         "y": [
          0,
          29.2,
          25.5
         ],
         "yaxis": "y"
        },
        {
         "hoverlabel": {
          "namelength": 0
         },
         "hovertemplate": "<b>%{hovertext}</b><br><br>team=SCC<br>player_name=Bryn Forbes<br>week=%{x}<br>points=%{y}",
         "hovertext": [
          "Bryn Forbes",
          "Bryn Forbes"
         ],
         "legendgroup": "team=SCC",
         "line": {
          "color": "#EF553B",
          "dash": "solid"
         },
         "mode": "lines",
         "name": "team=SCC",
         "showlegend": false,
         "type": "scatter",
         "x": [
          2,
          3
         ],
         "xaxis": "x",
         "y": [
          30.9,
          35
         ],
         "yaxis": "y"
        },
        {
         "hoverlabel": {
          "namelength": 0
         },
         "hovertemplate": "<b>%{hovertext}</b><br><br>team=SCC<br>player_name=Davis Bertans<br>week=%{x}<br>points=%{y}",
         "hovertext": [
          "Davis Bertans"
         ],
         "legendgroup": "team=SCC",
         "line": {
          "color": "#EF553B",
          "dash": "solid"
         },
         "mode": "lines",
         "name": "team=SCC",
         "showlegend": false,
         "type": "scatter",
         "x": [
          3
         ],
         "xaxis": "x",
         "y": [
          26.3
         ],
         "yaxis": "y"
        },
        {
         "hoverlabel": {
          "namelength": 0
         },
         "hovertemplate": "<b>%{hovertext}</b><br><br>team=SCC<br>player_name=DeAndre Jordan<br>week=%{x}<br>points=%{y}",
         "hovertext": [
          "DeAndre Jordan"
         ],
         "legendgroup": "team=SCC",
         "line": {
          "color": "#EF553B",
          "dash": "solid"
         },
         "mode": "lines",
         "name": "team=SCC",
         "showlegend": false,
         "type": "scatter",
         "x": [
          3
         ],
         "xaxis": "x",
         "y": [
          40.5
         ],
         "yaxis": "y"
        },
        {
         "hoverlabel": {
          "namelength": 0
         },
         "hovertemplate": "<b>%{hovertext}</b><br><br>team=SCC<br>player_name=Brandon Clarke<br>week=%{x}<br>points=%{y}",
         "hovertext": [
          "Brandon Clarke"
         ],
         "legendgroup": "team=SCC",
         "line": {
          "color": "#EF553B",
          "dash": "solid"
         },
         "mode": "lines",
         "name": "team=SCC",
         "showlegend": false,
         "type": "scatter",
         "x": [
          4
         ],
         "xaxis": "x",
         "y": [
          36.5
         ],
         "yaxis": "y"
        },
        {
         "hoverlabel": {
          "namelength": 0
         },
         "hovertemplate": "<b>%{hovertext}</b><br><br>team=SCC<br>player_name=Danuel House<br>week=%{x}<br>points=%{y}",
         "hovertext": [
          "Danuel House"
         ],
         "legendgroup": "team=SCC",
         "line": {
          "color": "#EF553B",
          "dash": "solid"
         },
         "mode": "lines",
         "name": "team=SCC",
         "showlegend": false,
         "type": "scatter",
         "x": [
          4
         ],
         "xaxis": "x",
         "y": [
          6.5
         ],
         "yaxis": "y"
        },
        {
         "hoverlabel": {
          "namelength": 0
         },
         "hovertemplate": "<b>%{hovertext}</b><br><br>team=SCC<br>player_name=Eric Paschall<br>week=%{x}<br>points=%{y}",
         "hovertext": [
          "Eric Paschall"
         ],
         "legendgroup": "team=SCC",
         "line": {
          "color": "#EF553B",
          "dash": "solid"
         },
         "mode": "lines",
         "name": "team=SCC",
         "showlegend": false,
         "type": "scatter",
         "x": [
          4
         ],
         "xaxis": "x",
         "y": [
          25.2
         ],
         "yaxis": "y"
        },
        {
         "hoverlabel": {
          "namelength": 0
         },
         "hovertemplate": "<b>%{hovertext}</b><br><br>team=SCC<br>player_name=P.J. Washington<br>week=%{x}<br>points=%{y}",
         "hovertext": [
          "P.J. Washington"
         ],
         "legendgroup": "team=SCC",
         "line": {
          "color": "#EF553B",
          "dash": "solid"
         },
         "mode": "lines",
         "name": "team=SCC",
         "showlegend": false,
         "type": "scatter",
         "x": [
          4
         ],
         "xaxis": "x",
         "y": [
          21
         ],
         "yaxis": "y"
        },
        {
         "hoverlabel": {
          "namelength": 0
         },
         "hovertemplate": "<b>%{hovertext}</b><br><br>team=bratkartoffeln beste<br>player_name=Bogdan Bogdanovic<br>week=%{x}<br>points=%{y}",
         "hovertext": [
          "Bogdan Bogdanovic",
          "Bogdan Bogdanovic",
          "Bogdan Bogdanovic",
          "Bogdan Bogdanovic"
         ],
         "legendgroup": "team=bratkartoffeln beste",
         "line": {
          "color": "#00cc96",
          "dash": "solid"
         },
         "mode": "lines",
         "name": "team=bratkartoffeln beste",
         "showlegend": true,
         "type": "scatter",
         "x": [
          1,
          2,
          3,
          4
         ],
         "xaxis": "x",
         "y": [
          24.8,
          29.2,
          60.8,
          80
         ],
         "yaxis": "y"
        },
        {
         "hoverlabel": {
          "namelength": 0
         },
         "hovertemplate": "<b>%{hovertext}</b><br><br>team=bratkartoffeln beste<br>player_name=Cedi Osman<br>week=%{x}<br>points=%{y}",
         "hovertext": [
          "Cedi Osman",
          "Cedi Osman",
          "Cedi Osman",
          "Cedi Osman"
         ],
         "legendgroup": "team=bratkartoffeln beste",
         "line": {
          "color": "#00cc96",
          "dash": "solid"
         },
         "mode": "lines",
         "name": "team=bratkartoffeln beste",
         "showlegend": false,
         "type": "scatter",
         "x": [
          1,
          2,
          3,
          4
         ],
         "xaxis": "x",
         "y": [
          19.2,
          33.5,
          32.5,
          10.5
         ],
         "yaxis": "y"
        },
        {
         "hoverlabel": {
          "namelength": 0
         },
         "hovertemplate": "<b>%{hovertext}</b><br><br>team=bratkartoffeln beste<br>player_name=Coby White<br>week=%{x}<br>points=%{y}",
         "hovertext": [
          "Coby White",
          "Coby White",
          "Coby White",
          "Coby White"
         ],
         "legendgroup": "team=bratkartoffeln beste",
         "line": {
          "color": "#00cc96",
          "dash": "solid"
         },
         "mode": "lines",
         "name": "team=bratkartoffeln beste",
         "showlegend": false,
         "type": "scatter",
         "x": [
          1,
          2,
          3,
          4
         ],
         "xaxis": "x",
         "y": [
          42.2,
          14.8,
          27.7,
          67
         ],
         "yaxis": "y"
        },
        {
         "hoverlabel": {
          "namelength": 0
         },
         "hovertemplate": "<b>%{hovertext}</b><br><br>team=bratkartoffeln beste<br>player_name=De'Aaron Fox<br>week=%{x}<br>points=%{y}",
         "hovertext": [
          "De'Aaron Fox",
          "De'Aaron Fox",
          "De'Aaron Fox",
          "De'Aaron Fox"
         ],
         "legendgroup": "team=bratkartoffeln beste",
         "line": {
          "color": "#00cc96",
          "dash": "solid"
         },
         "mode": "lines",
         "name": "team=bratkartoffeln beste",
         "showlegend": false,
         "type": "scatter",
         "x": [
          1,
          2,
          3,
          4
         ],
         "xaxis": "x",
         "y": [
          33.2,
          55.1,
          53,
          0
         ],
         "yaxis": "y"
        },
        {
         "hoverlabel": {
          "namelength": 0
         },
         "hovertemplate": "<b>%{hovertext}</b><br><br>team=bratkartoffeln beste<br>player_name=Dennis Schroder<br>week=%{x}<br>points=%{y}",
         "hovertext": [
          "Dennis Schroder",
          "Dennis Schroder",
          "Dennis Schroder",
          "Dennis Schroder"
         ],
         "legendgroup": "team=bratkartoffeln beste",
         "line": {
          "color": "#00cc96",
          "dash": "solid"
         },
         "mode": "lines",
         "name": "team=bratkartoffeln beste",
         "showlegend": false,
         "type": "scatter",
         "x": [
          1,
          2,
          3,
          4
         ],
         "xaxis": "x",
         "y": [
          37.5,
          47.3,
          40.6,
          21
         ],
         "yaxis": "y"
        },
        {
         "hoverlabel": {
          "namelength": 0
         },
         "hovertemplate": "<b>%{hovertext}</b><br><br>team=bratkartoffeln beste<br>player_name=Domantas Sabonis<br>week=%{x}<br>points=%{y}",
         "hovertext": [
          "Domantas Sabonis",
          "Domantas Sabonis",
          "Domantas Sabonis",
          "Domantas Sabonis"
         ],
         "legendgroup": "team=bratkartoffeln beste",
         "line": {
          "color": "#00cc96",
          "dash": "solid"
         },
         "mode": "lines",
         "name": "team=bratkartoffeln beste",
         "showlegend": false,
         "type": "scatter",
         "x": [
          1,
          2,
          3,
          4
         ],
         "xaxis": "x",
         "y": [
          51.2,
          68.5,
          70.3,
          63
         ],
         "yaxis": "y"
        },
        {
         "hoverlabel": {
          "namelength": 0
         },
         "hovertemplate": "<b>%{hovertext}</b><br><br>team=bratkartoffeln beste<br>player_name=James Harden<br>week=%{x}<br>points=%{y}",
         "hovertext": [
          "James Harden",
          "James Harden",
          "James Harden",
          "James Harden"
         ],
         "legendgroup": "team=bratkartoffeln beste",
         "line": {
          "color": "#00cc96",
          "dash": "solid"
         },
         "mode": "lines",
         "name": "team=bratkartoffeln beste",
         "showlegend": false,
         "type": "scatter",
         "x": [
          1,
          2,
          3,
          4
         ],
         "xaxis": "x",
         "y": [
          57.5,
          83.6,
          114.5,
          99
         ],
         "yaxis": "y"
        },
        {
         "hoverlabel": {
          "namelength": 0
         },
         "hovertemplate": "<b>%{hovertext}</b><br><br>team=bratkartoffeln beste<br>player_name=Jaren Jackson<br>week=%{x}<br>points=%{y}",
         "hovertext": [
          "Jaren Jackson",
          "Jaren Jackson",
          "Jaren Jackson",
          "Jaren Jackson"
         ],
         "legendgroup": "team=bratkartoffeln beste",
         "line": {
          "color": "#00cc96",
          "dash": "solid"
         },
         "mode": "lines",
         "name": "team=bratkartoffeln beste",
         "showlegend": false,
         "type": "scatter",
         "x": [
          1,
          2,
          3,
          4
         ],
         "xaxis": "x",
         "y": [
          46,
          21,
          26.7,
          60.5
         ],
         "yaxis": "y"
        },
        {
         "hoverlabel": {
          "namelength": 0
         },
         "hovertemplate": "<b>%{hovertext}</b><br><br>team=bratkartoffeln beste<br>player_name=Kyle Kuzma<br>week=%{x}<br>points=%{y}",
         "hovertext": [
          "Kyle Kuzma",
          "Kyle Kuzma",
          "Kyle Kuzma",
          "Kyle Kuzma"
         ],
         "legendgroup": "team=bratkartoffeln beste",
         "line": {
          "color": "#00cc96",
          "dash": "solid"
         },
         "mode": "lines",
         "name": "team=bratkartoffeln beste",
         "showlegend": false,
         "type": "scatter",
         "x": [
          1,
          2,
          3,
          4
         ],
         "xaxis": "x",
         "y": [
          0,
          15.2,
          26.8,
          49
         ],
         "yaxis": "y"
        },
        {
         "hoverlabel": {
          "namelength": 0
         },
         "hovertemplate": "<b>%{hovertext}</b><br><br>team=bratkartoffeln beste<br>player_name=Lauri Markkanen<br>week=%{x}<br>points=%{y}",
         "hovertext": [
          "Lauri Markkanen",
          "Lauri Markkanen",
          "Lauri Markkanen",
          "Lauri Markkanen"
         ],
         "legendgroup": "team=bratkartoffeln beste",
         "line": {
          "color": "#00cc96",
          "dash": "solid"
         },
         "mode": "lines",
         "name": "team=bratkartoffeln beste",
         "showlegend": false,
         "type": "scatter",
         "x": [
          1,
          2,
          3,
          4
         ],
         "xaxis": "x",
         "y": [
          51.2,
          41.4,
          36,
          34.5
         ],
         "yaxis": "y"
        },
        {
         "hoverlabel": {
          "namelength": 0
         },
         "hovertemplate": "<b>%{hovertext}</b><br><br>team=bratkartoffeln beste<br>player_name=OG Anunoby<br>week=%{x}<br>points=%{y}",
         "hovertext": [
          "OG Anunoby",
          "OG Anunoby",
          "OG Anunoby",
          "OG Anunoby"
         ],
         "legendgroup": "team=bratkartoffeln beste",
         "line": {
          "color": "#00cc96",
          "dash": "solid"
         },
         "mode": "lines",
         "name": "team=bratkartoffeln beste",
         "showlegend": false,
         "type": "scatter",
         "x": [
          1,
          2,
          3,
          4
         ],
         "xaxis": "x",
         "y": [
          42,
          45,
          50,
          0.5
         ],
         "yaxis": "y"
        },
        {
         "hoverlabel": {
          "namelength": 0
         },
         "hovertemplate": "<b>%{hovertext}</b><br><br>team=bratkartoffeln beste<br>player_name=Rudy Gobert<br>week=%{x}<br>points=%{y}",
         "hovertext": [
          "Rudy Gobert",
          "Rudy Gobert",
          "Rudy Gobert",
          "Rudy Gobert"
         ],
         "legendgroup": "team=bratkartoffeln beste",
         "line": {
          "color": "#00cc96",
          "dash": "solid"
         },
         "mode": "lines",
         "name": "team=bratkartoffeln beste",
         "showlegend": false,
         "type": "scatter",
         "x": [
          1,
          2,
          3,
          4
         ],
         "xaxis": "x",
         "y": [
          27.5,
          51.1,
          52.2,
          74.5
         ],
         "yaxis": "y"
        },
        {
         "hoverlabel": {
          "namelength": 0
         },
         "hovertemplate": "<b>%{hovertext}</b><br><br>team=bratkartoffeln beste<br>player_name=Tobias Harris<br>week=%{x}<br>points=%{y}",
         "hovertext": [
          "Tobias Harris",
          "Tobias Harris",
          "Tobias Harris",
          "Tobias Harris"
         ],
         "legendgroup": "team=bratkartoffeln beste",
         "line": {
          "color": "#00cc96",
          "dash": "solid"
         },
         "mode": "lines",
         "name": "team=bratkartoffeln beste",
         "showlegend": false,
         "type": "scatter",
         "x": [
          1,
          2,
          3,
          4
         ],
         "xaxis": "x",
         "y": [
          66.5,
          49,
          51,
          32.2
         ],
         "yaxis": "y"
        },
        {
         "hoverlabel": {
          "namelength": 0
         },
         "hovertemplate": "<b>%{hovertext}</b><br><br>team=Knights of sweet love<br>player_name=Jarrett Allen<br>week=%{x}<br>points=%{y}",
         "hovertext": [
          "Jarrett Allen"
         ],
         "legendgroup": "team=Knights of sweet love",
         "line": {
          "color": "#ab63fa",
          "dash": "solid"
         },
         "mode": "lines",
         "name": "team=Knights of sweet love",
         "showlegend": true,
         "type": "scatter",
         "x": [
          4
         ],
         "xaxis": "x",
         "y": [
          22.5
         ],
         "yaxis": "y"
        },
        {
         "hoverlabel": {
          "namelength": 0
         },
         "hovertemplate": "<b>%{hovertext}</b><br><br>team=Knights of sweet love<br>player_name=Bam Adebayo<br>week=%{x}<br>points=%{y}",
         "hovertext": [
          "Bam Adebayo",
          "Bam Adebayo",
          "Bam Adebayo",
          "Bam Adebayo"
         ],
         "legendgroup": "team=Knights of sweet love",
         "line": {
          "color": "#ab63fa",
          "dash": "solid"
         },
         "mode": "lines",
         "name": "team=Knights of sweet love",
         "showlegend": false,
         "type": "scatter",
         "x": [
          1,
          2,
          3,
          4
         ],
         "xaxis": "x",
         "y": [
          55.2,
          50,
          49.7,
          56.5
         ],
         "yaxis": "y"
        },
        {
         "hoverlabel": {
          "namelength": 0
         },
         "hovertemplate": "<b>%{hovertext}</b><br><br>team=Knights of sweet love<br>player_name=Darius Garland<br>week=%{x}<br>points=%{y}",
         "hovertext": [
          "Darius Garland",
          "Darius Garland"
         ],
         "legendgroup": "team=Knights of sweet love",
         "line": {
          "color": "#ab63fa",
          "dash": "solid"
         },
         "mode": "lines",
         "name": "team=Knights of sweet love",
         "showlegend": false,
         "type": "scatter",
         "x": [
          1,
          2
         ],
         "xaxis": "x",
         "y": [
          28.2,
          16.8
         ],
         "yaxis": "y"
        },
        {
         "hoverlabel": {
          "namelength": 0
         },
         "hovertemplate": "<b>%{hovertext}</b><br><br>team=Knights of sweet love<br>player_name=Dwight Howard<br>week=%{x}<br>points=%{y}",
         "hovertext": [
          "Dwight Howard",
          "Dwight Howard"
         ],
         "legendgroup": "team=Knights of sweet love",
         "line": {
          "color": "#ab63fa",
          "dash": "solid"
         },
         "mode": "lines",
         "name": "team=Knights of sweet love",
         "showlegend": false,
         "type": "scatter",
         "x": [
          1,
          2
         ],
         "xaxis": "x",
         "y": [
          35.7,
          38
         ],
         "yaxis": "y"
        },
        {
         "hoverlabel": {
          "namelength": 0
         },
         "hovertemplate": "<b>%{hovertext}</b><br><br>team=Knights of sweet love<br>player_name=Gary Harris<br>week=%{x}<br>points=%{y}",
         "hovertext": [
          "Gary Harris",
          "Gary Harris",
          "Gary Harris",
          "Gary Harris"
         ],
         "legendgroup": "team=Knights of sweet love",
         "line": {
          "color": "#ab63fa",
          "dash": "solid"
         },
         "mode": "lines",
         "name": "team=Knights of sweet love",
         "showlegend": false,
         "type": "scatter",
         "x": [
          1,
          2,
          3,
          4
         ],
         "xaxis": "x",
         "y": [
          22.5,
          38.6,
          24.2,
          36.5
         ],
         "yaxis": "y"
        },
        {
         "hoverlabel": {
          "namelength": 0
         },
         "hovertemplate": "<b>%{hovertext}</b><br><br>team=Knights of sweet love<br>player_name=Jeff Teague<br>week=%{x}<br>points=%{y}",
         "hovertext": [
          "Jeff Teague",
          "Jeff Teague",
          "Jeff Teague",
          "Jeff Teague"
         ],
         "legendgroup": "team=Knights of sweet love",
         "line": {
          "color": "#ab63fa",
          "dash": "solid"
         },
         "mode": "lines",
         "name": "team=Knights of sweet love",
         "showlegend": false,
         "type": "scatter",
         "x": [
          1,
          2,
          3,
          4
         ],
         "xaxis": "x",
         "y": [
          36.2,
          50.5,
          26.5,
          50
         ],
         "yaxis": "y"
        },
        {
         "hoverlabel": {
          "namelength": 0
         },
         "hovertemplate": "<b>%{hovertext}</b><br><br>team=Knights of sweet love<br>player_name=John Collins<br>week=%{x}<br>points=%{y}",
         "hovertext": [
          "John Collins",
          "John Collins",
          "John Collins",
          "John Collins"
         ],
         "legendgroup": "team=Knights of sweet love",
         "line": {
          "color": "#ab63fa",
          "dash": "solid"
         },
         "mode": "lines",
         "name": "team=Knights of sweet love",
         "showlegend": false,
         "type": "scatter",
         "x": [
          1,
          2,
          3,
          4
         ],
         "xaxis": "x",
         "y": [
          52.2,
          57,
          0,
          0
         ],
         "yaxis": "y"
        },
        {
         "hoverlabel": {
          "namelength": 0
         },
         "hovertemplate": "<b>%{hovertext}</b><br><br>team=Knights of sweet love<br>player_name=Jonas Valanciunas<br>week=%{x}<br>points=%{y}",
         "hovertext": [
          "Jonas Valanciunas",
          "Jonas Valanciunas",
          "Jonas Valanciunas",
          "Jonas Valanciunas"
         ],
         "legendgroup": "team=Knights of sweet love",
         "line": {
          "color": "#ab63fa",
          "dash": "solid"
         },
         "mode": "lines",
         "name": "team=Knights of sweet love",
         "showlegend": false,
         "type": "scatter",
         "x": [
          1,
          2,
          3,
          4
         ],
         "xaxis": "x",
         "y": [
          40.7,
          40,
          37,
          58.5
         ],
         "yaxis": "y"
        },
        {
         "hoverlabel": {
          "namelength": 0
         },
         "hovertemplate": "<b>%{hovertext}</b><br><br>team=Knights of sweet love<br>player_name=Karl-Anthony Towns<br>week=%{x}<br>points=%{y}",
         "hovertext": [
          "Karl-Anthony Towns",
          "Karl-Anthony Towns",
          "Karl-Anthony Towns",
          "Karl-Anthony Towns"
         ],
         "legendgroup": "team=Knights of sweet love",
         "line": {
          "color": "#ab63fa",
          "dash": "solid"
         },
         "mode": "lines",
         "name": "team=Knights of sweet love",
         "showlegend": false,
         "type": "scatter",
         "x": [
          1,
          2,
          3,
          4
         ],
         "xaxis": "x",
         "y": [
          106,
          44.5,
          76.3,
          80.2
         ],
         "yaxis": "y"
        },
        {
         "hoverlabel": {
          "namelength": 0
         },
         "hovertemplate": "<b>%{hovertext}</b><br><br>team=Knights of sweet love<br>player_name=Ricky Rubio<br>week=%{x}<br>points=%{y}",
         "hovertext": [
          "Ricky Rubio",
          "Ricky Rubio",
          "Ricky Rubio",
          "Ricky Rubio"
         ],
         "legendgroup": "team=Knights of sweet love",
         "line": {
          "color": "#ab63fa",
          "dash": "solid"
         },
         "mode": "lines",
         "name": "team=Knights of sweet love",
         "showlegend": false,
         "type": "scatter",
         "x": [
          1,
          2,
          3,
          4
         ],
         "xaxis": "x",
         "y": [
          49.8,
          45.2,
          67.5,
          68
         ],
         "yaxis": "y"
        },
        {
         "hoverlabel": {
          "namelength": 0
         },
         "hovertemplate": "<b>%{hovertext}</b><br><br>team=Knights of sweet love<br>player_name=Shai Gilgeous-Alexander<br>week=%{x}<br>points=%{y}",
         "hovertext": [
          "Shai Gilgeous-Alexander",
          "Shai Gilgeous-Alexander",
          "Shai Gilgeous-Alexander",
          "Shai Gilgeous-Alexander"
         ],
         "legendgroup": "team=Knights of sweet love",
         "line": {
          "color": "#ab63fa",
          "dash": "solid"
         },
         "mode": "lines",
         "name": "team=Knights of sweet love",
         "showlegend": false,
         "type": "scatter",
         "x": [
          1,
          2,
          3,
          4
         ],
         "xaxis": "x",
         "y": [
          60.7,
          51.3,
          46.8,
          25
         ],
         "yaxis": "y"
        },
        {
         "hoverlabel": {
          "namelength": 0
         },
         "hovertemplate": "<b>%{hovertext}</b><br><br>team=Knights of sweet love<br>player_name=Terry Rozier<br>week=%{x}<br>points=%{y}",
         "hovertext": [
          "Terry Rozier",
          "Terry Rozier",
          "Terry Rozier",
          "Terry Rozier"
         ],
         "legendgroup": "team=Knights of sweet love",
         "line": {
          "color": "#ab63fa",
          "dash": "solid"
         },
         "mode": "lines",
         "name": "team=Knights of sweet love",
         "showlegend": false,
         "type": "scatter",
         "x": [
          1,
          2,
          3,
          4
         ],
         "xaxis": "x",
         "y": [
          40.7,
          51,
          34.5,
          88
         ],
         "yaxis": "y"
        },
        {
         "hoverlabel": {
          "namelength": 0
         },
         "hovertemplate": "<b>%{hovertext}</b><br><br>team=Knights of sweet love<br>player_name=Trae Young<br>week=%{x}<br>points=%{y}",
         "hovertext": [
          "Trae Young",
          "Trae Young",
          "Trae Young",
          "Trae Young"
         ],
         "legendgroup": "team=Knights of sweet love",
         "line": {
          "color": "#ab63fa",
          "dash": "solid"
         },
         "mode": "lines",
         "name": "team=Knights of sweet love",
         "showlegend": false,
         "type": "scatter",
         "x": [
          1,
          2,
          3,
          4
         ],
         "xaxis": "x",
         "y": [
          97.2,
          35,
          71.8,
          111
         ],
         "yaxis": "y"
        },
        {
         "hoverlabel": {
          "namelength": 0
         },
         "hovertemplate": "<b>%{hovertext}</b><br><br>team=Knights of sweet love<br>player_name=Trevor Ariza<br>week=%{x}<br>points=%{y}",
         "hovertext": [
          "Trevor Ariza"
         ],
         "legendgroup": "team=Knights of sweet love",
         "line": {
          "color": "#ab63fa",
          "dash": "solid"
         },
         "mode": "lines",
         "name": "team=Knights of sweet love",
         "showlegend": false,
         "type": "scatter",
         "x": [
          1
         ],
         "xaxis": "x",
         "y": [
          10.3
         ],
         "yaxis": "y"
        },
        {
         "hoverlabel": {
          "namelength": 0
         },
         "hovertemplate": "<b>%{hovertext}</b><br><br>team=Knights of sweet love<br>player_name=Josh Hart<br>week=%{x}<br>points=%{y}",
         "hovertext": [
          "Josh Hart",
          "Josh Hart"
         ],
         "legendgroup": "team=Knights of sweet love",
         "line": {
          "color": "#ab63fa",
          "dash": "solid"
         },
         "mode": "lines",
         "name": "team=Knights of sweet love",
         "showlegend": false,
         "type": "scatter",
         "x": [
          2,
          3
         ],
         "xaxis": "x",
         "y": [
          37,
          30.3
         ],
         "yaxis": "y"
        },
        {
         "hoverlabel": {
          "namelength": 0
         },
         "hovertemplate": "<b>%{hovertext}</b><br><br>team=Knights of sweet love<br>player_name=Isaiah Thomas<br>week=%{x}<br>points=%{y}",
         "hovertext": [
          "Isaiah Thomas",
          "Isaiah Thomas"
         ],
         "legendgroup": "team=Knights of sweet love",
         "line": {
          "color": "#ab63fa",
          "dash": "solid"
         },
         "mode": "lines",
         "name": "team=Knights of sweet love",
         "showlegend": false,
         "type": "scatter",
         "x": [
          3,
          4
         ],
         "xaxis": "x",
         "y": [
          28.2,
          47
         ],
         "yaxis": "y"
        },
        {
         "hoverlabel": {
          "namelength": 0
         },
         "hovertemplate": "<b>%{hovertext}</b><br><br>team=Knights of sweet love<br>player_name=Otto Porter<br>week=%{x}<br>points=%{y}",
         "hovertext": [
          "Otto Porter",
          "Otto Porter"
         ],
         "legendgroup": "team=Knights of sweet love",
         "line": {
          "color": "#ab63fa",
          "dash": "solid"
         },
         "mode": "lines",
         "name": "team=Knights of sweet love",
         "showlegend": false,
         "type": "scatter",
         "x": [
          3,
          4
         ],
         "xaxis": "x",
         "y": [
          44.5,
          0
         ],
         "yaxis": "y"
        },
        {
         "hoverlabel": {
          "namelength": 0
         },
         "hovertemplate": "<b>%{hovertext}</b><br><br>team=skinny bitches<br>player_name=DeAndre Jordan<br>week=%{x}<br>points=%{y}",
         "hovertext": [
          "DeAndre Jordan",
          "DeAndre Jordan"
         ],
         "legendgroup": "team=skinny bitches",
         "line": {
          "color": "#FFA15A",
          "dash": "solid"
         },
         "mode": "lines",
         "name": "team=skinny bitches",
         "showlegend": true,
         "type": "scatter",
         "x": [
          1,
          2
         ],
         "xaxis": "x",
         "y": [
          23.7,
          40.3
         ],
         "yaxis": "y"
        },
        {
         "hoverlabel": {
          "namelength": 0
         },
         "hovertemplate": "<b>%{hovertext}</b><br><br>team=skinny bitches<br>player_name=P.J. Washington<br>week=%{x}<br>points=%{y}",
         "hovertext": [
          "P.J. Washington"
         ],
         "legendgroup": "team=skinny bitches",
         "line": {
          "color": "#FFA15A",
          "dash": "solid"
         },
         "mode": "lines",
         "name": "team=skinny bitches",
         "showlegend": false,
         "type": "scatter",
         "x": [
          3
         ],
         "xaxis": "x",
         "y": [
          37.1
         ],
         "yaxis": "y"
        },
        {
         "hoverlabel": {
          "namelength": 0
         },
         "hovertemplate": "<b>%{hovertext}</b><br><br>team=skinny bitches<br>player_name=Josh Hart<br>week=%{x}<br>points=%{y}",
         "hovertext": [
          "Josh Hart"
         ],
         "legendgroup": "team=skinny bitches",
         "line": {
          "color": "#FFA15A",
          "dash": "solid"
         },
         "mode": "lines",
         "name": "team=skinny bitches",
         "showlegend": false,
         "type": "scatter",
         "x": [
          4
         ],
         "xaxis": "x",
         "y": [
          53.5
         ],
         "yaxis": "y"
        },
        {
         "hoverlabel": {
          "namelength": 0
         },
         "hovertemplate": "<b>%{hovertext}</b><br><br>team=skinny bitches<br>player_name=Andre Drummond<br>week=%{x}<br>points=%{y}",
         "hovertext": [
          "Andre Drummond",
          "Andre Drummond",
          "Andre Drummond",
          "Andre Drummond"
         ],
         "legendgroup": "team=skinny bitches",
         "line": {
          "color": "#FFA15A",
          "dash": "solid"
         },
         "mode": "lines",
         "name": "team=skinny bitches",
         "showlegend": false,
         "type": "scatter",
         "x": [
          1,
          2,
          3,
          4
         ],
         "xaxis": "x",
         "y": [
          76.7,
          84,
          72.2,
          52.2
         ],
         "yaxis": "y"
        },
        {
         "hoverlabel": {
          "namelength": 0
         },
         "hovertemplate": "<b>%{hovertext}</b><br><br>team=skinny bitches<br>player_name=Collin Sexton<br>week=%{x}<br>points=%{y}",
         "hovertext": [
          "Collin Sexton",
          "Collin Sexton",
          "Collin Sexton",
          "Collin Sexton"
         ],
         "legendgroup": "team=skinny bitches",
         "line": {
          "color": "#FFA15A",
          "dash": "solid"
         },
         "mode": "lines",
         "name": "team=skinny bitches",
         "showlegend": false,
         "type": "scatter",
         "x": [
          1,
          2,
          3,
          4
         ],
         "xaxis": "x",
         "y": [
          36.5,
          35.8,
          49.2,
          42
         ],
         "yaxis": "y"
        },
        {
         "hoverlabel": {
          "namelength": 0
         },
         "hovertemplate": "<b>%{hovertext}</b><br><br>team=skinny bitches<br>player_name=Dennis Smith<br>week=%{x}<br>points=%{y}",
         "hovertext": [
          "Dennis Smith"
         ],
         "legendgroup": "team=skinny bitches",
         "line": {
          "color": "#FFA15A",
          "dash": "solid"
         },
         "mode": "lines",
         "name": "team=skinny bitches",
         "showlegend": false,
         "type": "scatter",
         "x": [
          1
         ],
         "xaxis": "x",
         "y": [
          3.3
         ],
         "yaxis": "y"
        },
        {
         "hoverlabel": {
          "namelength": 0
         },
         "hovertemplate": "<b>%{hovertext}</b><br><br>team=skinny bitches<br>player_name=Ivica Zubac<br>week=%{x}<br>points=%{y}",
         "hovertext": [
          "Ivica Zubac"
         ],
         "legendgroup": "team=skinny bitches",
         "line": {
          "color": "#FFA15A",
          "dash": "solid"
         },
         "mode": "lines",
         "name": "team=skinny bitches",
         "showlegend": false,
         "type": "scatter",
         "x": [
          1
         ],
         "xaxis": "x",
         "y": [
          29
         ],
         "yaxis": "y"
        },
        {
         "hoverlabel": {
          "namelength": 0
         },
         "hovertemplate": "<b>%{hovertext}</b><br><br>team=skinny bitches<br>player_name=Joe Ingles<br>week=%{x}<br>points=%{y}",
         "hovertext": [
          "Joe Ingles",
          "Joe Ingles"
         ],
         "legendgroup": "team=skinny bitches",
         "line": {
          "color": "#FFA15A",
          "dash": "solid"
         },
         "mode": "lines",
         "name": "team=skinny bitches",
         "showlegend": false,
         "type": "scatter",
         "x": [
          1,
          2
         ],
         "xaxis": "x",
         "y": [
          22.3,
          31.2
         ],
         "yaxis": "y"
        },
        {
         "hoverlabel": {
          "namelength": 0
         },
         "hovertemplate": "<b>%{hovertext}</b><br><br>team=skinny bitches<br>player_name=Markelle Fultz<br>week=%{x}<br>points=%{y}",
         "hovertext": [
          "Markelle Fultz"
         ],
         "legendgroup": "team=skinny bitches",
         "line": {
          "color": "#FFA15A",
          "dash": "solid"
         },
         "mode": "lines",
         "name": "team=skinny bitches",
         "showlegend": false,
         "type": "scatter",
         "x": [
          1
         ],
         "xaxis": "x",
         "y": [
          32.2
         ],
         "yaxis": "y"
        },
        {
         "hoverlabel": {
          "namelength": 0
         },
         "hovertemplate": "<b>%{hovertext}</b><br><br>team=skinny bitches<br>player_name=Michael Porter<br>week=%{x}<br>points=%{y}",
         "hovertext": [
          "Michael Porter",
          "Michael Porter",
          "Michael Porter"
         ],
         "legendgroup": "team=skinny bitches",
         "line": {
          "color": "#FFA15A",
          "dash": "solid"
         },
         "mode": "lines",
         "name": "team=skinny bitches",
         "showlegend": false,
         "type": "scatter",
         "x": [
          1,
          2,
          3
         ],
         "xaxis": "x",
         "y": [
          0,
          20.5,
          9.2
         ],
         "yaxis": "y"
        },
        {
         "hoverlabel": {
          "namelength": 0
         },
         "hovertemplate": "<b>%{hovertext}</b><br><br>team=skinny bitches<br>player_name=Mike Conley<br>week=%{x}<br>points=%{y}",
         "hovertext": [
          "Mike Conley",
          "Mike Conley",
          "Mike Conley"
         ],
         "legendgroup": "team=skinny bitches",
         "line": {
          "color": "#FFA15A",
          "dash": "solid"
         },
         "mode": "lines",
         "name": "team=skinny bitches",
         "showlegend": false,
         "type": "scatter",
         "x": [
          1,
          2,
          3
         ],
         "xaxis": "x",
         "y": [
          25.3,
          33.1,
          44.8
         ],
         "yaxis": "y"
        },
        {
         "hoverlabel": {
          "namelength": 0
         },
         "hovertemplate": "<b>%{hovertext}</b><br><br>team=skinny bitches<br>player_name=Miles Bridges<br>week=%{x}<br>points=%{y}",
         "hovertext": [
          "Miles Bridges",
          "Miles Bridges",
          "Miles Bridges",
          "Miles Bridges"
         ],
         "legendgroup": "team=skinny bitches",
         "line": {
          "color": "#FFA15A",
          "dash": "solid"
         },
         "mode": "lines",
         "name": "team=skinny bitches",
         "showlegend": false,
         "type": "scatter",
         "x": [
          1,
          2,
          3,
          4
         ],
         "xaxis": "x",
         "y": [
          38.7,
          29.2,
          39.6,
          52.5
         ],
         "yaxis": "y"
        },
        {
         "hoverlabel": {
          "namelength": 0
         },
         "hovertemplate": "<b>%{hovertext}</b><br><br>team=skinny bitches<br>player_name=Nikola Jokic<br>week=%{x}<br>points=%{y}",
         "hovertext": [
          "Nikola Jokic",
          "Nikola Jokic",
          "Nikola Jokic"
         ],
         "legendgroup": "team=skinny bitches",
         "line": {
          "color": "#FFA15A",
          "dash": "solid"
         },
         "mode": "lines",
         "name": "team=skinny bitches",
         "showlegend": false,
         "type": "scatter",
         "x": [
          1,
          2,
          3
         ],
         "xaxis": "x",
         "y": [
          79,
          51.6,
          58.8
         ],
         "yaxis": "y"
        },
        {
         "hoverlabel": {
          "namelength": 0
         },
         "hovertemplate": "<b>%{hovertext}</b><br><br>team=skinny bitches<br>player_name=Pascal Siakam<br>week=%{x}<br>points=%{y}",
         "hovertext": [
          "Pascal Siakam",
          "Pascal Siakam",
          "Pascal Siakam",
          "Pascal Siakam"
         ],
         "legendgroup": "team=skinny bitches",
         "line": {
          "color": "#FFA15A",
          "dash": "solid"
         },
         "mode": "lines",
         "name": "team=skinny bitches",
         "showlegend": false,
         "type": "scatter",
         "x": [
          1,
          2,
          3,
          4
         ],
         "xaxis": "x",
         "y": [
          70.7,
          56.2,
          82.8,
          68.2
         ],
         "yaxis": "y"
        },
        {
         "hoverlabel": {
          "namelength": 0
         },
         "hovertemplate": "<b>%{hovertext}</b><br><br>team=skinny bitches<br>player_name=RJ Barrett<br>week=%{x}<br>points=%{y}",
         "hovertext": [
          "RJ Barrett",
          "RJ Barrett",
          "RJ Barrett",
          "RJ Barrett"
         ],
         "legendgroup": "team=skinny bitches",
         "line": {
          "color": "#FFA15A",
          "dash": "solid"
         },
         "mode": "lines",
         "name": "team=skinny bitches",
         "showlegend": false,
         "type": "scatter",
         "x": [
          1,
          2,
          3,
          4
         ],
         "xaxis": "x",
         "y": [
          51.3,
          43.8,
          26.5,
          66.5
         ],
         "yaxis": "y"
        },
        {
         "hoverlabel": {
          "namelength": 0
         },
         "hovertemplate": "<b>%{hovertext}</b><br><br>team=skinny bitches<br>player_name=Aron Baynes<br>week=%{x}<br>points=%{y}",
         "hovertext": [
          "Aron Baynes",
          "Aron Baynes",
          "Aron Baynes"
         ],
         "legendgroup": "team=skinny bitches",
         "line": {
          "color": "#FFA15A",
          "dash": "solid"
         },
         "mode": "lines",
         "name": "team=skinny bitches",
         "showlegend": false,
         "type": "scatter",
         "x": [
          2,
          3,
          4
         ],
         "xaxis": "x",
         "y": [
          58.5,
          51.3,
          55.5
         ],
         "yaxis": "y"
        },
        {
         "hoverlabel": {
          "namelength": 0
         },
         "hovertemplate": "<b>%{hovertext}</b><br><br>team=skinny bitches<br>player_name=Kendrick Nunn<br>week=%{x}<br>points=%{y}",
         "hovertext": [
          "Kendrick Nunn",
          "Kendrick Nunn"
         ],
         "legendgroup": "team=skinny bitches",
         "line": {
          "color": "#FFA15A",
          "dash": "solid"
         },
         "mode": "lines",
         "name": "team=skinny bitches",
         "showlegend": false,
         "type": "scatter",
         "x": [
          2,
          3
         ],
         "xaxis": "x",
         "y": [
          37.7,
          27.2
         ],
         "yaxis": "y"
        },
        {
         "hoverlabel": {
          "namelength": 0
         },
         "hovertemplate": "<b>%{hovertext}</b><br><br>team=skinny bitches<br>player_name=Luke Kennard<br>week=%{x}<br>points=%{y}",
         "hovertext": [
          "Luke Kennard",
          "Luke Kennard",
          "Luke Kennard"
         ],
         "legendgroup": "team=skinny bitches",
         "line": {
          "color": "#FFA15A",
          "dash": "solid"
         },
         "mode": "lines",
         "name": "team=skinny bitches",
         "showlegend": false,
         "type": "scatter",
         "x": [
          2,
          3,
          4
         ],
         "xaxis": "x",
         "y": [
          38.1,
          54.8,
          60.5
         ],
         "yaxis": "y"
        },
        {
         "hoverlabel": {
          "namelength": 0
         },
         "hovertemplate": "<b>%{hovertext}</b><br><br>team=skinny bitches<br>player_name=DeAndre' Bembry<br>week=%{x}<br>points=%{y}",
         "hovertext": [
          "DeAndre' Bembry"
         ],
         "legendgroup": "team=skinny bitches",
         "line": {
          "color": "#FFA15A",
          "dash": "solid"
         },
         "mode": "lines",
         "name": "team=skinny bitches",
         "showlegend": false,
         "type": "scatter",
         "x": [
          3
         ],
         "xaxis": "x",
         "y": [
          21.9
         ],
         "yaxis": "y"
        },
        {
         "hoverlabel": {
          "namelength": 0
         },
         "hovertemplate": "<b>%{hovertext}</b><br><br>team=skinny bitches<br>player_name=Richaun Holmes<br>week=%{x}<br>points=%{y}",
         "hovertext": [
          "Richaun Holmes"
         ],
         "legendgroup": "team=skinny bitches",
         "line": {
          "color": "#FFA15A",
          "dash": "solid"
         },
         "mode": "lines",
         "name": "team=skinny bitches",
         "showlegend": false,
         "type": "scatter",
         "x": [
          3
         ],
         "xaxis": "x",
         "y": [
          28
         ],
         "yaxis": "y"
        },
        {
         "hoverlabel": {
          "namelength": 0
         },
         "hovertemplate": "<b>%{hovertext}</b><br><br>team=skinny bitches<br>player_name=Alec Burks<br>week=%{x}<br>points=%{y}",
         "hovertext": [
          "Alec Burks"
         ],
         "legendgroup": "team=skinny bitches",
         "line": {
          "color": "#FFA15A",
          "dash": "solid"
         },
         "mode": "lines",
         "name": "team=skinny bitches",
         "showlegend": false,
         "type": "scatter",
         "x": [
          4
         ],
         "xaxis": "x",
         "y": [
          29.2
         ],
         "yaxis": "y"
        },
        {
         "hoverlabel": {
          "namelength": 0
         },
         "hovertemplate": "<b>%{hovertext}</b><br><br>team=skinny bitches<br>player_name=Deandre Ayton<br>week=%{x}<br>points=%{y}",
         "hovertext": [
          "Deandre Ayton"
         ],
         "legendgroup": "team=skinny bitches",
         "line": {
          "color": "#FFA15A",
          "dash": "solid"
         },
         "mode": "lines",
         "name": "team=skinny bitches",
         "showlegend": false,
         "type": "scatter",
         "x": [
          4
         ],
         "xaxis": "x",
         "y": [
          0
         ],
         "yaxis": "y"
        },
        {
         "hoverlabel": {
          "namelength": 0
         },
         "hovertemplate": "<b>%{hovertext}</b><br><br>team=skinny bitches<br>player_name=George Hill<br>week=%{x}<br>points=%{y}",
         "hovertext": [
          "George Hill"
         ],
         "legendgroup": "team=skinny bitches",
         "line": {
          "color": "#FFA15A",
          "dash": "solid"
         },
         "mode": "lines",
         "name": "team=skinny bitches",
         "showlegend": false,
         "type": "scatter",
         "x": [
          4
         ],
         "xaxis": "x",
         "y": [
          0
         ],
         "yaxis": "y"
        },
        {
         "hoverlabel": {
          "namelength": 0
         },
         "hovertemplate": "<b>%{hovertext}</b><br><br>team=skinny bitches<br>player_name=Malcolm Brogdon<br>week=%{x}<br>points=%{y}",
         "hovertext": [
          "Malcolm Brogdon"
         ],
         "legendgroup": "team=skinny bitches",
         "line": {
          "color": "#FFA15A",
          "dash": "solid"
         },
         "mode": "lines",
         "name": "team=skinny bitches",
         "showlegend": false,
         "type": "scatter",
         "x": [
          4
         ],
         "xaxis": "x",
         "y": [
          50
         ],
         "yaxis": "y"
        },
        {
         "hoverlabel": {
          "namelength": 0
         },
         "hovertemplate": "<b>%{hovertext}</b><br><br>team=CaptainStrikersMob<br>player_name=Dejounte Murray<br>week=%{x}<br>points=%{y}",
         "hovertext": [
          "Dejounte Murray",
          "Dejounte Murray",
          "Dejounte Murray",
          "Dejounte Murray"
         ],
         "legendgroup": "team=CaptainStrikersMob",
         "line": {
          "color": "#19d3f3",
          "dash": "solid"
         },
         "mode": "lines",
         "name": "team=CaptainStrikersMob",
         "showlegend": true,
         "type": "scatter",
         "x": [
          1,
          2,
          3,
          4
         ],
         "xaxis": "x",
         "y": [
          62.2,
          44.2,
          32.7,
          23.2
         ],
         "yaxis": "y"
        },
        {
         "hoverlabel": {
          "namelength": 0
         },
         "hovertemplate": "<b>%{hovertext}</b><br><br>team=CaptainStrikersMob<br>player_name=Devin Booker<br>week=%{x}<br>points=%{y}",
         "hovertext": [
          "Devin Booker",
          "Devin Booker",
          "Devin Booker",
          "Devin Booker"
         ],
         "legendgroup": "team=CaptainStrikersMob",
         "line": {
          "color": "#19d3f3",
          "dash": "solid"
         },
         "mode": "lines",
         "name": "team=CaptainStrikersMob",
         "showlegend": false,
         "type": "scatter",
         "x": [
          1,
          2,
          3,
          4
         ],
         "xaxis": "x",
         "y": [
          60.5,
          51.8,
          67,
          50
         ],
         "yaxis": "y"
        },
        {
         "hoverlabel": {
          "namelength": 0
         },
         "hovertemplate": "<b>%{hovertext}</b><br><br>team=CaptainStrikersMob<br>player_name=Fred VanVleet<br>week=%{x}<br>points=%{y}",
         "hovertext": [
          "Fred VanVleet",
          "Fred VanVleet",
          "Fred VanVleet",
          "Fred VanVleet"
         ],
         "legendgroup": "team=CaptainStrikersMob",
         "line": {
          "color": "#19d3f3",
          "dash": "solid"
         },
         "mode": "lines",
         "name": "team=CaptainStrikersMob",
         "showlegend": false,
         "type": "scatter",
         "x": [
          1,
          2,
          3,
          4
         ],
         "xaxis": "x",
         "y": [
          56.7,
          44.8,
          58.5,
          62.8
         ],
         "yaxis": "y"
        },
        {
         "hoverlabel": {
          "namelength": 0
         },
         "hovertemplate": "<b>%{hovertext}</b><br><br>team=CaptainStrikersMob<br>player_name=Giannis Antetokounmpo<br>week=%{x}<br>points=%{y}",
         "hovertext": [
          "Giannis Antetokounmpo",
          "Giannis Antetokounmpo",
          "Giannis Antetokounmpo",
          "Giannis Antetokounmpo"
         ],
         "legendgroup": "team=CaptainStrikersMob",
         "line": {
          "color": "#19d3f3",
          "dash": "solid"
         },
         "mode": "lines",
         "name": "team=CaptainStrikersMob",
         "showlegend": false,
         "type": "scatter",
         "x": [
          1,
          2,
          3,
          4
         ],
         "xaxis": "x",
         "y": [
          102,
          80.6,
          97,
          0
         ],
         "yaxis": "y"
        },
        {
         "hoverlabel": {
          "namelength": 0
         },
         "hovertemplate": "<b>%{hovertext}</b><br><br>team=CaptainStrikersMob<br>player_name=Hassan Whiteside<br>week=%{x}<br>points=%{y}",
         "hovertext": [
          "Hassan Whiteside",
          "Hassan Whiteside",
          "Hassan Whiteside",
          "Hassan Whiteside"
         ],
         "legendgroup": "team=CaptainStrikersMob",
         "line": {
          "color": "#19d3f3",
          "dash": "solid"
         },
         "mode": "lines",
         "name": "team=CaptainStrikersMob",
         "showlegend": false,
         "type": "scatter",
         "x": [
          1,
          2,
          3,
          4
         ],
         "xaxis": "x",
         "y": [
          50.5,
          36.2,
          63.8,
          40.8
         ],
         "yaxis": "y"
        },
        {
         "hoverlabel": {
          "namelength": 0
         },
         "hovertemplate": "<b>%{hovertext}</b><br><br>team=CaptainStrikersMob<br>player_name=Justise Winslow<br>week=%{x}<br>points=%{y}",
         "hovertext": [
          "Justise Winslow",
          "Justise Winslow",
          "Justise Winslow",
          "Justise Winslow"
         ],
         "legendgroup": "team=CaptainStrikersMob",
         "line": {
          "color": "#19d3f3",
          "dash": "solid"
         },
         "mode": "lines",
         "name": "team=CaptainStrikersMob",
         "showlegend": false,
         "type": "scatter",
         "x": [
          1,
          2,
          3,
          4
         ],
         "xaxis": "x",
         "y": [
          59.3,
          16,
          23,
          0
         ],
         "yaxis": "y"
        },
        {
         "hoverlabel": {
          "namelength": 0
         },
         "hovertemplate": "<b>%{hovertext}</b><br><br>team=CaptainStrikersMob<br>player_name=Kevin Love<br>week=%{x}<br>points=%{y}",
         "hovertext": [
          "Kevin Love",
          "Kevin Love",
          "Kevin Love",
          "Kevin Love"
         ],
         "legendgroup": "team=CaptainStrikersMob",
         "line": {
          "color": "#19d3f3",
          "dash": "solid"
         },
         "mode": "lines",
         "name": "team=CaptainStrikersMob",
         "showlegend": false,
         "type": "scatter",
         "x": [
          1,
          2,
          3,
          4
         ],
         "xaxis": "x",
         "y": [
          68,
          70.9,
          47.5,
          43
         ],
         "yaxis": "y"
        },
        {
         "hoverlabel": {
          "namelength": 0
         },
         "hovertemplate": "<b>%{hovertext}</b><br><br>team=CaptainStrikersMob<br>player_name=Lonzo Ball<br>week=%{x}<br>points=%{y}",
         "hovertext": [
          "Lonzo Ball",
          "Lonzo Ball",
          "Lonzo Ball",
          "Lonzo Ball"
         ],
         "legendgroup": "team=CaptainStrikersMob",
         "line": {
          "color": "#19d3f3",
          "dash": "solid"
         },
         "mode": "lines",
         "name": "team=CaptainStrikersMob",
         "showlegend": false,
         "type": "scatter",
         "x": [
          1,
          2,
          3,
          4
         ],
         "xaxis": "x",
         "y": [
          52.5,
          44.7,
          28,
          0
         ],
         "yaxis": "y"
        },
        {
         "hoverlabel": {
          "namelength": 0
         },
         "hovertemplate": "<b>%{hovertext}</b><br><br>team=CaptainStrikersMob<br>player_name=Patrick Beverley<br>week=%{x}<br>points=%{y}",
         "hovertext": [
          "Patrick Beverley",
          "Patrick Beverley",
          "Patrick Beverley",
          "Patrick Beverley"
         ],
         "legendgroup": "team=CaptainStrikersMob",
         "line": {
          "color": "#19d3f3",
          "dash": "solid"
         },
         "mode": "lines",
         "name": "team=CaptainStrikersMob",
         "showlegend": false,
         "type": "scatter",
         "x": [
          1,
          2,
          3,
          4
         ],
         "xaxis": "x",
         "y": [
          32.3,
          25.4,
          46.5,
          20.8
         ],
         "yaxis": "y"
        },
        {
         "hoverlabel": {
          "namelength": 0
         },
         "hovertemplate": "<b>%{hovertext}</b><br><br>team=CaptainStrikersMob<br>player_name=Steven Adams<br>week=%{x}<br>points=%{y}",
         "hovertext": [
          "Steven Adams",
          "Steven Adams",
          "Steven Adams",
          "Steven Adams"
         ],
         "legendgroup": "team=CaptainStrikersMob",
         "line": {
          "color": "#19d3f3",
          "dash": "solid"
         },
         "mode": "lines",
         "name": "team=CaptainStrikersMob",
         "showlegend": false,
         "type": "scatter",
         "x": [
          1,
          2,
          3,
          4
         ],
         "xaxis": "x",
         "y": [
          30,
          32,
          40,
          27.5
         ],
         "yaxis": "y"
        },
        {
         "hoverlabel": {
          "namelength": 0
         },
         "hovertemplate": "<b>%{hovertext}</b><br><br>team=CaptainStrikersMob<br>player_name=Tim Hardaway<br>week=%{x}<br>points=%{y}",
         "hovertext": [
          "Tim Hardaway"
         ],
         "legendgroup": "team=CaptainStrikersMob",
         "line": {
          "color": "#19d3f3",
          "dash": "solid"
         },
         "mode": "lines",
         "name": "team=CaptainStrikersMob",
         "showlegend": false,
         "type": "scatter",
         "x": [
          1
         ],
         "xaxis": "x",
         "y": [
          14.5
         ],
         "yaxis": "y"
        },
        {
         "hoverlabel": {
          "namelength": 0
         },
         "hovertemplate": "<b>%{hovertext}</b><br><br>team=CaptainStrikersMob<br>player_name=Tristan Thompson<br>week=%{x}<br>points=%{y}",
         "hovertext": [
          "Tristan Thompson",
          "Tristan Thompson",
          "Tristan Thompson",
          "Tristan Thompson"
         ],
         "legendgroup": "team=CaptainStrikersMob",
         "line": {
          "color": "#19d3f3",
          "dash": "solid"
         },
         "mode": "lines",
         "name": "team=CaptainStrikersMob",
         "showlegend": false,
         "type": "scatter",
         "x": [
          1,
          2,
          3,
          4
         ],
         "xaxis": "x",
         "y": [
          65.8,
          56.6,
          59.3,
          54
         ],
         "yaxis": "y"
        },
        {
         "hoverlabel": {
          "namelength": 0
         },
         "hovertemplate": "<b>%{hovertext}</b><br><br>team=CaptainStrikersMob<br>player_name=Victor Oladipo<br>week=%{x}<br>points=%{y}",
         "hovertext": [
          "Victor Oladipo",
          "Victor Oladipo",
          "Victor Oladipo",
          "Victor Oladipo"
         ],
         "legendgroup": "team=CaptainStrikersMob",
         "line": {
          "color": "#19d3f3",
          "dash": "solid"
         },
         "mode": "lines",
         "name": "team=CaptainStrikersMob",
         "showlegend": false,
         "type": "scatter",
         "x": [
          1,
          2,
          3,
          4
         ],
         "xaxis": "x",
         "y": [
          0,
          0,
          0,
          0
         ],
         "yaxis": "y"
        },
        {
         "hoverlabel": {
          "namelength": 0
         },
         "hovertemplate": "<b>%{hovertext}</b><br><br>team=CaptainStrikersMob<br>player_name=Frank Kaminsky<br>week=%{x}<br>points=%{y}",
         "hovertext": [
          "Frank Kaminsky",
          "Frank Kaminsky"
         ],
         "legendgroup": "team=CaptainStrikersMob",
         "line": {
          "color": "#19d3f3",
          "dash": "solid"
         },
         "mode": "lines",
         "name": "team=CaptainStrikersMob",
         "showlegend": false,
         "type": "scatter",
         "x": [
          2,
          3
         ],
         "xaxis": "x",
         "y": [
          23.8,
          13.2
         ],
         "yaxis": "y"
        },
        {
         "hoverlabel": {
          "namelength": 0
         },
         "hovertemplate": "<b>%{hovertext}</b><br><br>team=CaptainStrikersMob<br>player_name=Jabari Parker<br>week=%{x}<br>points=%{y}",
         "hovertext": [
          "Jabari Parker",
          "Jabari Parker"
         ],
         "legendgroup": "team=CaptainStrikersMob",
         "line": {
          "color": "#19d3f3",
          "dash": "solid"
         },
         "mode": "lines",
         "name": "team=CaptainStrikersMob",
         "showlegend": false,
         "type": "scatter",
         "x": [
          3,
          4
         ],
         "xaxis": "x",
         "y": [
          60,
          52
         ],
         "yaxis": "y"
        }
       ],
       "layout": {
        "height": 600,
        "legend": {
         "tracegroupgap": 0
        },
        "margin": {
         "t": 60
        },
        "template": {
         "data": {
          "bar": [
           {
            "error_x": {
             "color": "#2a3f5f"
            },
            "error_y": {
             "color": "#2a3f5f"
            },
            "marker": {
             "line": {
              "color": "#E5ECF6",
              "width": 0.5
             }
            },
            "type": "bar"
           }
          ],
          "barpolar": [
           {
            "marker": {
             "line": {
              "color": "#E5ECF6",
              "width": 0.5
             }
            },
            "type": "barpolar"
           }
          ],
          "carpet": [
           {
            "aaxis": {
             "endlinecolor": "#2a3f5f",
             "gridcolor": "white",
             "linecolor": "white",
             "minorgridcolor": "white",
             "startlinecolor": "#2a3f5f"
            },
            "baxis": {
             "endlinecolor": "#2a3f5f",
             "gridcolor": "white",
             "linecolor": "white",
             "minorgridcolor": "white",
             "startlinecolor": "#2a3f5f"
            },
            "type": "carpet"
           }
          ],
          "choropleth": [
           {
            "colorbar": {
             "outlinewidth": 0,
             "ticks": ""
            },
            "type": "choropleth"
           }
          ],
          "contour": [
           {
            "colorbar": {
             "outlinewidth": 0,
             "ticks": ""
            },
            "colorscale": [
             [
              0,
              "#0d0887"
             ],
             [
              0.1111111111111111,
              "#46039f"
             ],
             [
              0.2222222222222222,
              "#7201a8"
             ],
             [
              0.3333333333333333,
              "#9c179e"
             ],
             [
              0.4444444444444444,
              "#bd3786"
             ],
             [
              0.5555555555555556,
              "#d8576b"
             ],
             [
              0.6666666666666666,
              "#ed7953"
             ],
             [
              0.7777777777777778,
              "#fb9f3a"
             ],
             [
              0.8888888888888888,
              "#fdca26"
             ],
             [
              1,
              "#f0f921"
             ]
            ],
            "type": "contour"
           }
          ],
          "contourcarpet": [
           {
            "colorbar": {
             "outlinewidth": 0,
             "ticks": ""
            },
            "type": "contourcarpet"
           }
          ],
          "heatmap": [
           {
            "colorbar": {
             "outlinewidth": 0,
             "ticks": ""
            },
            "colorscale": [
             [
              0,
              "#0d0887"
             ],
             [
              0.1111111111111111,
              "#46039f"
             ],
             [
              0.2222222222222222,
              "#7201a8"
             ],
             [
              0.3333333333333333,
              "#9c179e"
             ],
             [
              0.4444444444444444,
              "#bd3786"
             ],
             [
              0.5555555555555556,
              "#d8576b"
             ],
             [
              0.6666666666666666,
              "#ed7953"
             ],
             [
              0.7777777777777778,
              "#fb9f3a"
             ],
             [
              0.8888888888888888,
              "#fdca26"
             ],
             [
              1,
              "#f0f921"
             ]
            ],
            "type": "heatmap"
           }
          ],
          "heatmapgl": [
           {
            "colorbar": {
             "outlinewidth": 0,
             "ticks": ""
            },
            "colorscale": [
             [
              0,
              "#0d0887"
             ],
             [
              0.1111111111111111,
              "#46039f"
             ],
             [
              0.2222222222222222,
              "#7201a8"
             ],
             [
              0.3333333333333333,
              "#9c179e"
             ],
             [
              0.4444444444444444,
              "#bd3786"
             ],
             [
              0.5555555555555556,
              "#d8576b"
             ],
             [
              0.6666666666666666,
              "#ed7953"
             ],
             [
              0.7777777777777778,
              "#fb9f3a"
             ],
             [
              0.8888888888888888,
              "#fdca26"
             ],
             [
              1,
              "#f0f921"
             ]
            ],
            "type": "heatmapgl"
           }
          ],
          "histogram": [
           {
            "marker": {
             "colorbar": {
              "outlinewidth": 0,
              "ticks": ""
             }
            },
            "type": "histogram"
           }
          ],
          "histogram2d": [
           {
            "colorbar": {
             "outlinewidth": 0,
             "ticks": ""
            },
            "colorscale": [
             [
              0,
              "#0d0887"
             ],
             [
              0.1111111111111111,
              "#46039f"
             ],
             [
              0.2222222222222222,
              "#7201a8"
             ],
             [
              0.3333333333333333,
              "#9c179e"
             ],
             [
              0.4444444444444444,
              "#bd3786"
             ],
             [
              0.5555555555555556,
              "#d8576b"
             ],
             [
              0.6666666666666666,
              "#ed7953"
             ],
             [
              0.7777777777777778,
              "#fb9f3a"
             ],
             [
              0.8888888888888888,
              "#fdca26"
             ],
             [
              1,
              "#f0f921"
             ]
            ],
            "type": "histogram2d"
           }
          ],
          "histogram2dcontour": [
           {
            "colorbar": {
             "outlinewidth": 0,
             "ticks": ""
            },
            "colorscale": [
             [
              0,
              "#0d0887"
             ],
             [
              0.1111111111111111,
              "#46039f"
             ],
             [
              0.2222222222222222,
              "#7201a8"
             ],
             [
              0.3333333333333333,
              "#9c179e"
             ],
             [
              0.4444444444444444,
              "#bd3786"
             ],
             [
              0.5555555555555556,
              "#d8576b"
             ],
             [
              0.6666666666666666,
              "#ed7953"
             ],
             [
              0.7777777777777778,
              "#fb9f3a"
             ],
             [
              0.8888888888888888,
              "#fdca26"
             ],
             [
              1,
              "#f0f921"
             ]
            ],
            "type": "histogram2dcontour"
           }
          ],
          "mesh3d": [
           {
            "colorbar": {
             "outlinewidth": 0,
             "ticks": ""
            },
            "type": "mesh3d"
           }
          ],
          "parcoords": [
           {
            "line": {
             "colorbar": {
              "outlinewidth": 0,
              "ticks": ""
             }
            },
            "type": "parcoords"
           }
          ],
          "pie": [
           {
            "automargin": true,
            "type": "pie"
           }
          ],
          "scatter": [
           {
            "marker": {
             "colorbar": {
              "outlinewidth": 0,
              "ticks": ""
             }
            },
            "type": "scatter"
           }
          ],
          "scatter3d": [
           {
            "line": {
             "colorbar": {
              "outlinewidth": 0,
              "ticks": ""
             }
            },
            "marker": {
             "colorbar": {
              "outlinewidth": 0,
              "ticks": ""
             }
            },
            "type": "scatter3d"
           }
          ],
          "scattercarpet": [
           {
            "marker": {
             "colorbar": {
              "outlinewidth": 0,
              "ticks": ""
             }
            },
            "type": "scattercarpet"
           }
          ],
          "scattergeo": [
           {
            "marker": {
             "colorbar": {
              "outlinewidth": 0,
              "ticks": ""
             }
            },
            "type": "scattergeo"
           }
          ],
          "scattergl": [
           {
            "marker": {
             "colorbar": {
              "outlinewidth": 0,
              "ticks": ""
             }
            },
            "type": "scattergl"
           }
          ],
          "scattermapbox": [
           {
            "marker": {
             "colorbar": {
              "outlinewidth": 0,
              "ticks": ""
             }
            },
            "type": "scattermapbox"
           }
          ],
          "scatterpolar": [
           {
            "marker": {
             "colorbar": {
              "outlinewidth": 0,
              "ticks": ""
             }
            },
            "type": "scatterpolar"
           }
          ],
          "scatterpolargl": [
           {
            "marker": {
             "colorbar": {
              "outlinewidth": 0,
              "ticks": ""
             }
            },
            "type": "scatterpolargl"
           }
          ],
          "scatterternary": [
           {
            "marker": {
             "colorbar": {
              "outlinewidth": 0,
              "ticks": ""
             }
            },
            "type": "scatterternary"
           }
          ],
          "surface": [
           {
            "colorbar": {
             "outlinewidth": 0,
             "ticks": ""
            },
            "colorscale": [
             [
              0,
              "#0d0887"
             ],
             [
              0.1111111111111111,
              "#46039f"
             ],
             [
              0.2222222222222222,
              "#7201a8"
             ],
             [
              0.3333333333333333,
              "#9c179e"
             ],
             [
              0.4444444444444444,
              "#bd3786"
             ],
             [
              0.5555555555555556,
              "#d8576b"
             ],
             [
              0.6666666666666666,
              "#ed7953"
             ],
             [
              0.7777777777777778,
              "#fb9f3a"
             ],
             [
              0.8888888888888888,
              "#fdca26"
             ],
             [
              1,
              "#f0f921"
             ]
            ],
            "type": "surface"
           }
          ],
          "table": [
           {
            "cells": {
             "fill": {
              "color": "#EBF0F8"
             },
             "line": {
              "color": "white"
             }
            },
            "header": {
             "fill": {
              "color": "#C8D4E3"
             },
             "line": {
              "color": "white"
             }
            },
            "type": "table"
           }
          ]
         },
         "layout": {
          "annotationdefaults": {
           "arrowcolor": "#2a3f5f",
           "arrowhead": 0,
           "arrowwidth": 1
          },
          "coloraxis": {
           "colorbar": {
            "outlinewidth": 0,
            "ticks": ""
           }
          },
          "colorscale": {
           "diverging": [
            [
             0,
             "#8e0152"
            ],
            [
             0.1,
             "#c51b7d"
            ],
            [
             0.2,
             "#de77ae"
            ],
            [
             0.3,
             "#f1b6da"
            ],
            [
             0.4,
             "#fde0ef"
            ],
            [
             0.5,
             "#f7f7f7"
            ],
            [
             0.6,
             "#e6f5d0"
            ],
            [
             0.7,
             "#b8e186"
            ],
            [
             0.8,
             "#7fbc41"
            ],
            [
             0.9,
             "#4d9221"
            ],
            [
             1,
             "#276419"
            ]
           ],
           "sequential": [
            [
             0,
             "#0d0887"
            ],
            [
             0.1111111111111111,
             "#46039f"
            ],
            [
             0.2222222222222222,
             "#7201a8"
            ],
            [
             0.3333333333333333,
             "#9c179e"
            ],
            [
             0.4444444444444444,
             "#bd3786"
            ],
            [
             0.5555555555555556,
             "#d8576b"
            ],
            [
             0.6666666666666666,
             "#ed7953"
            ],
            [
             0.7777777777777778,
             "#fb9f3a"
            ],
            [
             0.8888888888888888,
             "#fdca26"
            ],
            [
             1,
             "#f0f921"
            ]
           ],
           "sequentialminus": [
            [
             0,
             "#0d0887"
            ],
            [
             0.1111111111111111,
             "#46039f"
            ],
            [
             0.2222222222222222,
             "#7201a8"
            ],
            [
             0.3333333333333333,
             "#9c179e"
            ],
            [
             0.4444444444444444,
             "#bd3786"
            ],
            [
             0.5555555555555556,
             "#d8576b"
            ],
            [
             0.6666666666666666,
             "#ed7953"
            ],
            [
             0.7777777777777778,
             "#fb9f3a"
            ],
            [
             0.8888888888888888,
             "#fdca26"
            ],
            [
             1,
             "#f0f921"
            ]
           ]
          },
          "colorway": [
           "#636efa",
           "#EF553B",
           "#00cc96",
           "#ab63fa",
           "#FFA15A",
           "#19d3f3",
           "#FF6692",
           "#B6E880",
           "#FF97FF",
           "#FECB52"
          ],
          "font": {
           "color": "#2a3f5f"
          },
          "geo": {
           "bgcolor": "white",
           "lakecolor": "white",
           "landcolor": "#E5ECF6",
           "showlakes": true,
           "showland": true,
           "subunitcolor": "white"
          },
          "hoverlabel": {
           "align": "left"
          },
          "hovermode": "closest",
          "mapbox": {
           "style": "light"
          },
          "paper_bgcolor": "white",
          "plot_bgcolor": "#E5ECF6",
          "polar": {
           "angularaxis": {
            "gridcolor": "white",
            "linecolor": "white",
            "ticks": ""
           },
           "bgcolor": "#E5ECF6",
           "radialaxis": {
            "gridcolor": "white",
            "linecolor": "white",
            "ticks": ""
           }
          },
          "scene": {
           "xaxis": {
            "backgroundcolor": "#E5ECF6",
            "gridcolor": "white",
            "gridwidth": 2,
            "linecolor": "white",
            "showbackground": true,
            "ticks": "",
            "zerolinecolor": "white"
           },
           "yaxis": {
            "backgroundcolor": "#E5ECF6",
            "gridcolor": "white",
            "gridwidth": 2,
            "linecolor": "white",
            "showbackground": true,
            "ticks": "",
            "zerolinecolor": "white"
           },
           "zaxis": {
            "backgroundcolor": "#E5ECF6",
            "gridcolor": "white",
            "gridwidth": 2,
            "linecolor": "white",
            "showbackground": true,
            "ticks": "",
            "zerolinecolor": "white"
           }
          },
          "shapedefaults": {
           "line": {
            "color": "#2a3f5f"
           }
          },
          "ternary": {
           "aaxis": {
            "gridcolor": "white",
            "linecolor": "white",
            "ticks": ""
           },
           "baxis": {
            "gridcolor": "white",
            "linecolor": "white",
            "ticks": ""
           },
           "bgcolor": "#E5ECF6",
           "caxis": {
            "gridcolor": "white",
            "linecolor": "white",
            "ticks": ""
           }
          },
          "title": {
           "x": 0.05
          },
          "xaxis": {
           "automargin": true,
           "gridcolor": "white",
           "linecolor": "white",
           "ticks": "",
           "title": {
            "standoff": 15
           },
           "zerolinecolor": "white",
           "zerolinewidth": 2
          },
          "yaxis": {
           "automargin": true,
           "gridcolor": "white",
           "linecolor": "white",
           "ticks": "",
           "title": {
            "standoff": 15
           },
           "zerolinecolor": "white",
           "zerolinewidth": 2
          }
         }
        },
        "xaxis": {
         "anchor": "y",
         "domain": [
          0,
          1
         ],
         "title": {
          "text": "week"
         }
        },
        "yaxis": {
         "anchor": "x",
         "domain": [
          0,
          1
         ],
         "title": {
          "text": "points"
         }
        }
       }
      },
      "text/html": [
       "<div>\n",
       "        \n",
       "        \n",
       "            <div id=\"d6b7f013-11ee-45ca-b1f5-2487c7339f9f\" class=\"plotly-graph-div\" style=\"height:600px; width:100%;\"></div>\n",
       "            <script type=\"text/javascript\">\n",
       "                require([\"plotly\"], function(Plotly) {\n",
       "                    window.PLOTLYENV=window.PLOTLYENV || {};\n",
       "                    \n",
       "                if (document.getElementById(\"d6b7f013-11ee-45ca-b1f5-2487c7339f9f\")) {\n",
       "                    Plotly.newPlot(\n",
       "                        'd6b7f013-11ee-45ca-b1f5-2487c7339f9f',\n",
       "                        [{\"hoverlabel\": {\"namelength\": 0}, \"hovertemplate\": \"<b>%{hovertext}</b><br><br>team=Mein Gott Walter<br>player_name=Brandon Ingram<br>week=%{x}<br>points=%{y}\", \"hovertext\": [\"Brandon Ingram\", \"Brandon Ingram\", \"Brandon Ingram\", \"Brandon Ingram\"], \"legendgroup\": \"team=Mein Gott Walter\", \"line\": {\"color\": \"#636efa\", \"dash\": \"solid\"}, \"mode\": \"lines\", \"name\": \"team=Mein Gott Walter\", \"showlegend\": true, \"type\": \"scatter\", \"x\": [1, 2, 3, 4], \"xaxis\": \"x\", \"y\": [76.3, 53.2, 68.2, 0.0], \"yaxis\": \"y\"}, {\"hoverlabel\": {\"namelength\": 0}, \"hovertemplate\": \"<b>%{hovertext}</b><br><br>team=Mein Gott Walter<br>player_name=Dario Saric<br>week=%{x}<br>points=%{y}\", \"hovertext\": [\"Dario Saric\", \"Dario Saric\", \"Dario Saric\", \"Dario Saric\"], \"legendgroup\": \"team=Mein Gott Walter\", \"line\": {\"color\": \"#636efa\", \"dash\": \"solid\"}, \"mode\": \"lines\", \"name\": \"team=Mein Gott Walter\", \"showlegend\": false, \"type\": \"scatter\", \"x\": [1, 2, 3, 4], \"xaxis\": \"x\", \"y\": [35.5, 37.5, 26.5, 52.0], \"yaxis\": \"y\"}, {\"hoverlabel\": {\"namelength\": 0}, \"hovertemplate\": \"<b>%{hovertext}</b><br><br>team=Mein Gott Walter<br>player_name=Derrick Favors<br>week=%{x}<br>points=%{y}\", \"hovertext\": [\"Derrick Favors\", \"Derrick Favors\"], \"legendgroup\": \"team=Mein Gott Walter\", \"line\": {\"color\": \"#636efa\", \"dash\": \"solid\"}, \"mode\": \"lines\", \"name\": \"team=Mein Gott Walter\", \"showlegend\": false, \"type\": \"scatter\", \"x\": [1, 2], \"xaxis\": \"x\", \"y\": [27.0, 0.0], \"yaxis\": \"y\"}, {\"hoverlabel\": {\"namelength\": 0}, \"hovertemplate\": \"<b>%{hovertext}</b><br><br>team=Mein Gott Walter<br>player_name=Dewayne Dedmon<br>week=%{x}<br>points=%{y}\", \"hovertext\": [\"Dewayne Dedmon\"], \"legendgroup\": \"team=Mein Gott Walter\", \"line\": {\"color\": \"#636efa\", \"dash\": \"solid\"}, \"mode\": \"lines\", \"name\": \"team=Mein Gott Walter\", \"showlegend\": false, \"type\": \"scatter\", \"x\": [1], \"xaxis\": \"x\", \"y\": [18.8], \"yaxis\": \"y\"}, {\"hoverlabel\": {\"namelength\": 0}, \"hovertemplate\": \"<b>%{hovertext}</b><br><br>team=Mein Gott Walter<br>player_name=Evan Fournier<br>week=%{x}<br>points=%{y}\", \"hovertext\": [\"Evan Fournier\", \"Evan Fournier\", \"Evan Fournier\", \"Evan Fournier\"], \"legendgroup\": \"team=Mein Gott Walter\", \"line\": {\"color\": \"#636efa\", \"dash\": \"solid\"}, \"mode\": \"lines\", \"name\": \"team=Mein Gott Walter\", \"showlegend\": false, \"type\": \"scatter\", \"x\": [1, 2, 3, 4], \"xaxis\": \"x\", \"y\": [43.5, 36.4, 39.1, 30.5], \"yaxis\": \"y\"}, {\"hoverlabel\": {\"namelength\": 0}, \"hovertemplate\": \"<b>%{hovertext}</b><br><br>team=Mein Gott Walter<br>player_name=Ja Morant<br>week=%{x}<br>points=%{y}\", \"hovertext\": [\"Ja Morant\", \"Ja Morant\", \"Ja Morant\", \"Ja Morant\"], \"legendgroup\": \"team=Mein Gott Walter\", \"line\": {\"color\": \"#636efa\", \"dash\": \"solid\"}, \"mode\": \"lines\", \"name\": \"team=Mein Gott Walter\", \"showlegend\": false, \"type\": \"scatter\", \"x\": [1, 2, 3, 4], \"xaxis\": \"x\", \"y\": [45.2, 46.2, 40.5, 44.2], \"yaxis\": \"y\"}, {\"hoverlabel\": {\"namelength\": 0}, \"hovertemplate\": \"<b>%{hovertext}</b><br><br>team=Mein Gott Walter<br>player_name=Jamal Murray<br>week=%{x}<br>points=%{y}\", \"hovertext\": [\"Jamal Murray\", \"Jamal Murray\", \"Jamal Murray\", \"Jamal Murray\"], \"legendgroup\": \"team=Mein Gott Walter\", \"line\": {\"color\": \"#636efa\", \"dash\": \"solid\"}, \"mode\": \"lines\", \"name\": \"team=Mein Gott Walter\", \"showlegend\": false, \"type\": \"scatter\", \"x\": [1, 2, 3, 4], \"xaxis\": \"x\", \"y\": [53.2, 41.1, 53.0, 53.5], \"yaxis\": \"y\"}, {\"hoverlabel\": {\"namelength\": 0}, \"hovertemplate\": \"<b>%{hovertext}</b><br><br>team=Mein Gott Walter<br>player_name=Jonathan Isaac<br>week=%{x}<br>points=%{y}\", \"hovertext\": [\"Jonathan Isaac\", \"Jonathan Isaac\", \"Jonathan Isaac\", \"Jonathan Isaac\"], \"legendgroup\": \"team=Mein Gott Walter\", \"line\": {\"color\": \"#636efa\", \"dash\": \"solid\"}, \"mode\": \"lines\", \"name\": \"team=Mein Gott Walter\", \"showlegend\": false, \"type\": \"scatter\", \"x\": [1, 2, 3, 4], \"xaxis\": \"x\", \"y\": [28.0, 47.4, 55.9, 32.5], \"yaxis\": \"y\"}, {\"hoverlabel\": {\"namelength\": 0}, \"hovertemplate\": \"<b>%{hovertext}</b><br><br>team=Mein Gott Walter<br>player_name=Kevin Knox<br>week=%{x}<br>points=%{y}\", \"hovertext\": [\"Kevin Knox\", \"Kevin Knox\"], \"legendgroup\": \"team=Mein Gott Walter\", \"line\": {\"color\": \"#636efa\", \"dash\": \"solid\"}, \"mode\": \"lines\", \"name\": \"team=Mein Gott Walter\", \"showlegend\": false, \"type\": \"scatter\", \"x\": [1, 2], \"xaxis\": \"x\", \"y\": [31.7, 26.8], \"yaxis\": \"y\"}, {\"hoverlabel\": {\"namelength\": 0}, \"hovertemplate\": \"<b>%{hovertext}</b><br><br>team=Mein Gott Walter<br>player_name=Kyrie Irving<br>week=%{x}<br>points=%{y}\", \"hovertext\": [\"Kyrie Irving\", \"Kyrie Irving\", \"Kyrie Irving\", \"Kyrie Irving\"], \"legendgroup\": \"team=Mein Gott Walter\", \"line\": {\"color\": \"#636efa\", \"dash\": \"solid\"}, \"mode\": \"lines\", \"name\": \"team=Mein Gott Walter\", \"showlegend\": false, \"type\": \"scatter\", \"x\": [1, 2, 3, 4], \"xaxis\": \"x\", \"y\": [92.5, 73.0, 70.2, 55.5], \"yaxis\": \"y\"}, {\"hoverlabel\": {\"namelength\": 0}, \"hovertemplate\": \"<b>%{hovertext}</b><br><br>team=Mein Gott Walter<br>player_name=Luka Doncic<br>week=%{x}<br>points=%{y}\", \"hovertext\": [\"Luka Doncic\", \"Luka Doncic\", \"Luka Doncic\", \"Luka Doncic\"], \"legendgroup\": \"team=Mein Gott Walter\", \"line\": {\"color\": \"#636efa\", \"dash\": \"solid\"}, \"mode\": \"lines\", \"name\": \"team=Mein Gott Walter\", \"showlegend\": false, \"type\": \"scatter\", \"x\": [1, 2, 3, 4], \"xaxis\": \"x\", \"y\": [88.5, 87.8, 85.2, 84.0], \"yaxis\": \"y\"}, {\"hoverlabel\": {\"namelength\": 0}, \"hovertemplate\": \"<b>%{hovertext}</b><br><br>team=Mein Gott Walter<br>player_name=Thomas Bryant<br>week=%{x}<br>points=%{y}\", \"hovertext\": [\"Thomas Bryant\", \"Thomas Bryant\", \"Thomas Bryant\", \"Thomas Bryant\"], \"legendgroup\": \"team=Mein Gott Walter\", \"line\": {\"color\": \"#636efa\", \"dash\": \"solid\"}, \"mode\": \"lines\", \"name\": \"team=Mein Gott Walter\", \"showlegend\": false, \"type\": \"scatter\", \"x\": [1, 2, 3, 4], \"xaxis\": \"x\", \"y\": [52.0, 47.5, 52.2, 39.5], \"yaxis\": \"y\"}, {\"hoverlabel\": {\"namelength\": 0}, \"hovertemplate\": \"<b>%{hovertext}</b><br><br>team=Mein Gott Walter<br>player_name=Zach LaVine<br>week=%{x}<br>points=%{y}\", \"hovertext\": [\"Zach LaVine\", \"Zach LaVine\", \"Zach LaVine\", \"Zach LaVine\"], \"legendgroup\": \"team=Mein Gott Walter\", \"line\": {\"color\": \"#636efa\", \"dash\": \"solid\"}, \"mode\": \"lines\", \"name\": \"team=Mein Gott Walter\", \"showlegend\": false, \"type\": \"scatter\", \"x\": [1, 2, 3, 4], \"xaxis\": \"x\", \"y\": [55.3, 46.0, 47.8, 55.5], \"yaxis\": \"y\"}, {\"hoverlabel\": {\"namelength\": 0}, \"hovertemplate\": \"<b>%{hovertext}</b><br><br>team=Mein Gott Walter<br>player_name=Cody Zeller<br>week=%{x}<br>points=%{y}\", \"hovertext\": [\"Cody Zeller\", \"Cody Zeller\", \"Cody Zeller\"], \"legendgroup\": \"team=Mein Gott Walter\", \"line\": {\"color\": \"#636efa\", \"dash\": \"solid\"}, \"mode\": \"lines\", \"name\": \"team=Mein Gott Walter\", \"showlegend\": false, \"type\": \"scatter\", \"x\": [2, 3, 4], \"xaxis\": \"x\", \"y\": [43.5, 31.1, 47.5], \"yaxis\": \"y\"}, {\"hoverlabel\": {\"namelength\": 0}, \"hovertemplate\": \"<b>%{hovertext}</b><br><br>team=Mein Gott Walter<br>player_name=P.J. Tucker<br>week=%{x}<br>points=%{y}\", \"hovertext\": [\"P.J. Tucker\", \"P.J. Tucker\"], \"legendgroup\": \"team=Mein Gott Walter\", \"line\": {\"color\": \"#636efa\", \"dash\": \"solid\"}, \"mode\": \"lines\", \"name\": \"team=Mein Gott Walter\", \"showlegend\": false, \"type\": \"scatter\", \"x\": [3, 4], \"xaxis\": \"x\", \"y\": [38.3, 26.8], \"yaxis\": \"y\"}, {\"hoverlabel\": {\"namelength\": 0}, \"hovertemplate\": \"<b>%{hovertext}</b><br><br>team=Mein Gott Walter<br>player_name=Dillon Brooks<br>week=%{x}<br>points=%{y}\", \"hovertext\": [\"Dillon Brooks\"], \"legendgroup\": \"team=Mein Gott Walter\", \"line\": {\"color\": \"#636efa\", \"dash\": \"solid\"}, \"mode\": \"lines\", \"name\": \"team=Mein Gott Walter\", \"showlegend\": false, \"type\": \"scatter\", \"x\": [4], \"xaxis\": \"x\", \"y\": [48.2], \"yaxis\": \"y\"}, {\"hoverlabel\": {\"namelength\": 0}, \"hovertemplate\": \"<b>%{hovertext}</b><br><br>team=SCC<br>player_name=Bojan Bogdanovic<br>week=%{x}<br>points=%{y}\", \"hovertext\": [\"Bojan Bogdanovic\", \"Bojan Bogdanovic\", \"Bojan Bogdanovic\", \"Bojan Bogdanovic\"], \"legendgroup\": \"team=SCC\", \"line\": {\"color\": \"#EF553B\", \"dash\": \"solid\"}, \"mode\": \"lines\", \"name\": \"team=SCC\", \"showlegend\": true, \"type\": \"scatter\", \"x\": [1, 2, 3, 4], \"xaxis\": \"x\", \"y\": [47.5, 48.0, 59.8, 26.8], \"yaxis\": \"y\"}, {\"hoverlabel\": {\"namelength\": 0}, \"hovertemplate\": \"<b>%{hovertext}</b><br><br>team=SCC<br>player_name=Caris LeVert<br>week=%{x}<br>points=%{y}\", \"hovertext\": [\"Caris LeVert\", \"Caris LeVert\", \"Caris LeVert\", \"Caris LeVert\"], \"legendgroup\": \"team=SCC\", \"line\": {\"color\": \"#EF553B\", \"dash\": \"solid\"}, \"mode\": \"lines\", \"name\": \"team=SCC\", \"showlegend\": false, \"type\": \"scatter\", \"x\": [1, 2, 3, 4], \"xaxis\": \"x\", \"y\": [45.5, 38.0, 37.0, 0.0], \"yaxis\": \"y\"}, {\"hoverlabel\": {\"namelength\": 0}, \"hovertemplate\": \"<b>%{hovertext}</b><br><br>team=SCC<br>player_name=Damian Lillard<br>week=%{x}<br>points=%{y}\", \"hovertext\": [\"Damian Lillard\", \"Damian Lillard\", \"Damian Lillard\", \"Damian Lillard\"], \"legendgroup\": \"team=SCC\", \"line\": {\"color\": \"#EF553B\", \"dash\": \"solid\"}, \"mode\": \"lines\", \"name\": \"team=SCC\", \"showlegend\": false, \"type\": \"scatter\", \"x\": [1, 2, 3, 4], \"xaxis\": \"x\", \"y\": [73.5, 85.8, 86.8, 51.2], \"yaxis\": \"y\"}, {\"hoverlabel\": {\"namelength\": 0}, \"hovertemplate\": \"<b>%{hovertext}</b><br><br>team=SCC<br>player_name=Enes Kanter<br>week=%{x}<br>points=%{y}\", \"hovertext\": [\"Enes Kanter\", \"Enes Kanter\", \"Enes Kanter\", \"Enes Kanter\"], \"legendgroup\": \"team=SCC\", \"line\": {\"color\": \"#EF553B\", \"dash\": \"solid\"}, \"mode\": \"lines\", \"name\": \"team=SCC\", \"showlegend\": false, \"type\": \"scatter\", \"x\": [1, 2, 3, 4], \"xaxis\": \"x\", \"y\": [31.0, 0.0, 0.0, 25.0], \"yaxis\": \"y\"}, {\"hoverlabel\": {\"namelength\": 0}, \"hovertemplate\": \"<b>%{hovertext}</b><br><br>team=SCC<br>player_name=Goran Dragic<br>week=%{x}<br>points=%{y}\", \"hovertext\": [\"Goran Dragic\", \"Goran Dragic\", \"Goran Dragic\", \"Goran Dragic\"], \"legendgroup\": \"team=SCC\", \"line\": {\"color\": \"#EF553B\", \"dash\": \"solid\"}, \"mode\": \"lines\", \"name\": \"team=SCC\", \"showlegend\": false, \"type\": \"scatter\", \"x\": [1, 2, 3, 4], \"xaxis\": \"x\", \"y\": [48.5, 34.0, 50.7, 48.5], \"yaxis\": \"y\"}, {\"hoverlabel\": {\"namelength\": 0}, \"hovertemplate\": \"<b>%{hovertext}</b><br><br>team=SCC<br>player_name=Jarrett Allen<br>week=%{x}<br>points=%{y}\", \"hovertext\": [\"Jarrett Allen\", \"Jarrett Allen\"], \"legendgroup\": \"team=SCC\", \"line\": {\"color\": \"#EF553B\", \"dash\": \"solid\"}, \"mode\": \"lines\", \"name\": \"team=SCC\", \"showlegend\": false, \"type\": \"scatter\", \"x\": [1, 2], \"xaxis\": \"x\", \"y\": [39.2, 28.2], \"yaxis\": \"y\"}, {\"hoverlabel\": {\"namelength\": 0}, \"hovertemplate\": \"<b>%{hovertext}</b><br><br>team=SCC<br>player_name=Jayson Tatum<br>week=%{x}<br>points=%{y}\", \"hovertext\": [\"Jayson Tatum\", \"Jayson Tatum\", \"Jayson Tatum\", \"Jayson Tatum\"], \"legendgroup\": \"team=SCC\", \"line\": {\"color\": \"#EF553B\", \"dash\": \"solid\"}, \"mode\": \"lines\", \"name\": \"team=SCC\", \"showlegend\": false, \"type\": \"scatter\", \"x\": [1, 2, 3, 4], \"xaxis\": \"x\", \"y\": [62.8, 58.5, 56.2, 35.0], \"yaxis\": \"y\"}, {\"hoverlabel\": {\"namelength\": 0}, \"hovertemplate\": \"<b>%{hovertext}</b><br><br>team=SCC<br>player_name=Jimmy Butler<br>week=%{x}<br>points=%{y}\", \"hovertext\": [\"Jimmy Butler\", \"Jimmy Butler\", \"Jimmy Butler\", \"Jimmy Butler\"], \"legendgroup\": \"team=SCC\", \"line\": {\"color\": \"#EF553B\", \"dash\": \"solid\"}, \"mode\": \"lines\", \"name\": \"team=SCC\", \"showlegend\": false, \"type\": \"scatter\", \"x\": [1, 2, 3, 4], \"xaxis\": \"x\", \"y\": [0.0, 60.8, 56.5, 69.5], \"yaxis\": \"y\"}, {\"hoverlabel\": {\"namelength\": 0}, \"hovertemplate\": \"<b>%{hovertext}</b><br><br>team=SCC<br>player_name=Kristaps Porzingis<br>week=%{x}<br>points=%{y}\", \"hovertext\": [\"Kristaps Porzingis\", \"Kristaps Porzingis\", \"Kristaps Porzingis\", \"Kristaps Porzingis\"], \"legendgroup\": \"team=SCC\", \"line\": {\"color\": \"#EF553B\", \"dash\": \"solid\"}, \"mode\": \"lines\", \"name\": \"team=SCC\", \"showlegend\": false, \"type\": \"scatter\", \"x\": [1, 2, 3, 4], \"xaxis\": \"x\", \"y\": [66.3, 50.7, 52.0, 15.0], \"yaxis\": \"y\"}, {\"hoverlabel\": {\"namelength\": 0}, \"hovertemplate\": \"<b>%{hovertext}</b><br><br>team=SCC<br>player_name=Marcus Morris<br>week=%{x}<br>points=%{y}\", \"hovertext\": [\"Marcus Morris\", \"Marcus Morris\"], \"legendgroup\": \"team=SCC\", \"line\": {\"color\": \"#EF553B\", \"dash\": \"solid\"}, \"mode\": \"lines\", \"name\": \"team=SCC\", \"showlegend\": false, \"type\": \"scatter\", \"x\": [1, 2], \"xaxis\": \"x\", \"y\": [38.5, 51.2], \"yaxis\": \"y\"}, {\"hoverlabel\": {\"namelength\": 0}, \"hovertemplate\": \"<b>%{hovertext}</b><br><br>team=SCC<br>player_name=Reggie Jackson<br>week=%{x}<br>points=%{y}\", \"hovertext\": [\"Reggie Jackson\"], \"legendgroup\": \"team=SCC\", \"line\": {\"color\": \"#EF553B\", \"dash\": \"solid\"}, \"mode\": \"lines\", \"name\": \"team=SCC\", \"showlegend\": false, \"type\": \"scatter\", \"x\": [1], \"xaxis\": \"x\", \"y\": [19.2], \"yaxis\": \"y\"}, {\"hoverlabel\": {\"namelength\": 0}, \"hovertemplate\": \"<b>%{hovertext}</b><br><br>team=SCC<br>player_name=Rui Hachimura<br>week=%{x}<br>points=%{y}\", \"hovertext\": [\"Rui Hachimura\", \"Rui Hachimura\", \"Rui Hachimura\", \"Rui Hachimura\"], \"legendgroup\": \"team=SCC\", \"line\": {\"color\": \"#EF553B\", \"dash\": \"solid\"}, \"mode\": \"lines\", \"name\": \"team=SCC\", \"showlegend\": false, \"type\": \"scatter\", \"x\": [1, 2, 3, 4], \"xaxis\": \"x\", \"y\": [43.3, 27.5, 34.3, 48.5], \"yaxis\": \"y\"}, {\"hoverlabel\": {\"namelength\": 0}, \"hovertemplate\": \"<b>%{hovertext}</b><br><br>team=SCC<br>player_name=Willie Cauley-Stein<br>week=%{x}<br>points=%{y}\", \"hovertext\": [\"Willie Cauley-Stein\", \"Willie Cauley-Stein\", \"Willie Cauley-Stein\"], \"legendgroup\": \"team=SCC\", \"line\": {\"color\": \"#EF553B\", \"dash\": \"solid\"}, \"mode\": \"lines\", \"name\": \"team=SCC\", \"showlegend\": false, \"type\": \"scatter\", \"x\": [1, 2, 3], \"xaxis\": \"x\", \"y\": [0.0, 29.2, 25.5], \"yaxis\": \"y\"}, {\"hoverlabel\": {\"namelength\": 0}, \"hovertemplate\": \"<b>%{hovertext}</b><br><br>team=SCC<br>player_name=Bryn Forbes<br>week=%{x}<br>points=%{y}\", \"hovertext\": [\"Bryn Forbes\", \"Bryn Forbes\"], \"legendgroup\": \"team=SCC\", \"line\": {\"color\": \"#EF553B\", \"dash\": \"solid\"}, \"mode\": \"lines\", \"name\": \"team=SCC\", \"showlegend\": false, \"type\": \"scatter\", \"x\": [2, 3], \"xaxis\": \"x\", \"y\": [30.9, 35.0], \"yaxis\": \"y\"}, {\"hoverlabel\": {\"namelength\": 0}, \"hovertemplate\": \"<b>%{hovertext}</b><br><br>team=SCC<br>player_name=Davis Bertans<br>week=%{x}<br>points=%{y}\", \"hovertext\": [\"Davis Bertans\"], \"legendgroup\": \"team=SCC\", \"line\": {\"color\": \"#EF553B\", \"dash\": \"solid\"}, \"mode\": \"lines\", \"name\": \"team=SCC\", \"showlegend\": false, \"type\": \"scatter\", \"x\": [3], \"xaxis\": \"x\", \"y\": [26.3], \"yaxis\": \"y\"}, {\"hoverlabel\": {\"namelength\": 0}, \"hovertemplate\": \"<b>%{hovertext}</b><br><br>team=SCC<br>player_name=DeAndre Jordan<br>week=%{x}<br>points=%{y}\", \"hovertext\": [\"DeAndre Jordan\"], \"legendgroup\": \"team=SCC\", \"line\": {\"color\": \"#EF553B\", \"dash\": \"solid\"}, \"mode\": \"lines\", \"name\": \"team=SCC\", \"showlegend\": false, \"type\": \"scatter\", \"x\": [3], \"xaxis\": \"x\", \"y\": [40.5], \"yaxis\": \"y\"}, {\"hoverlabel\": {\"namelength\": 0}, \"hovertemplate\": \"<b>%{hovertext}</b><br><br>team=SCC<br>player_name=Brandon Clarke<br>week=%{x}<br>points=%{y}\", \"hovertext\": [\"Brandon Clarke\"], \"legendgroup\": \"team=SCC\", \"line\": {\"color\": \"#EF553B\", \"dash\": \"solid\"}, \"mode\": \"lines\", \"name\": \"team=SCC\", \"showlegend\": false, \"type\": \"scatter\", \"x\": [4], \"xaxis\": \"x\", \"y\": [36.5], \"yaxis\": \"y\"}, {\"hoverlabel\": {\"namelength\": 0}, \"hovertemplate\": \"<b>%{hovertext}</b><br><br>team=SCC<br>player_name=Danuel House<br>week=%{x}<br>points=%{y}\", \"hovertext\": [\"Danuel House\"], \"legendgroup\": \"team=SCC\", \"line\": {\"color\": \"#EF553B\", \"dash\": \"solid\"}, \"mode\": \"lines\", \"name\": \"team=SCC\", \"showlegend\": false, \"type\": \"scatter\", \"x\": [4], \"xaxis\": \"x\", \"y\": [6.5], \"yaxis\": \"y\"}, {\"hoverlabel\": {\"namelength\": 0}, \"hovertemplate\": \"<b>%{hovertext}</b><br><br>team=SCC<br>player_name=Eric Paschall<br>week=%{x}<br>points=%{y}\", \"hovertext\": [\"Eric Paschall\"], \"legendgroup\": \"team=SCC\", \"line\": {\"color\": \"#EF553B\", \"dash\": \"solid\"}, \"mode\": \"lines\", \"name\": \"team=SCC\", \"showlegend\": false, \"type\": \"scatter\", \"x\": [4], \"xaxis\": \"x\", \"y\": [25.2], \"yaxis\": \"y\"}, {\"hoverlabel\": {\"namelength\": 0}, \"hovertemplate\": \"<b>%{hovertext}</b><br><br>team=SCC<br>player_name=P.J. Washington<br>week=%{x}<br>points=%{y}\", \"hovertext\": [\"P.J. Washington\"], \"legendgroup\": \"team=SCC\", \"line\": {\"color\": \"#EF553B\", \"dash\": \"solid\"}, \"mode\": \"lines\", \"name\": \"team=SCC\", \"showlegend\": false, \"type\": \"scatter\", \"x\": [4], \"xaxis\": \"x\", \"y\": [21.0], \"yaxis\": \"y\"}, {\"hoverlabel\": {\"namelength\": 0}, \"hovertemplate\": \"<b>%{hovertext}</b><br><br>team=bratkartoffeln beste<br>player_name=Bogdan Bogdanovic<br>week=%{x}<br>points=%{y}\", \"hovertext\": [\"Bogdan Bogdanovic\", \"Bogdan Bogdanovic\", \"Bogdan Bogdanovic\", \"Bogdan Bogdanovic\"], \"legendgroup\": \"team=bratkartoffeln beste\", \"line\": {\"color\": \"#00cc96\", \"dash\": \"solid\"}, \"mode\": \"lines\", \"name\": \"team=bratkartoffeln beste\", \"showlegend\": true, \"type\": \"scatter\", \"x\": [1, 2, 3, 4], \"xaxis\": \"x\", \"y\": [24.8, 29.2, 60.8, 80.0], \"yaxis\": \"y\"}, {\"hoverlabel\": {\"namelength\": 0}, \"hovertemplate\": \"<b>%{hovertext}</b><br><br>team=bratkartoffeln beste<br>player_name=Cedi Osman<br>week=%{x}<br>points=%{y}\", \"hovertext\": [\"Cedi Osman\", \"Cedi Osman\", \"Cedi Osman\", \"Cedi Osman\"], \"legendgroup\": \"team=bratkartoffeln beste\", \"line\": {\"color\": \"#00cc96\", \"dash\": \"solid\"}, \"mode\": \"lines\", \"name\": \"team=bratkartoffeln beste\", \"showlegend\": false, \"type\": \"scatter\", \"x\": [1, 2, 3, 4], \"xaxis\": \"x\", \"y\": [19.2, 33.5, 32.5, 10.5], \"yaxis\": \"y\"}, {\"hoverlabel\": {\"namelength\": 0}, \"hovertemplate\": \"<b>%{hovertext}</b><br><br>team=bratkartoffeln beste<br>player_name=Coby White<br>week=%{x}<br>points=%{y}\", \"hovertext\": [\"Coby White\", \"Coby White\", \"Coby White\", \"Coby White\"], \"legendgroup\": \"team=bratkartoffeln beste\", \"line\": {\"color\": \"#00cc96\", \"dash\": \"solid\"}, \"mode\": \"lines\", \"name\": \"team=bratkartoffeln beste\", \"showlegend\": false, \"type\": \"scatter\", \"x\": [1, 2, 3, 4], \"xaxis\": \"x\", \"y\": [42.2, 14.8, 27.7, 67.0], \"yaxis\": \"y\"}, {\"hoverlabel\": {\"namelength\": 0}, \"hovertemplate\": \"<b>%{hovertext}</b><br><br>team=bratkartoffeln beste<br>player_name=De'Aaron Fox<br>week=%{x}<br>points=%{y}\", \"hovertext\": [\"De'Aaron Fox\", \"De'Aaron Fox\", \"De'Aaron Fox\", \"De'Aaron Fox\"], \"legendgroup\": \"team=bratkartoffeln beste\", \"line\": {\"color\": \"#00cc96\", \"dash\": \"solid\"}, \"mode\": \"lines\", \"name\": \"team=bratkartoffeln beste\", \"showlegend\": false, \"type\": \"scatter\", \"x\": [1, 2, 3, 4], \"xaxis\": \"x\", \"y\": [33.2, 55.1, 53.0, 0.0], \"yaxis\": \"y\"}, {\"hoverlabel\": {\"namelength\": 0}, \"hovertemplate\": \"<b>%{hovertext}</b><br><br>team=bratkartoffeln beste<br>player_name=Dennis Schroder<br>week=%{x}<br>points=%{y}\", \"hovertext\": [\"Dennis Schroder\", \"Dennis Schroder\", \"Dennis Schroder\", \"Dennis Schroder\"], \"legendgroup\": \"team=bratkartoffeln beste\", \"line\": {\"color\": \"#00cc96\", \"dash\": \"solid\"}, \"mode\": \"lines\", \"name\": \"team=bratkartoffeln beste\", \"showlegend\": false, \"type\": \"scatter\", \"x\": [1, 2, 3, 4], \"xaxis\": \"x\", \"y\": [37.5, 47.3, 40.6, 21.0], \"yaxis\": \"y\"}, {\"hoverlabel\": {\"namelength\": 0}, \"hovertemplate\": \"<b>%{hovertext}</b><br><br>team=bratkartoffeln beste<br>player_name=Domantas Sabonis<br>week=%{x}<br>points=%{y}\", \"hovertext\": [\"Domantas Sabonis\", \"Domantas Sabonis\", \"Domantas Sabonis\", \"Domantas Sabonis\"], \"legendgroup\": \"team=bratkartoffeln beste\", \"line\": {\"color\": \"#00cc96\", \"dash\": \"solid\"}, \"mode\": \"lines\", \"name\": \"team=bratkartoffeln beste\", \"showlegend\": false, \"type\": \"scatter\", \"x\": [1, 2, 3, 4], \"xaxis\": \"x\", \"y\": [51.2, 68.5, 70.3, 63.0], \"yaxis\": \"y\"}, {\"hoverlabel\": {\"namelength\": 0}, \"hovertemplate\": \"<b>%{hovertext}</b><br><br>team=bratkartoffeln beste<br>player_name=James Harden<br>week=%{x}<br>points=%{y}\", \"hovertext\": [\"James Harden\", \"James Harden\", \"James Harden\", \"James Harden\"], \"legendgroup\": \"team=bratkartoffeln beste\", \"line\": {\"color\": \"#00cc96\", \"dash\": \"solid\"}, \"mode\": \"lines\", \"name\": \"team=bratkartoffeln beste\", \"showlegend\": false, \"type\": \"scatter\", \"x\": [1, 2, 3, 4], \"xaxis\": \"x\", \"y\": [57.5, 83.6, 114.5, 99.0], \"yaxis\": \"y\"}, {\"hoverlabel\": {\"namelength\": 0}, \"hovertemplate\": \"<b>%{hovertext}</b><br><br>team=bratkartoffeln beste<br>player_name=Jaren Jackson<br>week=%{x}<br>points=%{y}\", \"hovertext\": [\"Jaren Jackson\", \"Jaren Jackson\", \"Jaren Jackson\", \"Jaren Jackson\"], \"legendgroup\": \"team=bratkartoffeln beste\", \"line\": {\"color\": \"#00cc96\", \"dash\": \"solid\"}, \"mode\": \"lines\", \"name\": \"team=bratkartoffeln beste\", \"showlegend\": false, \"type\": \"scatter\", \"x\": [1, 2, 3, 4], \"xaxis\": \"x\", \"y\": [46.0, 21.0, 26.7, 60.5], \"yaxis\": \"y\"}, {\"hoverlabel\": {\"namelength\": 0}, \"hovertemplate\": \"<b>%{hovertext}</b><br><br>team=bratkartoffeln beste<br>player_name=Kyle Kuzma<br>week=%{x}<br>points=%{y}\", \"hovertext\": [\"Kyle Kuzma\", \"Kyle Kuzma\", \"Kyle Kuzma\", \"Kyle Kuzma\"], \"legendgroup\": \"team=bratkartoffeln beste\", \"line\": {\"color\": \"#00cc96\", \"dash\": \"solid\"}, \"mode\": \"lines\", \"name\": \"team=bratkartoffeln beste\", \"showlegend\": false, \"type\": \"scatter\", \"x\": [1, 2, 3, 4], \"xaxis\": \"x\", \"y\": [0.0, 15.2, 26.8, 49.0], \"yaxis\": \"y\"}, {\"hoverlabel\": {\"namelength\": 0}, \"hovertemplate\": \"<b>%{hovertext}</b><br><br>team=bratkartoffeln beste<br>player_name=Lauri Markkanen<br>week=%{x}<br>points=%{y}\", \"hovertext\": [\"Lauri Markkanen\", \"Lauri Markkanen\", \"Lauri Markkanen\", \"Lauri Markkanen\"], \"legendgroup\": \"team=bratkartoffeln beste\", \"line\": {\"color\": \"#00cc96\", \"dash\": \"solid\"}, \"mode\": \"lines\", \"name\": \"team=bratkartoffeln beste\", \"showlegend\": false, \"type\": \"scatter\", \"x\": [1, 2, 3, 4], \"xaxis\": \"x\", \"y\": [51.2, 41.4, 36.0, 34.5], \"yaxis\": \"y\"}, {\"hoverlabel\": {\"namelength\": 0}, \"hovertemplate\": \"<b>%{hovertext}</b><br><br>team=bratkartoffeln beste<br>player_name=OG Anunoby<br>week=%{x}<br>points=%{y}\", \"hovertext\": [\"OG Anunoby\", \"OG Anunoby\", \"OG Anunoby\", \"OG Anunoby\"], \"legendgroup\": \"team=bratkartoffeln beste\", \"line\": {\"color\": \"#00cc96\", \"dash\": \"solid\"}, \"mode\": \"lines\", \"name\": \"team=bratkartoffeln beste\", \"showlegend\": false, \"type\": \"scatter\", \"x\": [1, 2, 3, 4], \"xaxis\": \"x\", \"y\": [42.0, 45.0, 50.0, 0.5], \"yaxis\": \"y\"}, {\"hoverlabel\": {\"namelength\": 0}, \"hovertemplate\": \"<b>%{hovertext}</b><br><br>team=bratkartoffeln beste<br>player_name=Rudy Gobert<br>week=%{x}<br>points=%{y}\", \"hovertext\": [\"Rudy Gobert\", \"Rudy Gobert\", \"Rudy Gobert\", \"Rudy Gobert\"], \"legendgroup\": \"team=bratkartoffeln beste\", \"line\": {\"color\": \"#00cc96\", \"dash\": \"solid\"}, \"mode\": \"lines\", \"name\": \"team=bratkartoffeln beste\", \"showlegend\": false, \"type\": \"scatter\", \"x\": [1, 2, 3, 4], \"xaxis\": \"x\", \"y\": [27.5, 51.1, 52.2, 74.5], \"yaxis\": \"y\"}, {\"hoverlabel\": {\"namelength\": 0}, \"hovertemplate\": \"<b>%{hovertext}</b><br><br>team=bratkartoffeln beste<br>player_name=Tobias Harris<br>week=%{x}<br>points=%{y}\", \"hovertext\": [\"Tobias Harris\", \"Tobias Harris\", \"Tobias Harris\", \"Tobias Harris\"], \"legendgroup\": \"team=bratkartoffeln beste\", \"line\": {\"color\": \"#00cc96\", \"dash\": \"solid\"}, \"mode\": \"lines\", \"name\": \"team=bratkartoffeln beste\", \"showlegend\": false, \"type\": \"scatter\", \"x\": [1, 2, 3, 4], \"xaxis\": \"x\", \"y\": [66.5, 49.0, 51.0, 32.2], \"yaxis\": \"y\"}, {\"hoverlabel\": {\"namelength\": 0}, \"hovertemplate\": \"<b>%{hovertext}</b><br><br>team=Knights of sweet love<br>player_name=Jarrett Allen<br>week=%{x}<br>points=%{y}\", \"hovertext\": [\"Jarrett Allen\"], \"legendgroup\": \"team=Knights of sweet love\", \"line\": {\"color\": \"#ab63fa\", \"dash\": \"solid\"}, \"mode\": \"lines\", \"name\": \"team=Knights of sweet love\", \"showlegend\": true, \"type\": \"scatter\", \"x\": [4], \"xaxis\": \"x\", \"y\": [22.5], \"yaxis\": \"y\"}, {\"hoverlabel\": {\"namelength\": 0}, \"hovertemplate\": \"<b>%{hovertext}</b><br><br>team=Knights of sweet love<br>player_name=Bam Adebayo<br>week=%{x}<br>points=%{y}\", \"hovertext\": [\"Bam Adebayo\", \"Bam Adebayo\", \"Bam Adebayo\", \"Bam Adebayo\"], \"legendgroup\": \"team=Knights of sweet love\", \"line\": {\"color\": \"#ab63fa\", \"dash\": \"solid\"}, \"mode\": \"lines\", \"name\": \"team=Knights of sweet love\", \"showlegend\": false, \"type\": \"scatter\", \"x\": [1, 2, 3, 4], \"xaxis\": \"x\", \"y\": [55.2, 50.0, 49.7, 56.5], \"yaxis\": \"y\"}, {\"hoverlabel\": {\"namelength\": 0}, \"hovertemplate\": \"<b>%{hovertext}</b><br><br>team=Knights of sweet love<br>player_name=Darius Garland<br>week=%{x}<br>points=%{y}\", \"hovertext\": [\"Darius Garland\", \"Darius Garland\"], \"legendgroup\": \"team=Knights of sweet love\", \"line\": {\"color\": \"#ab63fa\", \"dash\": \"solid\"}, \"mode\": \"lines\", \"name\": \"team=Knights of sweet love\", \"showlegend\": false, \"type\": \"scatter\", \"x\": [1, 2], \"xaxis\": \"x\", \"y\": [28.2, 16.8], \"yaxis\": \"y\"}, {\"hoverlabel\": {\"namelength\": 0}, \"hovertemplate\": \"<b>%{hovertext}</b><br><br>team=Knights of sweet love<br>player_name=Dwight Howard<br>week=%{x}<br>points=%{y}\", \"hovertext\": [\"Dwight Howard\", \"Dwight Howard\"], \"legendgroup\": \"team=Knights of sweet love\", \"line\": {\"color\": \"#ab63fa\", \"dash\": \"solid\"}, \"mode\": \"lines\", \"name\": \"team=Knights of sweet love\", \"showlegend\": false, \"type\": \"scatter\", \"x\": [1, 2], \"xaxis\": \"x\", \"y\": [35.7, 38.0], \"yaxis\": \"y\"}, {\"hoverlabel\": {\"namelength\": 0}, \"hovertemplate\": \"<b>%{hovertext}</b><br><br>team=Knights of sweet love<br>player_name=Gary Harris<br>week=%{x}<br>points=%{y}\", \"hovertext\": [\"Gary Harris\", \"Gary Harris\", \"Gary Harris\", \"Gary Harris\"], \"legendgroup\": \"team=Knights of sweet love\", \"line\": {\"color\": \"#ab63fa\", \"dash\": \"solid\"}, \"mode\": \"lines\", \"name\": \"team=Knights of sweet love\", \"showlegend\": false, \"type\": \"scatter\", \"x\": [1, 2, 3, 4], \"xaxis\": \"x\", \"y\": [22.5, 38.6, 24.2, 36.5], \"yaxis\": \"y\"}, {\"hoverlabel\": {\"namelength\": 0}, \"hovertemplate\": \"<b>%{hovertext}</b><br><br>team=Knights of sweet love<br>player_name=Jeff Teague<br>week=%{x}<br>points=%{y}\", \"hovertext\": [\"Jeff Teague\", \"Jeff Teague\", \"Jeff Teague\", \"Jeff Teague\"], \"legendgroup\": \"team=Knights of sweet love\", \"line\": {\"color\": \"#ab63fa\", \"dash\": \"solid\"}, \"mode\": \"lines\", \"name\": \"team=Knights of sweet love\", \"showlegend\": false, \"type\": \"scatter\", \"x\": [1, 2, 3, 4], \"xaxis\": \"x\", \"y\": [36.2, 50.5, 26.5, 50.0], \"yaxis\": \"y\"}, {\"hoverlabel\": {\"namelength\": 0}, \"hovertemplate\": \"<b>%{hovertext}</b><br><br>team=Knights of sweet love<br>player_name=John Collins<br>week=%{x}<br>points=%{y}\", \"hovertext\": [\"John Collins\", \"John Collins\", \"John Collins\", \"John Collins\"], \"legendgroup\": \"team=Knights of sweet love\", \"line\": {\"color\": \"#ab63fa\", \"dash\": \"solid\"}, \"mode\": \"lines\", \"name\": \"team=Knights of sweet love\", \"showlegend\": false, \"type\": \"scatter\", \"x\": [1, 2, 3, 4], \"xaxis\": \"x\", \"y\": [52.2, 57.0, 0.0, 0.0], \"yaxis\": \"y\"}, {\"hoverlabel\": {\"namelength\": 0}, \"hovertemplate\": \"<b>%{hovertext}</b><br><br>team=Knights of sweet love<br>player_name=Jonas Valanciunas<br>week=%{x}<br>points=%{y}\", \"hovertext\": [\"Jonas Valanciunas\", \"Jonas Valanciunas\", \"Jonas Valanciunas\", \"Jonas Valanciunas\"], \"legendgroup\": \"team=Knights of sweet love\", \"line\": {\"color\": \"#ab63fa\", \"dash\": \"solid\"}, \"mode\": \"lines\", \"name\": \"team=Knights of sweet love\", \"showlegend\": false, \"type\": \"scatter\", \"x\": [1, 2, 3, 4], \"xaxis\": \"x\", \"y\": [40.7, 40.0, 37.0, 58.5], \"yaxis\": \"y\"}, {\"hoverlabel\": {\"namelength\": 0}, \"hovertemplate\": \"<b>%{hovertext}</b><br><br>team=Knights of sweet love<br>player_name=Karl-Anthony Towns<br>week=%{x}<br>points=%{y}\", \"hovertext\": [\"Karl-Anthony Towns\", \"Karl-Anthony Towns\", \"Karl-Anthony Towns\", \"Karl-Anthony Towns\"], \"legendgroup\": \"team=Knights of sweet love\", \"line\": {\"color\": \"#ab63fa\", \"dash\": \"solid\"}, \"mode\": \"lines\", \"name\": \"team=Knights of sweet love\", \"showlegend\": false, \"type\": \"scatter\", \"x\": [1, 2, 3, 4], \"xaxis\": \"x\", \"y\": [106.0, 44.5, 76.3, 80.2], \"yaxis\": \"y\"}, {\"hoverlabel\": {\"namelength\": 0}, \"hovertemplate\": \"<b>%{hovertext}</b><br><br>team=Knights of sweet love<br>player_name=Ricky Rubio<br>week=%{x}<br>points=%{y}\", \"hovertext\": [\"Ricky Rubio\", \"Ricky Rubio\", \"Ricky Rubio\", \"Ricky Rubio\"], \"legendgroup\": \"team=Knights of sweet love\", \"line\": {\"color\": \"#ab63fa\", \"dash\": \"solid\"}, \"mode\": \"lines\", \"name\": \"team=Knights of sweet love\", \"showlegend\": false, \"type\": \"scatter\", \"x\": [1, 2, 3, 4], \"xaxis\": \"x\", \"y\": [49.8, 45.2, 67.5, 68.0], \"yaxis\": \"y\"}, {\"hoverlabel\": {\"namelength\": 0}, \"hovertemplate\": \"<b>%{hovertext}</b><br><br>team=Knights of sweet love<br>player_name=Shai Gilgeous-Alexander<br>week=%{x}<br>points=%{y}\", \"hovertext\": [\"Shai Gilgeous-Alexander\", \"Shai Gilgeous-Alexander\", \"Shai Gilgeous-Alexander\", \"Shai Gilgeous-Alexander\"], \"legendgroup\": \"team=Knights of sweet love\", \"line\": {\"color\": \"#ab63fa\", \"dash\": \"solid\"}, \"mode\": \"lines\", \"name\": \"team=Knights of sweet love\", \"showlegend\": false, \"type\": \"scatter\", \"x\": [1, 2, 3, 4], \"xaxis\": \"x\", \"y\": [60.7, 51.3, 46.8, 25.0], \"yaxis\": \"y\"}, {\"hoverlabel\": {\"namelength\": 0}, \"hovertemplate\": \"<b>%{hovertext}</b><br><br>team=Knights of sweet love<br>player_name=Terry Rozier<br>week=%{x}<br>points=%{y}\", \"hovertext\": [\"Terry Rozier\", \"Terry Rozier\", \"Terry Rozier\", \"Terry Rozier\"], \"legendgroup\": \"team=Knights of sweet love\", \"line\": {\"color\": \"#ab63fa\", \"dash\": \"solid\"}, \"mode\": \"lines\", \"name\": \"team=Knights of sweet love\", \"showlegend\": false, \"type\": \"scatter\", \"x\": [1, 2, 3, 4], \"xaxis\": \"x\", \"y\": [40.7, 51.0, 34.5, 88.0], \"yaxis\": \"y\"}, {\"hoverlabel\": {\"namelength\": 0}, \"hovertemplate\": \"<b>%{hovertext}</b><br><br>team=Knights of sweet love<br>player_name=Trae Young<br>week=%{x}<br>points=%{y}\", \"hovertext\": [\"Trae Young\", \"Trae Young\", \"Trae Young\", \"Trae Young\"], \"legendgroup\": \"team=Knights of sweet love\", \"line\": {\"color\": \"#ab63fa\", \"dash\": \"solid\"}, \"mode\": \"lines\", \"name\": \"team=Knights of sweet love\", \"showlegend\": false, \"type\": \"scatter\", \"x\": [1, 2, 3, 4], \"xaxis\": \"x\", \"y\": [97.2, 35.0, 71.8, 111.0], \"yaxis\": \"y\"}, {\"hoverlabel\": {\"namelength\": 0}, \"hovertemplate\": \"<b>%{hovertext}</b><br><br>team=Knights of sweet love<br>player_name=Trevor Ariza<br>week=%{x}<br>points=%{y}\", \"hovertext\": [\"Trevor Ariza\"], \"legendgroup\": \"team=Knights of sweet love\", \"line\": {\"color\": \"#ab63fa\", \"dash\": \"solid\"}, \"mode\": \"lines\", \"name\": \"team=Knights of sweet love\", \"showlegend\": false, \"type\": \"scatter\", \"x\": [1], \"xaxis\": \"x\", \"y\": [10.3], \"yaxis\": \"y\"}, {\"hoverlabel\": {\"namelength\": 0}, \"hovertemplate\": \"<b>%{hovertext}</b><br><br>team=Knights of sweet love<br>player_name=Josh Hart<br>week=%{x}<br>points=%{y}\", \"hovertext\": [\"Josh Hart\", \"Josh Hart\"], \"legendgroup\": \"team=Knights of sweet love\", \"line\": {\"color\": \"#ab63fa\", \"dash\": \"solid\"}, \"mode\": \"lines\", \"name\": \"team=Knights of sweet love\", \"showlegend\": false, \"type\": \"scatter\", \"x\": [2, 3], \"xaxis\": \"x\", \"y\": [37.0, 30.3], \"yaxis\": \"y\"}, {\"hoverlabel\": {\"namelength\": 0}, \"hovertemplate\": \"<b>%{hovertext}</b><br><br>team=Knights of sweet love<br>player_name=Isaiah Thomas<br>week=%{x}<br>points=%{y}\", \"hovertext\": [\"Isaiah Thomas\", \"Isaiah Thomas\"], \"legendgroup\": \"team=Knights of sweet love\", \"line\": {\"color\": \"#ab63fa\", \"dash\": \"solid\"}, \"mode\": \"lines\", \"name\": \"team=Knights of sweet love\", \"showlegend\": false, \"type\": \"scatter\", \"x\": [3, 4], \"xaxis\": \"x\", \"y\": [28.2, 47.0], \"yaxis\": \"y\"}, {\"hoverlabel\": {\"namelength\": 0}, \"hovertemplate\": \"<b>%{hovertext}</b><br><br>team=Knights of sweet love<br>player_name=Otto Porter<br>week=%{x}<br>points=%{y}\", \"hovertext\": [\"Otto Porter\", \"Otto Porter\"], \"legendgroup\": \"team=Knights of sweet love\", \"line\": {\"color\": \"#ab63fa\", \"dash\": \"solid\"}, \"mode\": \"lines\", \"name\": \"team=Knights of sweet love\", \"showlegend\": false, \"type\": \"scatter\", \"x\": [3, 4], \"xaxis\": \"x\", \"y\": [44.5, 0.0], \"yaxis\": \"y\"}, {\"hoverlabel\": {\"namelength\": 0}, \"hovertemplate\": \"<b>%{hovertext}</b><br><br>team=skinny bitches<br>player_name=DeAndre Jordan<br>week=%{x}<br>points=%{y}\", \"hovertext\": [\"DeAndre Jordan\", \"DeAndre Jordan\"], \"legendgroup\": \"team=skinny bitches\", \"line\": {\"color\": \"#FFA15A\", \"dash\": \"solid\"}, \"mode\": \"lines\", \"name\": \"team=skinny bitches\", \"showlegend\": true, \"type\": \"scatter\", \"x\": [1, 2], \"xaxis\": \"x\", \"y\": [23.7, 40.3], \"yaxis\": \"y\"}, {\"hoverlabel\": {\"namelength\": 0}, \"hovertemplate\": \"<b>%{hovertext}</b><br><br>team=skinny bitches<br>player_name=P.J. Washington<br>week=%{x}<br>points=%{y}\", \"hovertext\": [\"P.J. Washington\"], \"legendgroup\": \"team=skinny bitches\", \"line\": {\"color\": \"#FFA15A\", \"dash\": \"solid\"}, \"mode\": \"lines\", \"name\": \"team=skinny bitches\", \"showlegend\": false, \"type\": \"scatter\", \"x\": [3], \"xaxis\": \"x\", \"y\": [37.1], \"yaxis\": \"y\"}, {\"hoverlabel\": {\"namelength\": 0}, \"hovertemplate\": \"<b>%{hovertext}</b><br><br>team=skinny bitches<br>player_name=Josh Hart<br>week=%{x}<br>points=%{y}\", \"hovertext\": [\"Josh Hart\"], \"legendgroup\": \"team=skinny bitches\", \"line\": {\"color\": \"#FFA15A\", \"dash\": \"solid\"}, \"mode\": \"lines\", \"name\": \"team=skinny bitches\", \"showlegend\": false, \"type\": \"scatter\", \"x\": [4], \"xaxis\": \"x\", \"y\": [53.5], \"yaxis\": \"y\"}, {\"hoverlabel\": {\"namelength\": 0}, \"hovertemplate\": \"<b>%{hovertext}</b><br><br>team=skinny bitches<br>player_name=Andre Drummond<br>week=%{x}<br>points=%{y}\", \"hovertext\": [\"Andre Drummond\", \"Andre Drummond\", \"Andre Drummond\", \"Andre Drummond\"], \"legendgroup\": \"team=skinny bitches\", \"line\": {\"color\": \"#FFA15A\", \"dash\": \"solid\"}, \"mode\": \"lines\", \"name\": \"team=skinny bitches\", \"showlegend\": false, \"type\": \"scatter\", \"x\": [1, 2, 3, 4], \"xaxis\": \"x\", \"y\": [76.7, 84.0, 72.2, 52.2], \"yaxis\": \"y\"}, {\"hoverlabel\": {\"namelength\": 0}, \"hovertemplate\": \"<b>%{hovertext}</b><br><br>team=skinny bitches<br>player_name=Collin Sexton<br>week=%{x}<br>points=%{y}\", \"hovertext\": [\"Collin Sexton\", \"Collin Sexton\", \"Collin Sexton\", \"Collin Sexton\"], \"legendgroup\": \"team=skinny bitches\", \"line\": {\"color\": \"#FFA15A\", \"dash\": \"solid\"}, \"mode\": \"lines\", \"name\": \"team=skinny bitches\", \"showlegend\": false, \"type\": \"scatter\", \"x\": [1, 2, 3, 4], \"xaxis\": \"x\", \"y\": [36.5, 35.8, 49.2, 42.0], \"yaxis\": \"y\"}, {\"hoverlabel\": {\"namelength\": 0}, \"hovertemplate\": \"<b>%{hovertext}</b><br><br>team=skinny bitches<br>player_name=Dennis Smith<br>week=%{x}<br>points=%{y}\", \"hovertext\": [\"Dennis Smith\"], \"legendgroup\": \"team=skinny bitches\", \"line\": {\"color\": \"#FFA15A\", \"dash\": \"solid\"}, \"mode\": \"lines\", \"name\": \"team=skinny bitches\", \"showlegend\": false, \"type\": \"scatter\", \"x\": [1], \"xaxis\": \"x\", \"y\": [3.3], \"yaxis\": \"y\"}, {\"hoverlabel\": {\"namelength\": 0}, \"hovertemplate\": \"<b>%{hovertext}</b><br><br>team=skinny bitches<br>player_name=Ivica Zubac<br>week=%{x}<br>points=%{y}\", \"hovertext\": [\"Ivica Zubac\"], \"legendgroup\": \"team=skinny bitches\", \"line\": {\"color\": \"#FFA15A\", \"dash\": \"solid\"}, \"mode\": \"lines\", \"name\": \"team=skinny bitches\", \"showlegend\": false, \"type\": \"scatter\", \"x\": [1], \"xaxis\": \"x\", \"y\": [29.0], \"yaxis\": \"y\"}, {\"hoverlabel\": {\"namelength\": 0}, \"hovertemplate\": \"<b>%{hovertext}</b><br><br>team=skinny bitches<br>player_name=Joe Ingles<br>week=%{x}<br>points=%{y}\", \"hovertext\": [\"Joe Ingles\", \"Joe Ingles\"], \"legendgroup\": \"team=skinny bitches\", \"line\": {\"color\": \"#FFA15A\", \"dash\": \"solid\"}, \"mode\": \"lines\", \"name\": \"team=skinny bitches\", \"showlegend\": false, \"type\": \"scatter\", \"x\": [1, 2], \"xaxis\": \"x\", \"y\": [22.3, 31.2], \"yaxis\": \"y\"}, {\"hoverlabel\": {\"namelength\": 0}, \"hovertemplate\": \"<b>%{hovertext}</b><br><br>team=skinny bitches<br>player_name=Markelle Fultz<br>week=%{x}<br>points=%{y}\", \"hovertext\": [\"Markelle Fultz\"], \"legendgroup\": \"team=skinny bitches\", \"line\": {\"color\": \"#FFA15A\", \"dash\": \"solid\"}, \"mode\": \"lines\", \"name\": \"team=skinny bitches\", \"showlegend\": false, \"type\": \"scatter\", \"x\": [1], \"xaxis\": \"x\", \"y\": [32.2], \"yaxis\": \"y\"}, {\"hoverlabel\": {\"namelength\": 0}, \"hovertemplate\": \"<b>%{hovertext}</b><br><br>team=skinny bitches<br>player_name=Michael Porter<br>week=%{x}<br>points=%{y}\", \"hovertext\": [\"Michael Porter\", \"Michael Porter\", \"Michael Porter\"], \"legendgroup\": \"team=skinny bitches\", \"line\": {\"color\": \"#FFA15A\", \"dash\": \"solid\"}, \"mode\": \"lines\", \"name\": \"team=skinny bitches\", \"showlegend\": false, \"type\": \"scatter\", \"x\": [1, 2, 3], \"xaxis\": \"x\", \"y\": [0.0, 20.5, 9.2], \"yaxis\": \"y\"}, {\"hoverlabel\": {\"namelength\": 0}, \"hovertemplate\": \"<b>%{hovertext}</b><br><br>team=skinny bitches<br>player_name=Mike Conley<br>week=%{x}<br>points=%{y}\", \"hovertext\": [\"Mike Conley\", \"Mike Conley\", \"Mike Conley\"], \"legendgroup\": \"team=skinny bitches\", \"line\": {\"color\": \"#FFA15A\", \"dash\": \"solid\"}, \"mode\": \"lines\", \"name\": \"team=skinny bitches\", \"showlegend\": false, \"type\": \"scatter\", \"x\": [1, 2, 3], \"xaxis\": \"x\", \"y\": [25.3, 33.1, 44.8], \"yaxis\": \"y\"}, {\"hoverlabel\": {\"namelength\": 0}, \"hovertemplate\": \"<b>%{hovertext}</b><br><br>team=skinny bitches<br>player_name=Miles Bridges<br>week=%{x}<br>points=%{y}\", \"hovertext\": [\"Miles Bridges\", \"Miles Bridges\", \"Miles Bridges\", \"Miles Bridges\"], \"legendgroup\": \"team=skinny bitches\", \"line\": {\"color\": \"#FFA15A\", \"dash\": \"solid\"}, \"mode\": \"lines\", \"name\": \"team=skinny bitches\", \"showlegend\": false, \"type\": \"scatter\", \"x\": [1, 2, 3, 4], \"xaxis\": \"x\", \"y\": [38.7, 29.2, 39.6, 52.5], \"yaxis\": \"y\"}, {\"hoverlabel\": {\"namelength\": 0}, \"hovertemplate\": \"<b>%{hovertext}</b><br><br>team=skinny bitches<br>player_name=Nikola Jokic<br>week=%{x}<br>points=%{y}\", \"hovertext\": [\"Nikola Jokic\", \"Nikola Jokic\", \"Nikola Jokic\"], \"legendgroup\": \"team=skinny bitches\", \"line\": {\"color\": \"#FFA15A\", \"dash\": \"solid\"}, \"mode\": \"lines\", \"name\": \"team=skinny bitches\", \"showlegend\": false, \"type\": \"scatter\", \"x\": [1, 2, 3], \"xaxis\": \"x\", \"y\": [79.0, 51.6, 58.8], \"yaxis\": \"y\"}, {\"hoverlabel\": {\"namelength\": 0}, \"hovertemplate\": \"<b>%{hovertext}</b><br><br>team=skinny bitches<br>player_name=Pascal Siakam<br>week=%{x}<br>points=%{y}\", \"hovertext\": [\"Pascal Siakam\", \"Pascal Siakam\", \"Pascal Siakam\", \"Pascal Siakam\"], \"legendgroup\": \"team=skinny bitches\", \"line\": {\"color\": \"#FFA15A\", \"dash\": \"solid\"}, \"mode\": \"lines\", \"name\": \"team=skinny bitches\", \"showlegend\": false, \"type\": \"scatter\", \"x\": [1, 2, 3, 4], \"xaxis\": \"x\", \"y\": [70.7, 56.2, 82.8, 68.2], \"yaxis\": \"y\"}, {\"hoverlabel\": {\"namelength\": 0}, \"hovertemplate\": \"<b>%{hovertext}</b><br><br>team=skinny bitches<br>player_name=RJ Barrett<br>week=%{x}<br>points=%{y}\", \"hovertext\": [\"RJ Barrett\", \"RJ Barrett\", \"RJ Barrett\", \"RJ Barrett\"], \"legendgroup\": \"team=skinny bitches\", \"line\": {\"color\": \"#FFA15A\", \"dash\": \"solid\"}, \"mode\": \"lines\", \"name\": \"team=skinny bitches\", \"showlegend\": false, \"type\": \"scatter\", \"x\": [1, 2, 3, 4], \"xaxis\": \"x\", \"y\": [51.3, 43.8, 26.5, 66.5], \"yaxis\": \"y\"}, {\"hoverlabel\": {\"namelength\": 0}, \"hovertemplate\": \"<b>%{hovertext}</b><br><br>team=skinny bitches<br>player_name=Aron Baynes<br>week=%{x}<br>points=%{y}\", \"hovertext\": [\"Aron Baynes\", \"Aron Baynes\", \"Aron Baynes\"], \"legendgroup\": \"team=skinny bitches\", \"line\": {\"color\": \"#FFA15A\", \"dash\": \"solid\"}, \"mode\": \"lines\", \"name\": \"team=skinny bitches\", \"showlegend\": false, \"type\": \"scatter\", \"x\": [2, 3, 4], \"xaxis\": \"x\", \"y\": [58.5, 51.3, 55.5], \"yaxis\": \"y\"}, {\"hoverlabel\": {\"namelength\": 0}, \"hovertemplate\": \"<b>%{hovertext}</b><br><br>team=skinny bitches<br>player_name=Kendrick Nunn<br>week=%{x}<br>points=%{y}\", \"hovertext\": [\"Kendrick Nunn\", \"Kendrick Nunn\"], \"legendgroup\": \"team=skinny bitches\", \"line\": {\"color\": \"#FFA15A\", \"dash\": \"solid\"}, \"mode\": \"lines\", \"name\": \"team=skinny bitches\", \"showlegend\": false, \"type\": \"scatter\", \"x\": [2, 3], \"xaxis\": \"x\", \"y\": [37.7, 27.2], \"yaxis\": \"y\"}, {\"hoverlabel\": {\"namelength\": 0}, \"hovertemplate\": \"<b>%{hovertext}</b><br><br>team=skinny bitches<br>player_name=Luke Kennard<br>week=%{x}<br>points=%{y}\", \"hovertext\": [\"Luke Kennard\", \"Luke Kennard\", \"Luke Kennard\"], \"legendgroup\": \"team=skinny bitches\", \"line\": {\"color\": \"#FFA15A\", \"dash\": \"solid\"}, \"mode\": \"lines\", \"name\": \"team=skinny bitches\", \"showlegend\": false, \"type\": \"scatter\", \"x\": [2, 3, 4], \"xaxis\": \"x\", \"y\": [38.1, 54.8, 60.5], \"yaxis\": \"y\"}, {\"hoverlabel\": {\"namelength\": 0}, \"hovertemplate\": \"<b>%{hovertext}</b><br><br>team=skinny bitches<br>player_name=DeAndre' Bembry<br>week=%{x}<br>points=%{y}\", \"hovertext\": [\"DeAndre' Bembry\"], \"legendgroup\": \"team=skinny bitches\", \"line\": {\"color\": \"#FFA15A\", \"dash\": \"solid\"}, \"mode\": \"lines\", \"name\": \"team=skinny bitches\", \"showlegend\": false, \"type\": \"scatter\", \"x\": [3], \"xaxis\": \"x\", \"y\": [21.9], \"yaxis\": \"y\"}, {\"hoverlabel\": {\"namelength\": 0}, \"hovertemplate\": \"<b>%{hovertext}</b><br><br>team=skinny bitches<br>player_name=Richaun Holmes<br>week=%{x}<br>points=%{y}\", \"hovertext\": [\"Richaun Holmes\"], \"legendgroup\": \"team=skinny bitches\", \"line\": {\"color\": \"#FFA15A\", \"dash\": \"solid\"}, \"mode\": \"lines\", \"name\": \"team=skinny bitches\", \"showlegend\": false, \"type\": \"scatter\", \"x\": [3], \"xaxis\": \"x\", \"y\": [28.0], \"yaxis\": \"y\"}, {\"hoverlabel\": {\"namelength\": 0}, \"hovertemplate\": \"<b>%{hovertext}</b><br><br>team=skinny bitches<br>player_name=Alec Burks<br>week=%{x}<br>points=%{y}\", \"hovertext\": [\"Alec Burks\"], \"legendgroup\": \"team=skinny bitches\", \"line\": {\"color\": \"#FFA15A\", \"dash\": \"solid\"}, \"mode\": \"lines\", \"name\": \"team=skinny bitches\", \"showlegend\": false, \"type\": \"scatter\", \"x\": [4], \"xaxis\": \"x\", \"y\": [29.2], \"yaxis\": \"y\"}, {\"hoverlabel\": {\"namelength\": 0}, \"hovertemplate\": \"<b>%{hovertext}</b><br><br>team=skinny bitches<br>player_name=Deandre Ayton<br>week=%{x}<br>points=%{y}\", \"hovertext\": [\"Deandre Ayton\"], \"legendgroup\": \"team=skinny bitches\", \"line\": {\"color\": \"#FFA15A\", \"dash\": \"solid\"}, \"mode\": \"lines\", \"name\": \"team=skinny bitches\", \"showlegend\": false, \"type\": \"scatter\", \"x\": [4], \"xaxis\": \"x\", \"y\": [0.0], \"yaxis\": \"y\"}, {\"hoverlabel\": {\"namelength\": 0}, \"hovertemplate\": \"<b>%{hovertext}</b><br><br>team=skinny bitches<br>player_name=George Hill<br>week=%{x}<br>points=%{y}\", \"hovertext\": [\"George Hill\"], \"legendgroup\": \"team=skinny bitches\", \"line\": {\"color\": \"#FFA15A\", \"dash\": \"solid\"}, \"mode\": \"lines\", \"name\": \"team=skinny bitches\", \"showlegend\": false, \"type\": \"scatter\", \"x\": [4], \"xaxis\": \"x\", \"y\": [0.0], \"yaxis\": \"y\"}, {\"hoverlabel\": {\"namelength\": 0}, \"hovertemplate\": \"<b>%{hovertext}</b><br><br>team=skinny bitches<br>player_name=Malcolm Brogdon<br>week=%{x}<br>points=%{y}\", \"hovertext\": [\"Malcolm Brogdon\"], \"legendgroup\": \"team=skinny bitches\", \"line\": {\"color\": \"#FFA15A\", \"dash\": \"solid\"}, \"mode\": \"lines\", \"name\": \"team=skinny bitches\", \"showlegend\": false, \"type\": \"scatter\", \"x\": [4], \"xaxis\": \"x\", \"y\": [50.0], \"yaxis\": \"y\"}, {\"hoverlabel\": {\"namelength\": 0}, \"hovertemplate\": \"<b>%{hovertext}</b><br><br>team=CaptainStrikersMob<br>player_name=Dejounte Murray<br>week=%{x}<br>points=%{y}\", \"hovertext\": [\"Dejounte Murray\", \"Dejounte Murray\", \"Dejounte Murray\", \"Dejounte Murray\"], \"legendgroup\": \"team=CaptainStrikersMob\", \"line\": {\"color\": \"#19d3f3\", \"dash\": \"solid\"}, \"mode\": \"lines\", \"name\": \"team=CaptainStrikersMob\", \"showlegend\": true, \"type\": \"scatter\", \"x\": [1, 2, 3, 4], \"xaxis\": \"x\", \"y\": [62.2, 44.2, 32.7, 23.2], \"yaxis\": \"y\"}, {\"hoverlabel\": {\"namelength\": 0}, \"hovertemplate\": \"<b>%{hovertext}</b><br><br>team=CaptainStrikersMob<br>player_name=Devin Booker<br>week=%{x}<br>points=%{y}\", \"hovertext\": [\"Devin Booker\", \"Devin Booker\", \"Devin Booker\", \"Devin Booker\"], \"legendgroup\": \"team=CaptainStrikersMob\", \"line\": {\"color\": \"#19d3f3\", \"dash\": \"solid\"}, \"mode\": \"lines\", \"name\": \"team=CaptainStrikersMob\", \"showlegend\": false, \"type\": \"scatter\", \"x\": [1, 2, 3, 4], \"xaxis\": \"x\", \"y\": [60.5, 51.8, 67.0, 50.0], \"yaxis\": \"y\"}, {\"hoverlabel\": {\"namelength\": 0}, \"hovertemplate\": \"<b>%{hovertext}</b><br><br>team=CaptainStrikersMob<br>player_name=Fred VanVleet<br>week=%{x}<br>points=%{y}\", \"hovertext\": [\"Fred VanVleet\", \"Fred VanVleet\", \"Fred VanVleet\", \"Fred VanVleet\"], \"legendgroup\": \"team=CaptainStrikersMob\", \"line\": {\"color\": \"#19d3f3\", \"dash\": \"solid\"}, \"mode\": \"lines\", \"name\": \"team=CaptainStrikersMob\", \"showlegend\": false, \"type\": \"scatter\", \"x\": [1, 2, 3, 4], \"xaxis\": \"x\", \"y\": [56.7, 44.8, 58.5, 62.8], \"yaxis\": \"y\"}, {\"hoverlabel\": {\"namelength\": 0}, \"hovertemplate\": \"<b>%{hovertext}</b><br><br>team=CaptainStrikersMob<br>player_name=Giannis Antetokounmpo<br>week=%{x}<br>points=%{y}\", \"hovertext\": [\"Giannis Antetokounmpo\", \"Giannis Antetokounmpo\", \"Giannis Antetokounmpo\", \"Giannis Antetokounmpo\"], \"legendgroup\": \"team=CaptainStrikersMob\", \"line\": {\"color\": \"#19d3f3\", \"dash\": \"solid\"}, \"mode\": \"lines\", \"name\": \"team=CaptainStrikersMob\", \"showlegend\": false, \"type\": \"scatter\", \"x\": [1, 2, 3, 4], \"xaxis\": \"x\", \"y\": [102.0, 80.6, 97.0, 0.0], \"yaxis\": \"y\"}, {\"hoverlabel\": {\"namelength\": 0}, \"hovertemplate\": \"<b>%{hovertext}</b><br><br>team=CaptainStrikersMob<br>player_name=Hassan Whiteside<br>week=%{x}<br>points=%{y}\", \"hovertext\": [\"Hassan Whiteside\", \"Hassan Whiteside\", \"Hassan Whiteside\", \"Hassan Whiteside\"], \"legendgroup\": \"team=CaptainStrikersMob\", \"line\": {\"color\": \"#19d3f3\", \"dash\": \"solid\"}, \"mode\": \"lines\", \"name\": \"team=CaptainStrikersMob\", \"showlegend\": false, \"type\": \"scatter\", \"x\": [1, 2, 3, 4], \"xaxis\": \"x\", \"y\": [50.5, 36.2, 63.8, 40.8], \"yaxis\": \"y\"}, {\"hoverlabel\": {\"namelength\": 0}, \"hovertemplate\": \"<b>%{hovertext}</b><br><br>team=CaptainStrikersMob<br>player_name=Justise Winslow<br>week=%{x}<br>points=%{y}\", \"hovertext\": [\"Justise Winslow\", \"Justise Winslow\", \"Justise Winslow\", \"Justise Winslow\"], \"legendgroup\": \"team=CaptainStrikersMob\", \"line\": {\"color\": \"#19d3f3\", \"dash\": \"solid\"}, \"mode\": \"lines\", \"name\": \"team=CaptainStrikersMob\", \"showlegend\": false, \"type\": \"scatter\", \"x\": [1, 2, 3, 4], \"xaxis\": \"x\", \"y\": [59.3, 16.0, 23.0, 0.0], \"yaxis\": \"y\"}, {\"hoverlabel\": {\"namelength\": 0}, \"hovertemplate\": \"<b>%{hovertext}</b><br><br>team=CaptainStrikersMob<br>player_name=Kevin Love<br>week=%{x}<br>points=%{y}\", \"hovertext\": [\"Kevin Love\", \"Kevin Love\", \"Kevin Love\", \"Kevin Love\"], \"legendgroup\": \"team=CaptainStrikersMob\", \"line\": {\"color\": \"#19d3f3\", \"dash\": \"solid\"}, \"mode\": \"lines\", \"name\": \"team=CaptainStrikersMob\", \"showlegend\": false, \"type\": \"scatter\", \"x\": [1, 2, 3, 4], \"xaxis\": \"x\", \"y\": [68.0, 70.9, 47.5, 43.0], \"yaxis\": \"y\"}, {\"hoverlabel\": {\"namelength\": 0}, \"hovertemplate\": \"<b>%{hovertext}</b><br><br>team=CaptainStrikersMob<br>player_name=Lonzo Ball<br>week=%{x}<br>points=%{y}\", \"hovertext\": [\"Lonzo Ball\", \"Lonzo Ball\", \"Lonzo Ball\", \"Lonzo Ball\"], \"legendgroup\": \"team=CaptainStrikersMob\", \"line\": {\"color\": \"#19d3f3\", \"dash\": \"solid\"}, \"mode\": \"lines\", \"name\": \"team=CaptainStrikersMob\", \"showlegend\": false, \"type\": \"scatter\", \"x\": [1, 2, 3, 4], \"xaxis\": \"x\", \"y\": [52.5, 44.7, 28.0, 0.0], \"yaxis\": \"y\"}, {\"hoverlabel\": {\"namelength\": 0}, \"hovertemplate\": \"<b>%{hovertext}</b><br><br>team=CaptainStrikersMob<br>player_name=Patrick Beverley<br>week=%{x}<br>points=%{y}\", \"hovertext\": [\"Patrick Beverley\", \"Patrick Beverley\", \"Patrick Beverley\", \"Patrick Beverley\"], \"legendgroup\": \"team=CaptainStrikersMob\", \"line\": {\"color\": \"#19d3f3\", \"dash\": \"solid\"}, \"mode\": \"lines\", \"name\": \"team=CaptainStrikersMob\", \"showlegend\": false, \"type\": \"scatter\", \"x\": [1, 2, 3, 4], \"xaxis\": \"x\", \"y\": [32.3, 25.4, 46.5, 20.8], \"yaxis\": \"y\"}, {\"hoverlabel\": {\"namelength\": 0}, \"hovertemplate\": \"<b>%{hovertext}</b><br><br>team=CaptainStrikersMob<br>player_name=Steven Adams<br>week=%{x}<br>points=%{y}\", \"hovertext\": [\"Steven Adams\", \"Steven Adams\", \"Steven Adams\", \"Steven Adams\"], \"legendgroup\": \"team=CaptainStrikersMob\", \"line\": {\"color\": \"#19d3f3\", \"dash\": \"solid\"}, \"mode\": \"lines\", \"name\": \"team=CaptainStrikersMob\", \"showlegend\": false, \"type\": \"scatter\", \"x\": [1, 2, 3, 4], \"xaxis\": \"x\", \"y\": [30.0, 32.0, 40.0, 27.5], \"yaxis\": \"y\"}, {\"hoverlabel\": {\"namelength\": 0}, \"hovertemplate\": \"<b>%{hovertext}</b><br><br>team=CaptainStrikersMob<br>player_name=Tim Hardaway<br>week=%{x}<br>points=%{y}\", \"hovertext\": [\"Tim Hardaway\"], \"legendgroup\": \"team=CaptainStrikersMob\", \"line\": {\"color\": \"#19d3f3\", \"dash\": \"solid\"}, \"mode\": \"lines\", \"name\": \"team=CaptainStrikersMob\", \"showlegend\": false, \"type\": \"scatter\", \"x\": [1], \"xaxis\": \"x\", \"y\": [14.5], \"yaxis\": \"y\"}, {\"hoverlabel\": {\"namelength\": 0}, \"hovertemplate\": \"<b>%{hovertext}</b><br><br>team=CaptainStrikersMob<br>player_name=Tristan Thompson<br>week=%{x}<br>points=%{y}\", \"hovertext\": [\"Tristan Thompson\", \"Tristan Thompson\", \"Tristan Thompson\", \"Tristan Thompson\"], \"legendgroup\": \"team=CaptainStrikersMob\", \"line\": {\"color\": \"#19d3f3\", \"dash\": \"solid\"}, \"mode\": \"lines\", \"name\": \"team=CaptainStrikersMob\", \"showlegend\": false, \"type\": \"scatter\", \"x\": [1, 2, 3, 4], \"xaxis\": \"x\", \"y\": [65.8, 56.6, 59.3, 54.0], \"yaxis\": \"y\"}, {\"hoverlabel\": {\"namelength\": 0}, \"hovertemplate\": \"<b>%{hovertext}</b><br><br>team=CaptainStrikersMob<br>player_name=Victor Oladipo<br>week=%{x}<br>points=%{y}\", \"hovertext\": [\"Victor Oladipo\", \"Victor Oladipo\", \"Victor Oladipo\", \"Victor Oladipo\"], \"legendgroup\": \"team=CaptainStrikersMob\", \"line\": {\"color\": \"#19d3f3\", \"dash\": \"solid\"}, \"mode\": \"lines\", \"name\": \"team=CaptainStrikersMob\", \"showlegend\": false, \"type\": \"scatter\", \"x\": [1, 2, 3, 4], \"xaxis\": \"x\", \"y\": [0.0, 0.0, 0.0, 0.0], \"yaxis\": \"y\"}, {\"hoverlabel\": {\"namelength\": 0}, \"hovertemplate\": \"<b>%{hovertext}</b><br><br>team=CaptainStrikersMob<br>player_name=Frank Kaminsky<br>week=%{x}<br>points=%{y}\", \"hovertext\": [\"Frank Kaminsky\", \"Frank Kaminsky\"], \"legendgroup\": \"team=CaptainStrikersMob\", \"line\": {\"color\": \"#19d3f3\", \"dash\": \"solid\"}, \"mode\": \"lines\", \"name\": \"team=CaptainStrikersMob\", \"showlegend\": false, \"type\": \"scatter\", \"x\": [2, 3], \"xaxis\": \"x\", \"y\": [23.8, 13.2], \"yaxis\": \"y\"}, {\"hoverlabel\": {\"namelength\": 0}, \"hovertemplate\": \"<b>%{hovertext}</b><br><br>team=CaptainStrikersMob<br>player_name=Jabari Parker<br>week=%{x}<br>points=%{y}\", \"hovertext\": [\"Jabari Parker\", \"Jabari Parker\"], \"legendgroup\": \"team=CaptainStrikersMob\", \"line\": {\"color\": \"#19d3f3\", \"dash\": \"solid\"}, \"mode\": \"lines\", \"name\": \"team=CaptainStrikersMob\", \"showlegend\": false, \"type\": \"scatter\", \"x\": [3, 4], \"xaxis\": \"x\", \"y\": [60.0, 52.0], \"yaxis\": \"y\"}],\n",
       "                        {\"height\": 600, \"legend\": {\"tracegroupgap\": 0}, \"margin\": {\"t\": 60}, \"template\": {\"data\": {\"bar\": [{\"error_x\": {\"color\": \"#2a3f5f\"}, \"error_y\": {\"color\": \"#2a3f5f\"}, \"marker\": {\"line\": {\"color\": \"#E5ECF6\", \"width\": 0.5}}, \"type\": \"bar\"}], \"barpolar\": [{\"marker\": {\"line\": {\"color\": \"#E5ECF6\", \"width\": 0.5}}, \"type\": \"barpolar\"}], \"carpet\": [{\"aaxis\": {\"endlinecolor\": \"#2a3f5f\", \"gridcolor\": \"white\", \"linecolor\": \"white\", \"minorgridcolor\": \"white\", \"startlinecolor\": \"#2a3f5f\"}, \"baxis\": {\"endlinecolor\": \"#2a3f5f\", \"gridcolor\": \"white\", \"linecolor\": \"white\", \"minorgridcolor\": \"white\", \"startlinecolor\": \"#2a3f5f\"}, \"type\": \"carpet\"}], \"choropleth\": [{\"colorbar\": {\"outlinewidth\": 0, \"ticks\": \"\"}, \"type\": \"choropleth\"}], \"contour\": [{\"colorbar\": {\"outlinewidth\": 0, \"ticks\": \"\"}, \"colorscale\": [[0.0, \"#0d0887\"], [0.1111111111111111, \"#46039f\"], [0.2222222222222222, \"#7201a8\"], [0.3333333333333333, \"#9c179e\"], [0.4444444444444444, \"#bd3786\"], [0.5555555555555556, \"#d8576b\"], [0.6666666666666666, \"#ed7953\"], [0.7777777777777778, \"#fb9f3a\"], [0.8888888888888888, \"#fdca26\"], [1.0, \"#f0f921\"]], \"type\": \"contour\"}], \"contourcarpet\": [{\"colorbar\": {\"outlinewidth\": 0, \"ticks\": \"\"}, \"type\": \"contourcarpet\"}], \"heatmap\": [{\"colorbar\": {\"outlinewidth\": 0, \"ticks\": \"\"}, \"colorscale\": [[0.0, \"#0d0887\"], [0.1111111111111111, \"#46039f\"], [0.2222222222222222, \"#7201a8\"], [0.3333333333333333, \"#9c179e\"], [0.4444444444444444, \"#bd3786\"], [0.5555555555555556, \"#d8576b\"], [0.6666666666666666, \"#ed7953\"], [0.7777777777777778, \"#fb9f3a\"], [0.8888888888888888, \"#fdca26\"], [1.0, \"#f0f921\"]], \"type\": \"heatmap\"}], \"heatmapgl\": [{\"colorbar\": {\"outlinewidth\": 0, \"ticks\": \"\"}, \"colorscale\": [[0.0, \"#0d0887\"], [0.1111111111111111, \"#46039f\"], [0.2222222222222222, \"#7201a8\"], [0.3333333333333333, \"#9c179e\"], [0.4444444444444444, \"#bd3786\"], [0.5555555555555556, \"#d8576b\"], [0.6666666666666666, \"#ed7953\"], [0.7777777777777778, \"#fb9f3a\"], [0.8888888888888888, \"#fdca26\"], [1.0, \"#f0f921\"]], \"type\": \"heatmapgl\"}], \"histogram\": [{\"marker\": {\"colorbar\": {\"outlinewidth\": 0, \"ticks\": \"\"}}, \"type\": \"histogram\"}], \"histogram2d\": [{\"colorbar\": {\"outlinewidth\": 0, \"ticks\": \"\"}, \"colorscale\": [[0.0, \"#0d0887\"], [0.1111111111111111, \"#46039f\"], [0.2222222222222222, \"#7201a8\"], [0.3333333333333333, \"#9c179e\"], [0.4444444444444444, \"#bd3786\"], [0.5555555555555556, \"#d8576b\"], [0.6666666666666666, \"#ed7953\"], [0.7777777777777778, \"#fb9f3a\"], [0.8888888888888888, \"#fdca26\"], [1.0, \"#f0f921\"]], \"type\": \"histogram2d\"}], \"histogram2dcontour\": [{\"colorbar\": {\"outlinewidth\": 0, \"ticks\": \"\"}, \"colorscale\": [[0.0, \"#0d0887\"], [0.1111111111111111, \"#46039f\"], [0.2222222222222222, \"#7201a8\"], [0.3333333333333333, \"#9c179e\"], [0.4444444444444444, \"#bd3786\"], [0.5555555555555556, \"#d8576b\"], [0.6666666666666666, \"#ed7953\"], [0.7777777777777778, \"#fb9f3a\"], [0.8888888888888888, \"#fdca26\"], [1.0, \"#f0f921\"]], \"type\": \"histogram2dcontour\"}], \"mesh3d\": [{\"colorbar\": {\"outlinewidth\": 0, \"ticks\": \"\"}, \"type\": \"mesh3d\"}], \"parcoords\": [{\"line\": {\"colorbar\": {\"outlinewidth\": 0, \"ticks\": \"\"}}, \"type\": \"parcoords\"}], \"pie\": [{\"automargin\": true, \"type\": \"pie\"}], \"scatter\": [{\"marker\": {\"colorbar\": {\"outlinewidth\": 0, \"ticks\": \"\"}}, \"type\": \"scatter\"}], \"scatter3d\": [{\"line\": {\"colorbar\": {\"outlinewidth\": 0, \"ticks\": \"\"}}, \"marker\": {\"colorbar\": {\"outlinewidth\": 0, \"ticks\": \"\"}}, \"type\": \"scatter3d\"}], \"scattercarpet\": [{\"marker\": {\"colorbar\": {\"outlinewidth\": 0, \"ticks\": \"\"}}, \"type\": \"scattercarpet\"}], \"scattergeo\": [{\"marker\": {\"colorbar\": {\"outlinewidth\": 0, \"ticks\": \"\"}}, \"type\": \"scattergeo\"}], \"scattergl\": [{\"marker\": {\"colorbar\": {\"outlinewidth\": 0, \"ticks\": \"\"}}, \"type\": \"scattergl\"}], \"scattermapbox\": [{\"marker\": {\"colorbar\": {\"outlinewidth\": 0, \"ticks\": \"\"}}, \"type\": \"scattermapbox\"}], \"scatterpolar\": [{\"marker\": {\"colorbar\": {\"outlinewidth\": 0, \"ticks\": \"\"}}, \"type\": \"scatterpolar\"}], \"scatterpolargl\": [{\"marker\": {\"colorbar\": {\"outlinewidth\": 0, \"ticks\": \"\"}}, \"type\": \"scatterpolargl\"}], \"scatterternary\": [{\"marker\": {\"colorbar\": {\"outlinewidth\": 0, \"ticks\": \"\"}}, \"type\": \"scatterternary\"}], \"surface\": [{\"colorbar\": {\"outlinewidth\": 0, \"ticks\": \"\"}, \"colorscale\": [[0.0, \"#0d0887\"], [0.1111111111111111, \"#46039f\"], [0.2222222222222222, \"#7201a8\"], [0.3333333333333333, \"#9c179e\"], [0.4444444444444444, \"#bd3786\"], [0.5555555555555556, \"#d8576b\"], [0.6666666666666666, \"#ed7953\"], [0.7777777777777778, \"#fb9f3a\"], [0.8888888888888888, \"#fdca26\"], [1.0, \"#f0f921\"]], \"type\": \"surface\"}], \"table\": [{\"cells\": {\"fill\": {\"color\": \"#EBF0F8\"}, \"line\": {\"color\": \"white\"}}, \"header\": {\"fill\": {\"color\": \"#C8D4E3\"}, \"line\": {\"color\": \"white\"}}, \"type\": \"table\"}]}, \"layout\": {\"annotationdefaults\": {\"arrowcolor\": \"#2a3f5f\", \"arrowhead\": 0, \"arrowwidth\": 1}, \"coloraxis\": {\"colorbar\": {\"outlinewidth\": 0, \"ticks\": \"\"}}, \"colorscale\": {\"diverging\": [[0, \"#8e0152\"], [0.1, \"#c51b7d\"], [0.2, \"#de77ae\"], [0.3, \"#f1b6da\"], [0.4, \"#fde0ef\"], [0.5, \"#f7f7f7\"], [0.6, \"#e6f5d0\"], [0.7, \"#b8e186\"], [0.8, \"#7fbc41\"], [0.9, \"#4d9221\"], [1, \"#276419\"]], \"sequential\": [[0.0, \"#0d0887\"], [0.1111111111111111, \"#46039f\"], [0.2222222222222222, \"#7201a8\"], [0.3333333333333333, \"#9c179e\"], [0.4444444444444444, \"#bd3786\"], [0.5555555555555556, \"#d8576b\"], [0.6666666666666666, \"#ed7953\"], [0.7777777777777778, \"#fb9f3a\"], [0.8888888888888888, \"#fdca26\"], [1.0, \"#f0f921\"]], \"sequentialminus\": [[0.0, \"#0d0887\"], [0.1111111111111111, \"#46039f\"], [0.2222222222222222, \"#7201a8\"], [0.3333333333333333, \"#9c179e\"], [0.4444444444444444, \"#bd3786\"], [0.5555555555555556, \"#d8576b\"], [0.6666666666666666, \"#ed7953\"], [0.7777777777777778, \"#fb9f3a\"], [0.8888888888888888, \"#fdca26\"], [1.0, \"#f0f921\"]]}, \"colorway\": [\"#636efa\", \"#EF553B\", \"#00cc96\", \"#ab63fa\", \"#FFA15A\", \"#19d3f3\", \"#FF6692\", \"#B6E880\", \"#FF97FF\", \"#FECB52\"], \"font\": {\"color\": \"#2a3f5f\"}, \"geo\": {\"bgcolor\": \"white\", \"lakecolor\": \"white\", \"landcolor\": \"#E5ECF6\", \"showlakes\": true, \"showland\": true, \"subunitcolor\": \"white\"}, \"hoverlabel\": {\"align\": \"left\"}, \"hovermode\": \"closest\", \"mapbox\": {\"style\": \"light\"}, \"paper_bgcolor\": \"white\", \"plot_bgcolor\": \"#E5ECF6\", \"polar\": {\"angularaxis\": {\"gridcolor\": \"white\", \"linecolor\": \"white\", \"ticks\": \"\"}, \"bgcolor\": \"#E5ECF6\", \"radialaxis\": {\"gridcolor\": \"white\", \"linecolor\": \"white\", \"ticks\": \"\"}}, \"scene\": {\"xaxis\": {\"backgroundcolor\": \"#E5ECF6\", \"gridcolor\": \"white\", \"gridwidth\": 2, \"linecolor\": \"white\", \"showbackground\": true, \"ticks\": \"\", \"zerolinecolor\": \"white\"}, \"yaxis\": {\"backgroundcolor\": \"#E5ECF6\", \"gridcolor\": \"white\", \"gridwidth\": 2, \"linecolor\": \"white\", \"showbackground\": true, \"ticks\": \"\", \"zerolinecolor\": \"white\"}, \"zaxis\": {\"backgroundcolor\": \"#E5ECF6\", \"gridcolor\": \"white\", \"gridwidth\": 2, \"linecolor\": \"white\", \"showbackground\": true, \"ticks\": \"\", \"zerolinecolor\": \"white\"}}, \"shapedefaults\": {\"line\": {\"color\": \"#2a3f5f\"}}, \"ternary\": {\"aaxis\": {\"gridcolor\": \"white\", \"linecolor\": \"white\", \"ticks\": \"\"}, \"baxis\": {\"gridcolor\": \"white\", \"linecolor\": \"white\", \"ticks\": \"\"}, \"bgcolor\": \"#E5ECF6\", \"caxis\": {\"gridcolor\": \"white\", \"linecolor\": \"white\", \"ticks\": \"\"}}, \"title\": {\"x\": 0.05}, \"xaxis\": {\"automargin\": true, \"gridcolor\": \"white\", \"linecolor\": \"white\", \"ticks\": \"\", \"title\": {\"standoff\": 15}, \"zerolinecolor\": \"white\", \"zerolinewidth\": 2}, \"yaxis\": {\"automargin\": true, \"gridcolor\": \"white\", \"linecolor\": \"white\", \"ticks\": \"\", \"title\": {\"standoff\": 15}, \"zerolinecolor\": \"white\", \"zerolinewidth\": 2}}}, \"xaxis\": {\"anchor\": \"y\", \"domain\": [0.0, 1.0], \"title\": {\"text\": \"week\"}}, \"yaxis\": {\"anchor\": \"x\", \"domain\": [0.0, 1.0], \"title\": {\"text\": \"points\"}}},\n",
       "                        {\"responsive\": true}\n",
       "                    ).then(function(){\n",
       "                            \n",
       "var gd = document.getElementById('d6b7f013-11ee-45ca-b1f5-2487c7339f9f');\n",
       "var x = new MutationObserver(function (mutations, observer) {{\n",
       "        var display = window.getComputedStyle(gd).display;\n",
       "        if (!display || display === 'none') {{\n",
       "            console.log([gd, 'removed!']);\n",
       "            Plotly.purge(gd);\n",
       "            observer.disconnect();\n",
       "        }}\n",
       "}});\n",
       "\n",
       "// Listen for the removal of the full notebook cells\n",
       "var notebookContainer = gd.closest('#notebook-container');\n",
       "if (notebookContainer) {{\n",
       "    x.observe(notebookContainer, {childList: true});\n",
       "}}\n",
       "\n",
       "// Listen for the clearing of the current output cell\n",
       "var outputEl = gd.closest('.output');\n",
       "if (outputEl) {{\n",
       "    x.observe(outputEl, {childList: true});\n",
       "}}\n",
       "\n",
       "                        })\n",
       "                };\n",
       "                });\n",
       "            </script>\n",
       "        </div>"
      ]
     },
     "metadata": {},
     "output_type": "display_data"
    }
   ],
   "source": [
    "league = px.line(div1, x=\"week\", y=\"points\", color=\"team\",\n",
    "              line_group=\"player_name\", hover_name=\"player_name\")\n",
    "league.show()"
   ]
  },
  {
   "cell_type": "code",
   "execution_count": 24,
   "metadata": {},
   "outputs": [
    {
     "data": {
      "application/vnd.plotly.v1+json": {
       "config": {
        "plotlyServerURL": "https://plot.ly"
       },
       "data": [
        {
         "hoverlabel": {
          "namelength": 0
         },
         "hovertemplate": "<b>%{hovertext}</b><br><br>team=Dunkin Dullies<br>player_name=Blake Griffin<br>week=%{x}<br>points=%{y}",
         "hovertext": [
          "Blake Griffin",
          "Blake Griffin",
          "Blake Griffin",
          "Blake Griffin"
         ],
         "legendgroup": "team=Dunkin Dullies",
         "line": {
          "color": "#636efa",
          "dash": "solid"
         },
         "mode": "lines",
         "name": "team=Dunkin Dullies",
         "showlegend": true,
         "type": "scatter",
         "x": [
          1,
          2,
          3,
          4
         ],
         "xaxis": "x",
         "y": [
          0,
          0,
          0,
          46.5
         ],
         "yaxis": "y"
        },
        {
         "hoverlabel": {
          "namelength": 0
         },
         "hovertemplate": "<b>%{hovertext}</b><br><br>team=Dunkin Dullies<br>player_name=Chris Paul<br>week=%{x}<br>points=%{y}",
         "hovertext": [
          "Chris Paul",
          "Chris Paul",
          "Chris Paul",
          "Chris Paul"
         ],
         "legendgroup": "team=Dunkin Dullies",
         "line": {
          "color": "#636efa",
          "dash": "solid"
         },
         "mode": "lines",
         "name": "team=Dunkin Dullies",
         "showlegend": false,
         "type": "scatter",
         "x": [
          1,
          2,
          3,
          4
         ],
         "xaxis": "x",
         "y": [
          33.8,
          48.3,
          52,
          35
         ],
         "yaxis": "y"
        },
        {
         "hoverlabel": {
          "namelength": 0
         },
         "hovertemplate": "<b>%{hovertext}</b><br><br>team=Dunkin Dullies<br>player_name=De'Andre Hunter<br>week=%{x}<br>points=%{y}",
         "hovertext": [
          "De'Andre Hunter",
          "De'Andre Hunter",
          "De'Andre Hunter",
          "De'Andre Hunter"
         ],
         "legendgroup": "team=Dunkin Dullies",
         "line": {
          "color": "#636efa",
          "dash": "solid"
         },
         "mode": "lines",
         "name": "team=Dunkin Dullies",
         "showlegend": false,
         "type": "scatter",
         "x": [
          1,
          2,
          3,
          4
         ],
         "xaxis": "x",
         "y": [
          23,
          21.3,
          26.8,
          37.5
         ],
         "yaxis": "y"
        },
        {
         "hoverlabel": {
          "namelength": 0
         },
         "hovertemplate": "<b>%{hovertext}</b><br><br>team=Dunkin Dullies<br>player_name=DeMar DeRozan<br>week=%{x}<br>points=%{y}",
         "hovertext": [
          "DeMar DeRozan",
          "DeMar DeRozan",
          "DeMar DeRozan",
          "DeMar DeRozan"
         ],
         "legendgroup": "team=Dunkin Dullies",
         "line": {
          "color": "#636efa",
          "dash": "solid"
         },
         "mode": "lines",
         "name": "team=Dunkin Dullies",
         "showlegend": false,
         "type": "scatter",
         "x": [
          1,
          2,
          3,
          4
         ],
         "xaxis": "x",
         "y": [
          42,
          46.1,
          49.5,
          51.2
         ],
         "yaxis": "y"
        },
        {
         "hoverlabel": {
          "namelength": 0
         },
         "hovertemplate": "<b>%{hovertext}</b><br><br>team=Dunkin Dullies<br>player_name=Harrison Barnes<br>week=%{x}<br>points=%{y}",
         "hovertext": [
          "Harrison Barnes",
          "Harrison Barnes",
          "Harrison Barnes",
          "Harrison Barnes"
         ],
         "legendgroup": "team=Dunkin Dullies",
         "line": {
          "color": "#636efa",
          "dash": "solid"
         },
         "mode": "lines",
         "name": "team=Dunkin Dullies",
         "showlegend": false,
         "type": "scatter",
         "x": [
          1,
          2,
          3,
          4
         ],
         "xaxis": "x",
         "y": [
          28.7,
          45.2,
          56.2,
          34
         ],
         "yaxis": "y"
        },
        {
         "hoverlabel": {
          "namelength": 0
         },
         "hovertemplate": "<b>%{hovertext}</b><br><br>team=Dunkin Dullies<br>player_name=Jerami Grant<br>week=%{x}<br>points=%{y}",
         "hovertext": [
          "Jerami Grant",
          "Jerami Grant"
         ],
         "legendgroup": "team=Dunkin Dullies",
         "line": {
          "color": "#636efa",
          "dash": "solid"
         },
         "mode": "lines",
         "name": "team=Dunkin Dullies",
         "showlegend": false,
         "type": "scatter",
         "x": [
          1,
          2
         ],
         "xaxis": "x",
         "y": [
          24.5,
          17.1
         ],
         "yaxis": "y"
        },
        {
         "hoverlabel": {
          "namelength": 0
         },
         "hovertemplate": "<b>%{hovertext}</b><br><br>team=Dunkin Dullies<br>player_name=Jeremy Lamb<br>week=%{x}<br>points=%{y}",
         "hovertext": [
          "Jeremy Lamb",
          "Jeremy Lamb",
          "Jeremy Lamb",
          "Jeremy Lamb"
         ],
         "legendgroup": "team=Dunkin Dullies",
         "line": {
          "color": "#636efa",
          "dash": "solid"
         },
         "mode": "lines",
         "name": "team=Dunkin Dullies",
         "showlegend": false,
         "type": "scatter",
         "x": [
          1,
          2,
          3,
          4
         ],
         "xaxis": "x",
         "y": [
          25.5,
          55.3,
          48,
          0
         ],
         "yaxis": "y"
        },
        {
         "hoverlabel": {
          "namelength": 0
         },
         "hovertemplate": "<b>%{hovertext}</b><br><br>team=Dunkin Dullies<br>player_name=Joel Embiid<br>week=%{x}<br>points=%{y}",
         "hovertext": [
          "Joel Embiid",
          "Joel Embiid",
          "Joel Embiid",
          "Joel Embiid"
         ],
         "legendgroup": "team=Dunkin Dullies",
         "line": {
          "color": "#636efa",
          "dash": "solid"
         },
         "mode": "lines",
         "name": "team=Dunkin Dullies",
         "showlegend": false,
         "type": "scatter",
         "x": [
          1,
          2,
          3,
          4
         ],
         "xaxis": "x",
         "y": [
          62.5,
          73.2,
          63.2,
          91.5
         ],
         "yaxis": "y"
        },
        {
         "hoverlabel": {
          "namelength": 0
         },
         "hovertemplate": "<b>%{hovertext}</b><br><br>team=Dunkin Dullies<br>player_name=Josh Richardson<br>week=%{x}<br>points=%{y}",
         "hovertext": [
          "Josh Richardson",
          "Josh Richardson",
          "Josh Richardson",
          "Josh Richardson"
         ],
         "legendgroup": "team=Dunkin Dullies",
         "line": {
          "color": "#636efa",
          "dash": "solid"
         },
         "mode": "lines",
         "name": "team=Dunkin Dullies",
         "showlegend": false,
         "type": "scatter",
         "x": [
          1,
          2,
          3,
          4
         ],
         "xaxis": "x",
         "y": [
          35.8,
          41.7,
          39.1,
          44
         ],
         "yaxis": "y"
        },
        {
         "hoverlabel": {
          "namelength": 0
         },
         "hovertemplate": "<b>%{hovertext}</b><br><br>team=Dunkin Dullies<br>player_name=Jrue Holiday<br>week=%{x}<br>points=%{y}",
         "hovertext": [
          "Jrue Holiday",
          "Jrue Holiday",
          "Jrue Holiday",
          "Jrue Holiday"
         ],
         "legendgroup": "team=Dunkin Dullies",
         "line": {
          "color": "#636efa",
          "dash": "solid"
         },
         "mode": "lines",
         "name": "team=Dunkin Dullies",
         "showlegend": false,
         "type": "scatter",
         "x": [
          1,
          2,
          3,
          4
         ],
         "xaxis": "x",
         "y": [
          37,
          54,
          54,
          59
         ],
         "yaxis": "y"
        },
        {
         "hoverlabel": {
          "namelength": 0
         },
         "hovertemplate": "<b>%{hovertext}</b><br><br>team=Dunkin Dullies<br>player_name=Julius Randle<br>week=%{x}<br>points=%{y}",
         "hovertext": [
          "Julius Randle",
          "Julius Randle",
          "Julius Randle",
          "Julius Randle"
         ],
         "legendgroup": "team=Dunkin Dullies",
         "line": {
          "color": "#636efa",
          "dash": "solid"
         },
         "mode": "lines",
         "name": "team=Dunkin Dullies",
         "showlegend": false,
         "type": "scatter",
         "x": [
          1,
          2,
          3,
          4
         ],
         "xaxis": "x",
         "y": [
          52.8,
          39.1,
          51.7,
          43
         ],
         "yaxis": "y"
        },
        {
         "hoverlabel": {
          "namelength": 0
         },
         "hovertemplate": "<b>%{hovertext}</b><br><br>team=Dunkin Dullies<br>player_name=Montrezl Harrell<br>week=%{x}<br>points=%{y}",
         "hovertext": [
          "Montrezl Harrell",
          "Montrezl Harrell",
          "Montrezl Harrell",
          "Montrezl Harrell"
         ],
         "legendgroup": "team=Dunkin Dullies",
         "line": {
          "color": "#636efa",
          "dash": "solid"
         },
         "mode": "lines",
         "name": "team=Dunkin Dullies",
         "showlegend": false,
         "type": "scatter",
         "x": [
          1,
          2,
          3,
          4
         ],
         "xaxis": "x",
         "y": [
          48.8,
          41.1,
          70.2,
          40
         ],
         "yaxis": "y"
        },
        {
         "hoverlabel": {
          "namelength": 0
         },
         "hovertemplate": "<b>%{hovertext}</b><br><br>team=Dunkin Dullies<br>player_name=Otto Porter<br>week=%{x}<br>points=%{y}",
         "hovertext": [
          "Otto Porter",
          "Otto Porter"
         ],
         "legendgroup": "team=Dunkin Dullies",
         "line": {
          "color": "#636efa",
          "dash": "solid"
         },
         "mode": "lines",
         "name": "team=Dunkin Dullies",
         "showlegend": false,
         "type": "scatter",
         "x": [
          1,
          2
         ],
         "xaxis": "x",
         "y": [
          21.7,
          33
         ],
         "yaxis": "y"
        },
        {
         "hoverlabel": {
          "namelength": 0
         },
         "hovertemplate": "<b>%{hovertext}</b><br><br>team=Dunkin Dullies<br>player_name=Marcus Morris<br>week=%{x}<br>points=%{y}",
         "hovertext": [
          "Marcus Morris",
          "Marcus Morris"
         ],
         "legendgroup": "team=Dunkin Dullies",
         "line": {
          "color": "#636efa",
          "dash": "solid"
         },
         "mode": "lines",
         "name": "team=Dunkin Dullies",
         "showlegend": false,
         "type": "scatter",
         "x": [
          3,
          4
         ],
         "xaxis": "x",
         "y": [
          45.8,
          47.5
         ],
         "yaxis": "y"
        },
        {
         "hoverlabel": {
          "namelength": 0
         },
         "hovertemplate": "<b>%{hovertext}</b><br><br>team=Dunkin Dullies<br>player_name=Taurean Prince<br>week=%{x}<br>points=%{y}",
         "hovertext": [
          "Taurean Prince",
          "Taurean Prince"
         ],
         "legendgroup": "team=Dunkin Dullies",
         "line": {
          "color": "#636efa",
          "dash": "solid"
         },
         "mode": "lines",
         "name": "team=Dunkin Dullies",
         "showlegend": false,
         "type": "scatter",
         "x": [
          3,
          4
         ],
         "xaxis": "x",
         "y": [
          31,
          41
         ],
         "yaxis": "y"
        },
        {
         "hoverlabel": {
          "namelength": 0
         },
         "hovertemplate": "<b>%{hovertext}</b><br><br>team=Gebimst<br>player_name=Andrew Wiggins<br>week=%{x}<br>points=%{y}",
         "hovertext": [
          "Andrew Wiggins",
          "Andrew Wiggins",
          "Andrew Wiggins",
          "Andrew Wiggins"
         ],
         "legendgroup": "team=Gebimst",
         "line": {
          "color": "#EF553B",
          "dash": "solid"
         },
         "mode": "lines",
         "name": "team=Gebimst",
         "showlegend": true,
         "type": "scatter",
         "x": [
          1,
          2,
          3,
          4
         ],
         "xaxis": "x",
         "y": [
          43.7,
          53.2,
          70,
          84.2
         ],
         "yaxis": "y"
        },
        {
         "hoverlabel": {
          "namelength": 0
         },
         "hovertemplate": "<b>%{hovertext}</b><br><br>team=Gebimst<br>player_name=Clint Capela<br>week=%{x}<br>points=%{y}",
         "hovertext": [
          "Clint Capela",
          "Clint Capela",
          "Clint Capela",
          "Clint Capela"
         ],
         "legendgroup": "team=Gebimst",
         "line": {
          "color": "#EF553B",
          "dash": "solid"
         },
         "mode": "lines",
         "name": "team=Gebimst",
         "showlegend": false,
         "type": "scatter",
         "x": [
          1,
          2,
          3,
          4
         ],
         "xaxis": "x",
         "y": [
          49,
          39.6,
          69.5,
          62
         ],
         "yaxis": "y"
        },
        {
         "hoverlabel": {
          "namelength": 0
         },
         "hovertemplate": "<b>%{hovertext}</b><br><br>team=Gebimst<br>player_name=Donovan Mitchell<br>week=%{x}<br>points=%{y}",
         "hovertext": [
          "Donovan Mitchell",
          "Donovan Mitchell",
          "Donovan Mitchell",
          "Donovan Mitchell"
         ],
         "legendgroup": "team=Gebimst",
         "line": {
          "color": "#EF553B",
          "dash": "solid"
         },
         "mode": "lines",
         "name": "team=Gebimst",
         "showlegend": false,
         "type": "scatter",
         "x": [
          1,
          2,
          3,
          4
         ],
         "xaxis": "x",
         "y": [
          62.7,
          60.8,
          49.8,
          63
         ],
         "yaxis": "y"
        },
        {
         "hoverlabel": {
          "namelength": 0
         },
         "hovertemplate": "<b>%{hovertext}</b><br><br>team=Gebimst<br>player_name=Eric Gordon<br>week=%{x}<br>points=%{y}",
         "hovertext": [
          "Eric Gordon",
          "Eric Gordon",
          "Eric Gordon",
          "Eric Gordon"
         ],
         "legendgroup": "team=Gebimst",
         "line": {
          "color": "#EF553B",
          "dash": "solid"
         },
         "mode": "lines",
         "name": "team=Gebimst",
         "showlegend": false,
         "type": "scatter",
         "x": [
          1,
          2,
          3,
          4
         ],
         "xaxis": "x",
         "y": [
          24.5,
          18.9,
          26.5,
          42.5
         ],
         "yaxis": "y"
        },
        {
         "hoverlabel": {
          "namelength": 0
         },
         "hovertemplate": "<b>%{hovertext}</b><br><br>team=Gebimst<br>player_name=JJ Redick<br>week=%{x}<br>points=%{y}",
         "hovertext": [
          "JJ Redick",
          "JJ Redick",
          "JJ Redick",
          "JJ Redick"
         ],
         "legendgroup": "team=Gebimst",
         "line": {
          "color": "#EF553B",
          "dash": "solid"
         },
         "mode": "lines",
         "name": "team=Gebimst",
         "showlegend": false,
         "type": "scatter",
         "x": [
          1,
          2,
          3,
          4
         ],
         "xaxis": "x",
         "y": [
          22.8,
          27.3,
          32,
          57
         ],
         "yaxis": "y"
        },
        {
         "hoverlabel": {
          "namelength": 0
         },
         "hovertemplate": "<b>%{hovertext}</b><br><br>team=Gebimst<br>player_name=Jarrett Culver<br>week=%{x}<br>points=%{y}",
         "hovertext": [
          "Jarrett Culver",
          "Jarrett Culver",
          "Jarrett Culver"
         ],
         "legendgroup": "team=Gebimst",
         "line": {
          "color": "#EF553B",
          "dash": "solid"
         },
         "mode": "lines",
         "name": "team=Gebimst",
         "showlegend": false,
         "type": "scatter",
         "x": [
          1,
          2,
          3
         ],
         "xaxis": "x",
         "y": [
          6.2,
          27,
          28.5
         ],
         "yaxis": "y"
        },
        {
         "hoverlabel": {
          "namelength": 0
         },
         "hovertemplate": "<b>%{hovertext}</b><br><br>team=Gebimst<br>player_name=Joe Harris<br>week=%{x}<br>points=%{y}",
         "hovertext": [
          "Joe Harris",
          "Joe Harris",
          "Joe Harris",
          "Joe Harris"
         ],
         "legendgroup": "team=Gebimst",
         "line": {
          "color": "#EF553B",
          "dash": "solid"
         },
         "mode": "lines",
         "name": "team=Gebimst",
         "showlegend": false,
         "type": "scatter",
         "x": [
          1,
          2,
          3,
          4
         ],
         "xaxis": "x",
         "y": [
          37,
          42.3,
          34.2,
          24.5
         ],
         "yaxis": "y"
        },
        {
         "hoverlabel": {
          "namelength": 0
         },
         "hovertemplate": "<b>%{hovertext}</b><br><br>team=Gebimst<br>player_name=Jordan Clarkson<br>week=%{x}<br>points=%{y}",
         "hovertext": [
          "Jordan Clarkson",
          "Jordan Clarkson",
          "Jordan Clarkson",
          "Jordan Clarkson"
         ],
         "legendgroup": "team=Gebimst",
         "line": {
          "color": "#EF553B",
          "dash": "solid"
         },
         "mode": "lines",
         "name": "team=Gebimst",
         "showlegend": false,
         "type": "scatter",
         "x": [
          1,
          2,
          3,
          4
         ],
         "xaxis": "x",
         "y": [
          25.2,
          42,
          31.5,
          40.5
         ],
         "yaxis": "y"
        },
        {
         "hoverlabel": {
          "namelength": 0
         },
         "hovertemplate": "<b>%{hovertext}</b><br><br>team=Gebimst<br>player_name=LaMarcus Aldridge<br>week=%{x}<br>points=%{y}",
         "hovertext": [
          "LaMarcus Aldridge",
          "LaMarcus Aldridge",
          "LaMarcus Aldridge",
          "LaMarcus Aldridge"
         ],
         "legendgroup": "team=Gebimst",
         "line": {
          "color": "#EF553B",
          "dash": "solid"
         },
         "mode": "lines",
         "name": "team=Gebimst",
         "showlegend": false,
         "type": "scatter",
         "x": [
          1,
          2,
          3,
          4
         ],
         "xaxis": "x",
         "y": [
          60.2,
          37,
          48.3,
          47.5
         ],
         "yaxis": "y"
        },
        {
         "hoverlabel": {
          "namelength": 0
         },
         "hovertemplate": "<b>%{hovertext}</b><br><br>team=Gebimst<br>player_name=Larry Nance<br>week=%{x}<br>points=%{y}",
         "hovertext": [
          "Larry Nance",
          "Larry Nance",
          "Larry Nance",
          "Larry Nance"
         ],
         "legendgroup": "team=Gebimst",
         "line": {
          "color": "#EF553B",
          "dash": "solid"
         },
         "mode": "lines",
         "name": "team=Gebimst",
         "showlegend": false,
         "type": "scatter",
         "x": [
          1,
          2,
          3,
          4
         ],
         "xaxis": "x",
         "y": [
          32.8,
          29.6,
          34.3,
          31.5
         ],
         "yaxis": "y"
        },
        {
         "hoverlabel": {
          "namelength": 0
         },
         "hovertemplate": "<b>%{hovertext}</b><br><br>team=Gebimst<br>player_name=LeBron James<br>week=%{x}<br>points=%{y}",
         "hovertext": [
          "LeBron James",
          "LeBron James",
          "LeBron James",
          "LeBron James"
         ],
         "legendgroup": "team=Gebimst",
         "line": {
          "color": "#EF553B",
          "dash": "solid"
         },
         "mode": "lines",
         "name": "team=Gebimst",
         "showlegend": false,
         "type": "scatter",
         "x": [
          1,
          2,
          3,
          4
         ],
         "xaxis": "x",
         "y": [
          72.8,
          93.3,
          83.7,
          69.8
         ],
         "yaxis": "y"
        },
        {
         "hoverlabel": {
          "namelength": 0
         },
         "hovertemplate": "<b>%{hovertext}</b><br><br>team=Gebimst<br>player_name=Lou Williams<br>week=%{x}<br>points=%{y}",
         "hovertext": [
          "Lou Williams",
          "Lou Williams",
          "Lou Williams",
          "Lou Williams"
         ],
         "legendgroup": "team=Gebimst",
         "line": {
          "color": "#EF553B",
          "dash": "solid"
         },
         "mode": "lines",
         "name": "team=Gebimst",
         "showlegend": false,
         "type": "scatter",
         "x": [
          1,
          2,
          3,
          4
         ],
         "xaxis": "x",
         "y": [
          51.3,
          38.8,
          74.5,
          48
         ],
         "yaxis": "y"
        },
        {
         "hoverlabel": {
          "namelength": 0
         },
         "hovertemplate": "<b>%{hovertext}</b><br><br>team=Gebimst<br>player_name=Serge Ibaka<br>week=%{x}<br>points=%{y}",
         "hovertext": [
          "Serge Ibaka",
          "Serge Ibaka",
          "Serge Ibaka",
          "Serge Ibaka"
         ],
         "legendgroup": "team=Gebimst",
         "line": {
          "color": "#EF553B",
          "dash": "solid"
         },
         "mode": "lines",
         "name": "team=Gebimst",
         "showlegend": false,
         "type": "scatter",
         "x": [
          1,
          2,
          3,
          4
         ],
         "xaxis": "x",
         "y": [
          39.2,
          34.5,
          36.2,
          0
         ],
         "yaxis": "y"
        },
        {
         "hoverlabel": {
          "namelength": 0
         },
         "hovertemplate": "<b>%{hovertext}</b><br><br>team=Gebimst<br>player_name=Glenn Robinson<br>week=%{x}<br>points=%{y}",
         "hovertext": [
          "Glenn Robinson"
         ],
         "legendgroup": "team=Gebimst",
         "line": {
          "color": "#EF553B",
          "dash": "solid"
         },
         "mode": "lines",
         "name": "team=Gebimst",
         "showlegend": false,
         "type": "scatter",
         "x": [
          4
         ],
         "xaxis": "x",
         "y": [
          31.5
         ],
         "yaxis": "y"
        },
        {
         "hoverlabel": {
          "namelength": 0
         },
         "hovertemplate": "<b>%{hovertext}</b><br><br>team=BVB_Baller<br>player_name=Aaron Gordon<br>week=%{x}<br>points=%{y}",
         "hovertext": [
          "Aaron Gordon",
          "Aaron Gordon",
          "Aaron Gordon",
          "Aaron Gordon"
         ],
         "legendgroup": "team=BVB_Baller",
         "line": {
          "color": "#00cc96",
          "dash": "solid"
         },
         "mode": "lines",
         "name": "team=BVB_Baller",
         "showlegend": true,
         "type": "scatter",
         "x": [
          1,
          2,
          3,
          4
         ],
         "xaxis": "x",
         "y": [
          33.2,
          41.2,
          39.2,
          73.5
         ],
         "yaxis": "y"
        },
        {
         "hoverlabel": {
          "namelength": 0
         },
         "hovertemplate": "<b>%{hovertext}</b><br><br>team=BVB_Baller<br>player_name=Al Horford<br>week=%{x}<br>points=%{y}",
         "hovertext": [
          "Al Horford",
          "Al Horford",
          "Al Horford",
          "Al Horford"
         ],
         "legendgroup": "team=BVB_Baller",
         "line": {
          "color": "#00cc96",
          "dash": "solid"
         },
         "mode": "lines",
         "name": "team=BVB_Baller",
         "showlegend": false,
         "type": "scatter",
         "x": [
          1,
          2,
          3,
          4
         ],
         "xaxis": "x",
         "y": [
          50.2,
          56.5,
          50.9,
          33
         ],
         "yaxis": "y"
        },
        {
         "hoverlabel": {
          "namelength": 0
         },
         "hovertemplate": "<b>%{hovertext}</b><br><br>team=BVB_Baller<br>player_name=Anthony Davis<br>week=%{x}<br>points=%{y}",
         "hovertext": [
          "Anthony Davis",
          "Anthony Davis",
          "Anthony Davis",
          "Anthony Davis"
         ],
         "legendgroup": "team=BVB_Baller",
         "line": {
          "color": "#00cc96",
          "dash": "solid"
         },
         "mode": "lines",
         "name": "team=BVB_Baller",
         "showlegend": false,
         "type": "scatter",
         "x": [
          1,
          2,
          3,
          4
         ],
         "xaxis": "x",
         "y": [
          70.7,
          83.7,
          68.2,
          78.5
         ],
         "yaxis": "y"
        },
        {
         "hoverlabel": {
          "namelength": 0
         },
         "hovertemplate": "<b>%{hovertext}</b><br><br>team=BVB_Baller<br>player_name=Ben Simmons<br>week=%{x}<br>points=%{y}",
         "hovertext": [
          "Ben Simmons",
          "Ben Simmons",
          "Ben Simmons",
          "Ben Simmons"
         ],
         "legendgroup": "team=BVB_Baller",
         "line": {
          "color": "#00cc96",
          "dash": "solid"
         },
         "mode": "lines",
         "name": "team=BVB_Baller",
         "showlegend": false,
         "type": "scatter",
         "x": [
          1,
          2,
          3,
          4
         ],
         "xaxis": "x",
         "y": [
          61.5,
          51.7,
          26.5,
          50
         ],
         "yaxis": "y"
        },
        {
         "hoverlabel": {
          "namelength": 0
         },
         "hovertemplate": "<b>%{hovertext}</b><br><br>team=BVB_Baller<br>player_name=Danilo Gallinari<br>week=%{x}<br>points=%{y}",
         "hovertext": [
          "Danilo Gallinari",
          "Danilo Gallinari",
          "Danilo Gallinari",
          "Danilo Gallinari"
         ],
         "legendgroup": "team=BVB_Baller",
         "line": {
          "color": "#00cc96",
          "dash": "solid"
         },
         "mode": "lines",
         "name": "team=BVB_Baller",
         "showlegend": false,
         "type": "scatter",
         "x": [
          1,
          2,
          3,
          4
         ],
         "xaxis": "x",
         "y": [
          46.7,
          41,
          51.2,
          29.5
         ],
         "yaxis": "y"
        },
        {
         "hoverlabel": {
          "namelength": 0
         },
         "hovertemplate": "<b>%{hovertext}</b><br><br>team=BVB_Baller<br>player_name=Gordon Hayward<br>week=%{x}<br>points=%{y}",
         "hovertext": [
          "Gordon Hayward",
          "Gordon Hayward",
          "Gordon Hayward",
          "Gordon Hayward"
         ],
         "legendgroup": "team=BVB_Baller",
         "line": {
          "color": "#00cc96",
          "dash": "solid"
         },
         "mode": "lines",
         "name": "team=BVB_Baller",
         "showlegend": false,
         "type": "scatter",
         "x": [
          1,
          2,
          3,
          4
         ],
         "xaxis": "x",
         "y": [
          38.8,
          63.5,
          62,
          0
         ],
         "yaxis": "y"
        },
        {
         "hoverlabel": {
          "namelength": 0
         },
         "hovertemplate": "<b>%{hovertext}</b><br><br>team=BVB_Baller<br>player_name=Marcus Smart<br>week=%{x}<br>points=%{y}",
         "hovertext": [
          "Marcus Smart",
          "Marcus Smart",
          "Marcus Smart",
          "Marcus Smart"
         ],
         "legendgroup": "team=BVB_Baller",
         "line": {
          "color": "#00cc96",
          "dash": "solid"
         },
         "mode": "lines",
         "name": "team=BVB_Baller",
         "showlegend": false,
         "type": "scatter",
         "x": [
          1,
          2,
          3,
          4
         ],
         "xaxis": "x",
         "y": [
          34.7,
          45.2,
          36.7,
          54
         ],
         "yaxis": "y"
        },
        {
         "hoverlabel": {
          "namelength": 0
         },
         "hovertemplate": "<b>%{hovertext}</b><br><br>team=BVB_Baller<br>player_name=Mitchell Robinson<br>week=%{x}<br>points=%{y}",
         "hovertext": [
          "Mitchell Robinson",
          "Mitchell Robinson",
          "Mitchell Robinson",
          "Mitchell Robinson"
         ],
         "legendgroup": "team=BVB_Baller",
         "line": {
          "color": "#00cc96",
          "dash": "solid"
         },
         "mode": "lines",
         "name": "team=BVB_Baller",
         "showlegend": false,
         "type": "scatter",
         "x": [
          1,
          2,
          3,
          4
         ],
         "xaxis": "x",
         "y": [
          40.8,
          33.6,
          19,
          0
         ],
         "yaxis": "y"
        },
        {
         "hoverlabel": {
          "namelength": 0
         },
         "hovertemplate": "<b>%{hovertext}</b><br><br>team=BVB_Baller<br>player_name=Paul Millsap<br>week=%{x}<br>points=%{y}",
         "hovertext": [
          "Paul Millsap",
          "Paul Millsap",
          "Paul Millsap",
          "Paul Millsap"
         ],
         "legendgroup": "team=BVB_Baller",
         "line": {
          "color": "#00cc96",
          "dash": "solid"
         },
         "mode": "lines",
         "name": "team=BVB_Baller",
         "showlegend": false,
         "type": "scatter",
         "x": [
          1,
          2,
          3,
          4
         ],
         "xaxis": "x",
         "y": [
          35.8,
          30.9,
          43.7,
          52
         ],
         "yaxis": "y"
        },
        {
         "hoverlabel": {
          "namelength": 0
         },
         "hovertemplate": "<b>%{hovertext}</b><br><br>team=BVB_Baller<br>player_name=Rudy Gay<br>week=%{x}<br>points=%{y}",
         "hovertext": [
          "Rudy Gay",
          "Rudy Gay",
          "Rudy Gay",
          "Rudy Gay"
         ],
         "legendgroup": "team=BVB_Baller",
         "line": {
          "color": "#00cc96",
          "dash": "solid"
         },
         "mode": "lines",
         "name": "team=BVB_Baller",
         "showlegend": false,
         "type": "scatter",
         "x": [
          1,
          2,
          3,
          4
         ],
         "xaxis": "x",
         "y": [
          36.8,
          39.6,
          20.7,
          45.2
         ],
         "yaxis": "y"
        },
        {
         "hoverlabel": {
          "namelength": 0
         },
         "hovertemplate": "<b>%{hovertext}</b><br><br>team=BVB_Baller<br>player_name=Russell Westbrook<br>week=%{x}<br>points=%{y}",
         "hovertext": [
          "Russell Westbrook",
          "Russell Westbrook",
          "Russell Westbrook",
          "Russell Westbrook"
         ],
         "legendgroup": "team=BVB_Baller",
         "line": {
          "color": "#00cc96",
          "dash": "solid"
         },
         "mode": "lines",
         "name": "team=BVB_Baller",
         "showlegend": false,
         "type": "scatter",
         "x": [
          1,
          2,
          3,
          4
         ],
         "xaxis": "x",
         "y": [
          93.5,
          65.8,
          48,
          45
         ],
         "yaxis": "y"
        },
        {
         "hoverlabel": {
          "namelength": 0
         },
         "hovertemplate": "<b>%{hovertext}</b><br><br>team=BVB_Baller<br>player_name=Terrence Ross<br>week=%{x}<br>points=%{y}",
         "hovertext": [
          "Terrence Ross",
          "Terrence Ross",
          "Terrence Ross",
          "Terrence Ross"
         ],
         "legendgroup": "team=BVB_Baller",
         "line": {
          "color": "#00cc96",
          "dash": "solid"
         },
         "mode": "lines",
         "name": "team=BVB_Baller",
         "showlegend": false,
         "type": "scatter",
         "x": [
          1,
          2,
          3,
          4
         ],
         "xaxis": "x",
         "y": [
          23,
          22.9,
          23.5,
          35
         ],
         "yaxis": "y"
        },
        {
         "hoverlabel": {
          "namelength": 0
         },
         "hovertemplate": "<b>%{hovertext}</b><br><br>team=BVB_Baller<br>player_name=Tyler Herro<br>week=%{x}<br>points=%{y}",
         "hovertext": [
          "Tyler Herro",
          "Tyler Herro",
          "Tyler Herro",
          "Tyler Herro"
         ],
         "legendgroup": "team=BVB_Baller",
         "line": {
          "color": "#00cc96",
          "dash": "solid"
         },
         "mode": "lines",
         "name": "team=BVB_Baller",
         "showlegend": false,
         "type": "scatter",
         "x": [
          1,
          2,
          3,
          4
         ],
         "xaxis": "x",
         "y": [
          30.7,
          52.2,
          21.3,
          0
         ],
         "yaxis": "y"
        },
        {
         "hoverlabel": {
          "namelength": 0
         },
         "hovertemplate": "<b>%{hovertext}</b><br><br>team=Hardwood Classics<br>player_name=Bradley Beal<br>week=%{x}<br>points=%{y}",
         "hovertext": [
          "Bradley Beal",
          "Bradley Beal",
          "Bradley Beal",
          "Bradley Beal"
         ],
         "legendgroup": "team=Hardwood Classics",
         "line": {
          "color": "#ab63fa",
          "dash": "solid"
         },
         "mode": "lines",
         "name": "team=Hardwood Classics",
         "showlegend": true,
         "type": "scatter",
         "x": [
          1,
          2,
          3,
          4
         ],
         "xaxis": "x",
         "y": [
          58.7,
          81.8,
          54.7,
          100
         ],
         "yaxis": "y"
        },
        {
         "hoverlabel": {
          "namelength": 0
         },
         "hovertemplate": "<b>%{hovertext}</b><br><br>team=Hardwood Classics<br>player_name=Brook Lopez<br>week=%{x}<br>points=%{y}",
         "hovertext": [
          "Brook Lopez",
          "Brook Lopez",
          "Brook Lopez",
          "Brook Lopez"
         ],
         "legendgroup": "team=Hardwood Classics",
         "line": {
          "color": "#ab63fa",
          "dash": "solid"
         },
         "mode": "lines",
         "name": "team=Hardwood Classics",
         "showlegend": false,
         "type": "scatter",
         "x": [
          1,
          2,
          3,
          4
         ],
         "xaxis": "x",
         "y": [
          37.8,
          29.8,
          39.8,
          0
         ],
         "yaxis": "y"
        },
        {
         "hoverlabel": {
          "namelength": 0
         },
         "hovertemplate": "<b>%{hovertext}</b><br><br>team=Hardwood Classics<br>player_name=D'Angelo Russell<br>week=%{x}<br>points=%{y}",
         "hovertext": [
          "D'Angelo Russell",
          "D'Angelo Russell",
          "D'Angelo Russell",
          "D'Angelo Russell"
         ],
         "legendgroup": "team=Hardwood Classics",
         "line": {
          "color": "#ab63fa",
          "dash": "solid"
         },
         "mode": "lines",
         "name": "team=Hardwood Classics",
         "showlegend": false,
         "type": "scatter",
         "x": [
          1,
          2,
          3,
          4
         ],
         "xaxis": "x",
         "y": [
          31,
          58.2,
          101.8,
          63.2
         ],
         "yaxis": "y"
        },
        {
         "hoverlabel": {
          "namelength": 0
         },
         "hovertemplate": "<b>%{hovertext}</b><br><br>team=Hardwood Classics<br>player_name=Derrick Rose<br>week=%{x}<br>points=%{y}",
         "hovertext": [
          "Derrick Rose",
          "Derrick Rose",
          "Derrick Rose",
          "Derrick Rose"
         ],
         "legendgroup": "team=Hardwood Classics",
         "line": {
          "color": "#ab63fa",
          "dash": "solid"
         },
         "mode": "lines",
         "name": "team=Hardwood Classics",
         "showlegend": false,
         "type": "scatter",
         "x": [
          1,
          2,
          3,
          4
         ],
         "xaxis": "x",
         "y": [
          53.2,
          40.8,
          0,
          29.5
         ],
         "yaxis": "y"
        },
        {
         "hoverlabel": {
          "namelength": 0
         },
         "hovertemplate": "<b>%{hovertext}</b><br><br>team=Hardwood Classics<br>player_name=Draymond Green<br>week=%{x}<br>points=%{y}",
         "hovertext": [
          "Draymond Green",
          "Draymond Green",
          "Draymond Green",
          "Draymond Green"
         ],
         "legendgroup": "team=Hardwood Classics",
         "line": {
          "color": "#ab63fa",
          "dash": "solid"
         },
         "mode": "lines",
         "name": "team=Hardwood Classics",
         "showlegend": false,
         "type": "scatter",
         "x": [
          1,
          2,
          3,
          4
         ],
         "xaxis": "x",
         "y": [
          33.5,
          49,
          0,
          26.8
         ],
         "yaxis": "y"
        },
        {
         "hoverlabel": {
          "namelength": 0
         },
         "hovertemplate": "<b>%{hovertext}</b><br><br>team=Hardwood Classics<br>player_name=Eric Bledsoe<br>week=%{x}<br>points=%{y}",
         "hovertext": [
          "Eric Bledsoe",
          "Eric Bledsoe",
          "Eric Bledsoe",
          "Eric Bledsoe"
         ],
         "legendgroup": "team=Hardwood Classics",
         "line": {
          "color": "#ab63fa",
          "dash": "solid"
         },
         "mode": "lines",
         "name": "team=Hardwood Classics",
         "showlegend": false,
         "type": "scatter",
         "x": [
          1,
          2,
          3,
          4
         ],
         "xaxis": "x",
         "y": [
          24.8,
          42.8,
          60.4,
          0
         ],
         "yaxis": "y"
        },
        {
         "hoverlabel": {
          "namelength": 0
         },
         "hovertemplate": "<b>%{hovertext}</b><br><br>team=Hardwood Classics<br>player_name=JaVale McGee<br>week=%{x}<br>points=%{y}",
         "hovertext": [
          "JaVale McGee",
          "JaVale McGee"
         ],
         "legendgroup": "team=Hardwood Classics",
         "line": {
          "color": "#ab63fa",
          "dash": "solid"
         },
         "mode": "lines",
         "name": "team=Hardwood Classics",
         "showlegend": false,
         "type": "scatter",
         "x": [
          1,
          2
         ],
         "xaxis": "x",
         "y": [
          15,
          18.7
         ],
         "yaxis": "y"
        },
        {
         "hoverlabel": {
          "namelength": 0
         },
         "hovertemplate": "<b>%{hovertext}</b><br><br>team=Hardwood Classics<br>player_name=Paul George<br>week=%{x}<br>points=%{y}",
         "hovertext": [
          "Paul George",
          "Paul George",
          "Paul George",
          "Paul George"
         ],
         "legendgroup": "team=Hardwood Classics",
         "line": {
          "color": "#ab63fa",
          "dash": "solid"
         },
         "mode": "lines",
         "name": "team=Hardwood Classics",
         "showlegend": false,
         "type": "scatter",
         "x": [
          1,
          2,
          3,
          4
         ],
         "xaxis": "x",
         "y": [
          0,
          0,
          0,
          0
         ],
         "yaxis": "y"
        },
        {
         "hoverlabel": {
          "namelength": 0
         },
         "hovertemplate": "<b>%{hovertext}</b><br><br>team=Hardwood Classics<br>player_name=Rajon Rondo<br>week=%{x}<br>points=%{y}",
         "hovertext": [
          "Rajon Rondo",
          "Rajon Rondo",
          "Rajon Rondo",
          "Rajon Rondo"
         ],
         "legendgroup": "team=Hardwood Classics",
         "line": {
          "color": "#ab63fa",
          "dash": "solid"
         },
         "mode": "lines",
         "name": "team=Hardwood Classics",
         "showlegend": false,
         "type": "scatter",
         "x": [
          1,
          2,
          3,
          4
         ],
         "xaxis": "x",
         "y": [
          0,
          0,
          0,
          32
         ],
         "yaxis": "y"
        },
        {
         "hoverlabel": {
          "namelength": 0
         },
         "hovertemplate": "<b>%{hovertext}</b><br><br>team=Hardwood Classics<br>player_name=Spencer Dinwiddie<br>week=%{x}<br>points=%{y}",
         "hovertext": [
          "Spencer Dinwiddie",
          "Spencer Dinwiddie",
          "Spencer Dinwiddie",
          "Spencer Dinwiddie"
         ],
         "legendgroup": "team=Hardwood Classics",
         "line": {
          "color": "#ab63fa",
          "dash": "solid"
         },
         "mode": "lines",
         "name": "team=Hardwood Classics",
         "showlegend": false,
         "type": "scatter",
         "x": [
          1,
          2,
          3,
          4
         ],
         "xaxis": "x",
         "y": [
          40,
          31.7,
          49.5,
          39.5
         ],
         "yaxis": "y"
        },
        {
         "hoverlabel": {
          "namelength": 0
         },
         "hovertemplate": "<b>%{hovertext}</b><br><br>team=Hardwood Classics<br>player_name=T.J. Warren<br>week=%{x}<br>points=%{y}",
         "hovertext": [
          "T.J. Warren"
         ],
         "legendgroup": "team=Hardwood Classics",
         "line": {
          "color": "#ab63fa",
          "dash": "solid"
         },
         "mode": "lines",
         "name": "team=Hardwood Classics",
         "showlegend": false,
         "type": "scatter",
         "x": [
          1
         ],
         "xaxis": "x",
         "y": [
          16.5
         ],
         "yaxis": "y"
        },
        {
         "hoverlabel": {
          "namelength": 0
         },
         "hovertemplate": "<b>%{hovertext}</b><br><br>team=Hardwood Classics<br>player_name=Thaddeus Young<br>week=%{x}<br>points=%{y}",
         "hovertext": [
          "Thaddeus Young",
          "Thaddeus Young",
          "Thaddeus Young",
          "Thaddeus Young"
         ],
         "legendgroup": "team=Hardwood Classics",
         "line": {
          "color": "#ab63fa",
          "dash": "solid"
         },
         "mode": "lines",
         "name": "team=Hardwood Classics",
         "showlegend": false,
         "type": "scatter",
         "x": [
          1,
          2,
          3,
          4
         ],
         "xaxis": "x",
         "y": [
          24.8,
          37,
          24.7,
          26.5
         ],
         "yaxis": "y"
        },
        {
         "hoverlabel": {
          "namelength": 0
         },
         "hovertemplate": "<b>%{hovertext}</b><br><br>team=Hardwood Classics<br>player_name=Zion Williamson<br>week=%{x}<br>points=%{y}",
         "hovertext": [
          "Zion Williamson",
          "Zion Williamson",
          "Zion Williamson",
          "Zion Williamson"
         ],
         "legendgroup": "team=Hardwood Classics",
         "line": {
          "color": "#ab63fa",
          "dash": "solid"
         },
         "mode": "lines",
         "name": "team=Hardwood Classics",
         "showlegend": false,
         "type": "scatter",
         "x": [
          1,
          2,
          3,
          4
         ],
         "xaxis": "x",
         "y": [
          0,
          0,
          0,
          0
         ],
         "yaxis": "y"
        },
        {
         "hoverlabel": {
          "namelength": 0
         },
         "hovertemplate": "<b>%{hovertext}</b><br><br>team=Hardwood Classics<br>player_name=Devonte' Graham<br>week=%{x}<br>points=%{y}",
         "hovertext": [
          "Devonte' Graham",
          "Devonte' Graham",
          "Devonte' Graham"
         ],
         "legendgroup": "team=Hardwood Classics",
         "line": {
          "color": "#ab63fa",
          "dash": "solid"
         },
         "mode": "lines",
         "name": "team=Hardwood Classics",
         "showlegend": false,
         "type": "scatter",
         "x": [
          2,
          3,
          4
         ],
         "xaxis": "x",
         "y": [
          38.8,
          68.4,
          41.5
         ],
         "yaxis": "y"
        },
        {
         "hoverlabel": {
          "namelength": 0
         },
         "hovertemplate": "<b>%{hovertext}</b><br><br>team=Hardwood Classics<br>player_name=Dwight Howard<br>week=%{x}<br>points=%{y}",
         "hovertext": [
          "Dwight Howard",
          "Dwight Howard"
         ],
         "legendgroup": "team=Hardwood Classics",
         "line": {
          "color": "#ab63fa",
          "dash": "solid"
         },
         "mode": "lines",
         "name": "team=Hardwood Classics",
         "showlegend": false,
         "type": "scatter",
         "x": [
          3,
          4
         ],
         "xaxis": "x",
         "y": [
          19.7,
          37.8
         ],
         "yaxis": "y"
        },
        {
         "hoverlabel": {
          "namelength": 0
         },
         "hovertemplate": "<b>%{hovertext}</b><br><br>team=Your Team Name<br>player_name=Alex Len<br>week=%{x}<br>points=%{y}",
         "hovertext": [
          "Alex Len",
          "Alex Len",
          "Alex Len"
         ],
         "legendgroup": "team=Your Team Name",
         "line": {
          "color": "#FFA15A",
          "dash": "solid"
         },
         "mode": "lines",
         "name": "team=Your Team Name",
         "showlegend": true,
         "type": "scatter",
         "x": [
          1,
          2,
          3
         ],
         "xaxis": "x",
         "y": [
          19,
          20,
          18.1
         ],
         "yaxis": "y"
        },
        {
         "hoverlabel": {
          "namelength": 0
         },
         "hovertemplate": "<b>%{hovertext}</b><br><br>team=Your Team Name<br>player_name=Danny Green<br>week=%{x}<br>points=%{y}",
         "hovertext": [
          "Danny Green",
          "Danny Green",
          "Danny Green",
          "Danny Green"
         ],
         "legendgroup": "team=Your Team Name",
         "line": {
          "color": "#FFA15A",
          "dash": "solid"
         },
         "mode": "lines",
         "name": "team=Your Team Name",
         "showlegend": false,
         "type": "scatter",
         "x": [
          1,
          2,
          3,
          4
         ],
         "xaxis": "x",
         "y": [
          45.3,
          20.5,
          20,
          25.8
         ],
         "yaxis": "y"
        },
        {
         "hoverlabel": {
          "namelength": 0
         },
         "hovertemplate": "<b>%{hovertext}</b><br><br>team=Your Team Name<br>player_name=Deandre Ayton<br>week=%{x}<br>points=%{y}",
         "hovertext": [
          "Deandre Ayton",
          "Deandre Ayton",
          "Deandre Ayton"
         ],
         "legendgroup": "team=Your Team Name",
         "line": {
          "color": "#FFA15A",
          "dash": "solid"
         },
         "mode": "lines",
         "name": "team=Your Team Name",
         "showlegend": false,
         "type": "scatter",
         "x": [
          1,
          2,
          3
         ],
         "xaxis": "x",
         "y": [
          67,
          0,
          0
         ],
         "yaxis": "y"
        },
        {
         "hoverlabel": {
          "namelength": 0
         },
         "hovertemplate": "<b>%{hovertext}</b><br><br>team=Your Team Name<br>player_name=Delon Wright<br>week=%{x}<br>points=%{y}",
         "hovertext": [
          "Delon Wright",
          "Delon Wright",
          "Delon Wright"
         ],
         "legendgroup": "team=Your Team Name",
         "line": {
          "color": "#FFA15A",
          "dash": "solid"
         },
         "mode": "lines",
         "name": "team=Your Team Name",
         "showlegend": false,
         "type": "scatter",
         "x": [
          1,
          2,
          3
         ],
         "xaxis": "x",
         "y": [
          39.2,
          35.2,
          15.3
         ],
         "yaxis": "y"
        },
        {
         "hoverlabel": {
          "namelength": 0
         },
         "hovertemplate": "<b>%{hovertext}</b><br><br>team=Your Team Name<br>player_name=Derrick White<br>week=%{x}<br>points=%{y}",
         "hovertext": [
          "Derrick White",
          "Derrick White",
          "Derrick White",
          "Derrick White"
         ],
         "legendgroup": "team=Your Team Name",
         "line": {
          "color": "#FFA15A",
          "dash": "solid"
         },
         "mode": "lines",
         "name": "team=Your Team Name",
         "showlegend": false,
         "type": "scatter",
         "x": [
          1,
          2,
          3,
          4
         ],
         "xaxis": "x",
         "y": [
          22.2,
          39.6,
          23.3,
          29.8
         ],
         "yaxis": "y"
        },
        {
         "hoverlabel": {
          "namelength": 0
         },
         "hovertemplate": "<b>%{hovertext}</b><br><br>team=Your Team Name<br>player_name=Kawhi Leonard<br>week=%{x}<br>points=%{y}",
         "hovertext": [
          "Kawhi Leonard",
          "Kawhi Leonard",
          "Kawhi Leonard",
          "Kawhi Leonard"
         ],
         "legendgroup": "team=Your Team Name",
         "line": {
          "color": "#FFA15A",
          "dash": "solid"
         },
         "mode": "lines",
         "name": "team=Your Team Name",
         "showlegend": false,
         "type": "scatter",
         "x": [
          1,
          2,
          3,
          4
         ],
         "xaxis": "x",
         "y": [
          72.2,
          83.3,
          70.5,
          65.2
         ],
         "yaxis": "y"
        },
        {
         "hoverlabel": {
          "namelength": 0
         },
         "hovertemplate": "<b>%{hovertext}</b><br><br>team=Your Team Name<br>player_name=Kemba Walker<br>week=%{x}<br>points=%{y}",
         "hovertext": [
          "Kemba Walker",
          "Kemba Walker",
          "Kemba Walker",
          "Kemba Walker"
         ],
         "legendgroup": "team=Your Team Name",
         "line": {
          "color": "#FFA15A",
          "dash": "solid"
         },
         "mode": "lines",
         "name": "team=Your Team Name",
         "showlegend": false,
         "type": "scatter",
         "x": [
          1,
          2,
          3,
          4
         ],
         "xaxis": "x",
         "y": [
          56.3,
          72.5,
          64,
          77.5
         ],
         "yaxis": "y"
        },
        {
         "hoverlabel": {
          "namelength": 0
         },
         "hovertemplate": "<b>%{hovertext}</b><br><br>team=Your Team Name<br>player_name=Khris Middleton<br>week=%{x}<br>points=%{y}",
         "hovertext": [
          "Khris Middleton",
          "Khris Middleton",
          "Khris Middleton",
          "Khris Middleton"
         ],
         "legendgroup": "team=Your Team Name",
         "line": {
          "color": "#FFA15A",
          "dash": "solid"
         },
         "mode": "lines",
         "name": "team=Your Team Name",
         "showlegend": false,
         "type": "scatter",
         "x": [
          1,
          2,
          3,
          4
         ],
         "xaxis": "x",
         "y": [
          49.5,
          46.4,
          47.8,
          0
         ],
         "yaxis": "y"
        },
        {
         "hoverlabel": {
          "namelength": 0
         },
         "hovertemplate": "<b>%{hovertext}</b><br><br>team=Your Team Name<br>player_name=Malcolm Brogdon<br>week=%{x}<br>points=%{y}",
         "hovertext": [
          "Malcolm Brogdon",
          "Malcolm Brogdon",
          "Malcolm Brogdon"
         ],
         "legendgroup": "team=Your Team Name",
         "line": {
          "color": "#FFA15A",
          "dash": "solid"
         },
         "mode": "lines",
         "name": "team=Your Team Name",
         "showlegend": false,
         "type": "scatter",
         "x": [
          1,
          2,
          3
         ],
         "xaxis": "x",
         "y": [
          79,
          64.9,
          51.1
         ],
         "yaxis": "y"
        },
        {
         "hoverlabel": {
          "namelength": 0
         },
         "hovertemplate": "<b>%{hovertext}</b><br><br>team=Your Team Name<br>player_name=Marc Gasol<br>week=%{x}<br>points=%{y}",
         "hovertext": [
          "Marc Gasol",
          "Marc Gasol",
          "Marc Gasol",
          "Marc Gasol"
         ],
         "legendgroup": "team=Your Team Name",
         "line": {
          "color": "#FFA15A",
          "dash": "solid"
         },
         "mode": "lines",
         "name": "team=Your Team Name",
         "showlegend": false,
         "type": "scatter",
         "x": [
          1,
          2,
          3,
          4
         ],
         "xaxis": "x",
         "y": [
          20.3,
          35.3,
          22.3,
          41.8
         ],
         "yaxis": "y"
        },
        {
         "hoverlabel": {
          "namelength": 0
         },
         "hovertemplate": "<b>%{hovertext}</b><br><br>team=Your Team Name<br>player_name=Robert Covington<br>week=%{x}<br>points=%{y}",
         "hovertext": [
          "Robert Covington",
          "Robert Covington",
          "Robert Covington",
          "Robert Covington"
         ],
         "legendgroup": "team=Your Team Name",
         "line": {
          "color": "#FFA15A",
          "dash": "solid"
         },
         "mode": "lines",
         "name": "team=Your Team Name",
         "showlegend": false,
         "type": "scatter",
         "x": [
          1,
          2,
          3,
          4
         ],
         "xaxis": "x",
         "y": [
          37.5,
          38,
          43.9,
          28.5
         ],
         "yaxis": "y"
        },
        {
         "hoverlabel": {
          "namelength": 0
         },
         "hovertemplate": "<b>%{hovertext}</b><br><br>team=Your Team Name<br>player_name=Wesley Matthews<br>week=%{x}<br>points=%{y}",
         "hovertext": [
          "Wesley Matthews",
          "Wesley Matthews"
         ],
         "legendgroup": "team=Your Team Name",
         "line": {
          "color": "#FFA15A",
          "dash": "solid"
         },
         "mode": "lines",
         "name": "team=Your Team Name",
         "showlegend": false,
         "type": "scatter",
         "x": [
          1,
          2
         ],
         "xaxis": "x",
         "y": [
          39.8,
          15.1
         ],
         "yaxis": "y"
        },
        {
         "hoverlabel": {
          "namelength": 0
         },
         "hovertemplate": "<b>%{hovertext}</b><br><br>team=Your Team Name<br>player_name=Zach Collins<br>week=%{x}<br>points=%{y}",
         "hovertext": [
          "Zach Collins",
          "Zach Collins"
         ],
         "legendgroup": "team=Your Team Name",
         "line": {
          "color": "#FFA15A",
          "dash": "solid"
         },
         "mode": "lines",
         "name": "team=Your Team Name",
         "showlegend": false,
         "type": "scatter",
         "x": [
          1,
          2
         ],
         "xaxis": "x",
         "y": [
          25.5,
          0
         ],
         "yaxis": "y"
        },
        {
         "hoverlabel": {
          "namelength": 0
         },
         "hovertemplate": "<b>%{hovertext}</b><br><br>team=Your Team Name<br>player_name=Dwight Powell<br>week=%{x}<br>points=%{y}",
         "hovertext": [
          "Dwight Powell",
          "Dwight Powell"
         ],
         "legendgroup": "team=Your Team Name",
         "line": {
          "color": "#FFA15A",
          "dash": "solid"
         },
         "mode": "lines",
         "name": "team=Your Team Name",
         "showlegend": false,
         "type": "scatter",
         "x": [
          3,
          4
         ],
         "xaxis": "x",
         "y": [
          31.2,
          37
         ],
         "yaxis": "y"
        },
        {
         "hoverlabel": {
          "namelength": 0
         },
         "hovertemplate": "<b>%{hovertext}</b><br><br>team=Your Team Name<br>player_name=Will Barton<br>week=%{x}<br>points=%{y}",
         "hovertext": [
          "Will Barton",
          "Will Barton"
         ],
         "legendgroup": "team=Your Team Name",
         "line": {
          "color": "#FFA15A",
          "dash": "solid"
         },
         "mode": "lines",
         "name": "team=Your Team Name",
         "showlegend": false,
         "type": "scatter",
         "x": [
          3,
          4
         ],
         "xaxis": "x",
         "y": [
          57.3,
          68
         ],
         "yaxis": "y"
        },
        {
         "hoverlabel": {
          "namelength": 0
         },
         "hovertemplate": "<b>%{hovertext}</b><br><br>team=Your Team Name<br>player_name=Jae Crowder<br>week=%{x}<br>points=%{y}",
         "hovertext": [
          "Jae Crowder"
         ],
         "legendgroup": "team=Your Team Name",
         "line": {
          "color": "#FFA15A",
          "dash": "solid"
         },
         "mode": "lines",
         "name": "team=Your Team Name",
         "showlegend": false,
         "type": "scatter",
         "x": [
          4
         ],
         "xaxis": "x",
         "y": [
          24.2
         ],
         "yaxis": "y"
        },
        {
         "hoverlabel": {
          "namelength": 0
         },
         "hovertemplate": "<b>%{hovertext}</b><br><br>team=Your Team Name<br>player_name=Mike Conley<br>week=%{x}<br>points=%{y}",
         "hovertext": [
          "Mike Conley"
         ],
         "legendgroup": "team=Your Team Name",
         "line": {
          "color": "#FFA15A",
          "dash": "solid"
         },
         "mode": "lines",
         "name": "team=Your Team Name",
         "showlegend": false,
         "type": "scatter",
         "x": [
          4
         ],
         "xaxis": "x",
         "y": [
          49.5
         ],
         "yaxis": "y"
        },
        {
         "hoverlabel": {
          "namelength": 0
         },
         "hovertemplate": "<b>%{hovertext}</b><br><br>team=Your Team Name<br>player_name=Nikola Jokic<br>week=%{x}<br>points=%{y}",
         "hovertext": [
          "Nikola Jokic"
         ],
         "legendgroup": "team=Your Team Name",
         "line": {
          "color": "#FFA15A",
          "dash": "solid"
         },
         "mode": "lines",
         "name": "team=Your Team Name",
         "showlegend": false,
         "type": "scatter",
         "x": [
          4
         ],
         "xaxis": "x",
         "y": [
          59
         ],
         "yaxis": "y"
        },
        {
         "hoverlabel": {
          "namelength": 0
         },
         "hovertemplate": "<b>%{hovertext}</b><br><br>team=Your Team Name<br>player_name=Tomas Satoransky<br>week=%{x}<br>points=%{y}",
         "hovertext": [
          "Tomas Satoransky"
         ],
         "legendgroup": "team=Your Team Name",
         "line": {
          "color": "#FFA15A",
          "dash": "solid"
         },
         "mode": "lines",
         "name": "team=Your Team Name",
         "showlegend": false,
         "type": "scatter",
         "x": [
          4
         ],
         "xaxis": "x",
         "y": [
          14.5
         ],
         "yaxis": "y"
        },
        {
         "hoverlabel": {
          "namelength": 0
         },
         "hovertemplate": "<b>%{hovertext}</b><br><br>team=ManuGino's Team<br>player_name=T.J. Warren<br>week=%{x}<br>points=%{y}",
         "hovertext": [
          "T.J. Warren",
          "T.J. Warren"
         ],
         "legendgroup": "team=ManuGino's Team",
         "line": {
          "color": "#19d3f3",
          "dash": "solid"
         },
         "mode": "lines",
         "name": "team=ManuGino's Team",
         "showlegend": true,
         "type": "scatter",
         "x": [
          3,
          4
         ],
         "xaxis": "x",
         "y": [
          50.2,
          58
         ],
         "yaxis": "y"
        },
        {
         "hoverlabel": {
          "namelength": 0
         },
         "hovertemplate": "<b>%{hovertext}</b><br><br>team=ManuGino's Team<br>player_name=Bobby Portis<br>week=%{x}<br>points=%{y}",
         "hovertext": [
          "Bobby Portis",
          "Bobby Portis",
          "Bobby Portis",
          "Bobby Portis"
         ],
         "legendgroup": "team=ManuGino's Team",
         "line": {
          "color": "#19d3f3",
          "dash": "solid"
         },
         "mode": "lines",
         "name": "team=ManuGino's Team",
         "showlegend": false,
         "type": "scatter",
         "x": [
          1,
          2,
          3,
          4
         ],
         "xaxis": "x",
         "y": [
          24,
          44.4,
          33.5,
          20
         ],
         "yaxis": "y"
        },
        {
         "hoverlabel": {
          "namelength": 0
         },
         "hovertemplate": "<b>%{hovertext}</b><br><br>team=ManuGino's Team<br>player_name=Buddy Hield<br>week=%{x}<br>points=%{y}",
         "hovertext": [
          "Buddy Hield",
          "Buddy Hield",
          "Buddy Hield",
          "Buddy Hield"
         ],
         "legendgroup": "team=ManuGino's Team",
         "line": {
          "color": "#19d3f3",
          "dash": "solid"
         },
         "mode": "lines",
         "name": "team=ManuGino's Team",
         "showlegend": false,
         "type": "scatter",
         "x": [
          1,
          2,
          3,
          4
         ],
         "xaxis": "x",
         "y": [
          37.8,
          43.8,
          54.8,
          35.5
         ],
         "yaxis": "y"
        },
        {
         "hoverlabel": {
          "namelength": 0
         },
         "hovertemplate": "<b>%{hovertext}</b><br><br>team=ManuGino's Team<br>player_name=CJ McCollum<br>week=%{x}<br>points=%{y}",
         "hovertext": [
          "CJ McCollum",
          "CJ McCollum",
          "CJ McCollum",
          "CJ McCollum"
         ],
         "legendgroup": "team=ManuGino's Team",
         "line": {
          "color": "#19d3f3",
          "dash": "solid"
         },
         "mode": "lines",
         "name": "team=ManuGino's Team",
         "showlegend": false,
         "type": "scatter",
         "x": [
          1,
          2,
          3,
          4
         ],
         "xaxis": "x",
         "y": [
          46.7,
          44.7,
          42.8,
          52.8
         ],
         "yaxis": "y"
        },
        {
         "hoverlabel": {
          "namelength": 0
         },
         "hovertemplate": "<b>%{hovertext}</b><br><br>team=ManuGino's Team<br>player_name=Cameron Reddish<br>week=%{x}<br>points=%{y}",
         "hovertext": [
          "Cameron Reddish",
          "Cameron Reddish",
          "Cameron Reddish"
         ],
         "legendgroup": "team=ManuGino's Team",
         "line": {
          "color": "#19d3f3",
          "dash": "solid"
         },
         "mode": "lines",
         "name": "team=ManuGino's Team",
         "showlegend": false,
         "type": "scatter",
         "x": [
          1,
          2,
          3
         ],
         "xaxis": "x",
         "y": [
          14,
          23.5,
          17
         ],
         "yaxis": "y"
        },
        {
         "hoverlabel": {
          "namelength": 0
         },
         "hovertemplate": "<b>%{hovertext}</b><br><br>team=ManuGino's Team<br>player_name=Jaylen Brown<br>week=%{x}<br>points=%{y}",
         "hovertext": [
          "Jaylen Brown",
          "Jaylen Brown",
          "Jaylen Brown",
          "Jaylen Brown"
         ],
         "legendgroup": "team=ManuGino's Team",
         "line": {
          "color": "#19d3f3",
          "dash": "solid"
         },
         "mode": "lines",
         "name": "team=ManuGino's Team",
         "showlegend": false,
         "type": "scatter",
         "x": [
          1,
          2,
          3,
          4
         ],
         "xaxis": "x",
         "y": [
          45.8,
          0,
          48,
          59.2
         ],
         "yaxis": "y"
        },
        {
         "hoverlabel": {
          "namelength": 0
         },
         "hovertemplate": "<b>%{hovertext}</b><br><br>team=ManuGino's Team<br>player_name=Kelly Oubre<br>week=%{x}<br>points=%{y}",
         "hovertext": [
          "Kelly Oubre",
          "Kelly Oubre",
          "Kelly Oubre",
          "Kelly Oubre"
         ],
         "legendgroup": "team=ManuGino's Team",
         "line": {
          "color": "#19d3f3",
          "dash": "solid"
         },
         "mode": "lines",
         "name": "team=ManuGino's Team",
         "showlegend": false,
         "type": "scatter",
         "x": [
          1,
          2,
          3,
          4
         ],
         "xaxis": "x",
         "y": [
          57.5,
          38.3,
          36.8,
          4
         ],
         "yaxis": "y"
        },
        {
         "hoverlabel": {
          "namelength": 0
         },
         "hovertemplate": "<b>%{hovertext}</b><br><br>team=ManuGino's Team<br>player_name=Kevin Huerter<br>week=%{x}<br>points=%{y}",
         "hovertext": [
          "Kevin Huerter",
          "Kevin Huerter",
          "Kevin Huerter"
         ],
         "legendgroup": "team=ManuGino's Team",
         "line": {
          "color": "#19d3f3",
          "dash": "solid"
         },
         "mode": "lines",
         "name": "team=ManuGino's Team",
         "showlegend": false,
         "type": "scatter",
         "x": [
          1,
          2,
          4
         ],
         "xaxis": "x",
         "y": [
          21,
          22.3,
          36.5
         ],
         "yaxis": "y"
        },
        {
         "hoverlabel": {
          "namelength": 0
         },
         "hovertemplate": "<b>%{hovertext}</b><br><br>team=ManuGino's Team<br>player_name=Kyle Lowry<br>week=%{x}<br>points=%{y}",
         "hovertext": [
          "Kyle Lowry",
          "Kyle Lowry",
          "Kyle Lowry",
          "Kyle Lowry"
         ],
         "legendgroup": "team=ManuGino's Team",
         "line": {
          "color": "#19d3f3",
          "dash": "solid"
         },
         "mode": "lines",
         "name": "team=ManuGino's Team",
         "showlegend": false,
         "type": "scatter",
         "x": [
          1,
          2,
          3,
          4
         ],
         "xaxis": "x",
         "y": [
          62.8,
          67.7,
          44.2,
          0
         ],
         "yaxis": "y"
        },
        {
         "hoverlabel": {
          "namelength": 0
         },
         "hovertemplate": "<b>%{hovertext}</b><br><br>team=ManuGino's Team<br>player_name=Marvin Bagley<br>week=%{x}<br>points=%{y}",
         "hovertext": [
          "Marvin Bagley",
          "Marvin Bagley",
          "Marvin Bagley",
          "Marvin Bagley"
         ],
         "legendgroup": "team=ManuGino's Team",
         "line": {
          "color": "#19d3f3",
          "dash": "solid"
         },
         "mode": "lines",
         "name": "team=ManuGino's Team",
         "showlegend": false,
         "type": "scatter",
         "x": [
          1,
          2,
          3,
          4
         ],
         "xaxis": "x",
         "y": [
          44.5,
          0,
          0,
          0
         ],
         "yaxis": "y"
        },
        {
         "hoverlabel": {
          "namelength": 0
         },
         "hovertemplate": "<b>%{hovertext}</b><br><br>team=ManuGino's Team<br>player_name=Myles Turner<br>week=%{x}<br>points=%{y}",
         "hovertext": [
          "Myles Turner",
          "Myles Turner",
          "Myles Turner",
          "Myles Turner"
         ],
         "legendgroup": "team=ManuGino's Team",
         "line": {
          "color": "#19d3f3",
          "dash": "solid"
         },
         "mode": "lines",
         "name": "team=ManuGino's Team",
         "showlegend": false,
         "type": "scatter",
         "x": [
          1,
          2,
          3,
          4
         ],
         "xaxis": "x",
         "y": [
          57.2,
          29.8,
          0,
          0
         ],
         "yaxis": "y"
        },
        {
         "hoverlabel": {
          "namelength": 0
         },
         "hovertemplate": "<b>%{hovertext}</b><br><br>team=ManuGino's Team<br>player_name=Nikola Vucevic<br>week=%{x}<br>points=%{y}",
         "hovertext": [
          "Nikola Vucevic",
          "Nikola Vucevic",
          "Nikola Vucevic",
          "Nikola Vucevic"
         ],
         "legendgroup": "team=ManuGino's Team",
         "line": {
          "color": "#19d3f3",
          "dash": "solid"
         },
         "mode": "lines",
         "name": "team=ManuGino's Team",
         "showlegend": false,
         "type": "scatter",
         "x": [
          1,
          2,
          3,
          4
         ],
         "xaxis": "x",
         "y": [
          55,
          50.1,
          69.1,
          70.5
         ],
         "yaxis": "y"
        },
        {
         "hoverlabel": {
          "namelength": 0
         },
         "hovertemplate": "<b>%{hovertext}</b><br><br>team=ManuGino's Team<br>player_name=Stephen Curry<br>week=%{x}<br>points=%{y}",
         "hovertext": [
          "Stephen Curry",
          "Stephen Curry",
          "Stephen Curry",
          "Stephen Curry"
         ],
         "legendgroup": "team=ManuGino's Team",
         "line": {
          "color": "#19d3f3",
          "dash": "solid"
         },
         "mode": "lines",
         "name": "team=ManuGino's Team",
         "showlegend": false,
         "type": "scatter",
         "x": [
          1,
          2,
          3,
          4
         ],
         "xaxis": "x",
         "y": [
          50.2,
          62.5,
          0,
          0
         ],
         "yaxis": "y"
        },
        {
         "hoverlabel": {
          "namelength": 0
         },
         "hovertemplate": "<b>%{hovertext}</b><br><br>team=ManuGino's Team<br>player_name=Wendell Carter<br>week=%{x}<br>points=%{y}",
         "hovertext": [
          "Wendell Carter",
          "Wendell Carter",
          "Wendell Carter",
          "Wendell Carter"
         ],
         "legendgroup": "team=ManuGino's Team",
         "line": {
          "color": "#19d3f3",
          "dash": "solid"
         },
         "mode": "lines",
         "name": "team=ManuGino's Team",
         "showlegend": false,
         "type": "scatter",
         "x": [
          1,
          2,
          3,
          4
         ],
         "xaxis": "x",
         "y": [
          34.2,
          53.4,
          35.8,
          49
         ],
         "yaxis": "y"
        }
       ],
       "layout": {
        "height": 600,
        "legend": {
         "tracegroupgap": 0
        },
        "margin": {
         "t": 60
        },
        "template": {
         "data": {
          "bar": [
           {
            "error_x": {
             "color": "#2a3f5f"
            },
            "error_y": {
             "color": "#2a3f5f"
            },
            "marker": {
             "line": {
              "color": "#E5ECF6",
              "width": 0.5
             }
            },
            "type": "bar"
           }
          ],
          "barpolar": [
           {
            "marker": {
             "line": {
              "color": "#E5ECF6",
              "width": 0.5
             }
            },
            "type": "barpolar"
           }
          ],
          "carpet": [
           {
            "aaxis": {
             "endlinecolor": "#2a3f5f",
             "gridcolor": "white",
             "linecolor": "white",
             "minorgridcolor": "white",
             "startlinecolor": "#2a3f5f"
            },
            "baxis": {
             "endlinecolor": "#2a3f5f",
             "gridcolor": "white",
             "linecolor": "white",
             "minorgridcolor": "white",
             "startlinecolor": "#2a3f5f"
            },
            "type": "carpet"
           }
          ],
          "choropleth": [
           {
            "colorbar": {
             "outlinewidth": 0,
             "ticks": ""
            },
            "type": "choropleth"
           }
          ],
          "contour": [
           {
            "colorbar": {
             "outlinewidth": 0,
             "ticks": ""
            },
            "colorscale": [
             [
              0,
              "#0d0887"
             ],
             [
              0.1111111111111111,
              "#46039f"
             ],
             [
              0.2222222222222222,
              "#7201a8"
             ],
             [
              0.3333333333333333,
              "#9c179e"
             ],
             [
              0.4444444444444444,
              "#bd3786"
             ],
             [
              0.5555555555555556,
              "#d8576b"
             ],
             [
              0.6666666666666666,
              "#ed7953"
             ],
             [
              0.7777777777777778,
              "#fb9f3a"
             ],
             [
              0.8888888888888888,
              "#fdca26"
             ],
             [
              1,
              "#f0f921"
             ]
            ],
            "type": "contour"
           }
          ],
          "contourcarpet": [
           {
            "colorbar": {
             "outlinewidth": 0,
             "ticks": ""
            },
            "type": "contourcarpet"
           }
          ],
          "heatmap": [
           {
            "colorbar": {
             "outlinewidth": 0,
             "ticks": ""
            },
            "colorscale": [
             [
              0,
              "#0d0887"
             ],
             [
              0.1111111111111111,
              "#46039f"
             ],
             [
              0.2222222222222222,
              "#7201a8"
             ],
             [
              0.3333333333333333,
              "#9c179e"
             ],
             [
              0.4444444444444444,
              "#bd3786"
             ],
             [
              0.5555555555555556,
              "#d8576b"
             ],
             [
              0.6666666666666666,
              "#ed7953"
             ],
             [
              0.7777777777777778,
              "#fb9f3a"
             ],
             [
              0.8888888888888888,
              "#fdca26"
             ],
             [
              1,
              "#f0f921"
             ]
            ],
            "type": "heatmap"
           }
          ],
          "heatmapgl": [
           {
            "colorbar": {
             "outlinewidth": 0,
             "ticks": ""
            },
            "colorscale": [
             [
              0,
              "#0d0887"
             ],
             [
              0.1111111111111111,
              "#46039f"
             ],
             [
              0.2222222222222222,
              "#7201a8"
             ],
             [
              0.3333333333333333,
              "#9c179e"
             ],
             [
              0.4444444444444444,
              "#bd3786"
             ],
             [
              0.5555555555555556,
              "#d8576b"
             ],
             [
              0.6666666666666666,
              "#ed7953"
             ],
             [
              0.7777777777777778,
              "#fb9f3a"
             ],
             [
              0.8888888888888888,
              "#fdca26"
             ],
             [
              1,
              "#f0f921"
             ]
            ],
            "type": "heatmapgl"
           }
          ],
          "histogram": [
           {
            "marker": {
             "colorbar": {
              "outlinewidth": 0,
              "ticks": ""
             }
            },
            "type": "histogram"
           }
          ],
          "histogram2d": [
           {
            "colorbar": {
             "outlinewidth": 0,
             "ticks": ""
            },
            "colorscale": [
             [
              0,
              "#0d0887"
             ],
             [
              0.1111111111111111,
              "#46039f"
             ],
             [
              0.2222222222222222,
              "#7201a8"
             ],
             [
              0.3333333333333333,
              "#9c179e"
             ],
             [
              0.4444444444444444,
              "#bd3786"
             ],
             [
              0.5555555555555556,
              "#d8576b"
             ],
             [
              0.6666666666666666,
              "#ed7953"
             ],
             [
              0.7777777777777778,
              "#fb9f3a"
             ],
             [
              0.8888888888888888,
              "#fdca26"
             ],
             [
              1,
              "#f0f921"
             ]
            ],
            "type": "histogram2d"
           }
          ],
          "histogram2dcontour": [
           {
            "colorbar": {
             "outlinewidth": 0,
             "ticks": ""
            },
            "colorscale": [
             [
              0,
              "#0d0887"
             ],
             [
              0.1111111111111111,
              "#46039f"
             ],
             [
              0.2222222222222222,
              "#7201a8"
             ],
             [
              0.3333333333333333,
              "#9c179e"
             ],
             [
              0.4444444444444444,
              "#bd3786"
             ],
             [
              0.5555555555555556,
              "#d8576b"
             ],
             [
              0.6666666666666666,
              "#ed7953"
             ],
             [
              0.7777777777777778,
              "#fb9f3a"
             ],
             [
              0.8888888888888888,
              "#fdca26"
             ],
             [
              1,
              "#f0f921"
             ]
            ],
            "type": "histogram2dcontour"
           }
          ],
          "mesh3d": [
           {
            "colorbar": {
             "outlinewidth": 0,
             "ticks": ""
            },
            "type": "mesh3d"
           }
          ],
          "parcoords": [
           {
            "line": {
             "colorbar": {
              "outlinewidth": 0,
              "ticks": ""
             }
            },
            "type": "parcoords"
           }
          ],
          "pie": [
           {
            "automargin": true,
            "type": "pie"
           }
          ],
          "scatter": [
           {
            "marker": {
             "colorbar": {
              "outlinewidth": 0,
              "ticks": ""
             }
            },
            "type": "scatter"
           }
          ],
          "scatter3d": [
           {
            "line": {
             "colorbar": {
              "outlinewidth": 0,
              "ticks": ""
             }
            },
            "marker": {
             "colorbar": {
              "outlinewidth": 0,
              "ticks": ""
             }
            },
            "type": "scatter3d"
           }
          ],
          "scattercarpet": [
           {
            "marker": {
             "colorbar": {
              "outlinewidth": 0,
              "ticks": ""
             }
            },
            "type": "scattercarpet"
           }
          ],
          "scattergeo": [
           {
            "marker": {
             "colorbar": {
              "outlinewidth": 0,
              "ticks": ""
             }
            },
            "type": "scattergeo"
           }
          ],
          "scattergl": [
           {
            "marker": {
             "colorbar": {
              "outlinewidth": 0,
              "ticks": ""
             }
            },
            "type": "scattergl"
           }
          ],
          "scattermapbox": [
           {
            "marker": {
             "colorbar": {
              "outlinewidth": 0,
              "ticks": ""
             }
            },
            "type": "scattermapbox"
           }
          ],
          "scatterpolar": [
           {
            "marker": {
             "colorbar": {
              "outlinewidth": 0,
              "ticks": ""
             }
            },
            "type": "scatterpolar"
           }
          ],
          "scatterpolargl": [
           {
            "marker": {
             "colorbar": {
              "outlinewidth": 0,
              "ticks": ""
             }
            },
            "type": "scatterpolargl"
           }
          ],
          "scatterternary": [
           {
            "marker": {
             "colorbar": {
              "outlinewidth": 0,
              "ticks": ""
             }
            },
            "type": "scatterternary"
           }
          ],
          "surface": [
           {
            "colorbar": {
             "outlinewidth": 0,
             "ticks": ""
            },
            "colorscale": [
             [
              0,
              "#0d0887"
             ],
             [
              0.1111111111111111,
              "#46039f"
             ],
             [
              0.2222222222222222,
              "#7201a8"
             ],
             [
              0.3333333333333333,
              "#9c179e"
             ],
             [
              0.4444444444444444,
              "#bd3786"
             ],
             [
              0.5555555555555556,
              "#d8576b"
             ],
             [
              0.6666666666666666,
              "#ed7953"
             ],
             [
              0.7777777777777778,
              "#fb9f3a"
             ],
             [
              0.8888888888888888,
              "#fdca26"
             ],
             [
              1,
              "#f0f921"
             ]
            ],
            "type": "surface"
           }
          ],
          "table": [
           {
            "cells": {
             "fill": {
              "color": "#EBF0F8"
             },
             "line": {
              "color": "white"
             }
            },
            "header": {
             "fill": {
              "color": "#C8D4E3"
             },
             "line": {
              "color": "white"
             }
            },
            "type": "table"
           }
          ]
         },
         "layout": {
          "annotationdefaults": {
           "arrowcolor": "#2a3f5f",
           "arrowhead": 0,
           "arrowwidth": 1
          },
          "coloraxis": {
           "colorbar": {
            "outlinewidth": 0,
            "ticks": ""
           }
          },
          "colorscale": {
           "diverging": [
            [
             0,
             "#8e0152"
            ],
            [
             0.1,
             "#c51b7d"
            ],
            [
             0.2,
             "#de77ae"
            ],
            [
             0.3,
             "#f1b6da"
            ],
            [
             0.4,
             "#fde0ef"
            ],
            [
             0.5,
             "#f7f7f7"
            ],
            [
             0.6,
             "#e6f5d0"
            ],
            [
             0.7,
             "#b8e186"
            ],
            [
             0.8,
             "#7fbc41"
            ],
            [
             0.9,
             "#4d9221"
            ],
            [
             1,
             "#276419"
            ]
           ],
           "sequential": [
            [
             0,
             "#0d0887"
            ],
            [
             0.1111111111111111,
             "#46039f"
            ],
            [
             0.2222222222222222,
             "#7201a8"
            ],
            [
             0.3333333333333333,
             "#9c179e"
            ],
            [
             0.4444444444444444,
             "#bd3786"
            ],
            [
             0.5555555555555556,
             "#d8576b"
            ],
            [
             0.6666666666666666,
             "#ed7953"
            ],
            [
             0.7777777777777778,
             "#fb9f3a"
            ],
            [
             0.8888888888888888,
             "#fdca26"
            ],
            [
             1,
             "#f0f921"
            ]
           ],
           "sequentialminus": [
            [
             0,
             "#0d0887"
            ],
            [
             0.1111111111111111,
             "#46039f"
            ],
            [
             0.2222222222222222,
             "#7201a8"
            ],
            [
             0.3333333333333333,
             "#9c179e"
            ],
            [
             0.4444444444444444,
             "#bd3786"
            ],
            [
             0.5555555555555556,
             "#d8576b"
            ],
            [
             0.6666666666666666,
             "#ed7953"
            ],
            [
             0.7777777777777778,
             "#fb9f3a"
            ],
            [
             0.8888888888888888,
             "#fdca26"
            ],
            [
             1,
             "#f0f921"
            ]
           ]
          },
          "colorway": [
           "#636efa",
           "#EF553B",
           "#00cc96",
           "#ab63fa",
           "#FFA15A",
           "#19d3f3",
           "#FF6692",
           "#B6E880",
           "#FF97FF",
           "#FECB52"
          ],
          "font": {
           "color": "#2a3f5f"
          },
          "geo": {
           "bgcolor": "white",
           "lakecolor": "white",
           "landcolor": "#E5ECF6",
           "showlakes": true,
           "showland": true,
           "subunitcolor": "white"
          },
          "hoverlabel": {
           "align": "left"
          },
          "hovermode": "closest",
          "mapbox": {
           "style": "light"
          },
          "paper_bgcolor": "white",
          "plot_bgcolor": "#E5ECF6",
          "polar": {
           "angularaxis": {
            "gridcolor": "white",
            "linecolor": "white",
            "ticks": ""
           },
           "bgcolor": "#E5ECF6",
           "radialaxis": {
            "gridcolor": "white",
            "linecolor": "white",
            "ticks": ""
           }
          },
          "scene": {
           "xaxis": {
            "backgroundcolor": "#E5ECF6",
            "gridcolor": "white",
            "gridwidth": 2,
            "linecolor": "white",
            "showbackground": true,
            "ticks": "",
            "zerolinecolor": "white"
           },
           "yaxis": {
            "backgroundcolor": "#E5ECF6",
            "gridcolor": "white",
            "gridwidth": 2,
            "linecolor": "white",
            "showbackground": true,
            "ticks": "",
            "zerolinecolor": "white"
           },
           "zaxis": {
            "backgroundcolor": "#E5ECF6",
            "gridcolor": "white",
            "gridwidth": 2,
            "linecolor": "white",
            "showbackground": true,
            "ticks": "",
            "zerolinecolor": "white"
           }
          },
          "shapedefaults": {
           "line": {
            "color": "#2a3f5f"
           }
          },
          "ternary": {
           "aaxis": {
            "gridcolor": "white",
            "linecolor": "white",
            "ticks": ""
           },
           "baxis": {
            "gridcolor": "white",
            "linecolor": "white",
            "ticks": ""
           },
           "bgcolor": "#E5ECF6",
           "caxis": {
            "gridcolor": "white",
            "linecolor": "white",
            "ticks": ""
           }
          },
          "title": {
           "x": 0.05
          },
          "xaxis": {
           "automargin": true,
           "gridcolor": "white",
           "linecolor": "white",
           "ticks": "",
           "title": {
            "standoff": 15
           },
           "zerolinecolor": "white",
           "zerolinewidth": 2
          },
          "yaxis": {
           "automargin": true,
           "gridcolor": "white",
           "linecolor": "white",
           "ticks": "",
           "title": {
            "standoff": 15
           },
           "zerolinecolor": "white",
           "zerolinewidth": 2
          }
         }
        },
        "xaxis": {
         "anchor": "y",
         "domain": [
          0,
          1
         ],
         "title": {
          "text": "week"
         }
        },
        "yaxis": {
         "anchor": "x",
         "domain": [
          0,
          1
         ],
         "title": {
          "text": "points"
         }
        }
       }
      },
      "text/html": [
       "<div>\n",
       "        \n",
       "        \n",
       "            <div id=\"28322961-c7d3-4b79-8def-540c1dd0b0d2\" class=\"plotly-graph-div\" style=\"height:600px; width:100%;\"></div>\n",
       "            <script type=\"text/javascript\">\n",
       "                require([\"plotly\"], function(Plotly) {\n",
       "                    window.PLOTLYENV=window.PLOTLYENV || {};\n",
       "                    \n",
       "                if (document.getElementById(\"28322961-c7d3-4b79-8def-540c1dd0b0d2\")) {\n",
       "                    Plotly.newPlot(\n",
       "                        '28322961-c7d3-4b79-8def-540c1dd0b0d2',\n",
       "                        [{\"hoverlabel\": {\"namelength\": 0}, \"hovertemplate\": \"<b>%{hovertext}</b><br><br>team=Dunkin Dullies<br>player_name=Blake Griffin<br>week=%{x}<br>points=%{y}\", \"hovertext\": [\"Blake Griffin\", \"Blake Griffin\", \"Blake Griffin\", \"Blake Griffin\"], \"legendgroup\": \"team=Dunkin Dullies\", \"line\": {\"color\": \"#636efa\", \"dash\": \"solid\"}, \"mode\": \"lines\", \"name\": \"team=Dunkin Dullies\", \"showlegend\": true, \"type\": \"scatter\", \"x\": [1, 2, 3, 4], \"xaxis\": \"x\", \"y\": [0.0, 0.0, 0.0, 46.5], \"yaxis\": \"y\"}, {\"hoverlabel\": {\"namelength\": 0}, \"hovertemplate\": \"<b>%{hovertext}</b><br><br>team=Dunkin Dullies<br>player_name=Chris Paul<br>week=%{x}<br>points=%{y}\", \"hovertext\": [\"Chris Paul\", \"Chris Paul\", \"Chris Paul\", \"Chris Paul\"], \"legendgroup\": \"team=Dunkin Dullies\", \"line\": {\"color\": \"#636efa\", \"dash\": \"solid\"}, \"mode\": \"lines\", \"name\": \"team=Dunkin Dullies\", \"showlegend\": false, \"type\": \"scatter\", \"x\": [1, 2, 3, 4], \"xaxis\": \"x\", \"y\": [33.8, 48.3, 52.0, 35.0], \"yaxis\": \"y\"}, {\"hoverlabel\": {\"namelength\": 0}, \"hovertemplate\": \"<b>%{hovertext}</b><br><br>team=Dunkin Dullies<br>player_name=De'Andre Hunter<br>week=%{x}<br>points=%{y}\", \"hovertext\": [\"De'Andre Hunter\", \"De'Andre Hunter\", \"De'Andre Hunter\", \"De'Andre Hunter\"], \"legendgroup\": \"team=Dunkin Dullies\", \"line\": {\"color\": \"#636efa\", \"dash\": \"solid\"}, \"mode\": \"lines\", \"name\": \"team=Dunkin Dullies\", \"showlegend\": false, \"type\": \"scatter\", \"x\": [1, 2, 3, 4], \"xaxis\": \"x\", \"y\": [23.0, 21.3, 26.8, 37.5], \"yaxis\": \"y\"}, {\"hoverlabel\": {\"namelength\": 0}, \"hovertemplate\": \"<b>%{hovertext}</b><br><br>team=Dunkin Dullies<br>player_name=DeMar DeRozan<br>week=%{x}<br>points=%{y}\", \"hovertext\": [\"DeMar DeRozan\", \"DeMar DeRozan\", \"DeMar DeRozan\", \"DeMar DeRozan\"], \"legendgroup\": \"team=Dunkin Dullies\", \"line\": {\"color\": \"#636efa\", \"dash\": \"solid\"}, \"mode\": \"lines\", \"name\": \"team=Dunkin Dullies\", \"showlegend\": false, \"type\": \"scatter\", \"x\": [1, 2, 3, 4], \"xaxis\": \"x\", \"y\": [42.0, 46.1, 49.5, 51.2], \"yaxis\": \"y\"}, {\"hoverlabel\": {\"namelength\": 0}, \"hovertemplate\": \"<b>%{hovertext}</b><br><br>team=Dunkin Dullies<br>player_name=Harrison Barnes<br>week=%{x}<br>points=%{y}\", \"hovertext\": [\"Harrison Barnes\", \"Harrison Barnes\", \"Harrison Barnes\", \"Harrison Barnes\"], \"legendgroup\": \"team=Dunkin Dullies\", \"line\": {\"color\": \"#636efa\", \"dash\": \"solid\"}, \"mode\": \"lines\", \"name\": \"team=Dunkin Dullies\", \"showlegend\": false, \"type\": \"scatter\", \"x\": [1, 2, 3, 4], \"xaxis\": \"x\", \"y\": [28.7, 45.2, 56.2, 34.0], \"yaxis\": \"y\"}, {\"hoverlabel\": {\"namelength\": 0}, \"hovertemplate\": \"<b>%{hovertext}</b><br><br>team=Dunkin Dullies<br>player_name=Jerami Grant<br>week=%{x}<br>points=%{y}\", \"hovertext\": [\"Jerami Grant\", \"Jerami Grant\"], \"legendgroup\": \"team=Dunkin Dullies\", \"line\": {\"color\": \"#636efa\", \"dash\": \"solid\"}, \"mode\": \"lines\", \"name\": \"team=Dunkin Dullies\", \"showlegend\": false, \"type\": \"scatter\", \"x\": [1, 2], \"xaxis\": \"x\", \"y\": [24.5, 17.1], \"yaxis\": \"y\"}, {\"hoverlabel\": {\"namelength\": 0}, \"hovertemplate\": \"<b>%{hovertext}</b><br><br>team=Dunkin Dullies<br>player_name=Jeremy Lamb<br>week=%{x}<br>points=%{y}\", \"hovertext\": [\"Jeremy Lamb\", \"Jeremy Lamb\", \"Jeremy Lamb\", \"Jeremy Lamb\"], \"legendgroup\": \"team=Dunkin Dullies\", \"line\": {\"color\": \"#636efa\", \"dash\": \"solid\"}, \"mode\": \"lines\", \"name\": \"team=Dunkin Dullies\", \"showlegend\": false, \"type\": \"scatter\", \"x\": [1, 2, 3, 4], \"xaxis\": \"x\", \"y\": [25.5, 55.3, 48.0, 0.0], \"yaxis\": \"y\"}, {\"hoverlabel\": {\"namelength\": 0}, \"hovertemplate\": \"<b>%{hovertext}</b><br><br>team=Dunkin Dullies<br>player_name=Joel Embiid<br>week=%{x}<br>points=%{y}\", \"hovertext\": [\"Joel Embiid\", \"Joel Embiid\", \"Joel Embiid\", \"Joel Embiid\"], \"legendgroup\": \"team=Dunkin Dullies\", \"line\": {\"color\": \"#636efa\", \"dash\": \"solid\"}, \"mode\": \"lines\", \"name\": \"team=Dunkin Dullies\", \"showlegend\": false, \"type\": \"scatter\", \"x\": [1, 2, 3, 4], \"xaxis\": \"x\", \"y\": [62.5, 73.2, 63.2, 91.5], \"yaxis\": \"y\"}, {\"hoverlabel\": {\"namelength\": 0}, \"hovertemplate\": \"<b>%{hovertext}</b><br><br>team=Dunkin Dullies<br>player_name=Josh Richardson<br>week=%{x}<br>points=%{y}\", \"hovertext\": [\"Josh Richardson\", \"Josh Richardson\", \"Josh Richardson\", \"Josh Richardson\"], \"legendgroup\": \"team=Dunkin Dullies\", \"line\": {\"color\": \"#636efa\", \"dash\": \"solid\"}, \"mode\": \"lines\", \"name\": \"team=Dunkin Dullies\", \"showlegend\": false, \"type\": \"scatter\", \"x\": [1, 2, 3, 4], \"xaxis\": \"x\", \"y\": [35.8, 41.7, 39.1, 44.0], \"yaxis\": \"y\"}, {\"hoverlabel\": {\"namelength\": 0}, \"hovertemplate\": \"<b>%{hovertext}</b><br><br>team=Dunkin Dullies<br>player_name=Jrue Holiday<br>week=%{x}<br>points=%{y}\", \"hovertext\": [\"Jrue Holiday\", \"Jrue Holiday\", \"Jrue Holiday\", \"Jrue Holiday\"], \"legendgroup\": \"team=Dunkin Dullies\", \"line\": {\"color\": \"#636efa\", \"dash\": \"solid\"}, \"mode\": \"lines\", \"name\": \"team=Dunkin Dullies\", \"showlegend\": false, \"type\": \"scatter\", \"x\": [1, 2, 3, 4], \"xaxis\": \"x\", \"y\": [37.0, 54.0, 54.0, 59.0], \"yaxis\": \"y\"}, {\"hoverlabel\": {\"namelength\": 0}, \"hovertemplate\": \"<b>%{hovertext}</b><br><br>team=Dunkin Dullies<br>player_name=Julius Randle<br>week=%{x}<br>points=%{y}\", \"hovertext\": [\"Julius Randle\", \"Julius Randle\", \"Julius Randle\", \"Julius Randle\"], \"legendgroup\": \"team=Dunkin Dullies\", \"line\": {\"color\": \"#636efa\", \"dash\": \"solid\"}, \"mode\": \"lines\", \"name\": \"team=Dunkin Dullies\", \"showlegend\": false, \"type\": \"scatter\", \"x\": [1, 2, 3, 4], \"xaxis\": \"x\", \"y\": [52.8, 39.1, 51.7, 43.0], \"yaxis\": \"y\"}, {\"hoverlabel\": {\"namelength\": 0}, \"hovertemplate\": \"<b>%{hovertext}</b><br><br>team=Dunkin Dullies<br>player_name=Montrezl Harrell<br>week=%{x}<br>points=%{y}\", \"hovertext\": [\"Montrezl Harrell\", \"Montrezl Harrell\", \"Montrezl Harrell\", \"Montrezl Harrell\"], \"legendgroup\": \"team=Dunkin Dullies\", \"line\": {\"color\": \"#636efa\", \"dash\": \"solid\"}, \"mode\": \"lines\", \"name\": \"team=Dunkin Dullies\", \"showlegend\": false, \"type\": \"scatter\", \"x\": [1, 2, 3, 4], \"xaxis\": \"x\", \"y\": [48.8, 41.1, 70.2, 40.0], \"yaxis\": \"y\"}, {\"hoverlabel\": {\"namelength\": 0}, \"hovertemplate\": \"<b>%{hovertext}</b><br><br>team=Dunkin Dullies<br>player_name=Otto Porter<br>week=%{x}<br>points=%{y}\", \"hovertext\": [\"Otto Porter\", \"Otto Porter\"], \"legendgroup\": \"team=Dunkin Dullies\", \"line\": {\"color\": \"#636efa\", \"dash\": \"solid\"}, \"mode\": \"lines\", \"name\": \"team=Dunkin Dullies\", \"showlegend\": false, \"type\": \"scatter\", \"x\": [1, 2], \"xaxis\": \"x\", \"y\": [21.7, 33.0], \"yaxis\": \"y\"}, {\"hoverlabel\": {\"namelength\": 0}, \"hovertemplate\": \"<b>%{hovertext}</b><br><br>team=Dunkin Dullies<br>player_name=Marcus Morris<br>week=%{x}<br>points=%{y}\", \"hovertext\": [\"Marcus Morris\", \"Marcus Morris\"], \"legendgroup\": \"team=Dunkin Dullies\", \"line\": {\"color\": \"#636efa\", \"dash\": \"solid\"}, \"mode\": \"lines\", \"name\": \"team=Dunkin Dullies\", \"showlegend\": false, \"type\": \"scatter\", \"x\": [3, 4], \"xaxis\": \"x\", \"y\": [45.8, 47.5], \"yaxis\": \"y\"}, {\"hoverlabel\": {\"namelength\": 0}, \"hovertemplate\": \"<b>%{hovertext}</b><br><br>team=Dunkin Dullies<br>player_name=Taurean Prince<br>week=%{x}<br>points=%{y}\", \"hovertext\": [\"Taurean Prince\", \"Taurean Prince\"], \"legendgroup\": \"team=Dunkin Dullies\", \"line\": {\"color\": \"#636efa\", \"dash\": \"solid\"}, \"mode\": \"lines\", \"name\": \"team=Dunkin Dullies\", \"showlegend\": false, \"type\": \"scatter\", \"x\": [3, 4], \"xaxis\": \"x\", \"y\": [31.0, 41.0], \"yaxis\": \"y\"}, {\"hoverlabel\": {\"namelength\": 0}, \"hovertemplate\": \"<b>%{hovertext}</b><br><br>team=Gebimst<br>player_name=Andrew Wiggins<br>week=%{x}<br>points=%{y}\", \"hovertext\": [\"Andrew Wiggins\", \"Andrew Wiggins\", \"Andrew Wiggins\", \"Andrew Wiggins\"], \"legendgroup\": \"team=Gebimst\", \"line\": {\"color\": \"#EF553B\", \"dash\": \"solid\"}, \"mode\": \"lines\", \"name\": \"team=Gebimst\", \"showlegend\": true, \"type\": \"scatter\", \"x\": [1, 2, 3, 4], \"xaxis\": \"x\", \"y\": [43.7, 53.2, 70.0, 84.2], \"yaxis\": \"y\"}, {\"hoverlabel\": {\"namelength\": 0}, \"hovertemplate\": \"<b>%{hovertext}</b><br><br>team=Gebimst<br>player_name=Clint Capela<br>week=%{x}<br>points=%{y}\", \"hovertext\": [\"Clint Capela\", \"Clint Capela\", \"Clint Capela\", \"Clint Capela\"], \"legendgroup\": \"team=Gebimst\", \"line\": {\"color\": \"#EF553B\", \"dash\": \"solid\"}, \"mode\": \"lines\", \"name\": \"team=Gebimst\", \"showlegend\": false, \"type\": \"scatter\", \"x\": [1, 2, 3, 4], \"xaxis\": \"x\", \"y\": [49.0, 39.6, 69.5, 62.0], \"yaxis\": \"y\"}, {\"hoverlabel\": {\"namelength\": 0}, \"hovertemplate\": \"<b>%{hovertext}</b><br><br>team=Gebimst<br>player_name=Donovan Mitchell<br>week=%{x}<br>points=%{y}\", \"hovertext\": [\"Donovan Mitchell\", \"Donovan Mitchell\", \"Donovan Mitchell\", \"Donovan Mitchell\"], \"legendgroup\": \"team=Gebimst\", \"line\": {\"color\": \"#EF553B\", \"dash\": \"solid\"}, \"mode\": \"lines\", \"name\": \"team=Gebimst\", \"showlegend\": false, \"type\": \"scatter\", \"x\": [1, 2, 3, 4], \"xaxis\": \"x\", \"y\": [62.7, 60.8, 49.8, 63.0], \"yaxis\": \"y\"}, {\"hoverlabel\": {\"namelength\": 0}, \"hovertemplate\": \"<b>%{hovertext}</b><br><br>team=Gebimst<br>player_name=Eric Gordon<br>week=%{x}<br>points=%{y}\", \"hovertext\": [\"Eric Gordon\", \"Eric Gordon\", \"Eric Gordon\", \"Eric Gordon\"], \"legendgroup\": \"team=Gebimst\", \"line\": {\"color\": \"#EF553B\", \"dash\": \"solid\"}, \"mode\": \"lines\", \"name\": \"team=Gebimst\", \"showlegend\": false, \"type\": \"scatter\", \"x\": [1, 2, 3, 4], \"xaxis\": \"x\", \"y\": [24.5, 18.9, 26.5, 42.5], \"yaxis\": \"y\"}, {\"hoverlabel\": {\"namelength\": 0}, \"hovertemplate\": \"<b>%{hovertext}</b><br><br>team=Gebimst<br>player_name=JJ Redick<br>week=%{x}<br>points=%{y}\", \"hovertext\": [\"JJ Redick\", \"JJ Redick\", \"JJ Redick\", \"JJ Redick\"], \"legendgroup\": \"team=Gebimst\", \"line\": {\"color\": \"#EF553B\", \"dash\": \"solid\"}, \"mode\": \"lines\", \"name\": \"team=Gebimst\", \"showlegend\": false, \"type\": \"scatter\", \"x\": [1, 2, 3, 4], \"xaxis\": \"x\", \"y\": [22.8, 27.3, 32.0, 57.0], \"yaxis\": \"y\"}, {\"hoverlabel\": {\"namelength\": 0}, \"hovertemplate\": \"<b>%{hovertext}</b><br><br>team=Gebimst<br>player_name=Jarrett Culver<br>week=%{x}<br>points=%{y}\", \"hovertext\": [\"Jarrett Culver\", \"Jarrett Culver\", \"Jarrett Culver\"], \"legendgroup\": \"team=Gebimst\", \"line\": {\"color\": \"#EF553B\", \"dash\": \"solid\"}, \"mode\": \"lines\", \"name\": \"team=Gebimst\", \"showlegend\": false, \"type\": \"scatter\", \"x\": [1, 2, 3], \"xaxis\": \"x\", \"y\": [6.2, 27.0, 28.5], \"yaxis\": \"y\"}, {\"hoverlabel\": {\"namelength\": 0}, \"hovertemplate\": \"<b>%{hovertext}</b><br><br>team=Gebimst<br>player_name=Joe Harris<br>week=%{x}<br>points=%{y}\", \"hovertext\": [\"Joe Harris\", \"Joe Harris\", \"Joe Harris\", \"Joe Harris\"], \"legendgroup\": \"team=Gebimst\", \"line\": {\"color\": \"#EF553B\", \"dash\": \"solid\"}, \"mode\": \"lines\", \"name\": \"team=Gebimst\", \"showlegend\": false, \"type\": \"scatter\", \"x\": [1, 2, 3, 4], \"xaxis\": \"x\", \"y\": [37.0, 42.3, 34.2, 24.5], \"yaxis\": \"y\"}, {\"hoverlabel\": {\"namelength\": 0}, \"hovertemplate\": \"<b>%{hovertext}</b><br><br>team=Gebimst<br>player_name=Jordan Clarkson<br>week=%{x}<br>points=%{y}\", \"hovertext\": [\"Jordan Clarkson\", \"Jordan Clarkson\", \"Jordan Clarkson\", \"Jordan Clarkson\"], \"legendgroup\": \"team=Gebimst\", \"line\": {\"color\": \"#EF553B\", \"dash\": \"solid\"}, \"mode\": \"lines\", \"name\": \"team=Gebimst\", \"showlegend\": false, \"type\": \"scatter\", \"x\": [1, 2, 3, 4], \"xaxis\": \"x\", \"y\": [25.2, 42.0, 31.5, 40.5], \"yaxis\": \"y\"}, {\"hoverlabel\": {\"namelength\": 0}, \"hovertemplate\": \"<b>%{hovertext}</b><br><br>team=Gebimst<br>player_name=LaMarcus Aldridge<br>week=%{x}<br>points=%{y}\", \"hovertext\": [\"LaMarcus Aldridge\", \"LaMarcus Aldridge\", \"LaMarcus Aldridge\", \"LaMarcus Aldridge\"], \"legendgroup\": \"team=Gebimst\", \"line\": {\"color\": \"#EF553B\", \"dash\": \"solid\"}, \"mode\": \"lines\", \"name\": \"team=Gebimst\", \"showlegend\": false, \"type\": \"scatter\", \"x\": [1, 2, 3, 4], \"xaxis\": \"x\", \"y\": [60.2, 37.0, 48.3, 47.5], \"yaxis\": \"y\"}, {\"hoverlabel\": {\"namelength\": 0}, \"hovertemplate\": \"<b>%{hovertext}</b><br><br>team=Gebimst<br>player_name=Larry Nance<br>week=%{x}<br>points=%{y}\", \"hovertext\": [\"Larry Nance\", \"Larry Nance\", \"Larry Nance\", \"Larry Nance\"], \"legendgroup\": \"team=Gebimst\", \"line\": {\"color\": \"#EF553B\", \"dash\": \"solid\"}, \"mode\": \"lines\", \"name\": \"team=Gebimst\", \"showlegend\": false, \"type\": \"scatter\", \"x\": [1, 2, 3, 4], \"xaxis\": \"x\", \"y\": [32.8, 29.6, 34.3, 31.5], \"yaxis\": \"y\"}, {\"hoverlabel\": {\"namelength\": 0}, \"hovertemplate\": \"<b>%{hovertext}</b><br><br>team=Gebimst<br>player_name=LeBron James<br>week=%{x}<br>points=%{y}\", \"hovertext\": [\"LeBron James\", \"LeBron James\", \"LeBron James\", \"LeBron James\"], \"legendgroup\": \"team=Gebimst\", \"line\": {\"color\": \"#EF553B\", \"dash\": \"solid\"}, \"mode\": \"lines\", \"name\": \"team=Gebimst\", \"showlegend\": false, \"type\": \"scatter\", \"x\": [1, 2, 3, 4], \"xaxis\": \"x\", \"y\": [72.8, 93.3, 83.7, 69.8], \"yaxis\": \"y\"}, {\"hoverlabel\": {\"namelength\": 0}, \"hovertemplate\": \"<b>%{hovertext}</b><br><br>team=Gebimst<br>player_name=Lou Williams<br>week=%{x}<br>points=%{y}\", \"hovertext\": [\"Lou Williams\", \"Lou Williams\", \"Lou Williams\", \"Lou Williams\"], \"legendgroup\": \"team=Gebimst\", \"line\": {\"color\": \"#EF553B\", \"dash\": \"solid\"}, \"mode\": \"lines\", \"name\": \"team=Gebimst\", \"showlegend\": false, \"type\": \"scatter\", \"x\": [1, 2, 3, 4], \"xaxis\": \"x\", \"y\": [51.3, 38.8, 74.5, 48.0], \"yaxis\": \"y\"}, {\"hoverlabel\": {\"namelength\": 0}, \"hovertemplate\": \"<b>%{hovertext}</b><br><br>team=Gebimst<br>player_name=Serge Ibaka<br>week=%{x}<br>points=%{y}\", \"hovertext\": [\"Serge Ibaka\", \"Serge Ibaka\", \"Serge Ibaka\", \"Serge Ibaka\"], \"legendgroup\": \"team=Gebimst\", \"line\": {\"color\": \"#EF553B\", \"dash\": \"solid\"}, \"mode\": \"lines\", \"name\": \"team=Gebimst\", \"showlegend\": false, \"type\": \"scatter\", \"x\": [1, 2, 3, 4], \"xaxis\": \"x\", \"y\": [39.2, 34.5, 36.2, 0.0], \"yaxis\": \"y\"}, {\"hoverlabel\": {\"namelength\": 0}, \"hovertemplate\": \"<b>%{hovertext}</b><br><br>team=Gebimst<br>player_name=Glenn Robinson<br>week=%{x}<br>points=%{y}\", \"hovertext\": [\"Glenn Robinson\"], \"legendgroup\": \"team=Gebimst\", \"line\": {\"color\": \"#EF553B\", \"dash\": \"solid\"}, \"mode\": \"lines\", \"name\": \"team=Gebimst\", \"showlegend\": false, \"type\": \"scatter\", \"x\": [4], \"xaxis\": \"x\", \"y\": [31.5], \"yaxis\": \"y\"}, {\"hoverlabel\": {\"namelength\": 0}, \"hovertemplate\": \"<b>%{hovertext}</b><br><br>team=BVB_Baller<br>player_name=Aaron Gordon<br>week=%{x}<br>points=%{y}\", \"hovertext\": [\"Aaron Gordon\", \"Aaron Gordon\", \"Aaron Gordon\", \"Aaron Gordon\"], \"legendgroup\": \"team=BVB_Baller\", \"line\": {\"color\": \"#00cc96\", \"dash\": \"solid\"}, \"mode\": \"lines\", \"name\": \"team=BVB_Baller\", \"showlegend\": true, \"type\": \"scatter\", \"x\": [1, 2, 3, 4], \"xaxis\": \"x\", \"y\": [33.2, 41.2, 39.2, 73.5], \"yaxis\": \"y\"}, {\"hoverlabel\": {\"namelength\": 0}, \"hovertemplate\": \"<b>%{hovertext}</b><br><br>team=BVB_Baller<br>player_name=Al Horford<br>week=%{x}<br>points=%{y}\", \"hovertext\": [\"Al Horford\", \"Al Horford\", \"Al Horford\", \"Al Horford\"], \"legendgroup\": \"team=BVB_Baller\", \"line\": {\"color\": \"#00cc96\", \"dash\": \"solid\"}, \"mode\": \"lines\", \"name\": \"team=BVB_Baller\", \"showlegend\": false, \"type\": \"scatter\", \"x\": [1, 2, 3, 4], \"xaxis\": \"x\", \"y\": [50.2, 56.5, 50.9, 33.0], \"yaxis\": \"y\"}, {\"hoverlabel\": {\"namelength\": 0}, \"hovertemplate\": \"<b>%{hovertext}</b><br><br>team=BVB_Baller<br>player_name=Anthony Davis<br>week=%{x}<br>points=%{y}\", \"hovertext\": [\"Anthony Davis\", \"Anthony Davis\", \"Anthony Davis\", \"Anthony Davis\"], \"legendgroup\": \"team=BVB_Baller\", \"line\": {\"color\": \"#00cc96\", \"dash\": \"solid\"}, \"mode\": \"lines\", \"name\": \"team=BVB_Baller\", \"showlegend\": false, \"type\": \"scatter\", \"x\": [1, 2, 3, 4], \"xaxis\": \"x\", \"y\": [70.7, 83.7, 68.2, 78.5], \"yaxis\": \"y\"}, {\"hoverlabel\": {\"namelength\": 0}, \"hovertemplate\": \"<b>%{hovertext}</b><br><br>team=BVB_Baller<br>player_name=Ben Simmons<br>week=%{x}<br>points=%{y}\", \"hovertext\": [\"Ben Simmons\", \"Ben Simmons\", \"Ben Simmons\", \"Ben Simmons\"], \"legendgroup\": \"team=BVB_Baller\", \"line\": {\"color\": \"#00cc96\", \"dash\": \"solid\"}, \"mode\": \"lines\", \"name\": \"team=BVB_Baller\", \"showlegend\": false, \"type\": \"scatter\", \"x\": [1, 2, 3, 4], \"xaxis\": \"x\", \"y\": [61.5, 51.7, 26.5, 50.0], \"yaxis\": \"y\"}, {\"hoverlabel\": {\"namelength\": 0}, \"hovertemplate\": \"<b>%{hovertext}</b><br><br>team=BVB_Baller<br>player_name=Danilo Gallinari<br>week=%{x}<br>points=%{y}\", \"hovertext\": [\"Danilo Gallinari\", \"Danilo Gallinari\", \"Danilo Gallinari\", \"Danilo Gallinari\"], \"legendgroup\": \"team=BVB_Baller\", \"line\": {\"color\": \"#00cc96\", \"dash\": \"solid\"}, \"mode\": \"lines\", \"name\": \"team=BVB_Baller\", \"showlegend\": false, \"type\": \"scatter\", \"x\": [1, 2, 3, 4], \"xaxis\": \"x\", \"y\": [46.7, 41.0, 51.2, 29.5], \"yaxis\": \"y\"}, {\"hoverlabel\": {\"namelength\": 0}, \"hovertemplate\": \"<b>%{hovertext}</b><br><br>team=BVB_Baller<br>player_name=Gordon Hayward<br>week=%{x}<br>points=%{y}\", \"hovertext\": [\"Gordon Hayward\", \"Gordon Hayward\", \"Gordon Hayward\", \"Gordon Hayward\"], \"legendgroup\": \"team=BVB_Baller\", \"line\": {\"color\": \"#00cc96\", \"dash\": \"solid\"}, \"mode\": \"lines\", \"name\": \"team=BVB_Baller\", \"showlegend\": false, \"type\": \"scatter\", \"x\": [1, 2, 3, 4], \"xaxis\": \"x\", \"y\": [38.8, 63.5, 62.0, 0.0], \"yaxis\": \"y\"}, {\"hoverlabel\": {\"namelength\": 0}, \"hovertemplate\": \"<b>%{hovertext}</b><br><br>team=BVB_Baller<br>player_name=Marcus Smart<br>week=%{x}<br>points=%{y}\", \"hovertext\": [\"Marcus Smart\", \"Marcus Smart\", \"Marcus Smart\", \"Marcus Smart\"], \"legendgroup\": \"team=BVB_Baller\", \"line\": {\"color\": \"#00cc96\", \"dash\": \"solid\"}, \"mode\": \"lines\", \"name\": \"team=BVB_Baller\", \"showlegend\": false, \"type\": \"scatter\", \"x\": [1, 2, 3, 4], \"xaxis\": \"x\", \"y\": [34.7, 45.2, 36.7, 54.0], \"yaxis\": \"y\"}, {\"hoverlabel\": {\"namelength\": 0}, \"hovertemplate\": \"<b>%{hovertext}</b><br><br>team=BVB_Baller<br>player_name=Mitchell Robinson<br>week=%{x}<br>points=%{y}\", \"hovertext\": [\"Mitchell Robinson\", \"Mitchell Robinson\", \"Mitchell Robinson\", \"Mitchell Robinson\"], \"legendgroup\": \"team=BVB_Baller\", \"line\": {\"color\": \"#00cc96\", \"dash\": \"solid\"}, \"mode\": \"lines\", \"name\": \"team=BVB_Baller\", \"showlegend\": false, \"type\": \"scatter\", \"x\": [1, 2, 3, 4], \"xaxis\": \"x\", \"y\": [40.8, 33.6, 19.0, 0.0], \"yaxis\": \"y\"}, {\"hoverlabel\": {\"namelength\": 0}, \"hovertemplate\": \"<b>%{hovertext}</b><br><br>team=BVB_Baller<br>player_name=Paul Millsap<br>week=%{x}<br>points=%{y}\", \"hovertext\": [\"Paul Millsap\", \"Paul Millsap\", \"Paul Millsap\", \"Paul Millsap\"], \"legendgroup\": \"team=BVB_Baller\", \"line\": {\"color\": \"#00cc96\", \"dash\": \"solid\"}, \"mode\": \"lines\", \"name\": \"team=BVB_Baller\", \"showlegend\": false, \"type\": \"scatter\", \"x\": [1, 2, 3, 4], \"xaxis\": \"x\", \"y\": [35.8, 30.9, 43.7, 52.0], \"yaxis\": \"y\"}, {\"hoverlabel\": {\"namelength\": 0}, \"hovertemplate\": \"<b>%{hovertext}</b><br><br>team=BVB_Baller<br>player_name=Rudy Gay<br>week=%{x}<br>points=%{y}\", \"hovertext\": [\"Rudy Gay\", \"Rudy Gay\", \"Rudy Gay\", \"Rudy Gay\"], \"legendgroup\": \"team=BVB_Baller\", \"line\": {\"color\": \"#00cc96\", \"dash\": \"solid\"}, \"mode\": \"lines\", \"name\": \"team=BVB_Baller\", \"showlegend\": false, \"type\": \"scatter\", \"x\": [1, 2, 3, 4], \"xaxis\": \"x\", \"y\": [36.8, 39.6, 20.7, 45.2], \"yaxis\": \"y\"}, {\"hoverlabel\": {\"namelength\": 0}, \"hovertemplate\": \"<b>%{hovertext}</b><br><br>team=BVB_Baller<br>player_name=Russell Westbrook<br>week=%{x}<br>points=%{y}\", \"hovertext\": [\"Russell Westbrook\", \"Russell Westbrook\", \"Russell Westbrook\", \"Russell Westbrook\"], \"legendgroup\": \"team=BVB_Baller\", \"line\": {\"color\": \"#00cc96\", \"dash\": \"solid\"}, \"mode\": \"lines\", \"name\": \"team=BVB_Baller\", \"showlegend\": false, \"type\": \"scatter\", \"x\": [1, 2, 3, 4], \"xaxis\": \"x\", \"y\": [93.5, 65.8, 48.0, 45.0], \"yaxis\": \"y\"}, {\"hoverlabel\": {\"namelength\": 0}, \"hovertemplate\": \"<b>%{hovertext}</b><br><br>team=BVB_Baller<br>player_name=Terrence Ross<br>week=%{x}<br>points=%{y}\", \"hovertext\": [\"Terrence Ross\", \"Terrence Ross\", \"Terrence Ross\", \"Terrence Ross\"], \"legendgroup\": \"team=BVB_Baller\", \"line\": {\"color\": \"#00cc96\", \"dash\": \"solid\"}, \"mode\": \"lines\", \"name\": \"team=BVB_Baller\", \"showlegend\": false, \"type\": \"scatter\", \"x\": [1, 2, 3, 4], \"xaxis\": \"x\", \"y\": [23.0, 22.9, 23.5, 35.0], \"yaxis\": \"y\"}, {\"hoverlabel\": {\"namelength\": 0}, \"hovertemplate\": \"<b>%{hovertext}</b><br><br>team=BVB_Baller<br>player_name=Tyler Herro<br>week=%{x}<br>points=%{y}\", \"hovertext\": [\"Tyler Herro\", \"Tyler Herro\", \"Tyler Herro\", \"Tyler Herro\"], \"legendgroup\": \"team=BVB_Baller\", \"line\": {\"color\": \"#00cc96\", \"dash\": \"solid\"}, \"mode\": \"lines\", \"name\": \"team=BVB_Baller\", \"showlegend\": false, \"type\": \"scatter\", \"x\": [1, 2, 3, 4], \"xaxis\": \"x\", \"y\": [30.7, 52.2, 21.3, 0.0], \"yaxis\": \"y\"}, {\"hoverlabel\": {\"namelength\": 0}, \"hovertemplate\": \"<b>%{hovertext}</b><br><br>team=Hardwood Classics<br>player_name=Bradley Beal<br>week=%{x}<br>points=%{y}\", \"hovertext\": [\"Bradley Beal\", \"Bradley Beal\", \"Bradley Beal\", \"Bradley Beal\"], \"legendgroup\": \"team=Hardwood Classics\", \"line\": {\"color\": \"#ab63fa\", \"dash\": \"solid\"}, \"mode\": \"lines\", \"name\": \"team=Hardwood Classics\", \"showlegend\": true, \"type\": \"scatter\", \"x\": [1, 2, 3, 4], \"xaxis\": \"x\", \"y\": [58.7, 81.8, 54.7, 100.0], \"yaxis\": \"y\"}, {\"hoverlabel\": {\"namelength\": 0}, \"hovertemplate\": \"<b>%{hovertext}</b><br><br>team=Hardwood Classics<br>player_name=Brook Lopez<br>week=%{x}<br>points=%{y}\", \"hovertext\": [\"Brook Lopez\", \"Brook Lopez\", \"Brook Lopez\", \"Brook Lopez\"], \"legendgroup\": \"team=Hardwood Classics\", \"line\": {\"color\": \"#ab63fa\", \"dash\": \"solid\"}, \"mode\": \"lines\", \"name\": \"team=Hardwood Classics\", \"showlegend\": false, \"type\": \"scatter\", \"x\": [1, 2, 3, 4], \"xaxis\": \"x\", \"y\": [37.8, 29.8, 39.8, 0.0], \"yaxis\": \"y\"}, {\"hoverlabel\": {\"namelength\": 0}, \"hovertemplate\": \"<b>%{hovertext}</b><br><br>team=Hardwood Classics<br>player_name=D'Angelo Russell<br>week=%{x}<br>points=%{y}\", \"hovertext\": [\"D'Angelo Russell\", \"D'Angelo Russell\", \"D'Angelo Russell\", \"D'Angelo Russell\"], \"legendgroup\": \"team=Hardwood Classics\", \"line\": {\"color\": \"#ab63fa\", \"dash\": \"solid\"}, \"mode\": \"lines\", \"name\": \"team=Hardwood Classics\", \"showlegend\": false, \"type\": \"scatter\", \"x\": [1, 2, 3, 4], \"xaxis\": \"x\", \"y\": [31.0, 58.2, 101.8, 63.2], \"yaxis\": \"y\"}, {\"hoverlabel\": {\"namelength\": 0}, \"hovertemplate\": \"<b>%{hovertext}</b><br><br>team=Hardwood Classics<br>player_name=Derrick Rose<br>week=%{x}<br>points=%{y}\", \"hovertext\": [\"Derrick Rose\", \"Derrick Rose\", \"Derrick Rose\", \"Derrick Rose\"], \"legendgroup\": \"team=Hardwood Classics\", \"line\": {\"color\": \"#ab63fa\", \"dash\": \"solid\"}, \"mode\": \"lines\", \"name\": \"team=Hardwood Classics\", \"showlegend\": false, \"type\": \"scatter\", \"x\": [1, 2, 3, 4], \"xaxis\": \"x\", \"y\": [53.2, 40.8, 0.0, 29.5], \"yaxis\": \"y\"}, {\"hoverlabel\": {\"namelength\": 0}, \"hovertemplate\": \"<b>%{hovertext}</b><br><br>team=Hardwood Classics<br>player_name=Draymond Green<br>week=%{x}<br>points=%{y}\", \"hovertext\": [\"Draymond Green\", \"Draymond Green\", \"Draymond Green\", \"Draymond Green\"], \"legendgroup\": \"team=Hardwood Classics\", \"line\": {\"color\": \"#ab63fa\", \"dash\": \"solid\"}, \"mode\": \"lines\", \"name\": \"team=Hardwood Classics\", \"showlegend\": false, \"type\": \"scatter\", \"x\": [1, 2, 3, 4], \"xaxis\": \"x\", \"y\": [33.5, 49.0, 0.0, 26.8], \"yaxis\": \"y\"}, {\"hoverlabel\": {\"namelength\": 0}, \"hovertemplate\": \"<b>%{hovertext}</b><br><br>team=Hardwood Classics<br>player_name=Eric Bledsoe<br>week=%{x}<br>points=%{y}\", \"hovertext\": [\"Eric Bledsoe\", \"Eric Bledsoe\", \"Eric Bledsoe\", \"Eric Bledsoe\"], \"legendgroup\": \"team=Hardwood Classics\", \"line\": {\"color\": \"#ab63fa\", \"dash\": \"solid\"}, \"mode\": \"lines\", \"name\": \"team=Hardwood Classics\", \"showlegend\": false, \"type\": \"scatter\", \"x\": [1, 2, 3, 4], \"xaxis\": \"x\", \"y\": [24.8, 42.8, 60.4, 0.0], \"yaxis\": \"y\"}, {\"hoverlabel\": {\"namelength\": 0}, \"hovertemplate\": \"<b>%{hovertext}</b><br><br>team=Hardwood Classics<br>player_name=JaVale McGee<br>week=%{x}<br>points=%{y}\", \"hovertext\": [\"JaVale McGee\", \"JaVale McGee\"], \"legendgroup\": \"team=Hardwood Classics\", \"line\": {\"color\": \"#ab63fa\", \"dash\": \"solid\"}, \"mode\": \"lines\", \"name\": \"team=Hardwood Classics\", \"showlegend\": false, \"type\": \"scatter\", \"x\": [1, 2], \"xaxis\": \"x\", \"y\": [15.0, 18.7], \"yaxis\": \"y\"}, {\"hoverlabel\": {\"namelength\": 0}, \"hovertemplate\": \"<b>%{hovertext}</b><br><br>team=Hardwood Classics<br>player_name=Paul George<br>week=%{x}<br>points=%{y}\", \"hovertext\": [\"Paul George\", \"Paul George\", \"Paul George\", \"Paul George\"], \"legendgroup\": \"team=Hardwood Classics\", \"line\": {\"color\": \"#ab63fa\", \"dash\": \"solid\"}, \"mode\": \"lines\", \"name\": \"team=Hardwood Classics\", \"showlegend\": false, \"type\": \"scatter\", \"x\": [1, 2, 3, 4], \"xaxis\": \"x\", \"y\": [0.0, 0.0, 0.0, 0.0], \"yaxis\": \"y\"}, {\"hoverlabel\": {\"namelength\": 0}, \"hovertemplate\": \"<b>%{hovertext}</b><br><br>team=Hardwood Classics<br>player_name=Rajon Rondo<br>week=%{x}<br>points=%{y}\", \"hovertext\": [\"Rajon Rondo\", \"Rajon Rondo\", \"Rajon Rondo\", \"Rajon Rondo\"], \"legendgroup\": \"team=Hardwood Classics\", \"line\": {\"color\": \"#ab63fa\", \"dash\": \"solid\"}, \"mode\": \"lines\", \"name\": \"team=Hardwood Classics\", \"showlegend\": false, \"type\": \"scatter\", \"x\": [1, 2, 3, 4], \"xaxis\": \"x\", \"y\": [0.0, 0.0, 0.0, 32.0], \"yaxis\": \"y\"}, {\"hoverlabel\": {\"namelength\": 0}, \"hovertemplate\": \"<b>%{hovertext}</b><br><br>team=Hardwood Classics<br>player_name=Spencer Dinwiddie<br>week=%{x}<br>points=%{y}\", \"hovertext\": [\"Spencer Dinwiddie\", \"Spencer Dinwiddie\", \"Spencer Dinwiddie\", \"Spencer Dinwiddie\"], \"legendgroup\": \"team=Hardwood Classics\", \"line\": {\"color\": \"#ab63fa\", \"dash\": \"solid\"}, \"mode\": \"lines\", \"name\": \"team=Hardwood Classics\", \"showlegend\": false, \"type\": \"scatter\", \"x\": [1, 2, 3, 4], \"xaxis\": \"x\", \"y\": [40.0, 31.7, 49.5, 39.5], \"yaxis\": \"y\"}, {\"hoverlabel\": {\"namelength\": 0}, \"hovertemplate\": \"<b>%{hovertext}</b><br><br>team=Hardwood Classics<br>player_name=T.J. Warren<br>week=%{x}<br>points=%{y}\", \"hovertext\": [\"T.J. Warren\"], \"legendgroup\": \"team=Hardwood Classics\", \"line\": {\"color\": \"#ab63fa\", \"dash\": \"solid\"}, \"mode\": \"lines\", \"name\": \"team=Hardwood Classics\", \"showlegend\": false, \"type\": \"scatter\", \"x\": [1], \"xaxis\": \"x\", \"y\": [16.5], \"yaxis\": \"y\"}, {\"hoverlabel\": {\"namelength\": 0}, \"hovertemplate\": \"<b>%{hovertext}</b><br><br>team=Hardwood Classics<br>player_name=Thaddeus Young<br>week=%{x}<br>points=%{y}\", \"hovertext\": [\"Thaddeus Young\", \"Thaddeus Young\", \"Thaddeus Young\", \"Thaddeus Young\"], \"legendgroup\": \"team=Hardwood Classics\", \"line\": {\"color\": \"#ab63fa\", \"dash\": \"solid\"}, \"mode\": \"lines\", \"name\": \"team=Hardwood Classics\", \"showlegend\": false, \"type\": \"scatter\", \"x\": [1, 2, 3, 4], \"xaxis\": \"x\", \"y\": [24.8, 37.0, 24.7, 26.5], \"yaxis\": \"y\"}, {\"hoverlabel\": {\"namelength\": 0}, \"hovertemplate\": \"<b>%{hovertext}</b><br><br>team=Hardwood Classics<br>player_name=Zion Williamson<br>week=%{x}<br>points=%{y}\", \"hovertext\": [\"Zion Williamson\", \"Zion Williamson\", \"Zion Williamson\", \"Zion Williamson\"], \"legendgroup\": \"team=Hardwood Classics\", \"line\": {\"color\": \"#ab63fa\", \"dash\": \"solid\"}, \"mode\": \"lines\", \"name\": \"team=Hardwood Classics\", \"showlegend\": false, \"type\": \"scatter\", \"x\": [1, 2, 3, 4], \"xaxis\": \"x\", \"y\": [0.0, 0.0, 0.0, 0.0], \"yaxis\": \"y\"}, {\"hoverlabel\": {\"namelength\": 0}, \"hovertemplate\": \"<b>%{hovertext}</b><br><br>team=Hardwood Classics<br>player_name=Devonte' Graham<br>week=%{x}<br>points=%{y}\", \"hovertext\": [\"Devonte' Graham\", \"Devonte' Graham\", \"Devonte' Graham\"], \"legendgroup\": \"team=Hardwood Classics\", \"line\": {\"color\": \"#ab63fa\", \"dash\": \"solid\"}, \"mode\": \"lines\", \"name\": \"team=Hardwood Classics\", \"showlegend\": false, \"type\": \"scatter\", \"x\": [2, 3, 4], \"xaxis\": \"x\", \"y\": [38.8, 68.4, 41.5], \"yaxis\": \"y\"}, {\"hoverlabel\": {\"namelength\": 0}, \"hovertemplate\": \"<b>%{hovertext}</b><br><br>team=Hardwood Classics<br>player_name=Dwight Howard<br>week=%{x}<br>points=%{y}\", \"hovertext\": [\"Dwight Howard\", \"Dwight Howard\"], \"legendgroup\": \"team=Hardwood Classics\", \"line\": {\"color\": \"#ab63fa\", \"dash\": \"solid\"}, \"mode\": \"lines\", \"name\": \"team=Hardwood Classics\", \"showlegend\": false, \"type\": \"scatter\", \"x\": [3, 4], \"xaxis\": \"x\", \"y\": [19.7, 37.8], \"yaxis\": \"y\"}, {\"hoverlabel\": {\"namelength\": 0}, \"hovertemplate\": \"<b>%{hovertext}</b><br><br>team=Your Team Name<br>player_name=Alex Len<br>week=%{x}<br>points=%{y}\", \"hovertext\": [\"Alex Len\", \"Alex Len\", \"Alex Len\"], \"legendgroup\": \"team=Your Team Name\", \"line\": {\"color\": \"#FFA15A\", \"dash\": \"solid\"}, \"mode\": \"lines\", \"name\": \"team=Your Team Name\", \"showlegend\": true, \"type\": \"scatter\", \"x\": [1, 2, 3], \"xaxis\": \"x\", \"y\": [19.0, 20.0, 18.1], \"yaxis\": \"y\"}, {\"hoverlabel\": {\"namelength\": 0}, \"hovertemplate\": \"<b>%{hovertext}</b><br><br>team=Your Team Name<br>player_name=Danny Green<br>week=%{x}<br>points=%{y}\", \"hovertext\": [\"Danny Green\", \"Danny Green\", \"Danny Green\", \"Danny Green\"], \"legendgroup\": \"team=Your Team Name\", \"line\": {\"color\": \"#FFA15A\", \"dash\": \"solid\"}, \"mode\": \"lines\", \"name\": \"team=Your Team Name\", \"showlegend\": false, \"type\": \"scatter\", \"x\": [1, 2, 3, 4], \"xaxis\": \"x\", \"y\": [45.3, 20.5, 20.0, 25.8], \"yaxis\": \"y\"}, {\"hoverlabel\": {\"namelength\": 0}, \"hovertemplate\": \"<b>%{hovertext}</b><br><br>team=Your Team Name<br>player_name=Deandre Ayton<br>week=%{x}<br>points=%{y}\", \"hovertext\": [\"Deandre Ayton\", \"Deandre Ayton\", \"Deandre Ayton\"], \"legendgroup\": \"team=Your Team Name\", \"line\": {\"color\": \"#FFA15A\", \"dash\": \"solid\"}, \"mode\": \"lines\", \"name\": \"team=Your Team Name\", \"showlegend\": false, \"type\": \"scatter\", \"x\": [1, 2, 3], \"xaxis\": \"x\", \"y\": [67.0, 0.0, 0.0], \"yaxis\": \"y\"}, {\"hoverlabel\": {\"namelength\": 0}, \"hovertemplate\": \"<b>%{hovertext}</b><br><br>team=Your Team Name<br>player_name=Delon Wright<br>week=%{x}<br>points=%{y}\", \"hovertext\": [\"Delon Wright\", \"Delon Wright\", \"Delon Wright\"], \"legendgroup\": \"team=Your Team Name\", \"line\": {\"color\": \"#FFA15A\", \"dash\": \"solid\"}, \"mode\": \"lines\", \"name\": \"team=Your Team Name\", \"showlegend\": false, \"type\": \"scatter\", \"x\": [1, 2, 3], \"xaxis\": \"x\", \"y\": [39.2, 35.2, 15.3], \"yaxis\": \"y\"}, {\"hoverlabel\": {\"namelength\": 0}, \"hovertemplate\": \"<b>%{hovertext}</b><br><br>team=Your Team Name<br>player_name=Derrick White<br>week=%{x}<br>points=%{y}\", \"hovertext\": [\"Derrick White\", \"Derrick White\", \"Derrick White\", \"Derrick White\"], \"legendgroup\": \"team=Your Team Name\", \"line\": {\"color\": \"#FFA15A\", \"dash\": \"solid\"}, \"mode\": \"lines\", \"name\": \"team=Your Team Name\", \"showlegend\": false, \"type\": \"scatter\", \"x\": [1, 2, 3, 4], \"xaxis\": \"x\", \"y\": [22.2, 39.6, 23.3, 29.8], \"yaxis\": \"y\"}, {\"hoverlabel\": {\"namelength\": 0}, \"hovertemplate\": \"<b>%{hovertext}</b><br><br>team=Your Team Name<br>player_name=Kawhi Leonard<br>week=%{x}<br>points=%{y}\", \"hovertext\": [\"Kawhi Leonard\", \"Kawhi Leonard\", \"Kawhi Leonard\", \"Kawhi Leonard\"], \"legendgroup\": \"team=Your Team Name\", \"line\": {\"color\": \"#FFA15A\", \"dash\": \"solid\"}, \"mode\": \"lines\", \"name\": \"team=Your Team Name\", \"showlegend\": false, \"type\": \"scatter\", \"x\": [1, 2, 3, 4], \"xaxis\": \"x\", \"y\": [72.2, 83.3, 70.5, 65.2], \"yaxis\": \"y\"}, {\"hoverlabel\": {\"namelength\": 0}, \"hovertemplate\": \"<b>%{hovertext}</b><br><br>team=Your Team Name<br>player_name=Kemba Walker<br>week=%{x}<br>points=%{y}\", \"hovertext\": [\"Kemba Walker\", \"Kemba Walker\", \"Kemba Walker\", \"Kemba Walker\"], \"legendgroup\": \"team=Your Team Name\", \"line\": {\"color\": \"#FFA15A\", \"dash\": \"solid\"}, \"mode\": \"lines\", \"name\": \"team=Your Team Name\", \"showlegend\": false, \"type\": \"scatter\", \"x\": [1, 2, 3, 4], \"xaxis\": \"x\", \"y\": [56.3, 72.5, 64.0, 77.5], \"yaxis\": \"y\"}, {\"hoverlabel\": {\"namelength\": 0}, \"hovertemplate\": \"<b>%{hovertext}</b><br><br>team=Your Team Name<br>player_name=Khris Middleton<br>week=%{x}<br>points=%{y}\", \"hovertext\": [\"Khris Middleton\", \"Khris Middleton\", \"Khris Middleton\", \"Khris Middleton\"], \"legendgroup\": \"team=Your Team Name\", \"line\": {\"color\": \"#FFA15A\", \"dash\": \"solid\"}, \"mode\": \"lines\", \"name\": \"team=Your Team Name\", \"showlegend\": false, \"type\": \"scatter\", \"x\": [1, 2, 3, 4], \"xaxis\": \"x\", \"y\": [49.5, 46.4, 47.8, 0.0], \"yaxis\": \"y\"}, {\"hoverlabel\": {\"namelength\": 0}, \"hovertemplate\": \"<b>%{hovertext}</b><br><br>team=Your Team Name<br>player_name=Malcolm Brogdon<br>week=%{x}<br>points=%{y}\", \"hovertext\": [\"Malcolm Brogdon\", \"Malcolm Brogdon\", \"Malcolm Brogdon\"], \"legendgroup\": \"team=Your Team Name\", \"line\": {\"color\": \"#FFA15A\", \"dash\": \"solid\"}, \"mode\": \"lines\", \"name\": \"team=Your Team Name\", \"showlegend\": false, \"type\": \"scatter\", \"x\": [1, 2, 3], \"xaxis\": \"x\", \"y\": [79.0, 64.9, 51.1], \"yaxis\": \"y\"}, {\"hoverlabel\": {\"namelength\": 0}, \"hovertemplate\": \"<b>%{hovertext}</b><br><br>team=Your Team Name<br>player_name=Marc Gasol<br>week=%{x}<br>points=%{y}\", \"hovertext\": [\"Marc Gasol\", \"Marc Gasol\", \"Marc Gasol\", \"Marc Gasol\"], \"legendgroup\": \"team=Your Team Name\", \"line\": {\"color\": \"#FFA15A\", \"dash\": \"solid\"}, \"mode\": \"lines\", \"name\": \"team=Your Team Name\", \"showlegend\": false, \"type\": \"scatter\", \"x\": [1, 2, 3, 4], \"xaxis\": \"x\", \"y\": [20.3, 35.3, 22.3, 41.8], \"yaxis\": \"y\"}, {\"hoverlabel\": {\"namelength\": 0}, \"hovertemplate\": \"<b>%{hovertext}</b><br><br>team=Your Team Name<br>player_name=Robert Covington<br>week=%{x}<br>points=%{y}\", \"hovertext\": [\"Robert Covington\", \"Robert Covington\", \"Robert Covington\", \"Robert Covington\"], \"legendgroup\": \"team=Your Team Name\", \"line\": {\"color\": \"#FFA15A\", \"dash\": \"solid\"}, \"mode\": \"lines\", \"name\": \"team=Your Team Name\", \"showlegend\": false, \"type\": \"scatter\", \"x\": [1, 2, 3, 4], \"xaxis\": \"x\", \"y\": [37.5, 38.0, 43.9, 28.5], \"yaxis\": \"y\"}, {\"hoverlabel\": {\"namelength\": 0}, \"hovertemplate\": \"<b>%{hovertext}</b><br><br>team=Your Team Name<br>player_name=Wesley Matthews<br>week=%{x}<br>points=%{y}\", \"hovertext\": [\"Wesley Matthews\", \"Wesley Matthews\"], \"legendgroup\": \"team=Your Team Name\", \"line\": {\"color\": \"#FFA15A\", \"dash\": \"solid\"}, \"mode\": \"lines\", \"name\": \"team=Your Team Name\", \"showlegend\": false, \"type\": \"scatter\", \"x\": [1, 2], \"xaxis\": \"x\", \"y\": [39.8, 15.1], \"yaxis\": \"y\"}, {\"hoverlabel\": {\"namelength\": 0}, \"hovertemplate\": \"<b>%{hovertext}</b><br><br>team=Your Team Name<br>player_name=Zach Collins<br>week=%{x}<br>points=%{y}\", \"hovertext\": [\"Zach Collins\", \"Zach Collins\"], \"legendgroup\": \"team=Your Team Name\", \"line\": {\"color\": \"#FFA15A\", \"dash\": \"solid\"}, \"mode\": \"lines\", \"name\": \"team=Your Team Name\", \"showlegend\": false, \"type\": \"scatter\", \"x\": [1, 2], \"xaxis\": \"x\", \"y\": [25.5, 0.0], \"yaxis\": \"y\"}, {\"hoverlabel\": {\"namelength\": 0}, \"hovertemplate\": \"<b>%{hovertext}</b><br><br>team=Your Team Name<br>player_name=Dwight Powell<br>week=%{x}<br>points=%{y}\", \"hovertext\": [\"Dwight Powell\", \"Dwight Powell\"], \"legendgroup\": \"team=Your Team Name\", \"line\": {\"color\": \"#FFA15A\", \"dash\": \"solid\"}, \"mode\": \"lines\", \"name\": \"team=Your Team Name\", \"showlegend\": false, \"type\": \"scatter\", \"x\": [3, 4], \"xaxis\": \"x\", \"y\": [31.2, 37.0], \"yaxis\": \"y\"}, {\"hoverlabel\": {\"namelength\": 0}, \"hovertemplate\": \"<b>%{hovertext}</b><br><br>team=Your Team Name<br>player_name=Will Barton<br>week=%{x}<br>points=%{y}\", \"hovertext\": [\"Will Barton\", \"Will Barton\"], \"legendgroup\": \"team=Your Team Name\", \"line\": {\"color\": \"#FFA15A\", \"dash\": \"solid\"}, \"mode\": \"lines\", \"name\": \"team=Your Team Name\", \"showlegend\": false, \"type\": \"scatter\", \"x\": [3, 4], \"xaxis\": \"x\", \"y\": [57.3, 68.0], \"yaxis\": \"y\"}, {\"hoverlabel\": {\"namelength\": 0}, \"hovertemplate\": \"<b>%{hovertext}</b><br><br>team=Your Team Name<br>player_name=Jae Crowder<br>week=%{x}<br>points=%{y}\", \"hovertext\": [\"Jae Crowder\"], \"legendgroup\": \"team=Your Team Name\", \"line\": {\"color\": \"#FFA15A\", \"dash\": \"solid\"}, \"mode\": \"lines\", \"name\": \"team=Your Team Name\", \"showlegend\": false, \"type\": \"scatter\", \"x\": [4], \"xaxis\": \"x\", \"y\": [24.2], \"yaxis\": \"y\"}, {\"hoverlabel\": {\"namelength\": 0}, \"hovertemplate\": \"<b>%{hovertext}</b><br><br>team=Your Team Name<br>player_name=Mike Conley<br>week=%{x}<br>points=%{y}\", \"hovertext\": [\"Mike Conley\"], \"legendgroup\": \"team=Your Team Name\", \"line\": {\"color\": \"#FFA15A\", \"dash\": \"solid\"}, \"mode\": \"lines\", \"name\": \"team=Your Team Name\", \"showlegend\": false, \"type\": \"scatter\", \"x\": [4], \"xaxis\": \"x\", \"y\": [49.5], \"yaxis\": \"y\"}, {\"hoverlabel\": {\"namelength\": 0}, \"hovertemplate\": \"<b>%{hovertext}</b><br><br>team=Your Team Name<br>player_name=Nikola Jokic<br>week=%{x}<br>points=%{y}\", \"hovertext\": [\"Nikola Jokic\"], \"legendgroup\": \"team=Your Team Name\", \"line\": {\"color\": \"#FFA15A\", \"dash\": \"solid\"}, \"mode\": \"lines\", \"name\": \"team=Your Team Name\", \"showlegend\": false, \"type\": \"scatter\", \"x\": [4], \"xaxis\": \"x\", \"y\": [59.0], \"yaxis\": \"y\"}, {\"hoverlabel\": {\"namelength\": 0}, \"hovertemplate\": \"<b>%{hovertext}</b><br><br>team=Your Team Name<br>player_name=Tomas Satoransky<br>week=%{x}<br>points=%{y}\", \"hovertext\": [\"Tomas Satoransky\"], \"legendgroup\": \"team=Your Team Name\", \"line\": {\"color\": \"#FFA15A\", \"dash\": \"solid\"}, \"mode\": \"lines\", \"name\": \"team=Your Team Name\", \"showlegend\": false, \"type\": \"scatter\", \"x\": [4], \"xaxis\": \"x\", \"y\": [14.5], \"yaxis\": \"y\"}, {\"hoverlabel\": {\"namelength\": 0}, \"hovertemplate\": \"<b>%{hovertext}</b><br><br>team=ManuGino's Team<br>player_name=T.J. Warren<br>week=%{x}<br>points=%{y}\", \"hovertext\": [\"T.J. Warren\", \"T.J. Warren\"], \"legendgroup\": \"team=ManuGino's Team\", \"line\": {\"color\": \"#19d3f3\", \"dash\": \"solid\"}, \"mode\": \"lines\", \"name\": \"team=ManuGino's Team\", \"showlegend\": true, \"type\": \"scatter\", \"x\": [3, 4], \"xaxis\": \"x\", \"y\": [50.2, 58.0], \"yaxis\": \"y\"}, {\"hoverlabel\": {\"namelength\": 0}, \"hovertemplate\": \"<b>%{hovertext}</b><br><br>team=ManuGino's Team<br>player_name=Bobby Portis<br>week=%{x}<br>points=%{y}\", \"hovertext\": [\"Bobby Portis\", \"Bobby Portis\", \"Bobby Portis\", \"Bobby Portis\"], \"legendgroup\": \"team=ManuGino's Team\", \"line\": {\"color\": \"#19d3f3\", \"dash\": \"solid\"}, \"mode\": \"lines\", \"name\": \"team=ManuGino's Team\", \"showlegend\": false, \"type\": \"scatter\", \"x\": [1, 2, 3, 4], \"xaxis\": \"x\", \"y\": [24.0, 44.4, 33.5, 20.0], \"yaxis\": \"y\"}, {\"hoverlabel\": {\"namelength\": 0}, \"hovertemplate\": \"<b>%{hovertext}</b><br><br>team=ManuGino's Team<br>player_name=Buddy Hield<br>week=%{x}<br>points=%{y}\", \"hovertext\": [\"Buddy Hield\", \"Buddy Hield\", \"Buddy Hield\", \"Buddy Hield\"], \"legendgroup\": \"team=ManuGino's Team\", \"line\": {\"color\": \"#19d3f3\", \"dash\": \"solid\"}, \"mode\": \"lines\", \"name\": \"team=ManuGino's Team\", \"showlegend\": false, \"type\": \"scatter\", \"x\": [1, 2, 3, 4], \"xaxis\": \"x\", \"y\": [37.8, 43.8, 54.8, 35.5], \"yaxis\": \"y\"}, {\"hoverlabel\": {\"namelength\": 0}, \"hovertemplate\": \"<b>%{hovertext}</b><br><br>team=ManuGino's Team<br>player_name=CJ McCollum<br>week=%{x}<br>points=%{y}\", \"hovertext\": [\"CJ McCollum\", \"CJ McCollum\", \"CJ McCollum\", \"CJ McCollum\"], \"legendgroup\": \"team=ManuGino's Team\", \"line\": {\"color\": \"#19d3f3\", \"dash\": \"solid\"}, \"mode\": \"lines\", \"name\": \"team=ManuGino's Team\", \"showlegend\": false, \"type\": \"scatter\", \"x\": [1, 2, 3, 4], \"xaxis\": \"x\", \"y\": [46.7, 44.7, 42.8, 52.8], \"yaxis\": \"y\"}, {\"hoverlabel\": {\"namelength\": 0}, \"hovertemplate\": \"<b>%{hovertext}</b><br><br>team=ManuGino's Team<br>player_name=Cameron Reddish<br>week=%{x}<br>points=%{y}\", \"hovertext\": [\"Cameron Reddish\", \"Cameron Reddish\", \"Cameron Reddish\"], \"legendgroup\": \"team=ManuGino's Team\", \"line\": {\"color\": \"#19d3f3\", \"dash\": \"solid\"}, \"mode\": \"lines\", \"name\": \"team=ManuGino's Team\", \"showlegend\": false, \"type\": \"scatter\", \"x\": [1, 2, 3], \"xaxis\": \"x\", \"y\": [14.0, 23.5, 17.0], \"yaxis\": \"y\"}, {\"hoverlabel\": {\"namelength\": 0}, \"hovertemplate\": \"<b>%{hovertext}</b><br><br>team=ManuGino's Team<br>player_name=Jaylen Brown<br>week=%{x}<br>points=%{y}\", \"hovertext\": [\"Jaylen Brown\", \"Jaylen Brown\", \"Jaylen Brown\", \"Jaylen Brown\"], \"legendgroup\": \"team=ManuGino's Team\", \"line\": {\"color\": \"#19d3f3\", \"dash\": \"solid\"}, \"mode\": \"lines\", \"name\": \"team=ManuGino's Team\", \"showlegend\": false, \"type\": \"scatter\", \"x\": [1, 2, 3, 4], \"xaxis\": \"x\", \"y\": [45.8, 0.0, 48.0, 59.2], \"yaxis\": \"y\"}, {\"hoverlabel\": {\"namelength\": 0}, \"hovertemplate\": \"<b>%{hovertext}</b><br><br>team=ManuGino's Team<br>player_name=Kelly Oubre<br>week=%{x}<br>points=%{y}\", \"hovertext\": [\"Kelly Oubre\", \"Kelly Oubre\", \"Kelly Oubre\", \"Kelly Oubre\"], \"legendgroup\": \"team=ManuGino's Team\", \"line\": {\"color\": \"#19d3f3\", \"dash\": \"solid\"}, \"mode\": \"lines\", \"name\": \"team=ManuGino's Team\", \"showlegend\": false, \"type\": \"scatter\", \"x\": [1, 2, 3, 4], \"xaxis\": \"x\", \"y\": [57.5, 38.3, 36.8, 4.0], \"yaxis\": \"y\"}, {\"hoverlabel\": {\"namelength\": 0}, \"hovertemplate\": \"<b>%{hovertext}</b><br><br>team=ManuGino's Team<br>player_name=Kevin Huerter<br>week=%{x}<br>points=%{y}\", \"hovertext\": [\"Kevin Huerter\", \"Kevin Huerter\", \"Kevin Huerter\"], \"legendgroup\": \"team=ManuGino's Team\", \"line\": {\"color\": \"#19d3f3\", \"dash\": \"solid\"}, \"mode\": \"lines\", \"name\": \"team=ManuGino's Team\", \"showlegend\": false, \"type\": \"scatter\", \"x\": [1, 2, 4], \"xaxis\": \"x\", \"y\": [21.0, 22.3, 36.5], \"yaxis\": \"y\"}, {\"hoverlabel\": {\"namelength\": 0}, \"hovertemplate\": \"<b>%{hovertext}</b><br><br>team=ManuGino's Team<br>player_name=Kyle Lowry<br>week=%{x}<br>points=%{y}\", \"hovertext\": [\"Kyle Lowry\", \"Kyle Lowry\", \"Kyle Lowry\", \"Kyle Lowry\"], \"legendgroup\": \"team=ManuGino's Team\", \"line\": {\"color\": \"#19d3f3\", \"dash\": \"solid\"}, \"mode\": \"lines\", \"name\": \"team=ManuGino's Team\", \"showlegend\": false, \"type\": \"scatter\", \"x\": [1, 2, 3, 4], \"xaxis\": \"x\", \"y\": [62.8, 67.7, 44.2, 0.0], \"yaxis\": \"y\"}, {\"hoverlabel\": {\"namelength\": 0}, \"hovertemplate\": \"<b>%{hovertext}</b><br><br>team=ManuGino's Team<br>player_name=Marvin Bagley<br>week=%{x}<br>points=%{y}\", \"hovertext\": [\"Marvin Bagley\", \"Marvin Bagley\", \"Marvin Bagley\", \"Marvin Bagley\"], \"legendgroup\": \"team=ManuGino's Team\", \"line\": {\"color\": \"#19d3f3\", \"dash\": \"solid\"}, \"mode\": \"lines\", \"name\": \"team=ManuGino's Team\", \"showlegend\": false, \"type\": \"scatter\", \"x\": [1, 2, 3, 4], \"xaxis\": \"x\", \"y\": [44.5, 0.0, 0.0, 0.0], \"yaxis\": \"y\"}, {\"hoverlabel\": {\"namelength\": 0}, \"hovertemplate\": \"<b>%{hovertext}</b><br><br>team=ManuGino's Team<br>player_name=Myles Turner<br>week=%{x}<br>points=%{y}\", \"hovertext\": [\"Myles Turner\", \"Myles Turner\", \"Myles Turner\", \"Myles Turner\"], \"legendgroup\": \"team=ManuGino's Team\", \"line\": {\"color\": \"#19d3f3\", \"dash\": \"solid\"}, \"mode\": \"lines\", \"name\": \"team=ManuGino's Team\", \"showlegend\": false, \"type\": \"scatter\", \"x\": [1, 2, 3, 4], \"xaxis\": \"x\", \"y\": [57.2, 29.8, 0.0, 0.0], \"yaxis\": \"y\"}, {\"hoverlabel\": {\"namelength\": 0}, \"hovertemplate\": \"<b>%{hovertext}</b><br><br>team=ManuGino's Team<br>player_name=Nikola Vucevic<br>week=%{x}<br>points=%{y}\", \"hovertext\": [\"Nikola Vucevic\", \"Nikola Vucevic\", \"Nikola Vucevic\", \"Nikola Vucevic\"], \"legendgroup\": \"team=ManuGino's Team\", \"line\": {\"color\": \"#19d3f3\", \"dash\": \"solid\"}, \"mode\": \"lines\", \"name\": \"team=ManuGino's Team\", \"showlegend\": false, \"type\": \"scatter\", \"x\": [1, 2, 3, 4], \"xaxis\": \"x\", \"y\": [55.0, 50.1, 69.1, 70.5], \"yaxis\": \"y\"}, {\"hoverlabel\": {\"namelength\": 0}, \"hovertemplate\": \"<b>%{hovertext}</b><br><br>team=ManuGino's Team<br>player_name=Stephen Curry<br>week=%{x}<br>points=%{y}\", \"hovertext\": [\"Stephen Curry\", \"Stephen Curry\", \"Stephen Curry\", \"Stephen Curry\"], \"legendgroup\": \"team=ManuGino's Team\", \"line\": {\"color\": \"#19d3f3\", \"dash\": \"solid\"}, \"mode\": \"lines\", \"name\": \"team=ManuGino's Team\", \"showlegend\": false, \"type\": \"scatter\", \"x\": [1, 2, 3, 4], \"xaxis\": \"x\", \"y\": [50.2, 62.5, 0.0, 0.0], \"yaxis\": \"y\"}, {\"hoverlabel\": {\"namelength\": 0}, \"hovertemplate\": \"<b>%{hovertext}</b><br><br>team=ManuGino's Team<br>player_name=Wendell Carter<br>week=%{x}<br>points=%{y}\", \"hovertext\": [\"Wendell Carter\", \"Wendell Carter\", \"Wendell Carter\", \"Wendell Carter\"], \"legendgroup\": \"team=ManuGino's Team\", \"line\": {\"color\": \"#19d3f3\", \"dash\": \"solid\"}, \"mode\": \"lines\", \"name\": \"team=ManuGino's Team\", \"showlegend\": false, \"type\": \"scatter\", \"x\": [1, 2, 3, 4], \"xaxis\": \"x\", \"y\": [34.2, 53.4, 35.8, 49.0], \"yaxis\": \"y\"}],\n",
       "                        {\"height\": 600, \"legend\": {\"tracegroupgap\": 0}, \"margin\": {\"t\": 60}, \"template\": {\"data\": {\"bar\": [{\"error_x\": {\"color\": \"#2a3f5f\"}, \"error_y\": {\"color\": \"#2a3f5f\"}, \"marker\": {\"line\": {\"color\": \"#E5ECF6\", \"width\": 0.5}}, \"type\": \"bar\"}], \"barpolar\": [{\"marker\": {\"line\": {\"color\": \"#E5ECF6\", \"width\": 0.5}}, \"type\": \"barpolar\"}], \"carpet\": [{\"aaxis\": {\"endlinecolor\": \"#2a3f5f\", \"gridcolor\": \"white\", \"linecolor\": \"white\", \"minorgridcolor\": \"white\", \"startlinecolor\": \"#2a3f5f\"}, \"baxis\": {\"endlinecolor\": \"#2a3f5f\", \"gridcolor\": \"white\", \"linecolor\": \"white\", \"minorgridcolor\": \"white\", \"startlinecolor\": \"#2a3f5f\"}, \"type\": \"carpet\"}], \"choropleth\": [{\"colorbar\": {\"outlinewidth\": 0, \"ticks\": \"\"}, \"type\": \"choropleth\"}], \"contour\": [{\"colorbar\": {\"outlinewidth\": 0, \"ticks\": \"\"}, \"colorscale\": [[0.0, \"#0d0887\"], [0.1111111111111111, \"#46039f\"], [0.2222222222222222, \"#7201a8\"], [0.3333333333333333, \"#9c179e\"], [0.4444444444444444, \"#bd3786\"], [0.5555555555555556, \"#d8576b\"], [0.6666666666666666, \"#ed7953\"], [0.7777777777777778, \"#fb9f3a\"], [0.8888888888888888, \"#fdca26\"], [1.0, \"#f0f921\"]], \"type\": \"contour\"}], \"contourcarpet\": [{\"colorbar\": {\"outlinewidth\": 0, \"ticks\": \"\"}, \"type\": \"contourcarpet\"}], \"heatmap\": [{\"colorbar\": {\"outlinewidth\": 0, \"ticks\": \"\"}, \"colorscale\": [[0.0, \"#0d0887\"], [0.1111111111111111, \"#46039f\"], [0.2222222222222222, \"#7201a8\"], [0.3333333333333333, \"#9c179e\"], [0.4444444444444444, \"#bd3786\"], [0.5555555555555556, \"#d8576b\"], [0.6666666666666666, \"#ed7953\"], [0.7777777777777778, \"#fb9f3a\"], [0.8888888888888888, \"#fdca26\"], [1.0, \"#f0f921\"]], \"type\": \"heatmap\"}], \"heatmapgl\": [{\"colorbar\": {\"outlinewidth\": 0, \"ticks\": \"\"}, \"colorscale\": [[0.0, \"#0d0887\"], [0.1111111111111111, \"#46039f\"], [0.2222222222222222, \"#7201a8\"], [0.3333333333333333, \"#9c179e\"], [0.4444444444444444, \"#bd3786\"], [0.5555555555555556, \"#d8576b\"], [0.6666666666666666, \"#ed7953\"], [0.7777777777777778, \"#fb9f3a\"], [0.8888888888888888, \"#fdca26\"], [1.0, \"#f0f921\"]], \"type\": \"heatmapgl\"}], \"histogram\": [{\"marker\": {\"colorbar\": {\"outlinewidth\": 0, \"ticks\": \"\"}}, \"type\": \"histogram\"}], \"histogram2d\": [{\"colorbar\": {\"outlinewidth\": 0, \"ticks\": \"\"}, \"colorscale\": [[0.0, \"#0d0887\"], [0.1111111111111111, \"#46039f\"], [0.2222222222222222, \"#7201a8\"], [0.3333333333333333, \"#9c179e\"], [0.4444444444444444, \"#bd3786\"], [0.5555555555555556, \"#d8576b\"], [0.6666666666666666, \"#ed7953\"], [0.7777777777777778, \"#fb9f3a\"], [0.8888888888888888, \"#fdca26\"], [1.0, \"#f0f921\"]], \"type\": \"histogram2d\"}], \"histogram2dcontour\": [{\"colorbar\": {\"outlinewidth\": 0, \"ticks\": \"\"}, \"colorscale\": [[0.0, \"#0d0887\"], [0.1111111111111111, \"#46039f\"], [0.2222222222222222, \"#7201a8\"], [0.3333333333333333, \"#9c179e\"], [0.4444444444444444, \"#bd3786\"], [0.5555555555555556, \"#d8576b\"], [0.6666666666666666, \"#ed7953\"], [0.7777777777777778, \"#fb9f3a\"], [0.8888888888888888, \"#fdca26\"], [1.0, \"#f0f921\"]], \"type\": \"histogram2dcontour\"}], \"mesh3d\": [{\"colorbar\": {\"outlinewidth\": 0, \"ticks\": \"\"}, \"type\": \"mesh3d\"}], \"parcoords\": [{\"line\": {\"colorbar\": {\"outlinewidth\": 0, \"ticks\": \"\"}}, \"type\": \"parcoords\"}], \"pie\": [{\"automargin\": true, \"type\": \"pie\"}], \"scatter\": [{\"marker\": {\"colorbar\": {\"outlinewidth\": 0, \"ticks\": \"\"}}, \"type\": \"scatter\"}], \"scatter3d\": [{\"line\": {\"colorbar\": {\"outlinewidth\": 0, \"ticks\": \"\"}}, \"marker\": {\"colorbar\": {\"outlinewidth\": 0, \"ticks\": \"\"}}, \"type\": \"scatter3d\"}], \"scattercarpet\": [{\"marker\": {\"colorbar\": {\"outlinewidth\": 0, \"ticks\": \"\"}}, \"type\": \"scattercarpet\"}], \"scattergeo\": [{\"marker\": {\"colorbar\": {\"outlinewidth\": 0, \"ticks\": \"\"}}, \"type\": \"scattergeo\"}], \"scattergl\": [{\"marker\": {\"colorbar\": {\"outlinewidth\": 0, \"ticks\": \"\"}}, \"type\": \"scattergl\"}], \"scattermapbox\": [{\"marker\": {\"colorbar\": {\"outlinewidth\": 0, \"ticks\": \"\"}}, \"type\": \"scattermapbox\"}], \"scatterpolar\": [{\"marker\": {\"colorbar\": {\"outlinewidth\": 0, \"ticks\": \"\"}}, \"type\": \"scatterpolar\"}], \"scatterpolargl\": [{\"marker\": {\"colorbar\": {\"outlinewidth\": 0, \"ticks\": \"\"}}, \"type\": \"scatterpolargl\"}], \"scatterternary\": [{\"marker\": {\"colorbar\": {\"outlinewidth\": 0, \"ticks\": \"\"}}, \"type\": \"scatterternary\"}], \"surface\": [{\"colorbar\": {\"outlinewidth\": 0, \"ticks\": \"\"}, \"colorscale\": [[0.0, \"#0d0887\"], [0.1111111111111111, \"#46039f\"], [0.2222222222222222, \"#7201a8\"], [0.3333333333333333, \"#9c179e\"], [0.4444444444444444, \"#bd3786\"], [0.5555555555555556, \"#d8576b\"], [0.6666666666666666, \"#ed7953\"], [0.7777777777777778, \"#fb9f3a\"], [0.8888888888888888, \"#fdca26\"], [1.0, \"#f0f921\"]], \"type\": \"surface\"}], \"table\": [{\"cells\": {\"fill\": {\"color\": \"#EBF0F8\"}, \"line\": {\"color\": \"white\"}}, \"header\": {\"fill\": {\"color\": \"#C8D4E3\"}, \"line\": {\"color\": \"white\"}}, \"type\": \"table\"}]}, \"layout\": {\"annotationdefaults\": {\"arrowcolor\": \"#2a3f5f\", \"arrowhead\": 0, \"arrowwidth\": 1}, \"coloraxis\": {\"colorbar\": {\"outlinewidth\": 0, \"ticks\": \"\"}}, \"colorscale\": {\"diverging\": [[0, \"#8e0152\"], [0.1, \"#c51b7d\"], [0.2, \"#de77ae\"], [0.3, \"#f1b6da\"], [0.4, \"#fde0ef\"], [0.5, \"#f7f7f7\"], [0.6, \"#e6f5d0\"], [0.7, \"#b8e186\"], [0.8, \"#7fbc41\"], [0.9, \"#4d9221\"], [1, \"#276419\"]], \"sequential\": [[0.0, \"#0d0887\"], [0.1111111111111111, \"#46039f\"], [0.2222222222222222, \"#7201a8\"], [0.3333333333333333, \"#9c179e\"], [0.4444444444444444, \"#bd3786\"], [0.5555555555555556, \"#d8576b\"], [0.6666666666666666, \"#ed7953\"], [0.7777777777777778, \"#fb9f3a\"], [0.8888888888888888, \"#fdca26\"], [1.0, \"#f0f921\"]], \"sequentialminus\": [[0.0, \"#0d0887\"], [0.1111111111111111, \"#46039f\"], [0.2222222222222222, \"#7201a8\"], [0.3333333333333333, \"#9c179e\"], [0.4444444444444444, \"#bd3786\"], [0.5555555555555556, \"#d8576b\"], [0.6666666666666666, \"#ed7953\"], [0.7777777777777778, \"#fb9f3a\"], [0.8888888888888888, \"#fdca26\"], [1.0, \"#f0f921\"]]}, \"colorway\": [\"#636efa\", \"#EF553B\", \"#00cc96\", \"#ab63fa\", \"#FFA15A\", \"#19d3f3\", \"#FF6692\", \"#B6E880\", \"#FF97FF\", \"#FECB52\"], \"font\": {\"color\": \"#2a3f5f\"}, \"geo\": {\"bgcolor\": \"white\", \"lakecolor\": \"white\", \"landcolor\": \"#E5ECF6\", \"showlakes\": true, \"showland\": true, \"subunitcolor\": \"white\"}, \"hoverlabel\": {\"align\": \"left\"}, \"hovermode\": \"closest\", \"mapbox\": {\"style\": \"light\"}, \"paper_bgcolor\": \"white\", \"plot_bgcolor\": \"#E5ECF6\", \"polar\": {\"angularaxis\": {\"gridcolor\": \"white\", \"linecolor\": \"white\", \"ticks\": \"\"}, \"bgcolor\": \"#E5ECF6\", \"radialaxis\": {\"gridcolor\": \"white\", \"linecolor\": \"white\", \"ticks\": \"\"}}, \"scene\": {\"xaxis\": {\"backgroundcolor\": \"#E5ECF6\", \"gridcolor\": \"white\", \"gridwidth\": 2, \"linecolor\": \"white\", \"showbackground\": true, \"ticks\": \"\", \"zerolinecolor\": \"white\"}, \"yaxis\": {\"backgroundcolor\": \"#E5ECF6\", \"gridcolor\": \"white\", \"gridwidth\": 2, \"linecolor\": \"white\", \"showbackground\": true, \"ticks\": \"\", \"zerolinecolor\": \"white\"}, \"zaxis\": {\"backgroundcolor\": \"#E5ECF6\", \"gridcolor\": \"white\", \"gridwidth\": 2, \"linecolor\": \"white\", \"showbackground\": true, \"ticks\": \"\", \"zerolinecolor\": \"white\"}}, \"shapedefaults\": {\"line\": {\"color\": \"#2a3f5f\"}}, \"ternary\": {\"aaxis\": {\"gridcolor\": \"white\", \"linecolor\": \"white\", \"ticks\": \"\"}, \"baxis\": {\"gridcolor\": \"white\", \"linecolor\": \"white\", \"ticks\": \"\"}, \"bgcolor\": \"#E5ECF6\", \"caxis\": {\"gridcolor\": \"white\", \"linecolor\": \"white\", \"ticks\": \"\"}}, \"title\": {\"x\": 0.05}, \"xaxis\": {\"automargin\": true, \"gridcolor\": \"white\", \"linecolor\": \"white\", \"ticks\": \"\", \"title\": {\"standoff\": 15}, \"zerolinecolor\": \"white\", \"zerolinewidth\": 2}, \"yaxis\": {\"automargin\": true, \"gridcolor\": \"white\", \"linecolor\": \"white\", \"ticks\": \"\", \"title\": {\"standoff\": 15}, \"zerolinecolor\": \"white\", \"zerolinewidth\": 2}}}, \"xaxis\": {\"anchor\": \"y\", \"domain\": [0.0, 1.0], \"title\": {\"text\": \"week\"}}, \"yaxis\": {\"anchor\": \"x\", \"domain\": [0.0, 1.0], \"title\": {\"text\": \"points\"}}},\n",
       "                        {\"responsive\": true}\n",
       "                    ).then(function(){\n",
       "                            \n",
       "var gd = document.getElementById('28322961-c7d3-4b79-8def-540c1dd0b0d2');\n",
       "var x = new MutationObserver(function (mutations, observer) {{\n",
       "        var display = window.getComputedStyle(gd).display;\n",
       "        if (!display || display === 'none') {{\n",
       "            console.log([gd, 'removed!']);\n",
       "            Plotly.purge(gd);\n",
       "            observer.disconnect();\n",
       "        }}\n",
       "}});\n",
       "\n",
       "// Listen for the removal of the full notebook cells\n",
       "var notebookContainer = gd.closest('#notebook-container');\n",
       "if (notebookContainer) {{\n",
       "    x.observe(notebookContainer, {childList: true});\n",
       "}}\n",
       "\n",
       "// Listen for the clearing of the current output cell\n",
       "var outputEl = gd.closest('.output');\n",
       "if (outputEl) {{\n",
       "    x.observe(outputEl, {childList: true});\n",
       "}}\n",
       "\n",
       "                        })\n",
       "                };\n",
       "                });\n",
       "            </script>\n",
       "        </div>"
      ]
     },
     "metadata": {},
     "output_type": "display_data"
    }
   ],
   "source": [
    "league = px.line(div2, x=\"week\", y=\"points\", color=\"team\",\n",
    "              line_group=\"player_name\", hover_name=\"player_name\")\n",
    "league.show()"
   ]
  },
  {
   "cell_type": "code",
   "execution_count": null,
   "metadata": {},
   "outputs": [],
   "source": []
  }
 ],
 "metadata": {
  "kernelspec": {
   "display_name": "Python 3",
   "language": "python",
   "name": "python3"
  },
  "language_info": {
   "codemirror_mode": {
    "name": "ipython",
    "version": 3
   },
   "file_extension": ".py",
   "mimetype": "text/x-python",
   "name": "python",
   "nbconvert_exporter": "python",
   "pygments_lexer": "ipython3",
   "version": "3.7.4"
  }
 },
 "nbformat": 4,
 "nbformat_minor": 2
}
